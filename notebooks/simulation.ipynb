{
 "cells": [
  {
   "cell_type": "markdown",
   "metadata": {},
   "source": [
    "### Model generation and simulation\n",
    "\n",
    "This notebook shows a small example of defining a template-based model, compiling it into a generic executable model form, and finally, into an ODE model. The ODE model is then simulated with a given initial condition and parameterization."
   ]
  },
  {
   "cell_type": "code",
   "execution_count": 5,
   "metadata": {
    "pycharm": {
     "name": "#%%\n"
    }
   },
   "outputs": [],
   "source": [
    "import numpy\n",
    "import matplotlib.pyplot as plt\n",
    "\n",
    "from mira.metamodel import *\n",
    "from mira.modeling import Model\n",
    "from mira.modeling.ode import OdeModel, simulate_ode_model"
   ]
  },
  {
   "cell_type": "markdown",
   "metadata": {},
   "source": [
    "### We define a simple SIR-like model using templates"
   ]
  },
  {
   "cell_type": "code",
   "execution_count": null,
   "metadata": {},
   "outputs": [],
   "source": [
    "template_model = TemplateModel(templates=\n",
    "    [\n",
    "        NaturalConversion(\n",
    "            subject=Concept(name='infected'),\n",
    "            outcome=Concept(name='recovered')\n",
    "        ),\n",
    "        ControlledConversion(\n",
    "            subject=Concept(name='susceptible'),\n",
    "            outcome=Concept(name='infected'),\n",
    "            controller=Concept(name='infected')\n",
    "        )\n",
    "    ]\n",
    ")"
   ]
  },
  {
   "cell_type": "markdown",
   "metadata": {},
   "source": [
    "We first create a generic executable `Model` and then an `OdeModel` from this latter model."
   ]
  },
  {
   "cell_type": "code",
   "execution_count": 6,
   "metadata": {},
   "outputs": [],
   "source": [
    "model = Model(template_model)\n",
    "ode_model = OdeModel(model)"
   ]
  },
  {
   "cell_type": "markdown",
   "metadata": {},
   "source": [
    "We now simulate the system for a given time span, initial conditions, and parameterization."
   ]
  },
  {
   "cell_type": "code",
   "execution_count": 9,
   "metadata": {
    "scrolled": true
   },
   "outputs": [],
   "source": [
    "times = numpy.linspace(0, 25, 100)\n",
    "\n",
    "res = simulate_ode_model(\n",
    "    ode_model=ode_model,\n",
    "    initials=numpy.array([0.01, 0, 0.99]),\n",
    "    parameters={('infected', 'recovered', 'NaturalConversion', 'rate'): 0.5,\n",
    "                ('susceptible', 'infected', 'infected', 'ControlledConversion', 'rate'): 1.1},\n",
    "    times=times\n",
    ")"
   ]
  },
  {
   "cell_type": "code",
   "execution_count": 10,
   "metadata": {},
   "outputs": [
    {
     "data": {
      "text/plain": [
       "[<matplotlib.lines.Line2D at 0x134fb1670>,\n",
       " <matplotlib.lines.Line2D at 0x134fb16d0>,\n",
       " <matplotlib.lines.Line2D at 0x134fb1790>]"
      ]
     },
     "execution_count": 10,
     "metadata": {},
     "output_type": "execute_result"
    },
    {
     "data": {
      "image/png": "[encoded data removed]",
      "text/plain": [
       "<Figure size 432x288 with 1 Axes>"
      ]
     },
     "metadata": {
      "needs_background": "light"
     },
     "output_type": "display_data"
    }
   ],
   "source": [
    "plt.plot(times, res)"
   ]
  }
 ],
 "metadata": {
  "kernelspec": {
   "display_name": "Python 3",
   "language": "python",
   "name": "python3"
  },
  "language_info": {
   "codemirror_mode": {
    "name": "ipython",
    "version": 3
   },
   "file_extension": ".py",
   "mimetype": "text/x-python",
   "name": "python",
   "nbconvert_exporter": "python",
   "pygments_lexer": "ipython3",
   "version": "3.9.9"
  }
 },
 "nbformat": 4,
 "nbformat_minor": 4
}
