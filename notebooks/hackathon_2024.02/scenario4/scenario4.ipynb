{
 "cells": [
  {
   "cell_type": "markdown",
   "id": "f7d59186",
   "metadata": {},
   "source": [
    "# Scenario 4 model built with MIRA"
   ]
  },
  {
   "cell_type": "code",
   "execution_count": null,
   "id": "cca6c4b4",
   "metadata": {},
   "outputs": [],
   "source": [
    "import sympy\n",
    "import numpy\n",
    "import matplotlib.pyplot as plt\n",
    "\n",
    "from mira.metamodel import *\n",
    "from mira.modeling import Model\n",
    "from mira.modeling.viz import GraphicalModel\n",
    "from mira.modeling.ode import OdeModel, simulate_ode_model\n",
    "from mira.modeling.amr.regnet import template_model_to_regnet_json\n",
    "from mira.modeling.amr.petrinet import template_model_to_petrinet_json\n"
   ]
  },
  {
   "cell_type": "markdown",
   "id": "ec7cbd0c",
   "metadata": {},
   "source": [
    "# Step 1: start with a minimal model of microbial growth"
   ]
  },
  {
   "cell_type": "code",
   "execution_count": null,
   "id": "074eb2cc",
   "metadata": {},
   "outputs": [],
   "source": [
    "species = lambda: Concept(name='x')\n",
    "intrinsic = NaturalReplication(subject=species())\n",
    "intrinsic.set_mass_action_rate_law('r')\n",
    "interaction = ControlledReplication(controller=species(),\n",
    "                                    subject=species())\n",
    "interaction.set_mass_action_rate_law('a')\n",
    "initial = Initial(concept=species(), expression=sympy.Float(1))\n",
    "params = {'r': Parameter(name='r', value=1), 'a': Parameter(name='a', value=1)}"
   ]
  },
  {
   "cell_type": "code",
   "execution_count": null,
   "id": "798e92b7",
   "metadata": {},
   "outputs": [],
   "source": [
    "tm = TemplateModel(templates=[intrinsic, interaction],\n",
    "                   initials={'x': initial},\n",
    "                   parameters=params)"
   ]
  },
  {
   "cell_type": "code",
   "execution_count": null,
   "id": "87a71e8a",
   "metadata": {},
   "outputs": [],
   "source": [
    "GraphicalModel.for_jupyter(tm)"
   ]
  },
  {
   "cell_type": "markdown",
   "id": "c4b29a08",
   "metadata": {},
   "source": [
    "## Step 2: stratify the minimal model into 4 and then 6 species\n",
    "\n",
    "We capture model parameters and initial conditions here for all 6 species (the 4 species case is a subset of it)."
   ]
  },
  {
   "cell_type": "code",
   "execution_count": null,
   "id": "b0433650",
   "metadata": {},
   "outputs": [],
   "source": [
    "r_i = [0.53, 0.42, 0.49, 0.33, 0.7, 0.3]\n",
    "x0_i = [0.51, 0.39, 0.88, 0.4, 0.2, 0.8]\n",
    "a_ij = [\n",
    "    [  -0.5, - 0.01, 0.002, -0.009, -0.002,  0.01],\n",
    "    [     0,   -0.5,     0, -0.169,      0,     0],\n",
    "    [-0.002, -0.003,  -0.5,   0.02,   0.03, -0.04],\n",
    "    [     0, -0.226, -0.04,   -0.5,      0,  0.01],\n",
    "    [     0,   -0.1, -0.02,      0,   -0.5,     0],\n",
    "    [     0,  -0.04, -0.05,      0,      0,  -0.5]\n",
    "]"
   ]
  },
  {
   "cell_type": "code",
   "execution_count": null,
   "id": "38525e23",
   "metadata": {},
   "outputs": [],
   "source": [
    "# Stratify into 4 species\n",
    "tm_strat4 = stratify(tm, key='species',\n",
    "                     strata=[str(i) for i in range(1, 5)],\n",
    "                     structure=[],\n",
    "                     cartesian_control=True)\n",
    "\n",
    "# Stratify into 6 species\n",
    "tm_strat6 = stratify(tm, key='species',\n",
    "                     strata=[str(i) for i in range(1, 7)],\n",
    "                     structure=[],\n",
    "                     cartesian_control=True)"
   ]
  },
  {
   "cell_type": "markdown",
   "id": "26a92c0c",
   "metadata": {},
   "source": [
    "Model structure for 4-species model"
   ]
  },
  {
   "cell_type": "code",
   "execution_count": null,
   "id": "286aa409",
   "metadata": {},
   "outputs": [],
   "source": [
    "GraphicalModel.for_jupyter(tm_strat4)"
   ]
  },
  {
   "cell_type": "markdown",
   "id": "77217d63",
   "metadata": {},
   "source": [
    "Model structure for 6-species model"
   ]
  },
  {
   "cell_type": "code",
   "execution_count": null,
   "id": "f4d56b3a",
   "metadata": {
    "scrolled": false
   },
   "outputs": [],
   "source": [
    "GraphicalModel.for_jupyter(tm_strat6)"
   ]
  },
  {
   "cell_type": "markdown",
   "id": "533e5fdb",
   "metadata": {},
   "source": [
    "Reparameterize stratified models based on provided parameters"
   ]
  },
  {
   "cell_type": "code",
   "execution_count": null,
   "id": "53ecd86c",
   "metadata": {},
   "outputs": [],
   "source": [
    "# This code takes care of correctly reparameterizing the model\n",
    "# after stratification\n",
    "for tm_strat in [tm_strat4, tm_strat6]:\n",
    "    for idx, init in enumerate(tm_strat.initials.values()):\n",
    "        init.expression = SympyExprStr(sympy.Float(x0_i[idx]))\n",
    "    for template in tm_strat.templates:\n",
    "        ints = [int(i.context['species']) for i in template.get_interactors()]\n",
    "        param = list(template.get_parameter_names())[0]\n",
    "        if param.startswith('r'):\n",
    "            tm_strat.parameters[param].value = r_i[ints[0]-1]\n",
    "        else:\n",
    "            tm_strat.parameters[param].value = a_ij[ints[1]-1][ints[0]-1]      "
   ]
  },
  {
   "cell_type": "markdown",
   "id": "73109973",
   "metadata": {},
   "source": [
    "## Step 3: assemble models into ODEs and simulate\n",
    "### Step 3.1: 4-species system"
   ]
  },
  {
   "cell_type": "code",
   "execution_count": null,
   "id": "7a7aa545",
   "metadata": {
    "scrolled": false
   },
   "outputs": [],
   "source": [
    "om = OdeModel(Model(tm_strat4), initialized=True)"
   ]
  },
  {
   "cell_type": "markdown",
   "id": "2ed51457",
   "metadata": {},
   "source": [
    "These are the RHS equations of the 4-species ODE system without substitution"
   ]
  },
  {
   "cell_type": "code",
   "execution_count": null,
   "id": "e0be7cd9",
   "metadata": {},
   "outputs": [],
   "source": [
    "om.kinetics"
   ]
  },
  {
   "cell_type": "code",
   "execution_count": null,
   "id": "c89c1071",
   "metadata": {
    "scrolled": false
   },
   "outputs": [],
   "source": [
    "ts = numpy.linspace(0, 30, 100)\n",
    "res = simulate_ode_model(om, times=ts)"
   ]
  },
  {
   "cell_type": "markdown",
   "id": "521caa9c",
   "metadata": {},
   "source": [
    "These are the RHS equations of the 4-species ODE system with substitution"
   ]
  },
  {
   "cell_type": "code",
   "execution_count": null,
   "id": "31cc6af1",
   "metadata": {},
   "outputs": [],
   "source": [
    "om.kinetics"
   ]
  },
  {
   "cell_type": "markdown",
   "id": "0bfa3db9",
   "metadata": {},
   "source": [
    "Simulation results for the 4-species system"
   ]
  },
  {
   "cell_type": "code",
   "execution_count": null,
   "id": "36aa0328",
   "metadata": {
    "scrolled": false
   },
   "outputs": [],
   "source": [
    "plt.plot(ts, res, label=range(1,5))\n",
    "plt.ylim([0, 1.2])\n",
    "plt.grid(alpha=0.25)\n",
    "plt.legend(loc=\"center left\", bbox_to_anchor=(1, 0.5))\n",
    "plt.xlabel('Time')\n",
    "plt.ylabel('Proportion')"
   ]
  },
  {
   "cell_type": "markdown",
   "id": "2bdef8d1",
   "metadata": {},
   "source": [
    "### Step 3.2: 6-species system"
   ]
  },
  {
   "cell_type": "code",
   "execution_count": null,
   "id": "2d700b51",
   "metadata": {},
   "outputs": [],
   "source": [
    "om = OdeModel(Model(tm_strat6), initialized=True)"
   ]
  },
  {
   "cell_type": "code",
   "execution_count": null,
   "id": "13ef922f",
   "metadata": {},
   "outputs": [],
   "source": [
    "res = simulate_ode_model(om, times=numpy.linspace(0, 30, 100))"
   ]
  },
  {
   "cell_type": "code",
   "execution_count": null,
   "id": "08250e7a",
   "metadata": {},
   "outputs": [],
   "source": [
    "om.kinetics"
   ]
  },
  {
   "cell_type": "code",
   "execution_count": null,
   "id": "c350a8f2",
   "metadata": {
    "scrolled": false
   },
   "outputs": [],
   "source": [
    "plt.plot(ts, res, label=range(1,7))\n",
    "plt.ylim([0, 1.25])\n",
    "plt.grid(alpha=0.25)\n",
    "plt.legend(loc=\"center left\", bbox_to_anchor=(1, 0.5))\n",
    "plt.xlabel('Time')\n",
    "plt.ylabel('Proportion')"
   ]
  },
  {
   "cell_type": "markdown",
   "id": "61975fed",
   "metadata": {},
   "source": [
    "## Part 4. Export models into exchange formats"
   ]
  },
  {
   "cell_type": "code",
   "execution_count": null,
   "id": "3061bedc",
   "metadata": {},
   "outputs": [],
   "source": [
    "frameworks = {'regnet': template_model_to_regnet_json, 'petrinet': template_model_to_petrinet_json}\n",
    "models = {'4spec': tm_strat4, '6spec': tm_strat6}\n",
    "\n",
    "for mkey, model in models.items():\n",
    "    for fkey, fun in frameworks.items():\n",
    "        with open(f'scenario4_{mkey}_{fkey}.json', 'w') as fh:\n",
    "            json.dump(fun(model), fh, indent=1)"
   ]
  }
 ],
 "metadata": {
  "kernelspec": {
   "display_name": "Python 3 (ipykernel)",
   "language": "python",
   "name": "python3"
  },
  "language_info": {
   "codemirror_mode": {
    "name": "ipython",
    "version": 3
   },
   "file_extension": ".py",
   "mimetype": "text/x-python",
   "name": "python",
   "nbconvert_exporter": "python",
   "pygments_lexer": "ipython3",
   "version": "3.10.13"
  }
 },
 "nbformat": 4,
 "nbformat_minor": 5
}
