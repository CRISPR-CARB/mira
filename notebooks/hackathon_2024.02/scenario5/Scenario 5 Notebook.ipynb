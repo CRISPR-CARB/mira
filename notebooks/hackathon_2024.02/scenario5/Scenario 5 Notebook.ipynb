{
 "cells": [
  {
   "cell_type": "code",
   "execution_count": null,
   "id": "576f0178-38e0-40e2-a306-e3248b790239",
   "metadata": {},
   "outputs": [],
   "source": [
    "from mira.sources.system_dynamics.vensim import template_model_from_mdl_url\n",
    "from mira.modeling.amr.stockflow import template_model_to_stockflow_json"
   ]
  },
  {
   "cell_type": "markdown",
   "id": "0665fa93-5333-40bc-8c0c-422c52b38de4",
   "metadata": {},
   "source": [
    "## Ingest the hackathon Vensim model and display its structure"
   ]
  },
  {
   "cell_type": "code",
   "execution_count": null,
   "id": "065fff62-3334-4414-be15-14daeeb9d296",
   "metadata": {},
   "outputs": [],
   "source": [
    "hackathon_file_url = (\n",
    "    \"https://raw.githubusercontent.com/DARPA-ASKEM/program-milestones/main/18-\"\n",
    "    \"month-milestone/hackathon/epi/Scenario%205%20Supplemental/IndiaNonSubscriptedPulsed.mdl\"\n",
    ")\n",
    "tm = template_model_from_mdl_url(hackathon_file_url)\n",
    "tm.draw_jupyter()"
   ]
  },
  {
   "cell_type": "markdown",
   "id": "47fabe59-ae61-4367-90f3-5af8c0f5e100",
   "metadata": {},
   "source": [
    "## Print the parameters and their values"
   ]
  },
  {
   "cell_type": "code",
   "execution_count": null,
   "id": "65a32653-dab6-4d3b-8986-1a5e15b3d1d7",
   "metadata": {},
   "outputs": [],
   "source": [
    "for parameter_name, parameter in tm.parameters.items():\n",
    "    print(\n",
    "        \"parameter name: {} |  parameter value: {} \\n\".format(\n",
    "            parameter_name, parameter.value\n",
    "        )\n",
    "    )"
   ]
  },
  {
   "cell_type": "markdown",
   "id": "7e9e0c9a-c0cf-403e-bed2-bebab9db97b6",
   "metadata": {},
   "source": [
    "## Print the templates and their associated rate laws\n",
    "\n",
    "A majority of rate laws for templates are the placeholder value of 0 as their rate-laws contain built-in Vensim functions and involve operations with series data which MIRA does not support yet."
   ]
  },
  {
   "cell_type": "code",
   "execution_count": null,
   "id": "a52c41fe-d9c7-4664-91f6-732f2f201818",
   "metadata": {},
   "outputs": [],
   "source": [
    "for template in tm.templates:\n",
    "    print(\n",
    "        \"template name: {} |  template rate law: {} \\n\".format(\n",
    "            template.name, template.rate_law\n",
    "        )\n",
    "    )"
   ]
  },
  {
   "cell_type": "markdown",
   "id": "421c57ae-ece3-4fec-b4f9-fc2dcf57776a",
   "metadata": {},
   "source": [
    "## Display the output Stock and Flow amr for the MIRA template model created from ingesting the Vensim model"
   ]
  },
  {
   "cell_type": "code",
   "execution_count": null,
   "id": "e4b46435-01b1-4c90-9eb4-9cb9e98a4a88",
   "metadata": {},
   "outputs": [],
   "source": [
    "amr = template_model_to_stockflow_json(tm)\n",
    "amr"
   ]
  }
 ],
 "metadata": {
  "kernelspec": {
   "display_name": "Python 3 (ipykernel)",
   "language": "python",
   "name": "python3"
  },
  "language_info": {
   "codemirror_mode": {
    "name": "ipython",
    "version": 3
   },
   "file_extension": ".py",
   "mimetype": "text/x-python",
   "name": "python",
   "nbconvert_exporter": "python",
   "pygments_lexer": "ipython3",
   "version": "3.10.12"
  }
 },
 "nbformat": 4,
 "nbformat_minor": 5
}
