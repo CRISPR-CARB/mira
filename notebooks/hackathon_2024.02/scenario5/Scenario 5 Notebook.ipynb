{
 "cells": [
  {
   "cell_type": "code",
   "execution_count": 1,
   "id": "43e48670-9138-4ccf-8555-0086e0c8db19",
   "metadata": {},
   "outputs": [],
   "source": [
    "import pandas as pd\n",
    "from mira.modeling import Concept, TemplateModel, Annotations\n",
    "from mira.sources.system_dynamics.vensim import template_model_from_mdl_url, template_model_from_mdl_file\n",
    "from mira.modeling.amr.stockflow import template_model_to_stockflow_json\n",
    "import os\n",
    "from urllib.request import urlretrieve\n",
    "import json\n",
    "from pathlib import Path\n",
    "from tqdm.auto import tqdm, trange\n",
    "import networkx as nx"
   ]
  },
  {
   "cell_type": "code",
   "execution_count": 2,
   "id": "dfeba82a-d808-4316-8909-c399a2697771",
   "metadata": {},
   "outputs": [],
   "source": [
    "HERE = Path(\".\").resolve()"
   ]
  },
  {
   "cell_type": "markdown",
   "id": "d7e0c90d-d4e2-4450-b1bd-809ebcf860a6",
   "metadata": {},
   "source": [
    "## Grounding Map\n",
    "\n",
    "Load a custom grounding map, which lets us assign identifiers and contexts to most of the compartments."
   ]
  },
  {
   "cell_type": "code",
   "execution_count": 3,
   "id": "3229560d-21d1-4fde-a16a-8b3a37f3111f",
   "metadata": {},
   "outputs": [],
   "source": [
    "grounding_map_df = pd.read_csv(\"grounding_map.csv\")\n",
    "# grounding_map_df"
   ]
  },
  {
   "cell_type": "code",
   "execution_count": 4,
   "id": "8e25ef6b-5b47-47bc-8262-c86edc1b0bce",
   "metadata": {},
   "outputs": [],
   "source": [
    "def curie_to_identifiers(curie):\n",
    "    prefix, identifier = curie.split(\":\")\n",
    "    return {prefix: identifier}\n",
    "\n",
    "grounding_map = {}\n",
    "for display_name, identifiers, context_str in grounding_map_df.values:\n",
    "    if pd.isna(identifiers):\n",
    "        continue\n",
    "    curie, name =  identifiers.split(\"/\")\n",
    "    context = {}\n",
    "    if pd.notna(context_str):\n",
    "        for part in context_str.split(\"|\"):\n",
    "            part_key, part_identifier = part.split(\"=\")\n",
    "            if \"/\" in part_identifier:\n",
    "                part_curie, part_name = part_identifier.split(\"/\")\n",
    "            else:\n",
    "                part_curie, part_name = part_identifier, None\n",
    "            # print(curie, name, part_key, part_curie, part_name)\n",
    "            context[part_key] = part_curie\n",
    "            \n",
    "    grounding_map[display_name] = Concept(\n",
    "        name=name, \n",
    "        display_name=display_name,\n",
    "        identifiers=curie_to_identifiers(curie),\n",
    "        context=context,\n",
    "    )"
   ]
  },
  {
   "cell_type": "markdown",
   "id": "0665fa93-5333-40bc-8c0c-422c52b38de4",
   "metadata": {},
   "source": [
    "## Ingest the hackathon Vensim model and display its structure"
   ]
  },
  {
   "cell_type": "code",
   "execution_count": 5,
   "id": "cbd4a3dc-411a-4995-abe4-96ebb4db5ef9",
   "metadata": {},
   "outputs": [],
   "source": [
    "hackathon_file_path = \"IndiaNonSubscriptedPulsed.mdl\"\n",
    "hackathon_file_url = (\n",
    "    \"https://raw.githubusercontent.com/DARPA-ASKEM/program-milestones/main/18-\"\n",
    "    \"month-milestone/hackathon/epi/Scenario%205%20Supplemental/IndiaNonSubscriptedPulsed.mdl\"\n",
    ")\n",
    "initials = {\"susceptibles\": 1.3392e+09}\n",
    "\n",
    "if not os.path.exists(hackathon_file_path):\n",
    "    urlretrieve(hackathon_file_url, hackathon_file_path)\n",
    "    "
   ]
  },
  {
   "cell_type": "code",
   "execution_count": 6,
   "id": "be069e11-2a0d-4b14-8795-369bdfcc316f",
   "metadata": {},
   "outputs": [],
   "source": [
    "import pysd\n",
    "from pysd.translators.vensim.vensim_file import VensimFile\n",
    "import sympy\n",
    "from mira.sources.system_dynamics.vensim import extract_vensim_variable_expressions\n",
    "from mira.sources.system_dynamics.pysd import preprocess_expression_text\n",
    "from mira.metamodel.utils import safe_parse_expr\n",
    "\n",
    "pysd_model = pysd.read_vensim(hackathon_file_path)\n",
    "vensim_file = VensimFile(hackathon_file_path)"
   ]
  },
  {
   "cell_type": "code",
   "execution_count": 7,
   "id": "4ab5155e-d3c1-4d45-bd76-1d462f417eab",
   "metadata": {},
   "outputs": [
    {
     "data": {
      "text/plain": [
       "{'cumulative_cases_reported': cumulative_cases_reported,\n",
       " 'dead': dead,\n",
       " 'exposed': exposed,\n",
       " 'incoming_demand_on_hospital': incoming_demand_on_hospital,\n",
       " 'infected_sym_extreme_icu': infected_sym_extreme_icu,\n",
       " 'infected_sym_hospital_overflow': infected_sym_hospital_overflow,\n",
       " 'infected_sym_icu_overflow': infected_sym_icu_overflow,\n",
       " 'infected_sym_serious_hospital': infected_sym_serious_hospital,\n",
       " 'infectious_asymptomatics': infectious_asymptomatics,\n",
       " 'infectious_symptomatics_mild': infectious_symptomatics_mild,\n",
       " 'isolated_asymptomatics': isolated_asymptomatics,\n",
       " 'isolated_symtomatics_mild': isolated_symtomatics_mild,\n",
       " 'quarantined_asymptomatics': quarantined_asymptomatics,\n",
       " 'quarantined_symtomatics_mild': quarantined_symtomatics_mild,\n",
       " 'recovered_asymtomatics': recovered_asymtomatics,\n",
       " 'recovered_isolated_symptomatic_mild': recovered_isolated_symptomatic_mild,\n",
       " 'recovered_from_hospital': recovered_from_hospital,\n",
       " 'recovered_mild': recovered_mild,\n",
       " 'susceptibles': susceptibles}"
      ]
     },
     "execution_count": 7,
     "metadata": {},
     "output_type": "execute_result"
    }
   ],
   "source": [
    "# get all stocks\n",
    "stock_states = {\n",
    "    name: sympy.Symbol(name)\n",
    "    for name in pysd_model.doc.loc[\n",
    "        (pysd_model.doc[\"Type\"] == \"Stateful\")\n",
    "        & (pysd_model.doc[\"Subtype\"] == \"Integ\")\n",
    "    ][\"Py Name\"]\n",
    "}\n",
    "stock_states"
   ]
  },
  {
   "cell_type": "code",
   "execution_count": 8,
   "id": "ea3e661a-4328-46e8-bc28-cc2f2fec1ad7",
   "metadata": {},
   "outputs": [],
   "source": [
    "aux_states = {\n",
    "    name: sympy.Symbol(name)\n",
    "    for name in pysd_model.doc.loc[\n",
    "        (pysd_model.doc[\"Type\"] == \"Auxiliary\")\n",
    "    ][\"Py Name\"]\n",
    "}"
   ]
  },
  {
   "cell_type": "code",
   "execution_count": 9,
   "id": "c1111fe4-6dcd-4e44-8e0a-748d6049b5bd",
   "metadata": {},
   "outputs": [],
   "source": [
    "states = {\n",
    "    name: sympy.Symbol(name)\n",
    "    for name in pysd_model.doc[\"Py Name\"]\n",
    "}\n",
    "\n",
    "norm_names = dict(\n",
    "    pysd_model.doc[[\"Real Name\", \"Py Name\"]].values\n",
    ")"
   ]
  },
  {
   "cell_type": "code",
   "execution_count": 10,
   "id": "9af58807-d3f0-404f-a848-8bcf9c00d312",
   "metadata": {},
   "outputs": [],
   "source": [
    "expression_map, _ = extract_vensim_variable_expressions(\n",
    "    vensim_file.model_text, initials_from_integ=True,\n",
    ")\n",
    "norm_name_to_expr = {}\n",
    "for k,v in expression_map.items():\n",
    "    processed_v = preprocess_expression_text(v)\n",
    "    try:\n",
    "        expr = safe_parse_expr(processed_v, states)\n",
    "    except TypeError as e:\n",
    "        print(f\"[{k}] failed to parse:\\n{processed_v}\\n{e}\\n\")\n",
    "        continue\n",
    "    norm_name_to_expr[sympy.Symbol(norm_names[k])] = expr"
   ]
  },
  {
   "cell_type": "code",
   "execution_count": 11,
   "id": "981a3d5b-1cfe-4a68-bf8d-70fffc5b7cb0",
   "metadata": {},
   "outputs": [
    {
     "data": {
      "text/latex": [
       "$\\displaystyle \\operatorname{pulse}_{train}{\\left(lock_{down start day},lock_{down duration},lock_{down duration} + open_{duration},end_{lockdown time} \\right)}$"
      ],
      "text/plain": [
       "pulse_train(lock_down_start_day, lock_down_duration, lock_down_duration + open_duration, end_lockdown_time)"
      ]
     },
     "execution_count": 11,
     "metadata": {},
     "output_type": "execute_result"
    }
   ],
   "source": [
    "ex = list(norm_name_to_expr.items())[2][1]\n",
    "ex"
   ]
  },
  {
   "cell_type": "code",
   "execution_count": 12,
   "id": "3ec6b382-8d11-4816-92b6-2b184a61cfa9",
   "metadata": {},
   "outputs": [],
   "source": [
    "# look at all expressions from the Vensim model and make a graph\n",
    "# of dependencies where edge (u,v) means u depends on v.\n",
    "# the keys in norm_name_to_expr can be both stocks and flows\n",
    "graph = nx.DiGraph()\n",
    "for symbol, expr in norm_name_to_expr.items():\n",
    "    for arg in expr.free_symbols:\n",
    "        graph.add_edge(symbol, arg)"
   ]
  },
  {
   "cell_type": "code",
   "execution_count": 13,
   "id": "41f6ec41-f28c-4bc6-afee-1948874a3f8d",
   "metadata": {},
   "outputs": [],
   "source": [
    "from networkx.algorithms.dag import topological_sort\n",
    "from IPython.display import display\n",
    "\n",
    "# This works correctly, but there's an issue with \"effect of density on contacts\"\n",
    "flow_dependencies = graph.subgraph(aux_states.values())\n",
    "flow_dependencies_agraph = nx.nx_agraph.to_agraph(flow_dependencies)\n",
    "flow_dependencies_agraph.draw(\"flows.pdf\", prog=\"dot\")\n",
    "\n",
    "# Traverse in reverse topological sort order, meaning that at any\n",
    "# position, all of the things that position depends on will have\n",
    "# already come. This means we only need one pass for making substitutions\n",
    "# for everything in the current position with ones that have already been\n",
    "# seen and substituted before\n",
    "flow_order = list(reversed(list(topological_sort(flow_dependencies))))"
   ]
  },
  {
   "cell_type": "code",
   "execution_count": 14,
   "id": "ba24b6ab-edb2-4722-b2ec-9d4597ad9372",
   "metadata": {},
   "outputs": [
    {
     "data": {
      "application/vnd.jupyter.widget-view+json": {
       "model_id": "2fbb9e90a04f4c329550396087325ac7",
       "version_major": 2,
       "version_minor": 0
      },
      "text/plain": [
       "  0%|          | 0/94 [00:00<?, ?it/s]"
      ]
     },
     "metadata": {},
     "output_type": "display_data"
    },
    {
     "name": "stdout",
     "output_type": "stream",
     "text": [
      "density_of_state 2\n"
     ]
    },
    {
     "data": {
      "text/latex": [
       "$\\displaystyle \\frac{total_{population}}{area_{of states}}$"
      ],
      "text/plain": [
       "total_population/area_of_states"
      ]
     },
     "metadata": {},
     "output_type": "display_data"
    },
    {
     "data": {
      "text/latex": [
       "$\\displaystyle 1339200000.0$"
      ],
      "text/plain": [
       "1339200000.00000"
      ]
     },
     "metadata": {},
     "output_type": "display_data"
    },
    {
     "name": "stdout",
     "output_type": "stream",
     "text": [
      "\n",
      "density_ratio 2\n"
     ]
    },
    {
     "data": {
      "text/latex": [
       "$\\displaystyle \\frac{0.001 density_{of state}}{reference_{population density}} + 1$"
      ],
      "text/plain": [
       "0.001*density_of_state/reference_population_density + 1"
      ]
     },
     "metadata": {},
     "output_type": "display_data"
    },
    {
     "data": {
      "text/latex": [
       "$\\displaystyle 1339201.0$"
      ],
      "text/plain": [
       "1339201.00000000"
      ]
     },
     "metadata": {},
     "output_type": "display_data"
    },
    {
     "name": "stdout",
     "output_type": "stream",
     "text": [
      "\n",
      "sum_asymtomatics 1\n"
     ]
    },
    {
     "data": {
      "text/latex": [
       "$\\displaystyle infectious_{asymptomatics}$"
      ],
      "text/plain": [
       "infectious_asymptomatics"
      ]
     },
     "metadata": {},
     "output_type": "display_data"
    },
    {
     "data": {
      "text/latex": [
       "$\\displaystyle infection_{rate new arrivals} + infectivity_{setting} - isolation_{rate asym} - quarantining_{rate asym} - recoveries_{asym} - symptom_{setting}$"
      ],
      "text/plain": [
       "infection_rate_new_arrivals + infectivity_setting - isolation_rate_asym - quarantining_rate_asym - recoveries_asym - symptom_setting"
      ]
     },
     "metadata": {},
     "output_type": "display_data"
    },
    {
     "name": "stdout",
     "output_type": "stream",
     "text": [
      "\n",
      "sum_recovered 4\n"
     ]
    },
    {
     "data": {
      "text/latex": [
       "$\\displaystyle recovered_{asymtomatics} + recovered_{from hospital} + recovered_{isolated symptomatic mild} + recovered_{mild}$"
      ],
      "text/plain": [
       "recovered_asymtomatics + recovered_from_hospital + recovered_isolated_symptomatic_mild + recovered_mild"
      ]
     },
     "metadata": {},
     "output_type": "display_data"
    },
    {
     "data": {
      "text/latex": [
       "$\\displaystyle recoveries_{asym} + recoveries_{icu} + recoveries_{icu overflow} + recoveries_{infected sym mild} + recoveries_{iso asym} + recoveries_{iso sym} + recoveries_{q asym} + recoveries_{qsym} + recoveries_{serioush} + recoveries_{serioush overflow}$"
      ],
      "text/plain": [
       "recoveries_asym + recoveries_icu + recoveries_icu_overflow + recoveries_infected_sym_mild + recoveries_iso_asym + recoveries_iso_sym + recoveries_q_asym + recoveries_qsym + recoveries_serioush + recoveries_serioush_overflow"
      ]
     },
     "metadata": {},
     "output_type": "display_data"
    },
    {
     "name": "stdout",
     "output_type": "stream",
     "text": [
      "\n",
      "sum_susceptibles 1\n"
     ]
    },
    {
     "data": {
      "text/latex": [
       "$\\displaystyle susceptibles$"
      ],
      "text/plain": [
       "susceptibles"
      ]
     },
     "metadata": {},
     "output_type": "display_data"
    },
    {
     "data": {
      "text/latex": [
       "$\\displaystyle - exposure$"
      ],
      "text/plain": [
       "-exposure"
      ]
     },
     "metadata": {},
     "output_type": "display_data"
    },
    {
     "name": "stdout",
     "output_type": "stream",
     "text": [
      "\n",
      "effect_of_density_on_contacts 1\n"
     ]
    },
    {
     "data": {
      "text/latex": [
       "$\\displaystyle \\operatorname{piecewise}{\\left(\\left( 1, \\  density_{ratio} \\leq 1\\right),\\left( \\frac{\\log{\\left(density_{ratio} \\right)}}{\\log{\\left(50 \\right)}} + 1, \\  \\text{True}\\right) \\right)}$"
      ],
      "text/plain": [
       "piecewise((1, density_ratio <= 1), (log(density_ratio)/log(50) + 1, True))"
      ]
     },
     "metadata": {},
     "output_type": "display_data"
    },
    {
     "data": {
      "text/latex": [
       "$\\displaystyle \\operatorname{piecewise}{\\left(\\left( 1, \\  \\text{False}\\right),\\left( 1 + \\frac{14.1075837254315}{\\log{\\left(50 \\right)}}, \\  \\text{True}\\right) \\right)}$"
      ],
      "text/plain": [
       "piecewise((1, False), (1 + 14.1075837254315/log(50), True))"
      ]
     },
     "metadata": {},
     "output_type": "display_data"
    },
    {
     "name": "stdout",
     "output_type": "stream",
     "text": [
      "\n",
      "sum_susc_asymp_recov_can_work 3\n"
     ]
    },
    {
     "data": {
      "text/latex": [
       "$\\displaystyle sum_{asymtomatics} + sum_{recovered} + sum_{susceptibles}$"
      ],
      "text/plain": [
       "sum_asymtomatics + sum_recovered + sum_susceptibles"
      ]
     },
     "metadata": {},
     "output_type": "display_data"
    },
    {
     "data": {
      "text/latex": [
       "$\\displaystyle - exposure + infection_{rate new arrivals} + infectivity_{setting} - isolation_{rate asym} - quarantining_{rate asym} + recoveries_{icu} + recoveries_{icu overflow} + recoveries_{infected sym mild} + recoveries_{iso asym} + recoveries_{iso sym} + recoveries_{q asym} + recoveries_{qsym} + recoveries_{serioush} + recoveries_{serioush overflow} - symptom_{setting}$"
      ],
      "text/plain": [
       "-exposure + infection_rate_new_arrivals + infectivity_setting - isolation_rate_asym - quarantining_rate_asym + recoveries_icu + recoveries_icu_overflow + recoveries_infected_sym_mild + recoveries_iso_asym + recoveries_iso_sym + recoveries_q_asym + recoveries_qsym + recoveries_serioush + recoveries_serioush_overflow - symptom_setting"
      ]
     },
     "metadata": {},
     "output_type": "display_data"
    },
    {
     "name": "stdout",
     "output_type": "stream",
     "text": [
      "\n",
      "normal_contacts_per_day 5\n"
     ]
    },
    {
     "data": {
      "text/latex": [
       "$\\displaystyle effect_{of density on contacts} \\left(base_{contact home} + base_{contact school} + base_{contact work} + base_{contacts other}\\right)$"
      ],
      "text/plain": [
       "effect_of_density_on_contacts*(base_contact_home + base_contact_school + base_contact_work + base_contacts_other)"
      ]
     },
     "metadata": {},
     "output_type": "display_data"
    },
    {
     "data": {
      "text/latex": [
       "$\\displaystyle 26 \\operatorname{piecewise}{\\left(\\left( 1, \\  \\text{False}\\right),\\left( 1 + \\frac{14.1075837254315}{\\log{\\left(50 \\right)}}, \\  \\text{True}\\right) \\right)}$"
      ],
      "text/plain": [
       "26*piecewise((1, False), (1 + 14.1075837254315/log(50), True))"
      ]
     },
     "metadata": {},
     "output_type": "display_data"
    },
    {
     "name": "stdout",
     "output_type": "stream",
     "text": [
      "\n",
      "net_contacts_school 3\n"
     ]
    },
    {
     "data": {
      "text/latex": [
       "$\\displaystyle base_{contact school} effect_{of density on contacts} policy_{multiplier school}$"
      ],
      "text/plain": [
       "base_contact_school*effect_of_density_on_contacts*policy_multiplier_school"
      ]
     },
     "metadata": {},
     "output_type": "display_data"
    },
    {
     "data": {
      "text/latex": [
       "$\\displaystyle 5 \\operatorname{piecewise}{\\left(\\left( 1, \\  \\text{False}\\right),\\left( 1 + \\frac{14.1075837254315}{\\log{\\left(50 \\right)}}, \\  \\text{True}\\right) \\right)}$"
      ],
      "text/plain": [
       "5*piecewise((1, False), (1 + 14.1075837254315/log(50), True))"
      ]
     },
     "metadata": {},
     "output_type": "display_data"
    },
    {
     "name": "stdout",
     "output_type": "stream",
     "text": [
      "\n",
      "net_contacts_work 3\n"
     ]
    },
    {
     "data": {
      "text/latex": [
       "$\\displaystyle base_{contact work} effect_{of density on contacts} policy_{multiplier work}$"
      ],
      "text/plain": [
       "base_contact_work*effect_of_density_on_contacts*policy_multiplier_work"
      ]
     },
     "metadata": {},
     "output_type": "display_data"
    },
    {
     "data": {
      "text/latex": [
       "$\\displaystyle 7 \\operatorname{piecewise}{\\left(\\left( 1, \\  \\text{False}\\right),\\left( 1 + \\frac{14.1075837254315}{\\log{\\left(50 \\right)}}, \\  \\text{True}\\right) \\right)}$"
      ],
      "text/plain": [
       "7*piecewise((1, False), (1 + 14.1075837254315/log(50), True))"
      ]
     },
     "metadata": {},
     "output_type": "display_data"
    },
    {
     "name": "stdout",
     "output_type": "stream",
     "text": [
      "\n",
      "net_contacts_home 3\n"
     ]
    },
    {
     "data": {
      "text/latex": [
       "$\\displaystyle base_{contact home} effect_{of density on contacts} policy_{multiplier home}$"
      ],
      "text/plain": [
       "base_contact_home*effect_of_density_on_contacts*policy_multiplier_home"
      ]
     },
     "metadata": {},
     "output_type": "display_data"
    },
    {
     "data": {
      "text/latex": [
       "$\\displaystyle 8 \\operatorname{piecewise}{\\left(\\left( 1, \\  \\text{False}\\right),\\left( 1 + \\frac{14.1075837254315}{\\log{\\left(50 \\right)}}, \\  \\text{True}\\right) \\right)}$"
      ],
      "text/plain": [
       "8*piecewise((1, False), (1 + 14.1075837254315/log(50), True))"
      ]
     },
     "metadata": {},
     "output_type": "display_data"
    },
    {
     "name": "stdout",
     "output_type": "stream",
     "text": [
      "\n",
      "net_contacts_other 3\n"
     ]
    },
    {
     "data": {
      "text/latex": [
       "$\\displaystyle base_{contacts other} effect_{of density on contacts} policy_{multiplier other}$"
      ],
      "text/plain": [
       "base_contacts_other*effect_of_density_on_contacts*policy_multiplier_other"
      ]
     },
     "metadata": {},
     "output_type": "display_data"
    },
    {
     "data": {
      "text/latex": [
       "$\\displaystyle 6 \\operatorname{piecewise}{\\left(\\left( 1, \\  \\text{False}\\right),\\left( 1 + \\frac{14.1075837254315}{\\log{\\left(50 \\right)}}, \\  \\text{True}\\right) \\right)}$"
      ],
      "text/plain": [
       "6*piecewise((1, False), (1 + 14.1075837254315/log(50), True))"
      ]
     },
     "metadata": {},
     "output_type": "display_data"
    },
    {
     "name": "stdout",
     "output_type": "stream",
     "text": [
      "\n",
      "fraction_cant_work 2\n"
     ]
    },
    {
     "data": {
      "text/latex": [
       "$\\displaystyle - \\frac{sum_{susc asymp recov can work}}{total_{population}} + 1$"
      ],
      "text/plain": [
       "-sum_susc_asymp_recov_can_work/total_population + 1"
      ]
     },
     "metadata": {},
     "output_type": "display_data"
    },
    {
     "data": {
      "text/latex": [
       "$\\displaystyle 7.46714456391876 \\cdot 10^{-10} exposure - 7.46714456391876 \\cdot 10^{-10} infection_{rate new arrivals} - 7.46714456391876 \\cdot 10^{-10} infectivity_{setting} + 7.46714456391876 \\cdot 10^{-10} isolation_{rate asym} + 7.46714456391876 \\cdot 10^{-10} quarantining_{rate asym} - 7.46714456391876 \\cdot 10^{-10} recoveries_{icu} - 7.46714456391876 \\cdot 10^{-10} recoveries_{icu overflow} - 7.46714456391876 \\cdot 10^{-10} recoveries_{infected sym mild} - 7.46714456391876 \\cdot 10^{-10} recoveries_{iso asym} - 7.46714456391876 \\cdot 10^{-10} recoveries_{iso sym} - 7.46714456391876 \\cdot 10^{-10} recoveries_{q asym} - 7.46714456391876 \\cdot 10^{-10} recoveries_{qsym} - 7.46714456391876 \\cdot 10^{-10} recoveries_{serioush} - 7.46714456391876 \\cdot 10^{-10} recoveries_{serioush overflow} + 7.46714456391876 \\cdot 10^{-10} symptom_{setting} + 1$"
      ],
      "text/plain": [
       "7.46714456391876e-10*exposure - 7.46714456391876e-10*infection_rate_new_arrivals - 7.46714456391876e-10*infectivity_setting + 7.46714456391876e-10*isolation_rate_asym + 7.46714456391876e-10*quarantining_rate_asym - 7.46714456391876e-10*recoveries_icu - 7.46714456391876e-10*recoveries_icu_overflow - 7.46714456391876e-10*recoveries_infected_sym_mild - 7.46714456391876e-10*recoveries_iso_asym - 7.46714456391876e-10*recoveries_iso_sym - 7.46714456391876e-10*recoveries_q_asym - 7.46714456391876e-10*recoveries_qsym - 7.46714456391876e-10*recoveries_serioush - 7.46714456391876e-10*recoveries_serioush_overflow + 7.46714456391876e-10*symptom_setting + 1"
      ]
     },
     "metadata": {},
     "output_type": "display_data"
    },
    {
     "name": "stdout",
     "output_type": "stream",
     "text": [
      "\n",
      "contact_under_lockdown_per_day 2\n"
     ]
    },
    {
     "data": {
      "text/latex": [
       "$\\displaystyle lockdown_{effect on contacts} normal_{contacts per day}$"
      ],
      "text/plain": [
       "lockdown_effect_on_contacts*normal_contacts_per_day"
      ]
     },
     "metadata": {},
     "output_type": "display_data"
    },
    {
     "data": {
      "text/latex": [
       "$\\displaystyle 7.8 \\operatorname{piecewise}{\\left(\\left( 1, \\  \\text{False}\\right),\\left( 1 + \\frac{14.1075837254315}{\\log{\\left(50 \\right)}}, \\  \\text{True}\\right) \\right)}$"
      ],
      "text/plain": [
       "7.8*piecewise((1, False), (1 + 14.1075837254315/log(50), True))"
      ]
     },
     "metadata": {},
     "output_type": "display_data"
    },
    {
     "name": "stdout",
     "output_type": "stream",
     "text": [
      "\n",
      "net_contacts_sum 4\n"
     ]
    },
    {
     "data": {
      "text/latex": [
       "$\\displaystyle net_{contacts home} + net_{contacts other} + net_{contacts school} + net_{contacts work}$"
      ],
      "text/plain": [
       "net_contacts_home + net_contacts_other + net_contacts_school + net_contacts_work"
      ]
     },
     "metadata": {},
     "output_type": "display_data"
    },
    {
     "data": {
      "text/latex": [
       "$\\displaystyle 26 \\operatorname{piecewise}{\\left(\\left( 1, \\  \\text{False}\\right),\\left( 1 + \\frac{14.1075837254315}{\\log{\\left(50 \\right)}}, \\  \\text{True}\\right) \\right)}$"
      ],
      "text/plain": [
       "26*piecewise((1, False), (1 + 14.1075837254315/log(50), True))"
      ]
     },
     "metadata": {},
     "output_type": "display_data"
    },
    {
     "name": "stdout",
     "output_type": "stream",
     "text": [
      "\n",
      "fraction_healthcare_cant_work 2\n"
     ]
    },
    {
     "data": {
      "text/latex": [
       "$\\displaystyle fraction_{cant work} + \\left(1 - fraction_{cant work}\\right) \\left(1 - ppe_{availability}\\right)$"
      ],
      "text/plain": [
       "fraction_cant_work + (1 - fraction_cant_work)*(1 - ppe_availability)"
      ]
     },
     "metadata": {},
     "output_type": "display_data"
    },
    {
     "data": {
      "text/latex": [
       "$\\displaystyle 5.97371565113501 \\cdot 10^{-10} exposure - 5.97371565113501 \\cdot 10^{-10} infection_{rate new arrivals} - 5.97371565113501 \\cdot 10^{-10} infectivity_{setting} + 5.97371565113501 \\cdot 10^{-10} isolation_{rate asym} + 5.97371565113501 \\cdot 10^{-10} quarantining_{rate asym} - 5.97371565113501 \\cdot 10^{-10} recoveries_{icu} - 5.97371565113501 \\cdot 10^{-10} recoveries_{icu overflow} - 5.97371565113501 \\cdot 10^{-10} recoveries_{infected sym mild} - 5.97371565113501 \\cdot 10^{-10} recoveries_{iso asym} - 5.97371565113501 \\cdot 10^{-10} recoveries_{iso sym} - 5.97371565113501 \\cdot 10^{-10} recoveries_{q asym} - 5.97371565113501 \\cdot 10^{-10} recoveries_{qsym} - 5.97371565113501 \\cdot 10^{-10} recoveries_{serioush} - 5.97371565113501 \\cdot 10^{-10} recoveries_{serioush overflow} + 5.97371565113501 \\cdot 10^{-10} symptom_{setting} + 1.0$"
      ],
      "text/plain": [
       "5.97371565113501e-10*exposure - 5.97371565113501e-10*infection_rate_new_arrivals - 5.97371565113501e-10*infectivity_setting + 5.97371565113501e-10*isolation_rate_asym + 5.97371565113501e-10*quarantining_rate_asym - 5.97371565113501e-10*recoveries_icu - 5.97371565113501e-10*recoveries_icu_overflow - 5.97371565113501e-10*recoveries_infected_sym_mild - 5.97371565113501e-10*recoveries_iso_asym - 5.97371565113501e-10*recoveries_iso_sym - 5.97371565113501e-10*recoveries_q_asym - 5.97371565113501e-10*recoveries_qsym - 5.97371565113501e-10*recoveries_serioush - 5.97371565113501e-10*recoveries_serioush_overflow + 5.97371565113501e-10*symptom_setting + 1.0"
      ]
     },
     "metadata": {},
     "output_type": "display_data"
    },
    {
     "name": "stdout",
     "output_type": "stream",
     "text": [
      "\n",
      "high_contact_tracing_and_isolation 2\n"
     ]
    },
    {
     "data": {
      "text/latex": [
       "$\\displaystyle \\operatorname{piecewise}{\\left(\\left( 0, \\  time < april_{14}\\right),\\left( policy_{high contact tracing and isolation}, \\  \\text{True}\\right) \\right)}$"
      ],
      "text/plain": [
       "piecewise((0, time < april_14), (policy_high_contact_tracing_and_isolation, True))"
      ]
     },
     "metadata": {},
     "output_type": "display_data"
    },
    {
     "data": {
      "text/latex": [
       "$\\displaystyle \\operatorname{piecewise}{\\left(\\left( 0, \\  time < 50\\right),\\left( 0, \\  \\text{True}\\right) \\right)}$"
      ],
      "text/plain": [
       "piecewise((0, time < 50), (0, True))"
      ]
     },
     "metadata": {},
     "output_type": "display_data"
    },
    {
     "name": "stdout",
     "output_type": "stream",
     "text": [
      "\n",
      "lack_of_awareness_multiplier 4\n"
     ]
    },
    {
     "data": {
      "text/latex": [
       "$\\displaystyle loastartlevel + \\operatorname{ramp}{\\left(\\frac{loaendlevel - loastartlevel}{loaendtime - loastarttime},loastarttime,loaendtime \\right)}$"
      ],
      "text/plain": [
       "loastartlevel + ramp((loaendlevel - loastartlevel)/(loaendtime - loastarttime), loastarttime, loaendtime)"
      ]
     },
     "metadata": {},
     "output_type": "display_data"
    },
    {
     "data": {
      "text/latex": [
       "$\\displaystyle \\operatorname{ramp}{\\left(-0.00571428571428571,15,50 \\right)} + 1.2$"
      ],
      "text/plain": [
       "ramp(-0.00571428571428571, 15, 50) + 1.2"
      ]
     },
     "metadata": {},
     "output_type": "display_data"
    },
    {
     "name": "stdout",
     "output_type": "stream",
     "text": [
      "\n",
      "contacts_q_asym_per_day 2\n"
     ]
    },
    {
     "data": {
      "text/latex": [
       "$\\displaystyle net_{contacts home} quarantine_{effect on asym contacts}$"
      ],
      "text/plain": [
       "net_contacts_home*quarantine_effect_on_asym_contacts"
      ]
     },
     "metadata": {},
     "output_type": "display_data"
    },
    {
     "data": {
      "text/latex": [
       "$\\displaystyle 8 \\operatorname{piecewise}{\\left(\\left( 1, \\  \\text{False}\\right),\\left( 1 + \\frac{14.1075837254315}{\\log{\\left(50 \\right)}}, \\  \\text{True}\\right) \\right)}$"
      ],
      "text/plain": [
       "8*piecewise((1, False), (1 + 14.1075837254315/log(50), True))"
      ]
     },
     "metadata": {},
     "output_type": "display_data"
    },
    {
     "name": "stdout",
     "output_type": "stream",
     "text": [
      "\n",
      "total_population_in_agegroup 1\n"
     ]
    },
    {
     "data": {
      "text/latex": [
       "$\\displaystyle total_{population}$"
      ],
      "text/plain": [
       "total_population"
      ]
     },
     "metadata": {},
     "output_type": "display_data"
    },
    {
     "data": {
      "text/latex": [
       "$\\displaystyle 1339200000.0$"
      ],
      "text/plain": [
       "1339200000.00000"
      ]
     },
     "metadata": {},
     "output_type": "display_data"
    },
    {
     "name": "stdout",
     "output_type": "stream",
     "text": [
      "\n",
      "contacts_per_day 2\n"
     ]
    },
    {
     "data": {
      "text/latex": [
       "$\\displaystyle \\operatorname{piecewise}{\\left(\\left( contact_{under lockdown per day}, \\  \\text{False}\\right),\\left( net_{contacts sum}, \\  \\text{True}\\right) \\right)}$"
      ],
      "text/plain": [
       "piecewise((contact_under_lockdown_per_day, False), (net_contacts_sum, True))"
      ]
     },
     "metadata": {},
     "output_type": "display_data"
    },
    {
     "data": {
      "text/latex": [
       "$\\displaystyle \\operatorname{piecewise}{\\left(\\left( 7.8 \\operatorname{piecewise}{\\left(\\left( 1, \\  \\text{False}\\right),\\left( 1 + \\frac{14.1075837254315}{\\log{\\left(50 \\right)}}, \\  \\text{True}\\right) \\right)}, \\  \\text{False}\\right),\\left( 26 \\operatorname{piecewise}{\\left(\\left( 1, \\  \\text{False}\\right),\\left( 1 + \\frac{14.1075837254315}{\\log{\\left(50 \\right)}}, \\  \\text{True}\\right) \\right)}, \\  \\text{True}\\right) \\right)}$"
      ],
      "text/plain": [
       "piecewise((7.8*piecewise((1, False), (1 + 14.1075837254315/log(50), True)), False), (26*piecewise((1, False), (1 + 14.1075837254315/log(50), True)), True))"
      ]
     },
     "metadata": {},
     "output_type": "display_data"
    },
    {
     "name": "stdout",
     "output_type": "stream",
     "text": [
      "\n",
      "contacts_iso_sym_per_day 2\n"
     ]
    },
    {
     "data": {
      "text/latex": [
       "$\\displaystyle isolation_{effect on sym contacts} net_{contacts home}$"
      ],
      "text/plain": [
       "isolation_effect_on_sym_contacts*net_contacts_home"
      ]
     },
     "metadata": {},
     "output_type": "display_data"
    },
    {
     "data": {
      "text/latex": [
       "$\\displaystyle 4.0 \\operatorname{piecewise}{\\left(\\left( 1, \\  \\text{False}\\right),\\left( 1 + \\frac{14.1075837254315}{\\log{\\left(50 \\right)}}, \\  \\text{True}\\right) \\right)}$"
      ],
      "text/plain": [
       "4.0*piecewise((1, False), (1 + 14.1075837254315/log(50), True))"
      ]
     },
     "metadata": {},
     "output_type": "display_data"
    },
    {
     "name": "stdout",
     "output_type": "stream",
     "text": [
      "\n",
      "contacts_iso_asym_per_day 2\n"
     ]
    },
    {
     "data": {
      "text/latex": [
       "$\\displaystyle isolation_{effect on asym contacts} net_{contacts home}$"
      ],
      "text/plain": [
       "isolation_effect_on_asym_contacts*net_contacts_home"
      ]
     },
     "metadata": {},
     "output_type": "display_data"
    },
    {
     "data": {
      "text/latex": [
       "$\\displaystyle 4.0 \\operatorname{piecewise}{\\left(\\left( 1, \\  \\text{False}\\right),\\left( 1 + \\frac{14.1075837254315}{\\log{\\left(50 \\right)}}, \\  \\text{True}\\right) \\right)}$"
      ],
      "text/plain": [
       "4.0*piecewise((1, False), (1 + 14.1075837254315/log(50), True))"
      ]
     },
     "metadata": {},
     "output_type": "display_data"
    },
    {
     "name": "stdout",
     "output_type": "stream",
     "text": [
      "\n",
      "contacts_q_sym_per_day 2\n"
     ]
    },
    {
     "data": {
      "text/latex": [
       "$\\displaystyle net_{contacts home} quarantine_{effect on sym contacts}$"
      ],
      "text/plain": [
       "net_contacts_home*quarantine_effect_on_sym_contacts"
      ]
     },
     "metadata": {},
     "output_type": "display_data"
    },
    {
     "data": {
      "text/latex": [
       "$\\displaystyle 6.0 \\operatorname{piecewise}{\\left(\\left( 1, \\  \\text{False}\\right),\\left( 1 + \\frac{14.1075837254315}{\\log{\\left(50 \\right)}}, \\  \\text{True}\\right) \\right)}$"
      ],
      "text/plain": [
       "6.0*piecewise((1, False), (1 + 14.1075837254315/log(50), True))"
      ]
     },
     "metadata": {},
     "output_type": "display_data"
    },
    {
     "name": "stdout",
     "output_type": "stream",
     "text": [
      "\n",
      "icu_capacity 5\n"
     ]
    },
    {
     "data": {
      "text/latex": [
       "$\\displaystyle healthcare_{capacity multiplier} normal_{icu capacity per person} patients_{per unit} total_{population} \\left(1 - fraction_{healthcare cant work}\\right)$"
      ],
      "text/plain": [
       "healthcare_capacity_multiplier*normal_icu_capacity_per_person*patients_per_unit*total_population*(1 - fraction_healthcare_cant_work)"
      ]
     },
     "metadata": {},
     "output_type": "display_data"
    },
    {
     "data": {
      "text/latex": [
       "$\\displaystyle - 0.00368 exposure + 0.00368 infection_{rate new arrivals} + 0.00368 infectivity_{setting} - 0.00368 isolation_{rate asym} - 0.00368 quarantining_{rate asym} + 0.00368 recoveries_{icu} + 0.00368 recoveries_{icu overflow} + 0.00368 recoveries_{infected sym mild} + 0.00368 recoveries_{iso asym} + 0.00368 recoveries_{iso sym} + 0.00368 recoveries_{q asym} + 0.00368 recoveries_{qsym} + 0.00368 recoveries_{serioush} + 0.00368 recoveries_{serioush overflow} - 0.00368 symptom_{setting}$"
      ],
      "text/plain": [
       "-0.00368*exposure + 0.00368*infection_rate_new_arrivals + 0.00368*infectivity_setting - 0.00368*isolation_rate_asym - 0.00368*quarantining_rate_asym + 0.00368*recoveries_icu + 0.00368*recoveries_icu_overflow + 0.00368*recoveries_infected_sym_mild + 0.00368*recoveries_iso_asym + 0.00368*recoveries_iso_sym + 0.00368*recoveries_q_asym + 0.00368*recoveries_qsym + 0.00368*recoveries_serioush + 0.00368*recoveries_serioush_overflow - 0.00368*symptom_setting"
      ]
     },
     "metadata": {},
     "output_type": "display_data"
    },
    {
     "name": "stdout",
     "output_type": "stream",
     "text": [
      "\n",
      "contact_tracing_policy 3\n"
     ]
    },
    {
     "data": {
      "text/latex": [
       "$\\displaystyle high_{contact tracing and isolation} \\left(high_{contact tracing policy} - low_{contact tracing policy}\\right) + low_{contact tracing policy}$"
      ],
      "text/plain": [
       "high_contact_tracing_and_isolation*(high_contact_tracing_policy - low_contact_tracing_policy) + low_contact_tracing_policy"
      ]
     },
     "metadata": {},
     "output_type": "display_data"
    },
    {
     "data": {
      "text/latex": [
       "$\\displaystyle 0.1 + 0.7 \\operatorname{piecewise}{\\left(\\left( 0, \\  time < 50\\right),\\left( 0, \\  \\text{True}\\right) \\right)}$"
      ],
      "text/plain": [
       "0.1 + 0.7*piecewise((0, time < 50), (0, True))"
      ]
     },
     "metadata": {},
     "output_type": "display_data"
    },
    {
     "name": "stdout",
     "output_type": "stream",
     "text": [
      "\n",
      "fr_symptomatic_tested_isolated 3\n"
     ]
    },
    {
     "data": {
      "text/latex": [
       "$\\displaystyle high_{contact tracing and isolation} \\left(high_{fr iso sym} - low_{fr iso sym}\\right) + low_{fr iso sym}$"
      ],
      "text/plain": [
       "high_contact_tracing_and_isolation*(high_fr_iso_sym - low_fr_iso_sym) + low_fr_iso_sym"
      ]
     },
     "metadata": {},
     "output_type": "display_data"
    },
    {
     "data": {
      "text/latex": [
       "$\\displaystyle 0.25 + 0.55 \\operatorname{piecewise}{\\left(\\left( 0, \\  time < 50\\right),\\left( 0, \\  \\text{True}\\right) \\right)}$"
      ],
      "text/plain": [
       "0.25 + 0.55*piecewise((0, time < 50), (0, True))"
      ]
     },
     "metadata": {},
     "output_type": "display_data"
    },
    {
     "name": "stdout",
     "output_type": "stream",
     "text": [
      "\n",
      "interaction_intensity 2\n"
     ]
    },
    {
     "data": {
      "text/latex": [
       "$\\displaystyle \\operatorname{piecewise}{\\left(\\left( lack_{of awareness multiplier}, \\  time < april_{14}\\right),\\left( lack_{of awareness multiplier}, \\  \\text{True}\\right) \\right)}$"
      ],
      "text/plain": [
       "piecewise((lack_of_awareness_multiplier, time < april_14), (lack_of_awareness_multiplier, True))"
      ]
     },
     "metadata": {},
     "output_type": "display_data"
    },
    {
     "data": {
      "text/latex": [
       "$\\displaystyle \\operatorname{piecewise}{\\left(\\left( \\operatorname{ramp}{\\left(-0.00571428571428571,15,50 \\right)} + 1.2, \\  time < 50\\right),\\left( \\operatorname{ramp}{\\left(-0.00571428571428571,15,50 \\right)} + 1.2, \\  \\text{True}\\right) \\right)}$"
      ],
      "text/plain": [
       "piecewise((ramp(-0.00571428571428571, 15, 50) + 1.2, time < 50), (ramp(-0.00571428571428571, 15, 50) + 1.2, True))"
      ]
     },
     "metadata": {},
     "output_type": "display_data"
    },
    {
     "name": "stdout",
     "output_type": "stream",
     "text": [
      "\n",
      "contacts_with_asym_in_q 4\n"
     ]
    },
    {
     "data": {
      "text/latex": [
       "$\\displaystyle \\frac{contacts_{q asym per day} quarantined_{asymptomatics} \\left(1 - infectivity_{reduction for asym}\\right)}{total_{population in agegroup}}$"
      ],
      "text/plain": [
       "contacts_q_asym_per_day*quarantined_asymptomatics*(1 - infectivity_reduction_for_asym)/total_population_in_agegroup"
      ]
     },
     "metadata": {},
     "output_type": "display_data"
    },
    {
     "data": {
      "text/latex": [
       "$\\displaystyle 2.9868578255675 \\cdot 10^{-9} \\left(- incubation_{rate quarantines} + quarantining_{rate asym} - recoveries_{q asym}\\right) \\operatorname{piecewise}{\\left(\\left( 1, \\  \\text{False}\\right),\\left( 1 + \\frac{14.1075837254315}{\\log{\\left(50 \\right)}}, \\  \\text{True}\\right) \\right)}$"
      ],
      "text/plain": [
       "2.9868578255675e-9*(-incubation_rate_quarantines + quarantining_rate_asym - recoveries_q_asym)*piecewise((1, False), (1 + 14.1075837254315/log(50), True))"
      ]
     },
     "metadata": {},
     "output_type": "display_data"
    },
    {
     "name": "stdout",
     "output_type": "stream",
     "text": [
      "\n",
      "contacts_with_sypmtomatics_mild 3\n"
     ]
    },
    {
     "data": {
      "text/latex": [
       "$\\displaystyle \\frac{contacts_{per day} infectious_{symptomatics mild}}{total_{population in agegroup}}$"
      ],
      "text/plain": [
       "contacts_per_day*infectious_symptomatics_mild/total_population_in_agegroup"
      ]
     },
     "metadata": {},
     "output_type": "display_data"
    },
    {
     "data": {
      "text/latex": [
       "$\\displaystyle 7.46714456391876 \\cdot 10^{-10} \\left(- disease_{progression} - isolation_{rate sym} - quarantine_{rate sym} - recoveries_{infected sym mild} + symptom_{setting}\\right) \\operatorname{piecewise}{\\left(\\left( 7.8 \\operatorname{piecewise}{\\left(\\left( 1, \\  \\text{False}\\right),\\left( 1 + \\frac{14.1075837254315}{\\log{\\left(50 \\right)}}, \\  \\text{True}\\right) \\right)}, \\  \\text{False}\\right),\\left( 26 \\operatorname{piecewise}{\\left(\\left( 1, \\  \\text{False}\\right),\\left( 1 + \\frac{14.1075837254315}{\\log{\\left(50 \\right)}}, \\  \\text{True}\\right) \\right)}, \\  \\text{True}\\right) \\right)}$"
      ],
      "text/plain": [
       "7.46714456391876e-10*(-disease_progression - isolation_rate_sym - quarantine_rate_sym - recoveries_infected_sym_mild + symptom_setting)*piecewise((7.8*piecewise((1, False), (1 + 14.1075837254315/log(50), True)), False), (26*piecewise((1, False), (1 + 14.1075837254315/log(50), True)), True))"
      ]
     },
     "metadata": {},
     "output_type": "display_data"
    },
    {
     "name": "stdout",
     "output_type": "stream",
     "text": [
      "\n",
      "contacts_with_sym_in_isolation 3\n"
     ]
    },
    {
     "data": {
      "text/latex": [
       "$\\displaystyle \\frac{contacts_{iso sym per day} isolated_{symtomatics mild}}{total_{population in agegroup}}$"
      ],
      "text/plain": [
       "contacts_iso_sym_per_day*isolated_symtomatics_mild/total_population_in_agegroup"
      ]
     },
     "metadata": {},
     "output_type": "display_data"
    },
    {
     "data": {
      "text/latex": [
       "$\\displaystyle 2.9868578255675 \\cdot 10^{-9} \\left(incubation_{rate iso} - iso_{disease progress rate} + isolation_{rate sym} - recoveries_{iso sym}\\right) \\operatorname{piecewise}{\\left(\\left( 1, \\  \\text{False}\\right),\\left( 1 + \\frac{14.1075837254315}{\\log{\\left(50 \\right)}}, \\  \\text{True}\\right) \\right)}$"
      ],
      "text/plain": [
       "2.9868578255675e-9*(incubation_rate_iso - iso_disease_progress_rate + isolation_rate_sym - recoveries_iso_sym)*piecewise((1, False), (1 + 14.1075837254315/log(50), True))"
      ]
     },
     "metadata": {},
     "output_type": "display_data"
    },
    {
     "name": "stdout",
     "output_type": "stream",
     "text": [
      "\n",
      "contacts_with_asym_in_isolation 4\n"
     ]
    },
    {
     "data": {
      "text/latex": [
       "$\\displaystyle \\frac{contacts_{iso asym per day} isolated_{asymptomatics} \\left(1 - infectivity_{reduction for asym}\\right)}{total_{population in agegroup}}$"
      ],
      "text/plain": [
       "contacts_iso_asym_per_day*isolated_asymptomatics*(1 - infectivity_reduction_for_asym)/total_population_in_agegroup"
      ]
     },
     "metadata": {},
     "output_type": "display_data"
    },
    {
     "data": {
      "text/latex": [
       "$\\displaystyle 1.49342891278375 \\cdot 10^{-9} \\left(- incubation_{rate iso} + isolation_{rate asym} - recoveries_{iso asym}\\right) \\operatorname{piecewise}{\\left(\\left( 1, \\  \\text{False}\\right),\\left( 1 + \\frac{14.1075837254315}{\\log{\\left(50 \\right)}}, \\  \\text{True}\\right) \\right)}$"
      ],
      "text/plain": [
       "1.49342891278375e-9*(-incubation_rate_iso + isolation_rate_asym - recoveries_iso_asym)*piecewise((1, False), (1 + 14.1075837254315/log(50), True))"
      ]
     },
     "metadata": {},
     "output_type": "display_data"
    },
    {
     "name": "stdout",
     "output_type": "stream",
     "text": [
      "\n",
      "contacts_with_asymptomatics 4\n"
     ]
    },
    {
     "data": {
      "text/latex": [
       "$\\displaystyle \\frac{contacts_{per day} infectious_{asymptomatics} \\left(1 - infectivity_{reduction for asym}\\right)}{total_{population in agegroup}}$"
      ],
      "text/plain": [
       "contacts_per_day*infectious_asymptomatics*(1 - infectivity_reduction_for_asym)/total_population_in_agegroup"
      ]
     },
     "metadata": {},
     "output_type": "display_data"
    },
    {
     "data": {
      "text/latex": [
       "$\\displaystyle 3.73357228195938 \\cdot 10^{-10} \\left(infection_{rate new arrivals} + infectivity_{setting} - isolation_{rate asym} - quarantining_{rate asym} - recoveries_{asym} - symptom_{setting}\\right) \\operatorname{piecewise}{\\left(\\left( 7.8 \\operatorname{piecewise}{\\left(\\left( 1, \\  \\text{False}\\right),\\left( 1 + \\frac{14.1075837254315}{\\log{\\left(50 \\right)}}, \\  \\text{True}\\right) \\right)}, \\  \\text{False}\\right),\\left( 26 \\operatorname{piecewise}{\\left(\\left( 1, \\  \\text{False}\\right),\\left( 1 + \\frac{14.1075837254315}{\\log{\\left(50 \\right)}}, \\  \\text{True}\\right) \\right)}, \\  \\text{True}\\right) \\right)}$"
      ],
      "text/plain": [
       "3.73357228195938e-10*(infection_rate_new_arrivals + infectivity_setting - isolation_rate_asym - quarantining_rate_asym - recoveries_asym - symptom_setting)*piecewise((7.8*piecewise((1, False), (1 + 14.1075837254315/log(50), True)), False), (26*piecewise((1, False), (1 + 14.1075837254315/log(50), True)), True))"
      ]
     },
     "metadata": {},
     "output_type": "display_data"
    },
    {
     "name": "stdout",
     "output_type": "stream",
     "text": [
      "\n",
      "contacts_with_sym_in_q 3\n"
     ]
    },
    {
     "data": {
      "text/latex": [
       "$\\displaystyle \\frac{contacts_{q sym per day} quarantined_{symtomatics mild}}{total_{population in agegroup}}$"
      ],
      "text/plain": [
       "contacts_q_sym_per_day*quarantined_symtomatics_mild/total_population_in_agegroup"
      ]
     },
     "metadata": {},
     "output_type": "display_data"
    },
    {
     "data": {
      "text/latex": [
       "$\\displaystyle 4.48028673835125 \\cdot 10^{-9} \\left(incubation_{rate quarantines} - q_{disease progress rate} + quarantine_{rate sym} - recoveries_{qsym}\\right) \\operatorname{piecewise}{\\left(\\left( 1, \\  \\text{False}\\right),\\left( 1 + \\frac{14.1075837254315}{\\log{\\left(50 \\right)}}, \\  \\text{True}\\right) \\right)}$"
      ],
      "text/plain": [
       "4.48028673835125e-9*(incubation_rate_quarantines - q_disease_progress_rate + quarantine_rate_sym - recoveries_qsym)*piecewise((1, False), (1 + 14.1075837254315/log(50), True))"
      ]
     },
     "metadata": {},
     "output_type": "display_data"
    },
    {
     "name": "stdout",
     "output_type": "stream",
     "text": [
      "\n",
      "managable_icu_inflow 3\n"
     ]
    },
    {
     "data": {
      "text/latex": [
       "$\\displaystyle \\max\\left(0, \\frac{\\left(icu_{capacity} - infected_{sym extreme icu}\\right) \\operatorname{xidz}{\\left(\\mathcal{typi}_{worsening rate},\\mathcal{typi}_{worsening rate},1 \\right)}}{time_{step}}\\right)$"
      ],
      "text/plain": [
       "Max(0, (icu_capacity - infected_sym_extreme_icu)*xidz(typical_worsening_rate, typical_worsening_rate, 1)/time_step)"
      ]
     },
     "metadata": {},
     "output_type": "display_data"
    },
    {
     "data": {
      "text/latex": [
       "$\\displaystyle \\max\\left(0, \\frac{\\left(deaths - 0.00368 exposure - icu_{admissions} + 0.00368 infection_{rate new arrivals} + 0.00368 infectivity_{setting} - 0.00368 isolation_{rate asym} - 0.00368 quarantining_{rate asym} + 1.00368 recoveries_{icu} + 0.00368 recoveries_{icu overflow} + 0.00368 recoveries_{infected sym mild} + 0.00368 recoveries_{iso asym} + 0.00368 recoveries_{iso sym} + 0.00368 recoveries_{q asym} + 0.00368 recoveries_{qsym} + 0.00368 recoveries_{serioush} + 0.00368 recoveries_{serioush overflow} - 0.00368 symptom_{setting}\\right) \\operatorname{xidz}{\\left(fr_{requiring icu} \\operatorname{delay3i}{\\left(hospital_{admissions},delay_{worsening},0 \\right)},fr_{requiring icu} \\operatorname{delay3i}{\\left(hospital_{admissions},delay_{worsening},0 \\right)},1 \\right)}}{time_{step}}\\right)$"
      ],
      "text/plain": [
       "Max(0, (deaths - 0.00368*exposure - icu_admissions + 0.00368*infection_rate_new_arrivals + 0.00368*infectivity_setting - 0.00368*isolation_rate_asym - 0.00368*quarantining_rate_asym + 1.00368*recoveries_icu + 0.00368*recoveries_icu_overflow + 0.00368*recoveries_infected_sym_mild + 0.00368*recoveries_iso_asym + 0.00368*recoveries_iso_sym + 0.00368*recoveries_q_asym + 0.00368*recoveries_qsym + 0.00368*recoveries_serioush + 0.00368*recoveries_serioush_overflow - 0.00368*symptom_setting)*xidz(fr_requiring_icu*delay3i(hospital_admissions, delay_worsening, 0), fr_requiring_icu*delay3i(hospital_admissions, delay_worsening, 0), 1)/time_step)"
      ]
     },
     "metadata": {},
     "output_type": "display_data"
    },
    {
     "name": "stdout",
     "output_type": "stream",
     "text": [
      "\n",
      "hospital_bed_capacity 5\n"
     ]
    },
    {
     "data": {
      "text/latex": [
       "$\\displaystyle healthcare_{capacity multiplier} normal_{hospital beds per person} patients_{per unit} total_{population} \\left(1 - fraction_{healthcare cant work}\\right)$"
      ],
      "text/plain": [
       "healthcare_capacity_multiplier*normal_hospital_beds_per_person*patients_per_unit*total_population*(1 - fraction_healthcare_cant_work)"
      ]
     },
     "metadata": {},
     "output_type": "display_data"
    },
    {
     "data": {
      "text/latex": [
       "$\\displaystyle - 0.144 exposure + 0.144 infection_{rate new arrivals} + 0.144 infectivity_{setting} - 0.144 isolation_{rate asym} - 0.144 quarantining_{rate asym} + 0.144 recoveries_{icu} + 0.144 recoveries_{icu overflow} + 0.144 recoveries_{infected sym mild} + 0.144 recoveries_{iso asym} + 0.144 recoveries_{iso sym} + 0.144 recoveries_{q asym} + 0.144 recoveries_{qsym} + 0.144 recoveries_{serioush} + 0.144 recoveries_{serioush overflow} - 0.144 symptom_{setting}$"
      ],
      "text/plain": [
       "-0.144*exposure + 0.144*infection_rate_new_arrivals + 0.144*infectivity_setting - 0.144*isolation_rate_asym - 0.144*quarantining_rate_asym + 0.144*recoveries_icu + 0.144*recoveries_icu_overflow + 0.144*recoveries_infected_sym_mild + 0.144*recoveries_iso_asym + 0.144*recoveries_iso_sym + 0.144*recoveries_q_asym + 0.144*recoveries_qsym + 0.144*recoveries_serioush + 0.144*recoveries_serioush_overflow - 0.144*symptom_setting"
      ]
     },
     "metadata": {},
     "output_type": "display_data"
    },
    {
     "name": "stdout",
     "output_type": "stream",
     "text": [
      "\n",
      "fr_q_asym_via_tracing 2\n"
     ]
    },
    {
     "data": {
      "text/latex": [
       "$\\displaystyle contact_{tracing policy} fr_{symptomatic tested isolated}$"
      ],
      "text/plain": [
       "contact_tracing_policy*fr_symptomatic_tested_isolated"
      ]
     },
     "metadata": {},
     "output_type": "display_data"
    },
    {
     "data": {
      "text/latex": [
       "$\\displaystyle \\left(0.1 + 0.7 \\operatorname{piecewise}{\\left(\\left( 0, \\  time < 50\\right),\\left( 0, \\  \\text{True}\\right) \\right)}\\right) \\left(0.25 + 0.55 \\operatorname{piecewise}{\\left(\\left( 0, \\  time < 50\\right),\\left( 0, \\  \\text{True}\\right) \\right)}\\right)$"
      ],
      "text/plain": [
       "(0.1 + 0.7*piecewise((0, time < 50), (0, True)))*(0.25 + 0.55*piecewise((0, time < 50), (0, True)))"
      ]
     },
     "metadata": {},
     "output_type": "display_data"
    },
    {
     "name": "stdout",
     "output_type": "stream",
     "text": [
      "\n",
      "infectivity 2\n"
     ]
    },
    {
     "data": {
      "text/latex": [
       "$\\displaystyle default_{infectivity} interaction_{intensity}$"
      ],
      "text/plain": [
       "default_infectivity*interaction_intensity"
      ]
     },
     "metadata": {},
     "output_type": "display_data"
    },
    {
     "data": {
      "text/latex": [
       "$\\displaystyle 0.015 \\operatorname{piecewise}{\\left(\\left( \\operatorname{ramp}{\\left(-0.00571428571428571,15,50 \\right)} + 1.2, \\  time < 50\\right),\\left( \\operatorname{ramp}{\\left(-0.00571428571428571,15,50 \\right)} + 1.2, \\  \\text{True}\\right) \\right)}$"
      ],
      "text/plain": [
       "0.015*piecewise((ramp(-0.00571428571428571, 15, 50) + 1.2, time < 50), (ramp(-0.00571428571428571, 15, 50) + 1.2, True))"
      ]
     },
     "metadata": {},
     "output_type": "display_data"
    },
    {
     "name": "stdout",
     "output_type": "stream",
     "text": [
      "\n",
      "contacts_total_per_susceptible 6\n"
     ]
    },
    {
     "data": {
      "text/latex": [
       "$\\displaystyle contacts_{with asym in isolation} + contacts_{with asym in q} + contacts_{with asymptomatics} + contacts_{with sym in isolation} + contacts_{with sym in q} + contacts_{with sypmtomatics mild}$"
      ],
      "text/plain": [
       "contacts_with_asym_in_isolation + contacts_with_asym_in_q + contacts_with_asymptomatics + contacts_with_sym_in_isolation + contacts_with_sym_in_q + contacts_with_sypmtomatics_mild"
      ]
     },
     "metadata": {},
     "output_type": "display_data"
    },
    {
     "data": {
      "text/latex": [
       "$\\displaystyle 1.49342891278375 \\cdot 10^{-9} \\left(- incubation_{rate iso} + isolation_{rate asym} - recoveries_{iso asym}\\right) \\operatorname{piecewise}{\\left(\\left( 1, \\  \\text{False}\\right),\\left( 1 + \\frac{14.1075837254315}{\\log{\\left(50 \\right)}}, \\  \\text{True}\\right) \\right)} + 2.9868578255675 \\cdot 10^{-9} \\left(- incubation_{rate quarantines} + quarantining_{rate asym} - recoveries_{q asym}\\right) \\operatorname{piecewise}{\\left(\\left( 1, \\  \\text{False}\\right),\\left( 1 + \\frac{14.1075837254315}{\\log{\\left(50 \\right)}}, \\  \\text{True}\\right) \\right)} + 2.9868578255675 \\cdot 10^{-9} \\left(incubation_{rate iso} - iso_{disease progress rate} + isolation_{rate sym} - recoveries_{iso sym}\\right) \\operatorname{piecewise}{\\left(\\left( 1, \\  \\text{False}\\right),\\left( 1 + \\frac{14.1075837254315}{\\log{\\left(50 \\right)}}, \\  \\text{True}\\right) \\right)} + 4.48028673835125 \\cdot 10^{-9} \\left(incubation_{rate quarantines} - q_{disease progress rate} + quarantine_{rate sym} - recoveries_{qsym}\\right) \\operatorname{piecewise}{\\left(\\left( 1, \\  \\text{False}\\right),\\left( 1 + \\frac{14.1075837254315}{\\log{\\left(50 \\right)}}, \\  \\text{True}\\right) \\right)} + 7.46714456391876 \\cdot 10^{-10} \\left(- disease_{progression} - isolation_{rate sym} - quarantine_{rate sym} - recoveries_{infected sym mild} + symptom_{setting}\\right) \\operatorname{piecewise}{\\left(\\left( 7.8 \\operatorname{piecewise}{\\left(\\left( 1, \\  \\text{False}\\right),\\left( 1 + \\frac{14.1075837254315}{\\log{\\left(50 \\right)}}, \\  \\text{True}\\right) \\right)}, \\  \\text{False}\\right),\\left( 26 \\operatorname{piecewise}{\\left(\\left( 1, \\  \\text{False}\\right),\\left( 1 + \\frac{14.1075837254315}{\\log{\\left(50 \\right)}}, \\  \\text{True}\\right) \\right)}, \\  \\text{True}\\right) \\right)} + 3.73357228195938 \\cdot 10^{-10} \\left(infection_{rate new arrivals} + infectivity_{setting} - isolation_{rate asym} - quarantining_{rate asym} - recoveries_{asym} - symptom_{setting}\\right) \\operatorname{piecewise}{\\left(\\left( 7.8 \\operatorname{piecewise}{\\left(\\left( 1, \\  \\text{False}\\right),\\left( 1 + \\frac{14.1075837254315}{\\log{\\left(50 \\right)}}, \\  \\text{True}\\right) \\right)}, \\  \\text{False}\\right),\\left( 26 \\operatorname{piecewise}{\\left(\\left( 1, \\  \\text{False}\\right),\\left( 1 + \\frac{14.1075837254315}{\\log{\\left(50 \\right)}}, \\  \\text{True}\\right) \\right)}, \\  \\text{True}\\right) \\right)}$"
      ],
      "text/plain": [
       "1.49342891278375e-9*(-incubation_rate_iso + isolation_rate_asym - recoveries_iso_asym)*piecewise((1, False), (1 + 14.1075837254315/log(50), True)) + 2.9868578255675e-9*(-incubation_rate_quarantines + quarantining_rate_asym - recoveries_q_asym)*piecewise((1, False), (1 + 14.1075837254315/log(50), True)) + 2.9868578255675e-9*(incubation_rate_iso - iso_disease_progress_rate + isolation_rate_sym - recoveries_iso_sym)*piecewise((1, False), (1 + 14.1075837254315/log(50), True)) + 4.48028673835125e-9*(incubation_rate_quarantines - q_disease_progress_rate + quarantine_rate_sym - recoveries_qsym)*piecewise((1, False), (1 + 14.1075837254315/log(50), True)) + 7.46714456391876e-10*(-disease_progression - isolation_rate_sym - quarantine_rate_sym - recoveries_infected_sym_mild + symptom_setting)*piecewise((7.8*piecewise((1, False), (1 + 14.1075837254315/log(50), True)), False), (26*piecewise((1, False), (1 + 14.1075837254315/log(50), True)), True)) + 3.73357228195938e-10*(infection_rate_new_arrivals + infectivity_setting - isolation_rate_asym - quarantining_rate_asym - recoveries_asym - symptom_setting)*piecewise((7.8*piecewise((1, False), (1 + 14.1075837254315/log(50), True)), False), (26*piecewise((1, False), (1 + 14.1075837254315/log(50), True)), True))"
      ]
     },
     "metadata": {},
     "output_type": "display_data"
    },
    {
     "name": "stdout",
     "output_type": "stream",
     "text": [
      "\n",
      "infection_rate_new_arrivals 0\n"
     ]
    },
    {
     "data": {
      "text/latex": [
       "$\\displaystyle \\operatorname{piecewise}{\\left(\\left( 0.0, \\  time \\geq 0.0\\right),\\left( 2.0, \\  time \\geq 1.0\\right),\\left( 1.0, \\  time \\geq 2.0\\right),\\left( 0.0, \\  time \\geq 3.0\\right),\\left( 2.0, \\  time \\geq 4.0\\right),\\left( 1.0, \\  time \\geq 5.0\\right),\\left( 2.0, \\  time \\geq 6.0\\right),\\left( 3.0, \\  time \\geq 7.0\\right),\\left( 6.0, \\  time \\geq 8.0\\right),\\left( 2.0, \\  time \\geq 9.0\\right),\\left( 7.0, \\  time \\geq 10.0\\right),\\left( 10.0, \\  time \\geq 11.0\\right),\\left( 4.0, \\  time \\geq 12.0\\right),\\left( 10.0, \\  time \\geq 13.0\\right),\\left( 5.0, \\  time \\geq 14.0\\right),\\left( 11.0, \\  time \\geq 15.0\\right),\\left( 14.0, \\  time \\geq 16.0\\right),\\left( 14.0, \\  time \\geq 17.0\\right),\\left( 26.0, \\  time \\geq 18.0\\right),\\left( 34.0, \\  time \\geq 19.0\\right),\\left( 35.0, \\  time \\geq 20.0\\right),\\left( 45.0, \\  time \\geq 21.0\\right),\\left( 55.0, \\  time \\geq 22.0\\right),\\left( 38.0, \\  time \\geq 23.0\\right),\\left( 34.0, \\  time \\geq 24.0\\right),\\left( 24.0, \\  time \\geq 25.0\\right),\\left( 40.0, \\  time \\geq 26.0\\right),\\left( 16.0, \\  time \\geq 27.0\\right),\\left( 20.0, \\  time \\geq 28.0\\right),\\left( 12.0, \\  time \\geq 29.0\\right),\\left( 23.0, \\  time \\geq 30.0\\right),\\left( 14.0, \\  time \\geq 31.0\\right),\\left( 8.0, \\  time \\geq 32.0\\right),\\left( 14.0, \\  time \\geq 33.0\\right),\\left( 12.0, \\  time \\geq 34.0\\right),\\left( 5.0, \\  time \\geq 35.0\\right),\\left( 9.0, \\  time \\geq 36.0\\right),\\left( 6.0, \\  time \\geq 37.0\\right),\\left( 0.0, \\  time \\geq 38.0\\right),\\left( 0.0, \\  time \\geq 39.0\\right),\\left( 0.0, \\  time \\geq 40.0\\right),\\left( 0.0, \\  time \\geq 1000.0\\right) \\right)}$"
      ],
      "text/plain": [
       "piecewise((0.0, time >= 0.0), (2.0, time >= 1.0), (1.0, time >= 2.0), (0.0, time >= 3.0), (2.0, time >= 4.0), (1.0, time >= 5.0), (2.0, time >= 6.0), (3.0, time >= 7.0), (6.0, time >= 8.0), (2.0, time >= 9.0), (7.0, time >= 10.0), (10.0, time >= 11.0), (4.0, time >= 12.0), (10.0, time >= 13.0), (5.0, time >= 14.0), (11.0, time >= 15.0), (14.0, time >= 16.0), (14.0, time >= 17.0), (26.0, time >= 18.0), (34.0, time >= 19.0), (35.0, time >= 20.0), (45.0, time >= 21.0), (55.0, time >= 22.0), (38.0, time >= 23.0), (34.0, time >= 24.0), (24.0, time >= 25.0), (40.0, time >= 26.0), (16.0, time >= 27.0), (20.0, time >= 28.0), (12.0, time >= 29.0), (23.0, time >= 30.0), (14.0, time >= 31.0), (8.0, time >= 32.0), (14.0, time >= 33.0), (12.0, time >= 34.0), (5.0, time >= 35.0), (9.0, time >= 36.0), (6.0, time >= 37.0), (0.0, time >= 38.0), (0.0, time >= 39.0), (0.0, time >= 40.0), (0.0, time >= 1000.0))"
      ]
     },
     "metadata": {},
     "output_type": "display_data"
    },
    {
     "data": {
      "text/latex": [
       "$\\displaystyle \\operatorname{piecewise}{\\left(\\left( 0.0, \\  time \\geq 0.0\\right),\\left( 2.0, \\  time \\geq 1.0\\right),\\left( 1.0, \\  time \\geq 2.0\\right),\\left( 0.0, \\  time \\geq 3.0\\right),\\left( 2.0, \\  time \\geq 4.0\\right),\\left( 1.0, \\  time \\geq 5.0\\right),\\left( 2.0, \\  time \\geq 6.0\\right),\\left( 3.0, \\  time \\geq 7.0\\right),\\left( 6.0, \\  time \\geq 8.0\\right),\\left( 2.0, \\  time \\geq 9.0\\right),\\left( 7.0, \\  time \\geq 10.0\\right),\\left( 10.0, \\  time \\geq 11.0\\right),\\left( 4.0, \\  time \\geq 12.0\\right),\\left( 10.0, \\  time \\geq 13.0\\right),\\left( 5.0, \\  time \\geq 14.0\\right),\\left( 11.0, \\  time \\geq 15.0\\right),\\left( 14.0, \\  time \\geq 16.0\\right),\\left( 14.0, \\  time \\geq 17.0\\right),\\left( 26.0, \\  time \\geq 18.0\\right),\\left( 34.0, \\  time \\geq 19.0\\right),\\left( 35.0, \\  time \\geq 20.0\\right),\\left( 45.0, \\  time \\geq 21.0\\right),\\left( 55.0, \\  time \\geq 22.0\\right),\\left( 38.0, \\  time \\geq 23.0\\right),\\left( 34.0, \\  time \\geq 24.0\\right),\\left( 24.0, \\  time \\geq 25.0\\right),\\left( 40.0, \\  time \\geq 26.0\\right),\\left( 16.0, \\  time \\geq 27.0\\right),\\left( 20.0, \\  time \\geq 28.0\\right),\\left( 12.0, \\  time \\geq 29.0\\right),\\left( 23.0, \\  time \\geq 30.0\\right),\\left( 14.0, \\  time \\geq 31.0\\right),\\left( 8.0, \\  time \\geq 32.0\\right),\\left( 14.0, \\  time \\geq 33.0\\right),\\left( 12.0, \\  time \\geq 34.0\\right),\\left( 5.0, \\  time \\geq 35.0\\right),\\left( 9.0, \\  time \\geq 36.0\\right),\\left( 6.0, \\  time \\geq 37.0\\right),\\left( 0.0, \\  time \\geq 38.0\\right),\\left( 0.0, \\  time \\geq 39.0\\right),\\left( 0.0, \\  time \\geq 40.0\\right),\\left( 0.0, \\  time \\geq 1000.0\\right) \\right)}$"
      ],
      "text/plain": [
       "piecewise((0.0, time >= 0.0), (2.0, time >= 1.0), (1.0, time >= 2.0), (0.0, time >= 3.0), (2.0, time >= 4.0), (1.0, time >= 5.0), (2.0, time >= 6.0), (3.0, time >= 7.0), (6.0, time >= 8.0), (2.0, time >= 9.0), (7.0, time >= 10.0), (10.0, time >= 11.0), (4.0, time >= 12.0), (10.0, time >= 13.0), (5.0, time >= 14.0), (11.0, time >= 15.0), (14.0, time >= 16.0), (14.0, time >= 17.0), (26.0, time >= 18.0), (34.0, time >= 19.0), (35.0, time >= 20.0), (45.0, time >= 21.0), (55.0, time >= 22.0), (38.0, time >= 23.0), (34.0, time >= 24.0), (24.0, time >= 25.0), (40.0, time >= 26.0), (16.0, time >= 27.0), (20.0, time >= 28.0), (12.0, time >= 29.0), (23.0, time >= 30.0), (14.0, time >= 31.0), (8.0, time >= 32.0), (14.0, time >= 33.0), (12.0, time >= 34.0), (5.0, time >= 35.0), (9.0, time >= 36.0), (6.0, time >= 37.0), (0.0, time >= 38.0), (0.0, time >= 39.0), (0.0, time >= 40.0), (0.0, time >= 1000.0))"
      ]
     },
     "metadata": {},
     "output_type": "display_data"
    },
    {
     "name": "stdout",
     "output_type": "stream",
     "text": [
      "\n",
      "avg_contact 1\n"
     ]
    },
    {
     "data": {
      "text/latex": [
       "$\\displaystyle normal_{contacts per day}$"
      ],
      "text/plain": [
       "normal_contacts_per_day"
      ]
     },
     "metadata": {},
     "output_type": "display_data"
    },
    {
     "data": {
      "text/latex": [
       "$\\displaystyle 26 \\operatorname{piecewise}{\\left(\\left( 1, \\  \\text{False}\\right),\\left( 1 + \\frac{14.1075837254315}{\\log{\\left(50 \\right)}}, \\  \\text{True}\\right) \\right)}$"
      ],
      "text/plain": [
       "26*piecewise((1, False), (1 + 14.1075837254315/log(50), True))"
      ]
     },
     "metadata": {},
     "output_type": "display_data"
    },
    {
     "name": "stdout",
     "output_type": "stream",
     "text": [
      "\n",
      "icu_overflow 2\n"
     ]
    },
    {
     "data": {
      "text/latex": [
       "$\\displaystyle \\max\\left(0, - managable_{icu inflow} + \\mathcal{typi}_{worsening rate}\\right)$"
      ],
      "text/plain": [
       "Max(0, -managable_icu_inflow + typical_worsening_rate)"
      ]
     },
     "metadata": {},
     "output_type": "display_data"
    },
    {
     "data": {
      "text/latex": [
       "$\\displaystyle \\max\\left(0, fr_{requiring icu} \\operatorname{delay3i}{\\left(hospital_{admissions},delay_{worsening},0 \\right)} - \\max\\left(0, \\frac{\\left(deaths - 0.00368 exposure - icu_{admissions} + 0.00368 infection_{rate new arrivals} + 0.00368 infectivity_{setting} - 0.00368 isolation_{rate asym} - 0.00368 quarantining_{rate asym} + 1.00368 recoveries_{icu} + 0.00368 recoveries_{icu overflow} + 0.00368 recoveries_{infected sym mild} + 0.00368 recoveries_{iso asym} + 0.00368 recoveries_{iso sym} + 0.00368 recoveries_{q asym} + 0.00368 recoveries_{qsym} + 0.00368 recoveries_{serioush} + 0.00368 recoveries_{serioush overflow} - 0.00368 symptom_{setting}\\right) \\operatorname{xidz}{\\left(fr_{requiring icu} \\operatorname{delay3i}{\\left(hospital_{admissions},delay_{worsening},0 \\right)},fr_{requiring icu} \\operatorname{delay3i}{\\left(hospital_{admissions},delay_{worsening},0 \\right)},1 \\right)}}{time_{step}}\\right)\\right)$"
      ],
      "text/plain": [
       "Max(0, fr_requiring_icu*delay3i(hospital_admissions, delay_worsening, 0) - Max(0, (deaths - 0.00368*exposure - icu_admissions + 0.00368*infection_rate_new_arrivals + 0.00368*infectivity_setting - 0.00368*isolation_rate_asym - 0.00368*quarantining_rate_asym + 1.00368*recoveries_icu + 0.00368*recoveries_icu_overflow + 0.00368*recoveries_infected_sym_mild + 0.00368*recoveries_iso_asym + 0.00368*recoveries_iso_sym + 0.00368*recoveries_q_asym + 0.00368*recoveries_qsym + 0.00368*recoveries_serioush + 0.00368*recoveries_serioush_overflow - 0.00368*symptom_setting)*xidz(fr_requiring_icu*delay3i(hospital_admissions, delay_worsening, 0), fr_requiring_icu*delay3i(hospital_admissions, delay_worsening, 0), 1)/time_step))"
      ]
     },
     "metadata": {},
     "output_type": "display_data"
    },
    {
     "name": "stdout",
     "output_type": "stream",
     "text": [
      "\n",
      "managable_hospital_inflow 3\n"
     ]
    },
    {
     "data": {
      "text/latex": [
       "$\\displaystyle \\max\\left(0, \\frac{\\left(hospital_{bed capacity} - infected_{sym serious hospital}\\right) \\operatorname{xidz}{\\left(incoming_{demand on hospital},incoming_{demand on hospital},1 \\right)}}{time_{step}}\\right)$"
      ],
      "text/plain": [
       "Max(0, (hospital_bed_capacity - infected_sym_serious_hospital)*xidz(incoming_demand_on_hospital, incoming_demand_on_hospital, 1)/time_step)"
      ]
     },
     "metadata": {},
     "output_type": "display_data"
    },
    {
     "data": {
      "text/latex": [
       "$\\displaystyle \\max\\left(0, \\frac{\\left(- 0.144 exposure - hospital_{admissions} + icu_{admissions} + icu_{overflow} + 0.144 infection_{rate new arrivals} + 0.144 infectivity_{setting} - 0.144 isolation_{rate asym} - 0.144 quarantining_{rate asym} + 0.144 recoveries_{icu} + 0.144 recoveries_{icu overflow} + 0.144 recoveries_{infected sym mild} + 0.144 recoveries_{iso asym} + 0.144 recoveries_{iso sym} + 0.144 recoveries_{q asym} + 0.144 recoveries_{qsym} + 1.144 recoveries_{serioush} + 0.144 recoveries_{serioush overflow} - 0.144 symptom_{setting}\\right) \\operatorname{xidz}{\\left(disease_{progression} - hospital_{admissions} - hospital_{overflow} + iso_{disease progress rate} + q_{disease progress rate},disease_{progression} - hospital_{admissions} - hospital_{overflow} + iso_{disease progress rate} + q_{disease progress rate},1 \\right)}}{time_{step}}\\right)$"
      ],
      "text/plain": [
       "Max(0, (-0.144*exposure - hospital_admissions + icu_admissions + icu_overflow + 0.144*infection_rate_new_arrivals + 0.144*infectivity_setting - 0.144*isolation_rate_asym - 0.144*quarantining_rate_asym + 0.144*recoveries_icu + 0.144*recoveries_icu_overflow + 0.144*recoveries_infected_sym_mild + 0.144*recoveries_iso_asym + 0.144*recoveries_iso_sym + 0.144*recoveries_q_asym + 0.144*recoveries_qsym + 1.144*recoveries_serioush + 0.144*recoveries_serioush_overflow - 0.144*symptom_setting)*xidz(disease_progression - hospital_admissions - hospital_overflow + iso_disease_progress_rate + q_disease_progress_rate, disease_progression - hospital_admissions - hospital_overflow + iso_disease_progress_rate + q_disease_progress_rate, 1)/time_step)"
      ]
     },
     "metadata": {},
     "output_type": "display_data"
    },
    {
     "name": "stdout",
     "output_type": "stream",
     "text": [
      "\n",
      "delay_disease_diagnosis 2\n"
     ]
    },
    {
     "data": {
      "text/latex": [
       "$\\displaystyle default_{delay disease diagnosis} testing_{impact on delay}$"
      ],
      "text/plain": [
       "default_delay_disease_diagnosis*testing_impact_on_delay"
      ]
     },
     "metadata": {},
     "output_type": "display_data"
    },
    {
     "data": {
      "text/latex": [
       "$\\displaystyle 5$"
      ],
      "text/plain": [
       "5"
      ]
     },
     "metadata": {},
     "output_type": "display_data"
    },
    {
     "name": "stdout",
     "output_type": "stream",
     "text": [
      "\n",
      "fraction_q_asym 2\n"
     ]
    },
    {
     "data": {
      "text/latex": [
       "$\\displaystyle fr_{q asym via awareness} + fr_{q asym via tracing}$"
      ],
      "text/plain": [
       "fr_q_asym_via_awareness + fr_q_asym_via_tracing"
      ]
     },
     "metadata": {},
     "output_type": "display_data"
    },
    {
     "data": {
      "text/latex": [
       "$\\displaystyle \\left(0.1 + 0.7 \\operatorname{piecewise}{\\left(\\left( 0, \\  time < 50\\right),\\left( 0, \\  \\text{True}\\right) \\right)}\\right) \\left(0.25 + 0.55 \\operatorname{piecewise}{\\left(\\left( 0, \\  time < 50\\right),\\left( 0, \\  \\text{True}\\right) \\right)}\\right)$"
      ],
      "text/plain": [
       "(0.1 + 0.7*piecewise((0, time < 50), (0, True)))*(0.25 + 0.55*piecewise((0, time < 50), (0, True)))"
      ]
     },
     "metadata": {},
     "output_type": "display_data"
    },
    {
     "name": "stdout",
     "output_type": "stream",
     "text": [
      "\n",
      "exposure 3\n"
     ]
    },
    {
     "data": {
      "text/latex": [
       "$\\displaystyle contacts_{total per susceptible} infectivity susceptibles$"
      ],
      "text/plain": [
       "contacts_total_per_susceptible*infectivity*susceptibles"
      ]
     },
     "metadata": {},
     "output_type": "display_data"
    },
    {
     "data": {
      "text/latex": [
       "$\\displaystyle - 0.015 exposure \\operatorname{piecewise}{\\left(\\left( \\operatorname{ramp}{\\left(-0.00571428571428571,15,50 \\right)} + 1.2, \\  time < 50\\right),\\left( \\operatorname{ramp}{\\left(-0.00571428571428571,15,50 \\right)} + 1.2, \\  \\text{True}\\right) \\right)} \\left(1.49342891278375 \\cdot 10^{-9} \\left(- incubation_{rate iso} + isolation_{rate asym} - recoveries_{iso asym}\\right) \\operatorname{piecewise}{\\left(\\left( 1, \\  \\text{False}\\right),\\left( 1 + \\frac{14.1075837254315}{\\log{\\left(50 \\right)}}, \\  \\text{True}\\right) \\right)} + 2.9868578255675 \\cdot 10^{-9} \\left(- incubation_{rate quarantines} + quarantining_{rate asym} - recoveries_{q asym}\\right) \\operatorname{piecewise}{\\left(\\left( 1, \\  \\text{False}\\right),\\left( 1 + \\frac{14.1075837254315}{\\log{\\left(50 \\right)}}, \\  \\text{True}\\right) \\right)} + 2.9868578255675 \\cdot 10^{-9} \\left(incubation_{rate iso} - iso_{disease progress rate} + isolation_{rate sym} - recoveries_{iso sym}\\right) \\operatorname{piecewise}{\\left(\\left( 1, \\  \\text{False}\\right),\\left( 1 + \\frac{14.1075837254315}{\\log{\\left(50 \\right)}}, \\  \\text{True}\\right) \\right)} + 4.48028673835125 \\cdot 10^{-9} \\left(incubation_{rate quarantines} - q_{disease progress rate} + quarantine_{rate sym} - recoveries_{qsym}\\right) \\operatorname{piecewise}{\\left(\\left( 1, \\  \\text{False}\\right),\\left( 1 + \\frac{14.1075837254315}{\\log{\\left(50 \\right)}}, \\  \\text{True}\\right) \\right)} + 7.46714456391876 \\cdot 10^{-10} \\left(- disease_{progression} - isolation_{rate sym} - quarantine_{rate sym} - recoveries_{infected sym mild} + symptom_{setting}\\right) \\operatorname{piecewise}{\\left(\\left( 7.8 \\operatorname{piecewise}{\\left(\\left( 1, \\  \\text{False}\\right),\\left( 1 + \\frac{14.1075837254315}{\\log{\\left(50 \\right)}}, \\  \\text{True}\\right) \\right)}, \\  \\text{False}\\right),\\left( 26 \\operatorname{piecewise}{\\left(\\left( 1, \\  \\text{False}\\right),\\left( 1 + \\frac{14.1075837254315}{\\log{\\left(50 \\right)}}, \\  \\text{True}\\right) \\right)}, \\  \\text{True}\\right) \\right)} + 3.73357228195938 \\cdot 10^{-10} \\left(infection_{rate new arrivals} + infectivity_{setting} - isolation_{rate asym} - quarantining_{rate asym} - recoveries_{asym} - symptom_{setting}\\right) \\operatorname{piecewise}{\\left(\\left( 7.8 \\operatorname{piecewise}{\\left(\\left( 1, \\  \\text{False}\\right),\\left( 1 + \\frac{14.1075837254315}{\\log{\\left(50 \\right)}}, \\  \\text{True}\\right) \\right)}, \\  \\text{False}\\right),\\left( 26 \\operatorname{piecewise}{\\left(\\left( 1, \\  \\text{False}\\right),\\left( 1 + \\frac{14.1075837254315}{\\log{\\left(50 \\right)}}, \\  \\text{True}\\right) \\right)}, \\  \\text{True}\\right) \\right)}\\right)$"
      ],
      "text/plain": [
       "-0.015*exposure*piecewise((ramp(-0.00571428571428571, 15, 50) + 1.2, time < 50), (ramp(-0.00571428571428571, 15, 50) + 1.2, True))*(1.49342891278375e-9*(-incubation_rate_iso + isolation_rate_asym - recoveries_iso_asym)*piecewise((1, False), (1 + 14.1075837254315/log(50), True)) + 2.9868578255675e-9*(-incubation_rate_quarantines + quarantining_rate_asym - recoveries_q_asym)*piecewise((1, False), (1 + 14.1075837254315/log(50), True)) + 2.9868578255675e-9*(incubation_rate_iso - iso_disease_progress_rate + isolation_rate_sym - recoveries_iso_sym)*piecewise((1, False), (1 + 14.1075837254315/log(50), True)) + 4.48028673835125e-9*(incubation_rate_quarantines - q_disease_progress_rate + quarantine_rate_sym - recoveries_qsym)*piecewise((1, False), (1 + 14.1075837254315/log(50), True)) + 7.46714456391876e-10*(-disease_progression - isolation_rate_sym - quarantine_rate_sym - recoveries_infected_sym_mild + symptom_setting)*piecewise((7.8*piecewise((1, False), (1 + 14.1075837254315/log(50), True)), False), (26*piecewise((1, False), (1 + 14.1075837254315/log(50), True)), True)) + 3.73357228195938e-10*(infection_rate_new_arrivals + infectivity_setting - isolation_rate_asym - quarantining_rate_asym - recoveries_asym - symptom_setting)*piecewise((7.8*piecewise((1, False), (1 + 14.1075837254315/log(50), True)), False), (26*piecewise((1, False), (1 + 14.1075837254315/log(50), True)), True)))"
      ]
     },
     "metadata": {},
     "output_type": "display_data"
    },
    {
     "name": "stdout",
     "output_type": "stream",
     "text": [
      "\n",
      "new_cases_reported 4\n"
     ]
    },
    {
     "data": {
      "text/latex": [
       "$\\displaystyle disease_{progression} + isolation_{rate asym} + isolation_{rate sym} + q_{disease progress rate}$"
      ],
      "text/plain": [
       "disease_progression + isolation_rate_asym + isolation_rate_sym + q_disease_progress_rate"
      ]
     },
     "metadata": {},
     "output_type": "display_data"
    },
    {
     "data": {
      "text/latex": [
       "$\\displaystyle fr_{symptomatic tested isolated} \\operatorname{delay3i}{\\left(symptom_{setting},delay_{iso sym},0 \\right)} + fraction_{iso asym} \\operatorname{delay3i}{\\left(infection_{rate sum},delay_{iso asym},0 \\right)} + \\left(- fr_{iso} + q_{sym} + 1\\right) \\operatorname{delay3i}{\\left(symptom_{setting},delay_{disease diagnosis},0 \\right)} \\min\\left(0.9, fr_{becoming serious}\\right) + \\operatorname{delay3i}{\\left(into_{q sym},net_{delay dprogress q sym},0 \\right)} \\min\\left(0.9, fr_{becoming serious}\\right)$"
      ],
      "text/plain": [
       "fr_symptomatic_tested_isolated*delay3i(symptom_setting, delay_iso_sym, 0) + fraction_iso_asym*delay3i(infection_rate_sum, delay_iso_asym, 0) + (-fr_iso + q_sym + 1)*delay3i(symptom_setting, delay_disease_diagnosis, 0)*Min(0.9, fr_becoming_serious) + delay3i(into_q_sym, net_delay_dprogress_q_sym, 0)*Min(0.9, fr_becoming_serious)"
      ]
     },
     "metadata": {},
     "output_type": "display_data"
    },
    {
     "name": "stdout",
     "output_type": "stream",
     "text": [
      "\n",
      "infection_rate_sum 2\n"
     ]
    },
    {
     "data": {
      "text/latex": [
       "$\\displaystyle infection_{rate new arrivals} + infectivity_{setting}$"
      ],
      "text/plain": [
       "infection_rate_new_arrivals + infectivity_setting"
      ]
     },
     "metadata": {},
     "output_type": "display_data"
    },
    {
     "data": {
      "text/latex": [
       "$\\displaystyle \\operatorname{delay3i}{\\left(exposure,delay_{asymp noninfective to infective},0 \\right)} + \\operatorname{piecewise}{\\left(\\left( 0.0, \\  time \\geq 0.0\\right),\\left( 2.0, \\  time \\geq 1.0\\right),\\left( 1.0, \\  time \\geq 2.0\\right),\\left( 0.0, \\  time \\geq 3.0\\right),\\left( 2.0, \\  time \\geq 4.0\\right),\\left( 1.0, \\  time \\geq 5.0\\right),\\left( 2.0, \\  time \\geq 6.0\\right),\\left( 3.0, \\  time \\geq 7.0\\right),\\left( 6.0, \\  time \\geq 8.0\\right),\\left( 2.0, \\  time \\geq 9.0\\right),\\left( 7.0, \\  time \\geq 10.0\\right),\\left( 10.0, \\  time \\geq 11.0\\right),\\left( 4.0, \\  time \\geq 12.0\\right),\\left( 10.0, \\  time \\geq 13.0\\right),\\left( 5.0, \\  time \\geq 14.0\\right),\\left( 11.0, \\  time \\geq 15.0\\right),\\left( 14.0, \\  time \\geq 16.0\\right),\\left( 14.0, \\  time \\geq 17.0\\right),\\left( 26.0, \\  time \\geq 18.0\\right),\\left( 34.0, \\  time \\geq 19.0\\right),\\left( 35.0, \\  time \\geq 20.0\\right),\\left( 45.0, \\  time \\geq 21.0\\right),\\left( 55.0, \\  time \\geq 22.0\\right),\\left( 38.0, \\  time \\geq 23.0\\right),\\left( 34.0, \\  time \\geq 24.0\\right),\\left( 24.0, \\  time \\geq 25.0\\right),\\left( 40.0, \\  time \\geq 26.0\\right),\\left( 16.0, \\  time \\geq 27.0\\right),\\left( 20.0, \\  time \\geq 28.0\\right),\\left( 12.0, \\  time \\geq 29.0\\right),\\left( 23.0, \\  time \\geq 30.0\\right),\\left( 14.0, \\  time \\geq 31.0\\right),\\left( 8.0, \\  time \\geq 32.0\\right),\\left( 14.0, \\  time \\geq 33.0\\right),\\left( 12.0, \\  time \\geq 34.0\\right),\\left( 5.0, \\  time \\geq 35.0\\right),\\left( 9.0, \\  time \\geq 36.0\\right),\\left( 6.0, \\  time \\geq 37.0\\right),\\left( 0.0, \\  time \\geq 38.0\\right),\\left( 0.0, \\  time \\geq 39.0\\right),\\left( 0.0, \\  time \\geq 40.0\\right),\\left( 0.0, \\  time \\geq 1000.0\\right) \\right)}$"
      ],
      "text/plain": [
       "delay3i(exposure, delay_asymp_noninfective_to_infective, 0) + piecewise((0.0, time >= 0.0), (2.0, time >= 1.0), (1.0, time >= 2.0), (0.0, time >= 3.0), (2.0, time >= 4.0), (1.0, time >= 5.0), (2.0, time >= 6.0), (3.0, time >= 7.0), (6.0, time >= 8.0), (2.0, time >= 9.0), (7.0, time >= 10.0), (10.0, time >= 11.0), (4.0, time >= 12.0), (10.0, time >= 13.0), (5.0, time >= 14.0), (11.0, time >= 15.0), (14.0, time >= 16.0), (14.0, time >= 17.0), (26.0, time >= 18.0), (34.0, time >= 19.0), (35.0, time >= 20.0), (45.0, time >= 21.0), (55.0, time >= 22.0), (38.0, time >= 23.0), (34.0, time >= 24.0), (24.0, time >= 25.0), (40.0, time >= 26.0), (16.0, time >= 27.0), (20.0, time >= 28.0), (12.0, time >= 29.0), (23.0, time >= 30.0), (14.0, time >= 31.0), (8.0, time >= 32.0), (14.0, time >= 33.0), (12.0, time >= 34.0), (5.0, time >= 35.0), (9.0, time >= 36.0), (6.0, time >= 37.0), (0.0, time >= 38.0), (0.0, time >= 39.0), (0.0, time >= 40.0), (0.0, time >= 1000.0))"
      ]
     },
     "metadata": {},
     "output_type": "display_data"
    },
    {
     "name": "stdout",
     "output_type": "stream",
     "text": [
      "\n",
      "sumnoninfectives 1\n"
     ]
    },
    {
     "data": {
      "text/latex": [
       "$\\displaystyle exposed$"
      ],
      "text/plain": [
       "exposed"
      ]
     },
     "metadata": {},
     "output_type": "display_data"
    },
    {
     "data": {
      "text/latex": [
       "$\\displaystyle exposure - infectivity_{setting}$"
      ],
      "text/plain": [
       "exposure - infectivity_setting"
      ]
     },
     "metadata": {},
     "output_type": "display_data"
    },
    {
     "name": "stdout",
     "output_type": "stream",
     "text": [
      "\n",
      "sum_in_hospital 1\n"
     ]
    },
    {
     "data": {
      "text/latex": [
       "$\\displaystyle infected_{sym serious hospital}$"
      ],
      "text/plain": [
       "infected_sym_serious_hospital"
      ]
     },
     "metadata": {},
     "output_type": "display_data"
    },
    {
     "data": {
      "text/latex": [
       "$\\displaystyle hospital_{admissions} - icu_{admissions} - icu_{overflow} - recoveries_{serioush}$"
      ],
      "text/plain": [
       "hospital_admissions - icu_admissions - icu_overflow - recoveries_serioush"
      ]
     },
     "metadata": {},
     "output_type": "display_data"
    },
    {
     "name": "stdout",
     "output_type": "stream",
     "text": [
      "\n",
      "sum_isolation_sym_mild 1\n"
     ]
    },
    {
     "data": {
      "text/latex": [
       "$\\displaystyle isolated_{symtomatics mild}$"
      ],
      "text/plain": [
       "isolated_symtomatics_mild"
      ]
     },
     "metadata": {},
     "output_type": "display_data"
    },
    {
     "data": {
      "text/latex": [
       "$\\displaystyle incubation_{rate iso} - iso_{disease progress rate} + isolation_{rate sym} - recoveries_{iso sym}$"
      ],
      "text/plain": [
       "incubation_rate_iso - iso_disease_progress_rate + isolation_rate_sym - recoveries_iso_sym"
      ]
     },
     "metadata": {},
     "output_type": "display_data"
    },
    {
     "name": "stdout",
     "output_type": "stream",
     "text": [
      "\n",
      "icu_admissions 2\n"
     ]
    },
    {
     "data": {
      "text/latex": [
       "$\\displaystyle \\min\\left(managable_{icu inflow}, \\mathcal{typi}_{worsening rate}\\right)$"
      ],
      "text/plain": [
       "Min(managable_icu_inflow, typical_worsening_rate)"
      ]
     },
     "metadata": {},
     "output_type": "display_data"
    },
    {
     "data": {
      "text/latex": [
       "$\\displaystyle \\min\\left(fr_{requiring icu} \\operatorname{delay3i}{\\left(hospital_{admissions},delay_{worsening},0 \\right)}, \\max\\left(0, \\frac{\\left(deaths - 0.00368 exposure - icu_{admissions} + 0.00368 infection_{rate new arrivals} + 0.00368 infectivity_{setting} - 0.00368 isolation_{rate asym} - 0.00368 quarantining_{rate asym} + 1.00368 recoveries_{icu} + 0.00368 recoveries_{icu overflow} + 0.00368 recoveries_{infected sym mild} + 0.00368 recoveries_{iso asym} + 0.00368 recoveries_{iso sym} + 0.00368 recoveries_{q asym} + 0.00368 recoveries_{qsym} + 0.00368 recoveries_{serioush} + 0.00368 recoveries_{serioush overflow} - 0.00368 symptom_{setting}\\right) \\operatorname{xidz}{\\left(fr_{requiring icu} \\operatorname{delay3i}{\\left(hospital_{admissions},delay_{worsening},0 \\right)},fr_{requiring icu} \\operatorname{delay3i}{\\left(hospital_{admissions},delay_{worsening},0 \\right)},1 \\right)}}{time_{step}}\\right)\\right)$"
      ],
      "text/plain": [
       "Min(fr_requiring_icu*delay3i(hospital_admissions, delay_worsening, 0), Max(0, (deaths - 0.00368*exposure - icu_admissions + 0.00368*infection_rate_new_arrivals + 0.00368*infectivity_setting - 0.00368*isolation_rate_asym - 0.00368*quarantining_rate_asym + 1.00368*recoveries_icu + 0.00368*recoveries_icu_overflow + 0.00368*recoveries_infected_sym_mild + 0.00368*recoveries_iso_asym + 0.00368*recoveries_iso_sym + 0.00368*recoveries_q_asym + 0.00368*recoveries_qsym + 0.00368*recoveries_serioush + 0.00368*recoveries_serioush_overflow - 0.00368*symptom_setting)*xidz(fr_requiring_icu*delay3i(hospital_admissions, delay_worsening, 0), fr_requiring_icu*delay3i(hospital_admissions, delay_worsening, 0), 1)/time_step))"
      ]
     },
     "metadata": {},
     "output_type": "display_data"
    },
    {
     "name": "stdout",
     "output_type": "stream",
     "text": [
      "\n",
      "sum_recovered_asym 1\n"
     ]
    },
    {
     "data": {
      "text/latex": [
       "$\\displaystyle recovered_{asymtomatics}$"
      ],
      "text/plain": [
       "recovered_asymtomatics"
      ]
     },
     "metadata": {},
     "output_type": "display_data"
    },
    {
     "data": {
      "text/latex": [
       "$\\displaystyle recoveries_{asym} + recoveries_{iso asym} + recoveries_{q asym}$"
      ],
      "text/plain": [
       "recoveries_asym + recoveries_iso_asym + recoveries_q_asym"
      ]
     },
     "metadata": {},
     "output_type": "display_data"
    },
    {
     "name": "stdout",
     "output_type": "stream",
     "text": [
      "\n",
      "lockdown_period 4\n"
     ]
    },
    {
     "data": {
      "text/latex": [
       "$\\displaystyle \\operatorname{pulse}_{train}{\\left(lock_{down start day},lock_{down duration},lock_{down duration} + open_{duration},end_{lockdown time} \\right)}$"
      ],
      "text/plain": [
       "pulse_train(lock_down_start_day, lock_down_duration, lock_down_duration + open_duration, end_lockdown_time)"
      ]
     },
     "metadata": {},
     "output_type": "display_data"
    },
    {
     "data": {
      "text/latex": [
       "$\\displaystyle \\operatorname{pulse}_{train}{\\left(30,14,24,400 \\right)}$"
      ],
      "text/plain": [
       "pulse_train(30, 14, 24, 400)"
      ]
     },
     "metadata": {},
     "output_type": "display_data"
    },
    {
     "name": "stdout",
     "output_type": "stream",
     "text": [
      "\n",
      "default_ro 3\n"
     ]
    },
    {
     "data": {
      "text/latex": [
       "$\\displaystyle avg_{contact} default_{infectivity} \\mathcal{typi}_{duration when infection is spread}$"
      ],
      "text/plain": [
       "avg_contact*default_infectivity*typical_duration_when_infection_is_spread"
      ]
     },
     "metadata": {},
     "output_type": "display_data"
    },
    {
     "data": {
      "text/latex": [
       "$\\displaystyle 2.73 \\operatorname{piecewise}{\\left(\\left( 1, \\  \\text{False}\\right),\\left( 1 + \\frac{14.1075837254315}{\\log{\\left(50 \\right)}}, \\  \\text{True}\\right) \\right)}$"
      ],
      "text/plain": [
       "2.73*piecewise((1, False), (1 + 14.1075837254315/log(50), True))"
      ]
     },
     "metadata": {},
     "output_type": "display_data"
    },
    {
     "name": "stdout",
     "output_type": "stream",
     "text": [
      "\n",
      "into_inf_sym_icu_overflow 2\n"
     ]
    },
    {
     "data": {
      "text/latex": [
       "$\\displaystyle icu_{overflow} + worsening_{rate overflow}$"
      ],
      "text/plain": [
       "icu_overflow + worsening_rate_overflow"
      ]
     },
     "metadata": {},
     "output_type": "display_data"
    },
    {
     "data": {
      "text/latex": [
       "$\\displaystyle net_{fr requiring icu} \\operatorname{delay3i}{\\left(hospital_{overflow},delay_{worsening},0 \\right)} + \\max\\left(0, fr_{requiring icu} \\operatorname{delay3i}{\\left(hospital_{admissions},delay_{worsening},0 \\right)} - \\max\\left(0, \\frac{\\left(deaths - 0.00368 exposure - icu_{admissions} + 0.00368 infection_{rate new arrivals} + 0.00368 infectivity_{setting} - 0.00368 isolation_{rate asym} - 0.00368 quarantining_{rate asym} + 1.00368 recoveries_{icu} + 0.00368 recoveries_{icu overflow} + 0.00368 recoveries_{infected sym mild} + 0.00368 recoveries_{iso asym} + 0.00368 recoveries_{iso sym} + 0.00368 recoveries_{q asym} + 0.00368 recoveries_{qsym} + 0.00368 recoveries_{serioush} + 0.00368 recoveries_{serioush overflow} - 0.00368 symptom_{setting}\\right) \\operatorname{xidz}{\\left(fr_{requiring icu} \\operatorname{delay3i}{\\left(hospital_{admissions},delay_{worsening},0 \\right)},fr_{requiring icu} \\operatorname{delay3i}{\\left(hospital_{admissions},delay_{worsening},0 \\right)},1 \\right)}}{time_{step}}\\right)\\right)$"
      ],
      "text/plain": [
       "net_fr_requiring_icu*delay3i(hospital_overflow, delay_worsening, 0) + Max(0, fr_requiring_icu*delay3i(hospital_admissions, delay_worsening, 0) - Max(0, (deaths - 0.00368*exposure - icu_admissions + 0.00368*infection_rate_new_arrivals + 0.00368*infectivity_setting - 0.00368*isolation_rate_asym - 0.00368*quarantining_rate_asym + 1.00368*recoveries_icu + 0.00368*recoveries_icu_overflow + 0.00368*recoveries_infected_sym_mild + 0.00368*recoveries_iso_asym + 0.00368*recoveries_iso_sym + 0.00368*recoveries_q_asym + 0.00368*recoveries_qsym + 0.00368*recoveries_serioush + 0.00368*recoveries_serioush_overflow - 0.00368*symptom_setting)*xidz(fr_requiring_icu*delay3i(hospital_admissions, delay_worsening, 0), fr_requiring_icu*delay3i(hospital_admissions, delay_worsening, 0), 1)/time_step))"
      ]
     },
     "metadata": {},
     "output_type": "display_data"
    },
    {
     "name": "stdout",
     "output_type": "stream",
     "text": [
      "\n",
      "sum_quarantine_asym 1\n"
     ]
    },
    {
     "data": {
      "text/latex": [
       "$\\displaystyle quarantined_{asymptomatics}$"
      ],
      "text/plain": [
       "quarantined_asymptomatics"
      ]
     },
     "metadata": {},
     "output_type": "display_data"
    },
    {
     "data": {
      "text/latex": [
       "$\\displaystyle - incubation_{rate quarantines} + quarantining_{rate asym} - recoveries_{q asym}$"
      ],
      "text/plain": [
       "-incubation_rate_quarantines + quarantining_rate_asym - recoveries_q_asym"
      ]
     },
     "metadata": {},
     "output_type": "display_data"
    },
    {
     "name": "stdout",
     "output_type": "stream",
     "text": [
      "\n",
      "hospital_admissions 2\n"
     ]
    },
    {
     "data": {
      "text/latex": [
       "$\\displaystyle \\min\\left(managable_{hospital inflow}, \\frac{incoming_{demand on hospital}}{time_{step}}\\right)$"
      ],
      "text/plain": [
       "Min(managable_hospital_inflow, incoming_demand_on_hospital/time_step)"
      ]
     },
     "metadata": {},
     "output_type": "display_data"
    },
    {
     "data": {
      "text/latex": [
       "$\\displaystyle \\min\\left(\\frac{disease_{progression} - hospital_{admissions} - hospital_{overflow} + iso_{disease progress rate} + q_{disease progress rate}}{time_{step}}, \\max\\left(0, \\frac{\\left(- 0.144 exposure - hospital_{admissions} + icu_{admissions} + icu_{overflow} + 0.144 infection_{rate new arrivals} + 0.144 infectivity_{setting} - 0.144 isolation_{rate asym} - 0.144 quarantining_{rate asym} + 0.144 recoveries_{icu} + 0.144 recoveries_{icu overflow} + 0.144 recoveries_{infected sym mild} + 0.144 recoveries_{iso asym} + 0.144 recoveries_{iso sym} + 0.144 recoveries_{q asym} + 0.144 recoveries_{qsym} + 1.144 recoveries_{serioush} + 0.144 recoveries_{serioush overflow} - 0.144 symptom_{setting}\\right) \\operatorname{xidz}{\\left(disease_{progression} - hospital_{admissions} - hospital_{overflow} + iso_{disease progress rate} + q_{disease progress rate},disease_{progression} - hospital_{admissions} - hospital_{overflow} + iso_{disease progress rate} + q_{disease progress rate},1 \\right)}}{time_{step}}\\right)\\right)$"
      ],
      "text/plain": [
       "Min((disease_progression - hospital_admissions - hospital_overflow + iso_disease_progress_rate + q_disease_progress_rate)/time_step, Max(0, (-0.144*exposure - hospital_admissions + icu_admissions + icu_overflow + 0.144*infection_rate_new_arrivals + 0.144*infectivity_setting - 0.144*isolation_rate_asym - 0.144*quarantining_rate_asym + 0.144*recoveries_icu + 0.144*recoveries_icu_overflow + 0.144*recoveries_infected_sym_mild + 0.144*recoveries_iso_asym + 0.144*recoveries_iso_sym + 0.144*recoveries_q_asym + 0.144*recoveries_qsym + 1.144*recoveries_serioush + 0.144*recoveries_serioush_overflow - 0.144*symptom_setting)*xidz(disease_progression - hospital_admissions - hospital_overflow + iso_disease_progress_rate + q_disease_progress_rate, disease_progression - hospital_admissions - hospital_overflow + iso_disease_progress_rate + q_disease_progress_rate, 1)/time_step))"
      ]
     },
     "metadata": {},
     "output_type": "display_data"
    },
    {
     "name": "stdout",
     "output_type": "stream",
     "text": [
      "\n",
      "sum_in_icu 1\n"
     ]
    },
    {
     "data": {
      "text/latex": [
       "$\\displaystyle infected_{sym extreme icu}$"
      ],
      "text/plain": [
       "infected_sym_extreme_icu"
      ]
     },
     "metadata": {},
     "output_type": "display_data"
    },
    {
     "data": {
      "text/latex": [
       "$\\displaystyle - deaths + icu_{admissions} - recoveries_{icu}$"
      ],
      "text/plain": [
       "-deaths + icu_admissions - recoveries_icu"
      ]
     },
     "metadata": {},
     "output_type": "display_data"
    },
    {
     "name": "stdout",
     "output_type": "stream",
     "text": [
      "\n",
      "net_delay_dprogress_iso_sym 2\n"
     ]
    },
    {
     "data": {
      "text/latex": [
       "$\\displaystyle \\max\\left(1, delay_{disease diagnosis} - delay_{iso sym}\\right)$"
      ],
      "text/plain": [
       "Max(1, delay_disease_diagnosis - delay_iso_sym)"
      ]
     },
     "metadata": {},
     "output_type": "display_data"
    },
    {
     "data": {
      "text/latex": [
       "$\\displaystyle 2.5$"
      ],
      "text/plain": [
       "2.50000000000000"
      ]
     },
     "metadata": {},
     "output_type": "display_data"
    },
    {
     "name": "stdout",
     "output_type": "stream",
     "text": [
      "\n",
      "net_delay_incubation_q_asym 2\n"
     ]
    },
    {
     "data": {
      "text/latex": [
       "$\\displaystyle \\max\\left(1, delay_{asymp infective to symp} - delay_{q asym}\\right)$"
      ],
      "text/plain": [
       "Max(1, delay_asymp_infective_to_symp - delay_q_asym)"
      ]
     },
     "metadata": {},
     "output_type": "display_data"
    },
    {
     "data": {
      "text/latex": [
       "$\\displaystyle 1$"
      ],
      "text/plain": [
       "1"
      ]
     },
     "metadata": {},
     "output_type": "display_data"
    },
    {
     "name": "stdout",
     "output_type": "stream",
     "text": [
      "\n",
      "into_q_sym 2\n"
     ]
    },
    {
     "data": {
      "text/latex": [
       "$\\displaystyle incubation_{rate quarantines} + quarantine_{rate sym}$"
      ],
      "text/plain": [
       "incubation_rate_quarantines + quarantine_rate_sym"
      ]
     },
     "metadata": {},
     "output_type": "display_data"
    },
    {
     "data": {
      "text/latex": [
       "$\\displaystyle fr_{developing symptoms} \\operatorname{delay3i}{\\left(quarantining_{rate asym},net_{delay incubation q asym},0 \\right)} + fraction_{q sym} \\operatorname{delay3i}{\\left(symptom_{setting},delay_{q sym},0 \\right)}$"
      ],
      "text/plain": [
       "fr_developing_symptoms*delay3i(quarantining_rate_asym, net_delay_incubation_q_asym, 0) + fraction_q_sym*delay3i(symptom_setting, delay_q_sym, 0)"
      ]
     },
     "metadata": {},
     "output_type": "display_data"
    },
    {
     "name": "stdout",
     "output_type": "stream",
     "text": [
      "\n",
      "hospital_overflow 2\n"
     ]
    },
    {
     "data": {
      "text/latex": [
       "$\\displaystyle \\max\\left(0, \\frac{incoming_{demand on hospital}}{time_{step}} - managable_{hospital inflow}\\right)$"
      ],
      "text/plain": [
       "Max(0, incoming_demand_on_hospital/time_step - managable_hospital_inflow)"
      ]
     },
     "metadata": {},
     "output_type": "display_data"
    },
    {
     "data": {
      "text/latex": [
       "$\\displaystyle \\max\\left(0, - \\max\\left(0, \\frac{\\left(- 0.144 exposure - hospital_{admissions} + icu_{admissions} + icu_{overflow} + 0.144 infection_{rate new arrivals} + 0.144 infectivity_{setting} - 0.144 isolation_{rate asym} - 0.144 quarantining_{rate asym} + 0.144 recoveries_{icu} + 0.144 recoveries_{icu overflow} + 0.144 recoveries_{infected sym mild} + 0.144 recoveries_{iso asym} + 0.144 recoveries_{iso sym} + 0.144 recoveries_{q asym} + 0.144 recoveries_{qsym} + 1.144 recoveries_{serioush} + 0.144 recoveries_{serioush overflow} - 0.144 symptom_{setting}\\right) \\operatorname{xidz}{\\left(disease_{progression} - hospital_{admissions} - hospital_{overflow} + iso_{disease progress rate} + q_{disease progress rate},disease_{progression} - hospital_{admissions} - hospital_{overflow} + iso_{disease progress rate} + q_{disease progress rate},1 \\right)}}{time_{step}}\\right) + \\frac{disease_{progression} - hospital_{admissions} - hospital_{overflow} + iso_{disease progress rate} + q_{disease progress rate}}{time_{step}}\\right)$"
      ],
      "text/plain": [
       "Max(0, -Max(0, (-0.144*exposure - hospital_admissions + icu_admissions + icu_overflow + 0.144*infection_rate_new_arrivals + 0.144*infectivity_setting - 0.144*isolation_rate_asym - 0.144*quarantining_rate_asym + 0.144*recoveries_icu + 0.144*recoveries_icu_overflow + 0.144*recoveries_infected_sym_mild + 0.144*recoveries_iso_asym + 0.144*recoveries_iso_sym + 0.144*recoveries_q_asym + 0.144*recoveries_qsym + 1.144*recoveries_serioush + 0.144*recoveries_serioush_overflow - 0.144*symptom_setting)*xidz(disease_progression - hospital_admissions - hospital_overflow + iso_disease_progress_rate + q_disease_progress_rate, disease_progression - hospital_admissions - hospital_overflow + iso_disease_progress_rate + q_disease_progress_rate, 1)/time_step) + (disease_progression - hospital_admissions - hospital_overflow + iso_disease_progress_rate + q_disease_progress_rate)/time_step)"
      ]
     },
     "metadata": {},
     "output_type": "display_data"
    },
    {
     "name": "stdout",
     "output_type": "stream",
     "text": [
      "\n",
      "net_fr_requiring_icu 2\n"
     ]
    },
    {
     "data": {
      "text/latex": [
       "$\\displaystyle \\min\\left(0.4, fr_{multiplier icu} fr_{requiring icu}\\right)$"
      ],
      "text/plain": [
       "Min(0.4, fr_multiplier_icu*fr_requiring_icu)"
      ]
     },
     "metadata": {},
     "output_type": "display_data"
    },
    {
     "data": {
      "text/latex": [
       "$\\displaystyle 0.4$"
      ],
      "text/plain": [
       "0.400000000000000"
      ]
     },
     "metadata": {},
     "output_type": "display_data"
    },
    {
     "name": "stdout",
     "output_type": "stream",
     "text": [
      "\n",
      "sum_recovered_after_symptoms 2\n"
     ]
    },
    {
     "data": {
      "text/latex": [
       "$\\displaystyle recovered_{from hospital} + recovered_{isolated symptomatic mild}$"
      ],
      "text/plain": [
       "recovered_from_hospital + recovered_isolated_symptomatic_mild"
      ]
     },
     "metadata": {},
     "output_type": "display_data"
    },
    {
     "data": {
      "text/latex": [
       "$\\displaystyle recoveries_{icu} + recoveries_{icu overflow} + recoveries_{iso sym} + recoveries_{serioush} + recoveries_{serioush overflow}$"
      ],
      "text/plain": [
       "recoveries_icu + recoveries_icu_overflow + recoveries_iso_sym + recoveries_serioush + recoveries_serioush_overflow"
      ]
     },
     "metadata": {},
     "output_type": "display_data"
    },
    {
     "name": "stdout",
     "output_type": "stream",
     "text": [
      "\n",
      "sum_deaths_reported_daily 2\n"
     ]
    },
    {
     "data": {
      "text/latex": [
       "$\\displaystyle deaths + deaths_{overflow}$"
      ],
      "text/plain": [
       "deaths + deaths_overflow"
      ]
     },
     "metadata": {},
     "output_type": "display_data"
    },
    {
     "data": {
      "text/latex": [
       "$\\displaystyle fr_{fatality} \\operatorname{delay3i}{\\left(icu_{admissions},delay_{for death},0 \\right)} + net_{fr fatality} \\operatorname{delay3i}{\\left(into_{inf sym icu overflow},delay_{for death},0 \\right)}$"
      ],
      "text/plain": [
       "fr_fatality*delay3i(icu_admissions, delay_for_death, 0) + net_fr_fatality*delay3i(into_inf_sym_icu_overflow, delay_for_death, 0)"
      ]
     },
     "metadata": {},
     "output_type": "display_data"
    },
    {
     "name": "stdout",
     "output_type": "stream",
     "text": [
      "\n",
      "sum_in_hospital_overflow 1\n"
     ]
    },
    {
     "data": {
      "text/latex": [
       "$\\displaystyle infected_{sym hospital overflow}$"
      ],
      "text/plain": [
       "infected_sym_hospital_overflow"
      ]
     },
     "metadata": {},
     "output_type": "display_data"
    },
    {
     "data": {
      "text/latex": [
       "$\\displaystyle hospital_{overflow} - recoveries_{serioush overflow} - worsening_{rate overflow}$"
      ],
      "text/plain": [
       "hospital_overflow - recoveries_serioush_overflow - worsening_rate_overflow"
      ]
     },
     "metadata": {},
     "output_type": "display_data"
    },
    {
     "name": "stdout",
     "output_type": "stream",
     "text": [
      "\n",
      "sum_recovered_mild 1\n"
     ]
    },
    {
     "data": {
      "text/latex": [
       "$\\displaystyle recovered_{mild}$"
      ],
      "text/plain": [
       "recovered_mild"
      ]
     },
     "metadata": {},
     "output_type": "display_data"
    },
    {
     "data": {
      "text/latex": [
       "$\\displaystyle recoveries_{infected sym mild} + recoveries_{qsym}$"
      ],
      "text/plain": [
       "recoveries_infected_sym_mild + recoveries_qsym"
      ]
     },
     "metadata": {},
     "output_type": "display_data"
    },
    {
     "name": "stdout",
     "output_type": "stream",
     "text": [
      "\n",
      "net_fr_fatality 2\n"
     ]
    },
    {
     "data": {
      "text/latex": [
       "$\\displaystyle \\min\\left(0.4, fr_{fatality} fr_{multiplier fatality}\\right)$"
      ],
      "text/plain": [
       "Min(0.4, fr_fatality*fr_multiplier_fatality)"
      ]
     },
     "metadata": {},
     "output_type": "display_data"
    },
    {
     "data": {
      "text/latex": [
       "$\\displaystyle 0.4$"
      ],
      "text/plain": [
       "0.400000000000000"
      ]
     },
     "metadata": {},
     "output_type": "display_data"
    },
    {
     "name": "stdout",
     "output_type": "stream",
     "text": [
      "\n",
      "sum_infections_from_symptomatics_mild 1\n"
     ]
    },
    {
     "data": {
      "text/latex": [
       "$\\displaystyle contacts_{with sypmtomatics mild}$"
      ],
      "text/plain": [
       "contacts_with_sypmtomatics_mild"
      ]
     },
     "metadata": {},
     "output_type": "display_data"
    },
    {
     "data": {
      "text/latex": [
       "$\\displaystyle 7.46714456391876 \\cdot 10^{-10} \\left(- disease_{progression} - isolation_{rate sym} - quarantine_{rate sym} - recoveries_{infected sym mild} + symptom_{setting}\\right) \\operatorname{piecewise}{\\left(\\left( 7.8 \\operatorname{piecewise}{\\left(\\left( 1, \\  \\text{False}\\right),\\left( 1 + \\frac{14.1075837254315}{\\log{\\left(50 \\right)}}, \\  \\text{True}\\right) \\right)}, \\  \\text{False}\\right),\\left( 26 \\operatorname{piecewise}{\\left(\\left( 1, \\  \\text{False}\\right),\\left( 1 + \\frac{14.1075837254315}{\\log{\\left(50 \\right)}}, \\  \\text{True}\\right) \\right)}, \\  \\text{True}\\right) \\right)}$"
      ],
      "text/plain": [
       "7.46714456391876e-10*(-disease_progression - isolation_rate_sym - quarantine_rate_sym - recoveries_infected_sym_mild + symptom_setting)*piecewise((7.8*piecewise((1, False), (1 + 14.1075837254315/log(50), True)), False), (26*piecewise((1, False), (1 + 14.1075837254315/log(50), True)), True))"
      ]
     },
     "metadata": {},
     "output_type": "display_data"
    },
    {
     "name": "stdout",
     "output_type": "stream",
     "text": [
      "\n",
      "net_delay_dprogress_q_sym 2\n"
     ]
    },
    {
     "data": {
      "text/latex": [
       "$\\displaystyle \\max\\left(1, delay_{disease diagnosis} - delay_{q sym}\\right)$"
      ],
      "text/plain": [
       "Max(1, delay_disease_diagnosis - delay_q_sym)"
      ]
     },
     "metadata": {},
     "output_type": "display_data"
    },
    {
     "data": {
      "text/latex": [
       "$\\displaystyle 2.5$"
      ],
      "text/plain": [
       "2.50000000000000"
      ]
     },
     "metadata": {},
     "output_type": "display_data"
    },
    {
     "name": "stdout",
     "output_type": "stream",
     "text": [
      "\n",
      "base_infectivity 3\n"
     ]
    },
    {
     "data": {
      "text/latex": [
       "$\\displaystyle \\frac{default_{ro base infectivity estimation}}{avg_{contact} \\mathcal{typi}_{duration when infection is spread}}$"
      ],
      "text/plain": [
       "default_ro_base_infectivity_estimation/(avg_contact*typical_duration_when_infection_is_spread)"
      ]
     },
     "metadata": {},
     "output_type": "display_data"
    },
    {
     "data": {
      "text/latex": [
       "$\\displaystyle 0.0252747252747253 \\operatorname{piecewise}^{-1}{\\left(\\left( 1, \\  \\text{False}\\right),\\left( 1 + \\frac{14.1075837254315}{\\log{\\left(50 \\right)}}, \\  \\text{True}\\right) \\right)}$"
      ],
      "text/plain": [
       "0.0252747252747253*piecewise((1, False), (1 + 14.1075837254315/log(50), True))**(-1)"
      ]
     },
     "metadata": {},
     "output_type": "display_data"
    },
    {
     "name": "stdout",
     "output_type": "stream",
     "text": [
      "\n",
      "sum_in_icu_overflow 1\n"
     ]
    },
    {
     "data": {
      "text/latex": [
       "$\\displaystyle infected_{sym icu overflow}$"
      ],
      "text/plain": [
       "infected_sym_icu_overflow"
      ]
     },
     "metadata": {},
     "output_type": "display_data"
    },
    {
     "data": {
      "text/latex": [
       "$\\displaystyle - deaths_{overflow} + icu_{overflow} - recoveries_{icu overflow} + worsening_{rate overflow}$"
      ],
      "text/plain": [
       "-deaths_overflow + icu_overflow - recoveries_icu_overflow + worsening_rate_overflow"
      ]
     },
     "metadata": {},
     "output_type": "display_data"
    },
    {
     "name": "stdout",
     "output_type": "stream",
     "text": [
      "\n",
      "sum_recovered_via_hosp 1\n"
     ]
    },
    {
     "data": {
      "text/latex": [
       "$\\displaystyle recovered_{from hospital}$"
      ],
      "text/plain": [
       "recovered_from_hospital"
      ]
     },
     "metadata": {},
     "output_type": "display_data"
    },
    {
     "data": {
      "text/latex": [
       "$\\displaystyle recoveries_{icu} + recoveries_{icu overflow} + recoveries_{serioush} + recoveries_{serioush overflow}$"
      ],
      "text/plain": [
       "recoveries_icu + recoveries_icu_overflow + recoveries_serioush + recoveries_serioush_overflow"
      ]
     },
     "metadata": {},
     "output_type": "display_data"
    },
    {
     "name": "stdout",
     "output_type": "stream",
     "text": [
      "\n",
      "fr_isoq_asym 2\n"
     ]
    },
    {
     "data": {
      "text/latex": [
       "$\\displaystyle fraction_{iso asym} + fraction_{q asym}$"
      ],
      "text/plain": [
       "fraction_iso_asym + fraction_q_asym"
      ]
     },
     "metadata": {},
     "output_type": "display_data"
    },
    {
     "data": {
      "text/latex": [
       "$\\displaystyle \\left(0.1 + 0.7 \\operatorname{piecewise}{\\left(\\left( 0, \\  time < 50\\right),\\left( 0, \\  \\text{True}\\right) \\right)}\\right) \\left(0.25 + 0.55 \\operatorname{piecewise}{\\left(\\left( 0, \\  time < 50\\right),\\left( 0, \\  \\text{True}\\right) \\right)}\\right)$"
      ],
      "text/plain": [
       "(0.1 + 0.7*piecewise((0, time < 50), (0, True)))*(0.25 + 0.55*piecewise((0, time < 50), (0, True)))"
      ]
     },
     "metadata": {},
     "output_type": "display_data"
    },
    {
     "name": "stdout",
     "output_type": "stream",
     "text": [
      "\n",
      "physical_distance_impact 1\n"
     ]
    },
    {
     "data": {
      "text/latex": [
       "$\\displaystyle \\operatorname{piecewise}{\\left(\\left( 1, \\  density_{ratio} \\leq 1\\right),\\left( \\frac{\\log{\\left(density_{ratio} \\right)}}{\\log{\\left(50 \\right)}} + 1, \\  \\text{True}\\right) \\right)}$"
      ],
      "text/plain": [
       "piecewise((1, density_ratio <= 1), (log(density_ratio)/log(50) + 1, True))"
      ]
     },
     "metadata": {},
     "output_type": "display_data"
    },
    {
     "data": {
      "text/latex": [
       "$\\displaystyle \\operatorname{piecewise}{\\left(\\left( 1, \\  \\text{False}\\right),\\left( 1 + \\frac{14.1075837254315}{\\log{\\left(50 \\right)}}, \\  \\text{True}\\right) \\right)}$"
      ],
      "text/plain": [
       "piecewise((1, False), (1 + 14.1075837254315/log(50), True))"
      ]
     },
     "metadata": {},
     "output_type": "display_data"
    },
    {
     "name": "stdout",
     "output_type": "stream",
     "text": [
      "\n",
      "hygiene_mask_impact 3\n"
     ]
    },
    {
     "data": {
      "text/latex": [
       "$\\displaystyle \\operatorname{piecewise}{\\left(\\left( regular_{hygiene level}, \\  time < april_{14}\\right),\\left( high_{hygiene level}, \\  \\text{True}\\right) \\right)}$"
      ],
      "text/plain": [
       "piecewise((regular_hygiene_level, time < april_14), (high_hygiene_level, True))"
      ]
     },
     "metadata": {},
     "output_type": "display_data"
    },
    {
     "data": {
      "text/latex": [
       "$\\displaystyle \\operatorname{piecewise}{\\left(\\left( 1, \\  time < 50\\right),\\left( 0.8, \\  \\text{True}\\right) \\right)}$"
      ],
      "text/plain": [
       "piecewise((1, time < 50), (0.8, True))"
      ]
     },
     "metadata": {},
     "output_type": "display_data"
    },
    {
     "name": "stdout",
     "output_type": "stream",
     "text": [
      "\n",
      "sum_of_infection_rate 1\n"
     ]
    },
    {
     "data": {
      "text/latex": [
       "$\\displaystyle exposure$"
      ],
      "text/plain": [
       "exposure"
      ]
     },
     "metadata": {},
     "output_type": "display_data"
    },
    {
     "data": {
      "text/latex": [
       "$\\displaystyle - 0.015 exposure \\operatorname{piecewise}{\\left(\\left( \\operatorname{ramp}{\\left(-0.00571428571428571,15,50 \\right)} + 1.2, \\  time < 50\\right),\\left( \\operatorname{ramp}{\\left(-0.00571428571428571,15,50 \\right)} + 1.2, \\  \\text{True}\\right) \\right)} \\left(1.49342891278375 \\cdot 10^{-9} \\left(- incubation_{rate iso} + isolation_{rate asym} - recoveries_{iso asym}\\right) \\operatorname{piecewise}{\\left(\\left( 1, \\  \\text{False}\\right),\\left( 1 + \\frac{14.1075837254315}{\\log{\\left(50 \\right)}}, \\  \\text{True}\\right) \\right)} + 2.9868578255675 \\cdot 10^{-9} \\left(- incubation_{rate quarantines} + quarantining_{rate asym} - recoveries_{q asym}\\right) \\operatorname{piecewise}{\\left(\\left( 1, \\  \\text{False}\\right),\\left( 1 + \\frac{14.1075837254315}{\\log{\\left(50 \\right)}}, \\  \\text{True}\\right) \\right)} + 2.9868578255675 \\cdot 10^{-9} \\left(incubation_{rate iso} - iso_{disease progress rate} + isolation_{rate sym} - recoveries_{iso sym}\\right) \\operatorname{piecewise}{\\left(\\left( 1, \\  \\text{False}\\right),\\left( 1 + \\frac{14.1075837254315}{\\log{\\left(50 \\right)}}, \\  \\text{True}\\right) \\right)} + 4.48028673835125 \\cdot 10^{-9} \\left(incubation_{rate quarantines} - q_{disease progress rate} + quarantine_{rate sym} - recoveries_{qsym}\\right) \\operatorname{piecewise}{\\left(\\left( 1, \\  \\text{False}\\right),\\left( 1 + \\frac{14.1075837254315}{\\log{\\left(50 \\right)}}, \\  \\text{True}\\right) \\right)} + 7.46714456391876 \\cdot 10^{-10} \\left(- disease_{progression} - isolation_{rate sym} - quarantine_{rate sym} - recoveries_{infected sym mild} + symptom_{setting}\\right) \\operatorname{piecewise}{\\left(\\left( 7.8 \\operatorname{piecewise}{\\left(\\left( 1, \\  \\text{False}\\right),\\left( 1 + \\frac{14.1075837254315}{\\log{\\left(50 \\right)}}, \\  \\text{True}\\right) \\right)}, \\  \\text{False}\\right),\\left( 26 \\operatorname{piecewise}{\\left(\\left( 1, \\  \\text{False}\\right),\\left( 1 + \\frac{14.1075837254315}{\\log{\\left(50 \\right)}}, \\  \\text{True}\\right) \\right)}, \\  \\text{True}\\right) \\right)} + 3.73357228195938 \\cdot 10^{-10} \\left(infection_{rate new arrivals} + infectivity_{setting} - isolation_{rate asym} - quarantining_{rate asym} - recoveries_{asym} - symptom_{setting}\\right) \\operatorname{piecewise}{\\left(\\left( 7.8 \\operatorname{piecewise}{\\left(\\left( 1, \\  \\text{False}\\right),\\left( 1 + \\frac{14.1075837254315}{\\log{\\left(50 \\right)}}, \\  \\text{True}\\right) \\right)}, \\  \\text{False}\\right),\\left( 26 \\operatorname{piecewise}{\\left(\\left( 1, \\  \\text{False}\\right),\\left( 1 + \\frac{14.1075837254315}{\\log{\\left(50 \\right)}}, \\  \\text{True}\\right) \\right)}, \\  \\text{True}\\right) \\right)}\\right)$"
      ],
      "text/plain": [
       "-0.015*exposure*piecewise((ramp(-0.00571428571428571, 15, 50) + 1.2, time < 50), (ramp(-0.00571428571428571, 15, 50) + 1.2, True))*(1.49342891278375e-9*(-incubation_rate_iso + isolation_rate_asym - recoveries_iso_asym)*piecewise((1, False), (1 + 14.1075837254315/log(50), True)) + 2.9868578255675e-9*(-incubation_rate_quarantines + quarantining_rate_asym - recoveries_q_asym)*piecewise((1, False), (1 + 14.1075837254315/log(50), True)) + 2.9868578255675e-9*(incubation_rate_iso - iso_disease_progress_rate + isolation_rate_sym - recoveries_iso_sym)*piecewise((1, False), (1 + 14.1075837254315/log(50), True)) + 4.48028673835125e-9*(incubation_rate_quarantines - q_disease_progress_rate + quarantine_rate_sym - recoveries_qsym)*piecewise((1, False), (1 + 14.1075837254315/log(50), True)) + 7.46714456391876e-10*(-disease_progression - isolation_rate_sym - quarantine_rate_sym - recoveries_infected_sym_mild + symptom_setting)*piecewise((7.8*piecewise((1, False), (1 + 14.1075837254315/log(50), True)), False), (26*piecewise((1, False), (1 + 14.1075837254315/log(50), True)), True)) + 3.73357228195938e-10*(infection_rate_new_arrivals + infectivity_setting - isolation_rate_asym - quarantining_rate_asym - recoveries_asym - symptom_setting)*piecewise((7.8*piecewise((1, False), (1 + 14.1075837254315/log(50), True)), False), (26*piecewise((1, False), (1 + 14.1075837254315/log(50), True)), True)))"
      ]
     },
     "metadata": {},
     "output_type": "display_data"
    },
    {
     "name": "stdout",
     "output_type": "stream",
     "text": [
      "\n",
      "fr_isoq_sym 2\n"
     ]
    },
    {
     "data": {
      "text/latex": [
       "$\\displaystyle fr_{symptomatic tested isolated} + fraction_{q sym}$"
      ],
      "text/plain": [
       "fr_symptomatic_tested_isolated + fraction_q_sym"
      ]
     },
     "metadata": {},
     "output_type": "display_data"
    },
    {
     "data": {
      "text/latex": [
       "$\\displaystyle 0.25 + 0.55 \\operatorname{piecewise}{\\left(\\left( 0, \\  time < 50\\right),\\left( 0, \\  \\text{True}\\right) \\right)}$"
      ],
      "text/plain": [
       "0.25 + 0.55*piecewise((0, time < 50), (0, True))"
      ]
     },
     "metadata": {},
     "output_type": "display_data"
    },
    {
     "name": "stdout",
     "output_type": "stream",
     "text": [
      "\n",
      "sum_quarantine_sym_mild 1\n"
     ]
    },
    {
     "data": {
      "text/latex": [
       "$\\displaystyle quarantined_{symtomatics mild}$"
      ],
      "text/plain": [
       "quarantined_symtomatics_mild"
      ]
     },
     "metadata": {},
     "output_type": "display_data"
    },
    {
     "data": {
      "text/latex": [
       "$\\displaystyle incubation_{rate quarantines} - q_{disease progress rate} + quarantine_{rate sym} - recoveries_{qsym}$"
      ],
      "text/plain": [
       "incubation_rate_quarantines - q_disease_progress_rate + quarantine_rate_sym - recoveries_qsym"
      ]
     },
     "metadata": {},
     "output_type": "display_data"
    },
    {
     "name": "stdout",
     "output_type": "stream",
     "text": [
      "\n",
      "sum_cumulative_cases_reported 1\n"
     ]
    },
    {
     "data": {
      "text/latex": [
       "$\\displaystyle cumulative_{cases reported}$"
      ],
      "text/plain": [
       "cumulative_cases_reported"
      ]
     },
     "metadata": {},
     "output_type": "display_data"
    },
    {
     "data": {
      "text/latex": [
       "$\\displaystyle new_{cases reported}$"
      ],
      "text/plain": [
       "new_cases_reported"
      ]
     },
     "metadata": {},
     "output_type": "display_data"
    },
    {
     "name": "stdout",
     "output_type": "stream",
     "text": [
      "\n",
      "net_delay_incubation_iso_asym 2\n"
     ]
    },
    {
     "data": {
      "text/latex": [
       "$\\displaystyle \\max\\left(1, delay_{asymp infective to symp} - delay_{iso asym}\\right)$"
      ],
      "text/plain": [
       "Max(1, delay_asymp_infective_to_symp - delay_iso_asym)"
      ]
     },
     "metadata": {},
     "output_type": "display_data"
    },
    {
     "data": {
      "text/latex": [
       "$\\displaystyle 1$"
      ],
      "text/plain": [
       "1"
      ]
     },
     "metadata": {},
     "output_type": "display_data"
    },
    {
     "name": "stdout",
     "output_type": "stream",
     "text": [
      "\n",
      "sum_symtomatics 1\n"
     ]
    },
    {
     "data": {
      "text/latex": [
       "$\\displaystyle infectious_{symptomatics mild}$"
      ],
      "text/plain": [
       "infectious_symptomatics_mild"
      ]
     },
     "metadata": {},
     "output_type": "display_data"
    },
    {
     "data": {
      "text/latex": [
       "$\\displaystyle - disease_{progression} - isolation_{rate sym} - quarantine_{rate sym} - recoveries_{infected sym mild} + symptom_{setting}$"
      ],
      "text/plain": [
       "-disease_progression - isolation_rate_sym - quarantine_rate_sym - recoveries_infected_sym_mild + symptom_setting"
      ]
     },
     "metadata": {},
     "output_type": "display_data"
    },
    {
     "name": "stdout",
     "output_type": "stream",
     "text": [
      "\n",
      "net_delay_recovery_iso_asym 2\n"
     ]
    },
    {
     "data": {
      "text/latex": [
       "$\\displaystyle \\max\\left(1, - delay_{iso asym} + delay_{recovery asym}\\right)$"
      ],
      "text/plain": [
       "Max(1, -delay_iso_asym + delay_recovery_asym)"
      ]
     },
     "metadata": {},
     "output_type": "display_data"
    },
    {
     "data": {
      "text/latex": [
       "$\\displaystyle 10$"
      ],
      "text/plain": [
       "10"
      ]
     },
     "metadata": {},
     "output_type": "display_data"
    },
    {
     "name": "stdout",
     "output_type": "stream",
     "text": [
      "\n",
      "sum_new_cases_reported 1\n"
     ]
    },
    {
     "data": {
      "text/latex": [
       "$\\displaystyle new_{cases reported}$"
      ],
      "text/plain": [
       "new_cases_reported"
      ]
     },
     "metadata": {},
     "output_type": "display_data"
    },
    {
     "data": {
      "text/latex": [
       "$\\displaystyle fr_{symptomatic tested isolated} \\operatorname{delay3i}{\\left(symptom_{setting},delay_{iso sym},0 \\right)} + fraction_{iso asym} \\operatorname{delay3i}{\\left(infection_{rate sum},delay_{iso asym},0 \\right)} + \\left(- fr_{iso} + q_{sym} + 1\\right) \\operatorname{delay3i}{\\left(symptom_{setting},delay_{disease diagnosis},0 \\right)} \\min\\left(0.9, fr_{becoming serious}\\right) + \\operatorname{delay3i}{\\left(into_{q sym},net_{delay dprogress q sym},0 \\right)} \\min\\left(0.9, fr_{becoming serious}\\right)$"
      ],
      "text/plain": [
       "fr_symptomatic_tested_isolated*delay3i(symptom_setting, delay_iso_sym, 0) + fraction_iso_asym*delay3i(infection_rate_sum, delay_iso_asym, 0) + (-fr_iso + q_sym + 1)*delay3i(symptom_setting, delay_disease_diagnosis, 0)*Min(0.9, fr_becoming_serious) + delay3i(into_q_sym, net_delay_dprogress_q_sym, 0)*Min(0.9, fr_becoming_serious)"
      ]
     },
     "metadata": {},
     "output_type": "display_data"
    },
    {
     "name": "stdout",
     "output_type": "stream",
     "text": [
      "\n",
      "net_delay_recovery_q_asym 2\n"
     ]
    },
    {
     "data": {
      "text/latex": [
       "$\\displaystyle \\max\\left(1, - delay_{q asym} + delay_{recovery asym}\\right)$"
      ],
      "text/plain": [
       "Max(1, -delay_q_asym + delay_recovery_asym)"
      ]
     },
     "metadata": {},
     "output_type": "display_data"
    },
    {
     "data": {
      "text/latex": [
       "$\\displaystyle 10$"
      ],
      "text/plain": [
       "10"
      ]
     },
     "metadata": {},
     "output_type": "display_data"
    },
    {
     "name": "stdout",
     "output_type": "stream",
     "text": [
      "\n",
      "sum_deaths 1\n"
     ]
    },
    {
     "data": {
      "text/latex": [
       "$\\displaystyle dead$"
      ],
      "text/plain": [
       "dead"
      ]
     },
     "metadata": {},
     "output_type": "display_data"
    },
    {
     "data": {
      "text/latex": [
       "$\\displaystyle deaths + deaths_{overflow}$"
      ],
      "text/plain": [
       "deaths + deaths_overflow"
      ]
     },
     "metadata": {},
     "output_type": "display_data"
    },
    {
     "name": "stdout",
     "output_type": "stream",
     "text": [
      "\n",
      "net_delay_recovery_q_sym 2\n"
     ]
    },
    {
     "data": {
      "text/latex": [
       "$\\displaystyle \\max\\left(1, - delay_{q sym} + delay_{recovery sym mild}\\right)$"
      ],
      "text/plain": [
       "Max(1, -delay_q_sym + delay_recovery_sym_mild)"
      ]
     },
     "metadata": {},
     "output_type": "display_data"
    },
    {
     "data": {
      "text/latex": [
       "$\\displaystyle 11.5$"
      ],
      "text/plain": [
       "11.5000000000000"
      ]
     },
     "metadata": {},
     "output_type": "display_data"
    },
    {
     "name": "stdout",
     "output_type": "stream",
     "text": [
      "\n",
      "sum_recoveries_reported_daily 6\n"
     ]
    },
    {
     "data": {
      "text/latex": [
       "$\\displaystyle recoveries_{icu} + recoveries_{icu overflow} + recoveries_{iso asym} + recoveries_{iso sym} + recoveries_{serioush} + recoveries_{serioush overflow}$"
      ],
      "text/plain": [
       "recoveries_icu + recoveries_icu_overflow + recoveries_iso_asym + recoveries_iso_sym + recoveries_serioush + recoveries_serioush_overflow"
      ]
     },
     "metadata": {},
     "output_type": "display_data"
    },
    {
     "data": {
      "text/latex": [
       "$\\displaystyle \\left(1 - fr_{developing symptoms}\\right) \\operatorname{delay3i}{\\left(isolation_{rate asym},net_{delay recovery iso asym},0 \\right)} + \\left(1 - fr_{requiring icu}\\right) \\operatorname{delay3i}{\\left(hospital_{admissions},delay_{recovery sym serious},0 \\right)} + \\left(1 - net_{fr fatality}\\right) \\operatorname{delay3i}{\\left(into_{inf sym icu overflow},delay_{recovery sym extreme},0 \\right)} + \\left(1 - net_{fr requiring icu}\\right) \\operatorname{delay3i}{\\left(hospital_{overflow},delay_{recovery sym serious},0 \\right)} + \\left(1 - \\min\\left(0.9, fr_{becoming serious}\\right)\\right) \\operatorname{delay3i}{\\left(into_{iso sym},net_{delay recovery iso sym},0 \\right)} + \\left(1 - \\min\\left(0.9, fr_{fatality}\\right)\\right) \\operatorname{delay3i}{\\left(icu_{admissions},delay_{recovery sym extreme},0 \\right)}$"
      ],
      "text/plain": [
       "(1 - fr_developing_symptoms)*delay3i(isolation_rate_asym, net_delay_recovery_iso_asym, 0) + (1 - fr_requiring_icu)*delay3i(hospital_admissions, delay_recovery_sym_serious, 0) + (1 - net_fr_fatality)*delay3i(into_inf_sym_icu_overflow, delay_recovery_sym_extreme, 0) + (1 - net_fr_requiring_icu)*delay3i(hospital_overflow, delay_recovery_sym_serious, 0) + (1 - Min(0.9, fr_becoming_serious))*delay3i(into_iso_sym, net_delay_recovery_iso_sym, 0) + (1 - Min(0.9, fr_fatality))*delay3i(icu_admissions, delay_recovery_sym_extreme, 0)"
      ]
     },
     "metadata": {},
     "output_type": "display_data"
    },
    {
     "name": "stdout",
     "output_type": "stream",
     "text": [
      "\n",
      "into_iso_sym 2\n"
     ]
    },
    {
     "data": {
      "text/latex": [
       "$\\displaystyle incubation_{rate iso} + isolation_{rate sym}$"
      ],
      "text/plain": [
       "incubation_rate_iso + isolation_rate_sym"
      ]
     },
     "metadata": {},
     "output_type": "display_data"
    },
    {
     "data": {
      "text/latex": [
       "$\\displaystyle fr_{developing symptoms} \\operatorname{delay3i}{\\left(isolation_{rate asym},net_{delay incubation iso asym},0 \\right)} + fr_{symptomatic tested isolated} \\operatorname{delay3i}{\\left(symptom_{setting},delay_{iso sym},0 \\right)}$"
      ],
      "text/plain": [
       "fr_developing_symptoms*delay3i(isolation_rate_asym, net_delay_incubation_iso_asym, 0) + fr_symptomatic_tested_isolated*delay3i(symptom_setting, delay_iso_sym, 0)"
      ]
     },
     "metadata": {},
     "output_type": "display_data"
    },
    {
     "name": "stdout",
     "output_type": "stream",
     "text": [
      "\n",
      "sum_isolation_asym 1\n"
     ]
    },
    {
     "data": {
      "text/latex": [
       "$\\displaystyle isolated_{asymptomatics}$"
      ],
      "text/plain": [
       "isolated_asymptomatics"
      ]
     },
     "metadata": {},
     "output_type": "display_data"
    },
    {
     "data": {
      "text/latex": [
       "$\\displaystyle - incubation_{rate iso} + isolation_{rate asym} - recoveries_{iso asym}$"
      ],
      "text/plain": [
       "-incubation_rate_iso + isolation_rate_asym - recoveries_iso_asym"
      ]
     },
     "metadata": {},
     "output_type": "display_data"
    },
    {
     "name": "stdout",
     "output_type": "stream",
     "text": [
      "\n",
      "net_delay_recovery_iso_sym 2\n"
     ]
    },
    {
     "data": {
      "text/latex": [
       "$\\displaystyle \\max\\left(1, - delay_{iso sym} + delay_{recovery sym mild}\\right)$"
      ],
      "text/plain": [
       "Max(1, -delay_iso_sym + delay_recovery_sym_mild)"
      ]
     },
     "metadata": {},
     "output_type": "display_data"
    },
    {
     "data": {
      "text/latex": [
       "$\\displaystyle 11.5$"
      ],
      "text/plain": [
       "11.5000000000000"
      ]
     },
     "metadata": {},
     "output_type": "display_data"
    },
    {
     "name": "stdout",
     "output_type": "stream",
     "text": [
      "\n",
      "into_sym_serious 3\n"
     ]
    },
    {
     "data": {
      "text/latex": [
       "$\\displaystyle disease_{progression} + iso_{disease progress rate} + q_{disease progress rate}$"
      ],
      "text/plain": [
       "disease_progression + iso_disease_progress_rate + q_disease_progress_rate"
      ]
     },
     "metadata": {},
     "output_type": "display_data"
    },
    {
     "data": {
      "text/latex": [
       "$\\displaystyle fr_{becoming serious} \\operatorname{delay3i}{\\left(into_{iso sym},net_{delay dprogress iso sym},0 \\right)} + \\left(- fr_{iso} + q_{sym} + 1\\right) \\operatorname{delay3i}{\\left(symptom_{setting},delay_{disease diagnosis},0 \\right)} \\min\\left(0.9, fr_{becoming serious}\\right) + \\operatorname{delay3i}{\\left(into_{q sym},net_{delay dprogress q sym},0 \\right)} \\min\\left(0.9, fr_{becoming serious}\\right)$"
      ],
      "text/plain": [
       "fr_becoming_serious*delay3i(into_iso_sym, net_delay_dprogress_iso_sym, 0) + (-fr_iso + q_sym + 1)*delay3i(symptom_setting, delay_disease_diagnosis, 0)*Min(0.9, fr_becoming_serious) + delay3i(into_q_sym, net_delay_dprogress_q_sym, 0)*Min(0.9, fr_becoming_serious)"
      ]
     },
     "metadata": {},
     "output_type": "display_data"
    },
    {
     "name": "stdout",
     "output_type": "stream",
     "text": [
      "\n",
      "sum_infections_from_asymtomatics 1\n"
     ]
    },
    {
     "data": {
      "text/latex": [
       "$\\displaystyle contacts_{with asymptomatics}$"
      ],
      "text/plain": [
       "contacts_with_asymptomatics"
      ]
     },
     "metadata": {},
     "output_type": "display_data"
    },
    {
     "data": {
      "text/latex": [
       "$\\displaystyle 3.73357228195938 \\cdot 10^{-10} \\left(infection_{rate new arrivals} + infectivity_{setting} - isolation_{rate asym} - quarantining_{rate asym} - recoveries_{asym} - symptom_{setting}\\right) \\operatorname{piecewise}{\\left(\\left( 7.8 \\operatorname{piecewise}{\\left(\\left( 1, \\  \\text{False}\\right),\\left( 1 + \\frac{14.1075837254315}{\\log{\\left(50 \\right)}}, \\  \\text{True}\\right) \\right)}, \\  \\text{False}\\right),\\left( 26 \\operatorname{piecewise}{\\left(\\left( 1, \\  \\text{False}\\right),\\left( 1 + \\frac{14.1075837254315}{\\log{\\left(50 \\right)}}, \\  \\text{True}\\right) \\right)}, \\  \\text{True}\\right) \\right)}$"
      ],
      "text/plain": [
       "3.73357228195938e-10*(infection_rate_new_arrivals + infectivity_setting - isolation_rate_asym - quarantining_rate_asym - recoveries_asym - symptom_setting)*piecewise((7.8*piecewise((1, False), (1 + 14.1075837254315/log(50), True)), False), (26*piecewise((1, False), (1 + 14.1075837254315/log(50), True)), True))"
      ]
     },
     "metadata": {},
     "output_type": "display_data"
    },
    {
     "name": "stdout",
     "output_type": "stream",
     "text": [
      "\n"
     ]
    }
   ],
   "source": [
    "new_norm_name_to_expr = norm_name_to_expr.copy()\n",
    "\n",
    "for symbol in tqdm(flow_order):\n",
    "    expr = norm_name_to_expr[symbol]\n",
    "    mappable = set(expr.free_symbols).intersection(norm_name_to_expr)\n",
    "    print(symbol, len(mappable))\n",
    "    display(expr)\n",
    "    \n",
    "    for s in mappable:\n",
    "        expr = expr.subs(s, new_norm_name_to_expr[s])\n",
    "\n",
    "    display(expr)\n",
    "    print()\n",
    "    \n",
    "    new_norm_name_to_expr[symbol] = expr"
   ]
  },
  {
   "cell_type": "code",
   "execution_count": 15,
   "id": "4f945415-83bb-4873-926e-3bb05af247cc",
   "metadata": {},
   "outputs": [
    {
     "data": {
      "text/latex": [
       "$\\displaystyle disease_{progression} + iso_{disease progress rate} + q_{disease progress rate}$"
      ],
      "text/plain": [
       "disease_progression + iso_disease_progress_rate + q_disease_progress_rate"
      ]
     },
     "execution_count": 15,
     "metadata": {},
     "output_type": "execute_result"
    }
   ],
   "source": [
    "norm_name_to_expr[flow_order[-2]]"
   ]
  },
  {
   "cell_type": "code",
   "execution_count": 16,
   "id": "bb337598-3295-4bd0-9781-984fe0f523cf",
   "metadata": {},
   "outputs": [
    {
     "data": {
      "text/plain": [
       "(207, 12888)"
      ]
     },
     "execution_count": 16,
     "metadata": {},
     "output_type": "execute_result"
    }
   ],
   "source": [
    "# recursively connect dependencies, since one flow might depend on\n",
    "# another flow\n",
    "graph = nx.transitive_closure(graph)\n",
    "graph.number_of_nodes(), graph.number_of_edges()"
   ]
  },
  {
   "cell_type": "code",
   "execution_count": 17,
   "id": "afd6a471-7c66-47d4-92a9-d55a2694ef5f",
   "metadata": {},
   "outputs": [],
   "source": [
    "# give an example of the things that the \"exposure\"\n",
    "# flow recursively depends on\n",
    "\n",
    "flow_stock_graph = nx.DiGraph()\n",
    "for flow, stock in graph.edges(aux_states.values()):\n",
    "    if stock in stock_states.values():\n",
    "        # print(flow, stock)\n",
    "        flow_stock_graph.add_edge(flow, stock)\n",
    "\n",
    "flow_stock_agraph = nx.nx_agraph.to_agraph(flow_stock_graph)\n",
    "flow_stock_agraph.draw(\"flow_stock.png\", prog=\"dot\")"
   ]
  },
  {
   "cell_type": "code",
   "execution_count": 18,
   "id": "db169158-e7f7-46ae-aeb8-3e49fcec3f7d",
   "metadata": {},
   "outputs": [],
   "source": [
    "if os.path.exists(hackathon_file_path):\n",
    "    tm = template_model_from_mdl_file(hackathon_file_path, grounding_map=grounding_map, initials=initials, initials_from_integ=True)\n",
    "else:\n",
    "    tm = template_model_from_mdl_url(hackathon_file_url, grounding_map=grounding_map, initials=initials, initials_from_integ=True)"
   ]
  },
  {
   "cell_type": "code",
   "execution_count": 19,
   "id": "8842160b-aa59-40e5-b24b-d3085e05c755",
   "metadata": {},
   "outputs": [
    {
     "data": {
      "image/png": "[encoded data removed]",
      "text/plain": [
       "<IPython.core.display.Image object>"
      ]
     },
     "execution_count": 19,
     "metadata": {},
     "output_type": "execute_result"
    }
   ],
   "source": [
    "tm.draw_jupyter('scenario5.png')"
   ]
  },
  {
   "cell_type": "markdown",
   "id": "47fabe59-ae61-4367-90f3-5af8c0f5e100",
   "metadata": {},
   "source": [
    "## Print the parameters and their values"
   ]
  },
  {
   "cell_type": "code",
   "execution_count": 20,
   "id": "65a32653-dab6-4d3b-8986-1a5e15b3d1d7",
   "metadata": {},
   "outputs": [
    {
     "data": {
      "text/html": [
       "<div>\n",
       "<style scoped>\n",
       "    .dataframe tbody tr th:only-of-type {\n",
       "        vertical-align: middle;\n",
       "    }\n",
       "\n",
       "    .dataframe tbody tr th {\n",
       "        vertical-align: top;\n",
       "    }\n",
       "\n",
       "    .dataframe thead th {\n",
       "        text-align: right;\n",
       "    }\n",
       "</style>\n",
       "<table border=\"1\" class=\"dataframe\">\n",
       "  <thead>\n",
       "    <tr style=\"text-align: right;\">\n",
       "      <th></th>\n",
       "      <th>name</th>\n",
       "      <th>value</th>\n",
       "    </tr>\n",
       "  </thead>\n",
       "  <tbody>\n",
       "    <tr>\n",
       "      <th>0</th>\n",
       "      <td>open_duration</td>\n",
       "      <td>10.0</td>\n",
       "    </tr>\n",
       "    <tr>\n",
       "      <th>1</th>\n",
       "      <td>end_lockdown_time</td>\n",
       "      <td>400.0</td>\n",
       "    </tr>\n",
       "    <tr>\n",
       "      <th>2</th>\n",
       "      <td>april_14</td>\n",
       "      <td>50.0</td>\n",
       "    </tr>\n",
       "    <tr>\n",
       "      <th>3</th>\n",
       "      <td>policy_high_contact_tracing_and_isolation</td>\n",
       "      <td>0.0</td>\n",
       "    </tr>\n",
       "    <tr>\n",
       "      <th>4</th>\n",
       "      <td>base_contacts_other</td>\n",
       "      <td>6.0</td>\n",
       "    </tr>\n",
       "    <tr>\n",
       "      <th>...</th>\n",
       "      <td>...</td>\n",
       "      <td>...</td>\n",
       "    </tr>\n",
       "    <tr>\n",
       "      <th>76</th>\n",
       "      <td>sum_in_icu_overflow</td>\n",
       "      <td>0.0</td>\n",
       "    </tr>\n",
       "    <tr>\n",
       "      <th>77</th>\n",
       "      <td>sum_quarantine_asym</td>\n",
       "      <td>0.0</td>\n",
       "    </tr>\n",
       "    <tr>\n",
       "      <th>78</th>\n",
       "      <td>sum_recovered_asym</td>\n",
       "      <td>0.0</td>\n",
       "    </tr>\n",
       "    <tr>\n",
       "      <th>79</th>\n",
       "      <td>sum_recovered_mild</td>\n",
       "      <td>0.0</td>\n",
       "    </tr>\n",
       "    <tr>\n",
       "      <th>80</th>\n",
       "      <td>sumnoninfectives</td>\n",
       "      <td>0.0</td>\n",
       "    </tr>\n",
       "  </tbody>\n",
       "</table>\n",
       "<p>81 rows × 2 columns</p>\n",
       "</div>"
      ],
      "text/plain": [
       "                                         name  value\n",
       "0                               open_duration   10.0\n",
       "1                           end_lockdown_time  400.0\n",
       "2                                    april_14   50.0\n",
       "3   policy_high_contact_tracing_and_isolation    0.0\n",
       "4                         base_contacts_other    6.0\n",
       "..                                        ...    ...\n",
       "76                        sum_in_icu_overflow    0.0\n",
       "77                        sum_quarantine_asym    0.0\n",
       "78                         sum_recovered_asym    0.0\n",
       "79                         sum_recovered_mild    0.0\n",
       "80                           sumnoninfectives    0.0\n",
       "\n",
       "[81 rows x 2 columns]"
      ]
     },
     "execution_count": 20,
     "metadata": {},
     "output_type": "execute_result"
    }
   ],
   "source": [
    "rows = [\n",
    "    (parameter_name, parameter.value)\n",
    "    for parameter_name, parameter in tm.parameters.items()\n",
    "       ]\n",
    "pd.DataFrame(rows, columns=[\"name\", \"value\"])"
   ]
  },
  {
   "cell_type": "markdown",
   "id": "1e2ab397-8a18-4276-aa5c-9257b545369b",
   "metadata": {},
   "source": [
    "## Print Initial Values"
   ]
  },
  {
   "cell_type": "code",
   "execution_count": 21,
   "id": "27269349-4a85-4542-9872-4ac7d72835d0",
   "metadata": {},
   "outputs": [
    {
     "data": {
      "text/html": [
       "<div>\n",
       "<style scoped>\n",
       "    .dataframe tbody tr th:only-of-type {\n",
       "        vertical-align: middle;\n",
       "    }\n",
       "\n",
       "    .dataframe tbody tr th {\n",
       "        vertical-align: top;\n",
       "    }\n",
       "\n",
       "    .dataframe thead th {\n",
       "        text-align: right;\n",
       "    }\n",
       "</style>\n",
       "<table border=\"1\" class=\"dataframe\">\n",
       "  <thead>\n",
       "    <tr style=\"text-align: right;\">\n",
       "      <th></th>\n",
       "      <th>name</th>\n",
       "      <th>expression</th>\n",
       "    </tr>\n",
       "  </thead>\n",
       "  <tbody>\n",
       "    <tr>\n",
       "      <th>0</th>\n",
       "      <td>cumulative_cases_reported</td>\n",
       "      <td>0.0</td>\n",
       "    </tr>\n",
       "    <tr>\n",
       "      <th>1</th>\n",
       "      <td>dead</td>\n",
       "      <td>0.0</td>\n",
       "    </tr>\n",
       "    <tr>\n",
       "      <th>2</th>\n",
       "      <td>exposed</td>\n",
       "      <td>0.0</td>\n",
       "    </tr>\n",
       "    <tr>\n",
       "      <th>3</th>\n",
       "      <td>incoming_demand_on_hospital</td>\n",
       "      <td>0.0</td>\n",
       "    </tr>\n",
       "    <tr>\n",
       "      <th>4</th>\n",
       "      <td>infected_sym_extreme_icu</td>\n",
       "      <td>0.0</td>\n",
       "    </tr>\n",
       "    <tr>\n",
       "      <th>5</th>\n",
       "      <td>infected_sym_hospital_overflow</td>\n",
       "      <td>0.0</td>\n",
       "    </tr>\n",
       "    <tr>\n",
       "      <th>6</th>\n",
       "      <td>infected_sym_icu_overflow</td>\n",
       "      <td>0.0</td>\n",
       "    </tr>\n",
       "    <tr>\n",
       "      <th>7</th>\n",
       "      <td>infected_sym_serious_hospital</td>\n",
       "      <td>0.0</td>\n",
       "    </tr>\n",
       "    <tr>\n",
       "      <th>8</th>\n",
       "      <td>infectious_asymptomatics</td>\n",
       "      <td>0.0</td>\n",
       "    </tr>\n",
       "    <tr>\n",
       "      <th>9</th>\n",
       "      <td>infectious_symptomatics_mild</td>\n",
       "      <td>0.0</td>\n",
       "    </tr>\n",
       "    <tr>\n",
       "      <th>10</th>\n",
       "      <td>isolated_asymptomatics</td>\n",
       "      <td>0.0</td>\n",
       "    </tr>\n",
       "    <tr>\n",
       "      <th>11</th>\n",
       "      <td>isolated_symtomatics_mild</td>\n",
       "      <td>0.0</td>\n",
       "    </tr>\n",
       "    <tr>\n",
       "      <th>12</th>\n",
       "      <td>quarantined_asymptomatics</td>\n",
       "      <td>0.0</td>\n",
       "    </tr>\n",
       "    <tr>\n",
       "      <th>13</th>\n",
       "      <td>quarantined_symtomatics_mild</td>\n",
       "      <td>0.0</td>\n",
       "    </tr>\n",
       "    <tr>\n",
       "      <th>14</th>\n",
       "      <td>recovered_asymtomatics</td>\n",
       "      <td>0.0</td>\n",
       "    </tr>\n",
       "    <tr>\n",
       "      <th>15</th>\n",
       "      <td>recovered_isolated_symptomatic_mild</td>\n",
       "      <td>0.0</td>\n",
       "    </tr>\n",
       "    <tr>\n",
       "      <th>16</th>\n",
       "      <td>recovered_from_hospital</td>\n",
       "      <td>0.0</td>\n",
       "    </tr>\n",
       "    <tr>\n",
       "      <th>17</th>\n",
       "      <td>recovered_mild</td>\n",
       "      <td>0.0</td>\n",
       "    </tr>\n",
       "    <tr>\n",
       "      <th>18</th>\n",
       "      <td>susceptibles</td>\n",
       "      <td>1339200000.0</td>\n",
       "    </tr>\n",
       "  </tbody>\n",
       "</table>\n",
       "</div>"
      ],
      "text/plain": [
       "                                   name    expression\n",
       "0             cumulative_cases_reported           0.0\n",
       "1                                  dead           0.0\n",
       "2                               exposed           0.0\n",
       "3           incoming_demand_on_hospital           0.0\n",
       "4              infected_sym_extreme_icu           0.0\n",
       "5        infected_sym_hospital_overflow           0.0\n",
       "6             infected_sym_icu_overflow           0.0\n",
       "7         infected_sym_serious_hospital           0.0\n",
       "8              infectious_asymptomatics           0.0\n",
       "9          infectious_symptomatics_mild           0.0\n",
       "10               isolated_asymptomatics           0.0\n",
       "11            isolated_symtomatics_mild           0.0\n",
       "12            quarantined_asymptomatics           0.0\n",
       "13         quarantined_symtomatics_mild           0.0\n",
       "14               recovered_asymtomatics           0.0\n",
       "15  recovered_isolated_symptomatic_mild           0.0\n",
       "16              recovered_from_hospital           0.0\n",
       "17                       recovered_mild           0.0\n",
       "18                         susceptibles  1339200000.0"
      ]
     },
     "execution_count": 21,
     "metadata": {},
     "output_type": "execute_result"
    }
   ],
   "source": [
    "rows = [\n",
    "    (parameter_name, str(parameter.expression))\n",
    "    for parameter_name, parameter in tm.initials.items()\n",
    "]\n",
    "pd.DataFrame(rows, columns=[\"name\", \"expression\"])"
   ]
  },
  {
   "cell_type": "markdown",
   "id": "7e9e0c9a-c0cf-403e-bed2-bebab9db97b6",
   "metadata": {},
   "source": [
    "## Print the templates and their associated rate laws\n",
    "\n",
    "A majority of rate laws for templates are the placeholder value of 0 as their rate-laws contain built-in Vensim functions and involve operations with series data which MIRA does not support yet."
   ]
  },
  {
   "cell_type": "code",
   "execution_count": 22,
   "id": "a52c41fe-d9c7-4664-91f6-732f2f201818",
   "metadata": {},
   "outputs": [
    {
     "data": {
      "text/html": [
       "<div>\n",
       "<style scoped>\n",
       "    .dataframe tbody tr th:only-of-type {\n",
       "        vertical-align: middle;\n",
       "    }\n",
       "\n",
       "    .dataframe tbody tr th {\n",
       "        vertical-align: top;\n",
       "    }\n",
       "\n",
       "    .dataframe thead th {\n",
       "        text-align: right;\n",
       "    }\n",
       "</style>\n",
       "<table border=\"1\" class=\"dataframe\">\n",
       "  <thead>\n",
       "    <tr style=\"text-align: right;\">\n",
       "      <th></th>\n",
       "      <th>name</th>\n",
       "      <th>display_name</th>\n",
       "      <th>rate_law</th>\n",
       "    </tr>\n",
       "  </thead>\n",
       "  <tbody>\n",
       "    <tr>\n",
       "      <th>0</th>\n",
       "      <td>1</td>\n",
       "      <td>deaths</td>\n",
       "      <td>fr_fatality*delay3i(icu_admissions, delay_for_...</td>\n",
       "    </tr>\n",
       "    <tr>\n",
       "      <th>1</th>\n",
       "      <td>2</td>\n",
       "      <td>deaths_overflow</td>\n",
       "      <td>net_fr_fatality*delay3i(into_inf_sym_icu_overf...</td>\n",
       "    </tr>\n",
       "    <tr>\n",
       "      <th>2</th>\n",
       "      <td>3</td>\n",
       "      <td>disease_progression</td>\n",
       "      <td>(-fr_iso + q_sym + 1)*delay3i(symptom_setting,...</td>\n",
       "    </tr>\n",
       "    <tr>\n",
       "      <th>3</th>\n",
       "      <td>4</td>\n",
       "      <td>exposure</td>\n",
       "      <td>contacts_total_per_susceptible*infectivity*sus...</td>\n",
       "    </tr>\n",
       "    <tr>\n",
       "      <th>4</th>\n",
       "      <td>5</td>\n",
       "      <td>hospital_admissions</td>\n",
       "      <td>Min(managable_hospital_inflow, incoming_demand...</td>\n",
       "    </tr>\n",
       "    <tr>\n",
       "      <th>5</th>\n",
       "      <td>6</td>\n",
       "      <td>hospital_overflow</td>\n",
       "      <td>Max(0, incoming_demand_on_hospital/time_step -...</td>\n",
       "    </tr>\n",
       "    <tr>\n",
       "      <th>6</th>\n",
       "      <td>7</td>\n",
       "      <td>icu_admissions</td>\n",
       "      <td>Min(managable_icu_inflow, typical_worsening_rate)</td>\n",
       "    </tr>\n",
       "    <tr>\n",
       "      <th>7</th>\n",
       "      <td>8</td>\n",
       "      <td>icu_overflow</td>\n",
       "      <td>Max(0, -managable_icu_inflow + typical_worseni...</td>\n",
       "    </tr>\n",
       "    <tr>\n",
       "      <th>8</th>\n",
       "      <td>9</td>\n",
       "      <td>incubation_rate_iso</td>\n",
       "      <td>fr_developing_symptoms*delay3i(isolation_rate_...</td>\n",
       "    </tr>\n",
       "    <tr>\n",
       "      <th>9</th>\n",
       "      <td>10</td>\n",
       "      <td>incubation_rate_quarantines</td>\n",
       "      <td>fr_developing_symptoms*delay3i(quarantining_ra...</td>\n",
       "    </tr>\n",
       "    <tr>\n",
       "      <th>10</th>\n",
       "      <td>11</td>\n",
       "      <td>infection_rate_new_arrivals</td>\n",
       "      <td>piecewise((0.0, time &gt;= 0.0), (2.0, time &gt;= 1....</td>\n",
       "    </tr>\n",
       "    <tr>\n",
       "      <th>11</th>\n",
       "      <td>12</td>\n",
       "      <td>infectivity_setting</td>\n",
       "      <td>delay3i(exposure, delay_asymp_noninfective_to_...</td>\n",
       "    </tr>\n",
       "    <tr>\n",
       "      <th>12</th>\n",
       "      <td>13</td>\n",
       "      <td>iso_disease_progress_rate</td>\n",
       "      <td>fr_becoming_serious*delay3i(into_iso_sym, net_...</td>\n",
       "    </tr>\n",
       "    <tr>\n",
       "      <th>13</th>\n",
       "      <td>14</td>\n",
       "      <td>isolation_rate_asym</td>\n",
       "      <td>fraction_iso_asym*delay3i(infection_rate_sum, ...</td>\n",
       "    </tr>\n",
       "    <tr>\n",
       "      <th>14</th>\n",
       "      <td>15</td>\n",
       "      <td>isolation_rate_sym</td>\n",
       "      <td>fr_symptomatic_tested_isolated*delay3i(symptom...</td>\n",
       "    </tr>\n",
       "    <tr>\n",
       "      <th>15</th>\n",
       "      <td>16</td>\n",
       "      <td>new_cases_reported</td>\n",
       "      <td>disease_progression + isolation_rate_asym + is...</td>\n",
       "    </tr>\n",
       "    <tr>\n",
       "      <th>16</th>\n",
       "      <td>17</td>\n",
       "      <td>q_disease_progress_rate</td>\n",
       "      <td>delay3i(into_q_sym, net_delay_dprogress_q_sym,...</td>\n",
       "    </tr>\n",
       "    <tr>\n",
       "      <th>17</th>\n",
       "      <td>18</td>\n",
       "      <td>quarantine_rate_sym</td>\n",
       "      <td>fraction_q_sym*delay3i(symptom_setting, delay_...</td>\n",
       "    </tr>\n",
       "    <tr>\n",
       "      <th>18</th>\n",
       "      <td>19</td>\n",
       "      <td>quarantining_rate_asym</td>\n",
       "      <td>fraction_q_asym*delay3i(infection_rate_sum, de...</td>\n",
       "    </tr>\n",
       "    <tr>\n",
       "      <th>19</th>\n",
       "      <td>20</td>\n",
       "      <td>recoveries_asym</td>\n",
       "      <td>(1 - fr_developing_symptoms)*(-fr_iso + q_asym...</td>\n",
       "    </tr>\n",
       "    <tr>\n",
       "      <th>20</th>\n",
       "      <td>21</td>\n",
       "      <td>recoveries_icu</td>\n",
       "      <td>(1 - Min(0.9, fr_fatality))*delay3i(icu_admiss...</td>\n",
       "    </tr>\n",
       "    <tr>\n",
       "      <th>21</th>\n",
       "      <td>22</td>\n",
       "      <td>recoveries_icu_overflow</td>\n",
       "      <td>(1 - net_fr_fatality)*delay3i(into_inf_sym_icu...</td>\n",
       "    </tr>\n",
       "    <tr>\n",
       "      <th>22</th>\n",
       "      <td>23</td>\n",
       "      <td>recoveries_infected_sym_mild</td>\n",
       "      <td>(1 - Min(0.9, fr_becoming_serious))*(-fr_iso +...</td>\n",
       "    </tr>\n",
       "    <tr>\n",
       "      <th>23</th>\n",
       "      <td>24</td>\n",
       "      <td>recoveries_iso_asym</td>\n",
       "      <td>(1 - fr_developing_symptoms)*delay3i(isolation...</td>\n",
       "    </tr>\n",
       "    <tr>\n",
       "      <th>24</th>\n",
       "      <td>25</td>\n",
       "      <td>recoveries_iso_sym</td>\n",
       "      <td>(1 - Min(0.9, fr_becoming_serious))*delay3i(in...</td>\n",
       "    </tr>\n",
       "    <tr>\n",
       "      <th>25</th>\n",
       "      <td>26</td>\n",
       "      <td>recoveries_q_asym</td>\n",
       "      <td>(1 - fr_developing_symptoms)*delay3i(quarantin...</td>\n",
       "    </tr>\n",
       "    <tr>\n",
       "      <th>26</th>\n",
       "      <td>27</td>\n",
       "      <td>recoveries_qsym</td>\n",
       "      <td>(1 - fr_becoming_serious)*delay3i(into_q_sym, ...</td>\n",
       "    </tr>\n",
       "    <tr>\n",
       "      <th>27</th>\n",
       "      <td>28</td>\n",
       "      <td>recoveries_serioush</td>\n",
       "      <td>(1 - fr_requiring_icu)*delay3i(hospital_admiss...</td>\n",
       "    </tr>\n",
       "    <tr>\n",
       "      <th>28</th>\n",
       "      <td>29</td>\n",
       "      <td>recoveries_serioush_overflow</td>\n",
       "      <td>(1 - net_fr_requiring_icu)*delay3i(hospital_ov...</td>\n",
       "    </tr>\n",
       "    <tr>\n",
       "      <th>29</th>\n",
       "      <td>30</td>\n",
       "      <td>symptom_setting</td>\n",
       "      <td>fr_developing_symptoms*(-fr_iso + q_asym + 1)*...</td>\n",
       "    </tr>\n",
       "    <tr>\n",
       "      <th>30</th>\n",
       "      <td>31</td>\n",
       "      <td>worsening_rate_overflow</td>\n",
       "      <td>net_fr_requiring_icu*delay3i(hospital_overflow...</td>\n",
       "    </tr>\n",
       "  </tbody>\n",
       "</table>\n",
       "</div>"
      ],
      "text/plain": [
       "   name                  display_name  \\\n",
       "0     1                        deaths   \n",
       "1     2               deaths_overflow   \n",
       "2     3           disease_progression   \n",
       "3     4                      exposure   \n",
       "4     5           hospital_admissions   \n",
       "5     6             hospital_overflow   \n",
       "6     7                icu_admissions   \n",
       "7     8                  icu_overflow   \n",
       "8     9           incubation_rate_iso   \n",
       "9    10   incubation_rate_quarantines   \n",
       "10   11   infection_rate_new_arrivals   \n",
       "11   12           infectivity_setting   \n",
       "12   13     iso_disease_progress_rate   \n",
       "13   14           isolation_rate_asym   \n",
       "14   15            isolation_rate_sym   \n",
       "15   16            new_cases_reported   \n",
       "16   17       q_disease_progress_rate   \n",
       "17   18           quarantine_rate_sym   \n",
       "18   19        quarantining_rate_asym   \n",
       "19   20               recoveries_asym   \n",
       "20   21                recoveries_icu   \n",
       "21   22       recoveries_icu_overflow   \n",
       "22   23  recoveries_infected_sym_mild   \n",
       "23   24           recoveries_iso_asym   \n",
       "24   25            recoveries_iso_sym   \n",
       "25   26             recoveries_q_asym   \n",
       "26   27               recoveries_qsym   \n",
       "27   28           recoveries_serioush   \n",
       "28   29  recoveries_serioush_overflow   \n",
       "29   30               symptom_setting   \n",
       "30   31       worsening_rate_overflow   \n",
       "\n",
       "                                             rate_law  \n",
       "0   fr_fatality*delay3i(icu_admissions, delay_for_...  \n",
       "1   net_fr_fatality*delay3i(into_inf_sym_icu_overf...  \n",
       "2   (-fr_iso + q_sym + 1)*delay3i(symptom_setting,...  \n",
       "3   contacts_total_per_susceptible*infectivity*sus...  \n",
       "4   Min(managable_hospital_inflow, incoming_demand...  \n",
       "5   Max(0, incoming_demand_on_hospital/time_step -...  \n",
       "6   Min(managable_icu_inflow, typical_worsening_rate)  \n",
       "7   Max(0, -managable_icu_inflow + typical_worseni...  \n",
       "8   fr_developing_symptoms*delay3i(isolation_rate_...  \n",
       "9   fr_developing_symptoms*delay3i(quarantining_ra...  \n",
       "10  piecewise((0.0, time >= 0.0), (2.0, time >= 1....  \n",
       "11  delay3i(exposure, delay_asymp_noninfective_to_...  \n",
       "12  fr_becoming_serious*delay3i(into_iso_sym, net_...  \n",
       "13  fraction_iso_asym*delay3i(infection_rate_sum, ...  \n",
       "14  fr_symptomatic_tested_isolated*delay3i(symptom...  \n",
       "15  disease_progression + isolation_rate_asym + is...  \n",
       "16  delay3i(into_q_sym, net_delay_dprogress_q_sym,...  \n",
       "17  fraction_q_sym*delay3i(symptom_setting, delay_...  \n",
       "18  fraction_q_asym*delay3i(infection_rate_sum, de...  \n",
       "19  (1 - fr_developing_symptoms)*(-fr_iso + q_asym...  \n",
       "20  (1 - Min(0.9, fr_fatality))*delay3i(icu_admiss...  \n",
       "21  (1 - net_fr_fatality)*delay3i(into_inf_sym_icu...  \n",
       "22  (1 - Min(0.9, fr_becoming_serious))*(-fr_iso +...  \n",
       "23  (1 - fr_developing_symptoms)*delay3i(isolation...  \n",
       "24  (1 - Min(0.9, fr_becoming_serious))*delay3i(in...  \n",
       "25  (1 - fr_developing_symptoms)*delay3i(quarantin...  \n",
       "26  (1 - fr_becoming_serious)*delay3i(into_q_sym, ...  \n",
       "27  (1 - fr_requiring_icu)*delay3i(hospital_admiss...  \n",
       "28  (1 - net_fr_requiring_icu)*delay3i(hospital_ov...  \n",
       "29  fr_developing_symptoms*(-fr_iso + q_asym + 1)*...  \n",
       "30  net_fr_requiring_icu*delay3i(hospital_overflow...  "
      ]
     },
     "execution_count": 22,
     "metadata": {},
     "output_type": "execute_result"
    }
   ],
   "source": [
    "template_rate_laws = [\n",
    "    (template.name, template.display_name, template.rate_law)\n",
    "    for template in tm.templates\n",
    "]\n",
    "pd.DataFrame(template_rate_laws, columns=[\"name\", \"display_name\", \"rate_law\"])"
   ]
  },
  {
   "cell_type": "markdown",
   "id": "421c57ae-ece3-4fec-b4f9-fc2dcf57776a",
   "metadata": {},
   "source": [
    "## Display the output Stock and Flow amr for the MIRA template model created from ingesting the Vensim model"
   ]
  },
  {
   "cell_type": "code",
   "execution_count": 23,
   "id": "e4b46435-01b1-4c90-9eb4-9cb9e98a4a88",
   "metadata": {},
   "outputs": [
    {
     "data": {
      "text/plain": [
       "{'header': {'name': 'February 2024 Hackathon - Scenario 5',\n",
       "  'schema': 'https://raw.githubusercontent.com/DARPA-ASKEM/Model-Representations/stockflow_v0.1/stockflow/stockflow_schema.json',\n",
       "  'description': 'February 2024 Hackathon - Scenario 5',\n",
       "  'schema_name': 'stockflow',\n",
       "  'model_version': '0.1'},\n",
       " 'properties': {},\n",
       " 'model': {'flows': [{'id': '1',\n",
       "    'name': 'deaths',\n",
       "    'upstream_stock': 'infected_sym_extreme_icu',\n",
       "    'downstream_stock': 'dead',\n",
       "    'rate_expression': 'fr_fatality*delay3i(icu_admissions, delay_for_death, 0)',\n",
       "    'rate_expression_mathml': '<apply><times/><ci>fr_fatality</ci><apply><delay3i/><ci>icu_admissions</ci><ci>delay_for_death</ci><cn>0</cn></apply></apply>'},\n",
       "   {'id': '2',\n",
       "    'name': 'deaths_overflow',\n",
       "    'upstream_stock': 'infected_sym_icu_overflow',\n",
       "    'downstream_stock': 'dead',\n",
       "    'rate_expression': 'net_fr_fatality*delay3i(into_inf_sym_icu_overflow, delay_for_death, 0)',\n",
       "    'rate_expression_mathml': '<apply><times/><ci>net_fr_fatality</ci><apply><delay3i/><ci>into_inf_sym_icu_overflow</ci><ci>delay_for_death</ci><cn>0</cn></apply></apply>'},\n",
       "   {'id': '3',\n",
       "    'name': 'disease_progression',\n",
       "    'upstream_stock': 'infectious_symptomatics_mild',\n",
       "    'downstream_stock': 'incoming_demand_on_hospital',\n",
       "    'rate_expression': '(-fr_iso + q_sym + 1)*delay3i(symptom_setting, delay_disease_diagnosis, 0)*Min(0.9, fr_becoming_serious)',\n",
       "    'rate_expression_mathml': '<apply><times/><apply><plus/><apply><minus/><ci>fr_iso</ci></apply><ci>q_sym</ci><cn>1</cn></apply><apply><delay3i/><ci>symptom_setting</ci><ci>delay_disease_diagnosis</ci><cn>0</cn></apply><apply><min/><cn>0.90000000000000002</cn><ci>fr_becoming_serious</ci></apply></apply>'},\n",
       "   {'id': '4',\n",
       "    'name': 'exposure',\n",
       "    'upstream_stock': 'susceptibles',\n",
       "    'downstream_stock': 'exposed',\n",
       "    'rate_expression': 'contacts_total_per_susceptible*infectivity*susceptibles',\n",
       "    'rate_expression_mathml': '<apply><times/><ci>contacts_total_per_susceptible</ci><ci>infectivity</ci><ci>susceptibles</ci></apply>'},\n",
       "   {'id': '5',\n",
       "    'name': 'hospital_admissions',\n",
       "    'upstream_stock': 'incoming_demand_on_hospital',\n",
       "    'downstream_stock': 'infected_sym_serious_hospital',\n",
       "    'rate_expression': 'Min(managable_hospital_inflow, incoming_demand_on_hospital/time_step)',\n",
       "    'rate_expression_mathml': '<apply><min/><ci>managable_hospital_inflow</ci><apply><divide/><ci>incoming_demand_on_hospital</ci><ci>time_step</ci></apply></apply>'},\n",
       "   {'id': '6',\n",
       "    'name': 'hospital_overflow',\n",
       "    'upstream_stock': 'incoming_demand_on_hospital',\n",
       "    'downstream_stock': 'infected_sym_hospital_overflow',\n",
       "    'rate_expression': 'Max(0, incoming_demand_on_hospital/time_step - managable_hospital_inflow)',\n",
       "    'rate_expression_mathml': '<apply><max/><cn>0</cn><apply><minus/><apply><divide/><ci>incoming_demand_on_hospital</ci><ci>time_step</ci></apply><ci>managable_hospital_inflow</ci></apply></apply>'},\n",
       "   {'id': '7',\n",
       "    'name': 'icu_admissions',\n",
       "    'upstream_stock': 'infected_sym_serious_hospital',\n",
       "    'downstream_stock': 'infected_sym_extreme_icu',\n",
       "    'rate_expression': 'Min(managable_icu_inflow, typical_worsening_rate)',\n",
       "    'rate_expression_mathml': '<apply><min/><ci>managable_icu_inflow</ci><ci>typical_worsening_rate</ci></apply>'},\n",
       "   {'id': '8',\n",
       "    'name': 'icu_overflow',\n",
       "    'upstream_stock': 'infected_sym_serious_hospital',\n",
       "    'downstream_stock': 'infected_sym_icu_overflow',\n",
       "    'rate_expression': 'Max(0, -managable_icu_inflow + typical_worsening_rate)',\n",
       "    'rate_expression_mathml': '<apply><max/><cn>0</cn><apply><plus/><apply><minus/><ci>managable_icu_inflow</ci></apply><ci>typical_worsening_rate</ci></apply></apply>'},\n",
       "   {'id': '9',\n",
       "    'name': 'incubation_rate_iso',\n",
       "    'upstream_stock': 'isolated_asymptomatics',\n",
       "    'downstream_stock': 'isolated_symtomatics_mild',\n",
       "    'rate_expression': 'fr_developing_symptoms*delay3i(isolation_rate_asym, net_delay_incubation_iso_asym, 0)',\n",
       "    'rate_expression_mathml': '<apply><times/><ci>fr_developing_symptoms</ci><apply><delay3i/><ci>isolation_rate_asym</ci><ci>net_delay_incubation_iso_asym</ci><cn>0</cn></apply></apply>'},\n",
       "   {'id': '10',\n",
       "    'name': 'incubation_rate_quarantines',\n",
       "    'upstream_stock': 'quarantined_asymptomatics',\n",
       "    'downstream_stock': 'quarantined_symtomatics_mild',\n",
       "    'rate_expression': 'fr_developing_symptoms*delay3i(quarantining_rate_asym, net_delay_incubation_q_asym, 0)',\n",
       "    'rate_expression_mathml': '<apply><times/><ci>fr_developing_symptoms</ci><apply><delay3i/><ci>quarantining_rate_asym</ci><ci>net_delay_incubation_q_asym</ci><cn>0</cn></apply></apply>'},\n",
       "   {'id': '11',\n",
       "    'name': 'infection_rate_new_arrivals',\n",
       "    'upstream_stock': None,\n",
       "    'downstream_stock': 'infectious_asymptomatics',\n",
       "    'rate_expression': 'piecewise((0.0, time >= 0.0), (2.0, time >= 1.0), (1.0, time >= 2.0), (0.0, time >= 3.0), (2.0, time >= 4.0), (1.0, time >= 5.0), (2.0, time >= 6.0), (3.0, time >= 7.0), (6.0, time >= 8.0), (2.0, time >= 9.0), (7.0, time >= 10.0), (10.0, time >= 11.0), (4.0, time >= 12.0), (10.0, time >= 13.0), (5.0, time >= 14.0), (11.0, time >= 15.0), (14.0, time >= 16.0), (14.0, time >= 17.0), (26.0, time >= 18.0), (34.0, time >= 19.0), (35.0, time >= 20.0), (45.0, time >= 21.0), (55.0, time >= 22.0), (38.0, time >= 23.0), (34.0, time >= 24.0), (24.0, time >= 25.0), (40.0, time >= 26.0), (16.0, time >= 27.0), (20.0, time >= 28.0), (12.0, time >= 29.0), (23.0, time >= 30.0), (14.0, time >= 31.0), (8.0, time >= 32.0), (14.0, time >= 33.0), (12.0, time >= 34.0), (5.0, time >= 35.0), (9.0, time >= 36.0), (6.0, time >= 37.0), (0.0, time >= 38.0), (0.0, time >= 39.0), (0.0, time >= 40.0), (0.0, time >= 1000.0))',\n",
       "    'rate_expression_mathml': '<apply><piecewise/><tuple><cn>0.0</cn><apply><geq/><ci>time</ci><cn>0.0</cn></apply></tuple><tuple><cn>2.0</cn><apply><geq/><ci>time</ci><cn>1.0</cn></apply></tuple><tuple><cn>1.0</cn><apply><geq/><ci>time</ci><cn>2.0</cn></apply></tuple><tuple><cn>0.0</cn><apply><geq/><ci>time</ci><cn>3.0</cn></apply></tuple><tuple><cn>2.0</cn><apply><geq/><ci>time</ci><cn>4.0</cn></apply></tuple><tuple><cn>1.0</cn><apply><geq/><ci>time</ci><cn>5.0</cn></apply></tuple><tuple><cn>2.0</cn><apply><geq/><ci>time</ci><cn>6.0</cn></apply></tuple><tuple><cn>3.0</cn><apply><geq/><ci>time</ci><cn>7.0</cn></apply></tuple><tuple><cn>6.0</cn><apply><geq/><ci>time</ci><cn>8.0</cn></apply></tuple><tuple><cn>2.0</cn><apply><geq/><ci>time</ci><cn>9.0</cn></apply></tuple><tuple><cn>7.0</cn><apply><geq/><ci>time</ci><cn>10.0</cn></apply></tuple><tuple><cn>10.0</cn><apply><geq/><ci>time</ci><cn>11.0</cn></apply></tuple><tuple><cn>4.0</cn><apply><geq/><ci>time</ci><cn>12.0</cn></apply></tuple><tuple><cn>10.0</cn><apply><geq/><ci>time</ci><cn>13.0</cn></apply></tuple><tuple><cn>5.0</cn><apply><geq/><ci>time</ci><cn>14.0</cn></apply></tuple><tuple><cn>11.0</cn><apply><geq/><ci>time</ci><cn>15.0</cn></apply></tuple><tuple><cn>14.0</cn><apply><geq/><ci>time</ci><cn>16.0</cn></apply></tuple><tuple><cn>14.0</cn><apply><geq/><ci>time</ci><cn>17.0</cn></apply></tuple><tuple><cn>26.0</cn><apply><geq/><ci>time</ci><cn>18.0</cn></apply></tuple><tuple><cn>34.0</cn><apply><geq/><ci>time</ci><cn>19.0</cn></apply></tuple><tuple><cn>35.0</cn><apply><geq/><ci>time</ci><cn>20.0</cn></apply></tuple><tuple><cn>45.0</cn><apply><geq/><ci>time</ci><cn>21.0</cn></apply></tuple><tuple><cn>55.0</cn><apply><geq/><ci>time</ci><cn>22.0</cn></apply></tuple><tuple><cn>38.0</cn><apply><geq/><ci>time</ci><cn>23.0</cn></apply></tuple><tuple><cn>34.0</cn><apply><geq/><ci>time</ci><cn>24.0</cn></apply></tuple><tuple><cn>24.0</cn><apply><geq/><ci>time</ci><cn>25.0</cn></apply></tuple><tuple><cn>40.0</cn><apply><geq/><ci>time</ci><cn>26.0</cn></apply></tuple><tuple><cn>16.0</cn><apply><geq/><ci>time</ci><cn>27.0</cn></apply></tuple><tuple><cn>20.0</cn><apply><geq/><ci>time</ci><cn>28.0</cn></apply></tuple><tuple><cn>12.0</cn><apply><geq/><ci>time</ci><cn>29.0</cn></apply></tuple><tuple><cn>23.0</cn><apply><geq/><ci>time</ci><cn>30.0</cn></apply></tuple><tuple><cn>14.0</cn><apply><geq/><ci>time</ci><cn>31.0</cn></apply></tuple><tuple><cn>8.0</cn><apply><geq/><ci>time</ci><cn>32.0</cn></apply></tuple><tuple><cn>14.0</cn><apply><geq/><ci>time</ci><cn>33.0</cn></apply></tuple><tuple><cn>12.0</cn><apply><geq/><ci>time</ci><cn>34.0</cn></apply></tuple><tuple><cn>5.0</cn><apply><geq/><ci>time</ci><cn>35.0</cn></apply></tuple><tuple><cn>9.0</cn><apply><geq/><ci>time</ci><cn>36.0</cn></apply></tuple><tuple><cn>6.0</cn><apply><geq/><ci>time</ci><cn>37.0</cn></apply></tuple><tuple><cn>0.0</cn><apply><geq/><ci>time</ci><cn>38.0</cn></apply></tuple><tuple><cn>0.0</cn><apply><geq/><ci>time</ci><cn>39.0</cn></apply></tuple><tuple><cn>0.0</cn><apply><geq/><ci>time</ci><cn>40.0</cn></apply></tuple><tuple><cn>0.0</cn><apply><geq/><ci>time</ci><cn>1000.0</cn></apply></tuple></apply>'},\n",
       "   {'id': '12',\n",
       "    'name': 'infectivity_setting',\n",
       "    'upstream_stock': 'exposed',\n",
       "    'downstream_stock': 'infectious_asymptomatics',\n",
       "    'rate_expression': 'delay3i(exposure, delay_asymp_noninfective_to_infective, 0)',\n",
       "    'rate_expression_mathml': '<apply><delay3i/><ci>exposure</ci><ci>delay_asymp_noninfective_to_infective</ci><cn>0</cn></apply>'},\n",
       "   {'id': '13',\n",
       "    'name': 'iso_disease_progress_rate',\n",
       "    'upstream_stock': 'isolated_symtomatics_mild',\n",
       "    'downstream_stock': 'incoming_demand_on_hospital',\n",
       "    'rate_expression': 'fr_becoming_serious*delay3i(into_iso_sym, net_delay_dprogress_iso_sym, 0)',\n",
       "    'rate_expression_mathml': '<apply><times/><ci>fr_becoming_serious</ci><apply><delay3i/><ci>into_iso_sym</ci><ci>net_delay_dprogress_iso_sym</ci><cn>0</cn></apply></apply>'},\n",
       "   {'id': '14',\n",
       "    'name': 'isolation_rate_asym',\n",
       "    'upstream_stock': 'infectious_asymptomatics',\n",
       "    'downstream_stock': 'isolated_asymptomatics',\n",
       "    'rate_expression': 'fraction_iso_asym*delay3i(infection_rate_sum, delay_iso_asym, 0)',\n",
       "    'rate_expression_mathml': '<apply><times/><ci>fraction_iso_asym</ci><apply><delay3i/><ci>infection_rate_sum</ci><ci>delay_iso_asym</ci><cn>0</cn></apply></apply>'},\n",
       "   {'id': '15',\n",
       "    'name': 'isolation_rate_sym',\n",
       "    'upstream_stock': 'infectious_symptomatics_mild',\n",
       "    'downstream_stock': 'isolated_symtomatics_mild',\n",
       "    'rate_expression': 'fr_symptomatic_tested_isolated*delay3i(symptom_setting, delay_iso_sym, 0)',\n",
       "    'rate_expression_mathml': '<apply><times/><ci>fr_symptomatic_tested_isolated</ci><apply><delay3i/><ci>symptom_setting</ci><ci>delay_iso_sym</ci><cn>0</cn></apply></apply>'},\n",
       "   {'id': '16',\n",
       "    'name': 'new_cases_reported',\n",
       "    'upstream_stock': None,\n",
       "    'downstream_stock': 'cumulative_cases_reported',\n",
       "    'rate_expression': 'disease_progression + isolation_rate_asym + isolation_rate_sym + q_disease_progress_rate',\n",
       "    'rate_expression_mathml': '<apply><plus/><ci>disease_progression</ci><ci>isolation_rate_asym</ci><ci>isolation_rate_sym</ci><ci>q_disease_progress_rate</ci></apply>'},\n",
       "   {'id': '17',\n",
       "    'name': 'q_disease_progress_rate',\n",
       "    'upstream_stock': 'quarantined_symtomatics_mild',\n",
       "    'downstream_stock': 'incoming_demand_on_hospital',\n",
       "    'rate_expression': 'delay3i(into_q_sym, net_delay_dprogress_q_sym, 0)*Min(0.9, fr_becoming_serious)',\n",
       "    'rate_expression_mathml': '<apply><times/><apply><delay3i/><ci>into_q_sym</ci><ci>net_delay_dprogress_q_sym</ci><cn>0</cn></apply><apply><min/><cn>0.90000000000000002</cn><ci>fr_becoming_serious</ci></apply></apply>'},\n",
       "   {'id': '18',\n",
       "    'name': 'quarantine_rate_sym',\n",
       "    'upstream_stock': 'infectious_symptomatics_mild',\n",
       "    'downstream_stock': 'quarantined_symtomatics_mild',\n",
       "    'rate_expression': 'fraction_q_sym*delay3i(symptom_setting, delay_q_sym, 0)',\n",
       "    'rate_expression_mathml': '<apply><times/><ci>fraction_q_sym</ci><apply><delay3i/><ci>symptom_setting</ci><ci>delay_q_sym</ci><cn>0</cn></apply></apply>'},\n",
       "   {'id': '19',\n",
       "    'name': 'quarantining_rate_asym',\n",
       "    'upstream_stock': 'infectious_asymptomatics',\n",
       "    'downstream_stock': 'quarantined_asymptomatics',\n",
       "    'rate_expression': 'fraction_q_asym*delay3i(infection_rate_sum, delay_q_asym, 0)',\n",
       "    'rate_expression_mathml': '<apply><times/><ci>fraction_q_asym</ci><apply><delay3i/><ci>infection_rate_sum</ci><ci>delay_q_asym</ci><cn>0</cn></apply></apply>'},\n",
       "   {'id': '20',\n",
       "    'name': 'recoveries_asym',\n",
       "    'upstream_stock': 'infectious_asymptomatics',\n",
       "    'downstream_stock': 'recovered_asymtomatics',\n",
       "    'rate_expression': '(1 - fr_developing_symptoms)*(-fr_iso + q_asym + 1)*delay3i(infection_rate_sum, delay_recovery_asym, 0)',\n",
       "    'rate_expression_mathml': '<apply><times/><apply><minus/><cn>1</cn><ci>fr_developing_symptoms</ci></apply><apply><plus/><apply><minus/><ci>fr_iso</ci></apply><ci>q_asym</ci><cn>1</cn></apply><apply><delay3i/><ci>infection_rate_sum</ci><ci>delay_recovery_asym</ci><cn>0</cn></apply></apply>'},\n",
       "   {'id': '21',\n",
       "    'name': 'recoveries_icu',\n",
       "    'upstream_stock': 'infected_sym_extreme_icu',\n",
       "    'downstream_stock': 'recovered_from_hospital',\n",
       "    'rate_expression': '(1 - Min(0.9, fr_fatality))*delay3i(icu_admissions, delay_recovery_sym_extreme, 0)',\n",
       "    'rate_expression_mathml': '<apply><times/><apply><minus/><cn>1</cn><apply><min/><cn>0.90000000000000002</cn><ci>fr_fatality</ci></apply></apply><apply><delay3i/><ci>icu_admissions</ci><ci>delay_recovery_sym_extreme</ci><cn>0</cn></apply></apply>'},\n",
       "   {'id': '22',\n",
       "    'name': 'recoveries_icu_overflow',\n",
       "    'upstream_stock': 'infected_sym_icu_overflow',\n",
       "    'downstream_stock': 'recovered_from_hospital',\n",
       "    'rate_expression': '(1 - net_fr_fatality)*delay3i(into_inf_sym_icu_overflow, delay_recovery_sym_extreme, 0)',\n",
       "    'rate_expression_mathml': '<apply><times/><apply><minus/><cn>1</cn><ci>net_fr_fatality</ci></apply><apply><delay3i/><ci>into_inf_sym_icu_overflow</ci><ci>delay_recovery_sym_extreme</ci><cn>0</cn></apply></apply>'},\n",
       "   {'id': '23',\n",
       "    'name': 'recoveries_infected_sym_mild',\n",
       "    'upstream_stock': 'infectious_symptomatics_mild',\n",
       "    'downstream_stock': 'recovered_mild',\n",
       "    'rate_expression': '(1 - Min(0.9, fr_becoming_serious))*(-fr_iso + q_sym + 1)*delay3i(symptom_setting, delay_recovery_sym_mild, 0)',\n",
       "    'rate_expression_mathml': '<apply><times/><apply><minus/><cn>1</cn><apply><min/><cn>0.90000000000000002</cn><ci>fr_becoming_serious</ci></apply></apply><apply><plus/><apply><minus/><ci>fr_iso</ci></apply><ci>q_sym</ci><cn>1</cn></apply><apply><delay3i/><ci>symptom_setting</ci><ci>delay_recovery_sym_mild</ci><cn>0</cn></apply></apply>'},\n",
       "   {'id': '24',\n",
       "    'name': 'recoveries_iso_asym',\n",
       "    'upstream_stock': 'isolated_asymptomatics',\n",
       "    'downstream_stock': 'recovered_asymtomatics',\n",
       "    'rate_expression': '(1 - fr_developing_symptoms)*delay3i(isolation_rate_asym, net_delay_recovery_iso_asym, 0)',\n",
       "    'rate_expression_mathml': '<apply><times/><apply><minus/><cn>1</cn><ci>fr_developing_symptoms</ci></apply><apply><delay3i/><ci>isolation_rate_asym</ci><ci>net_delay_recovery_iso_asym</ci><cn>0</cn></apply></apply>'},\n",
       "   {'id': '25',\n",
       "    'name': 'recoveries_iso_sym',\n",
       "    'upstream_stock': 'isolated_symtomatics_mild',\n",
       "    'downstream_stock': 'recovered_isolated_symptomatic_mild',\n",
       "    'rate_expression': '(1 - Min(0.9, fr_becoming_serious))*delay3i(into_iso_sym, net_delay_recovery_iso_sym, 0)',\n",
       "    'rate_expression_mathml': '<apply><times/><apply><minus/><cn>1</cn><apply><min/><cn>0.90000000000000002</cn><ci>fr_becoming_serious</ci></apply></apply><apply><delay3i/><ci>into_iso_sym</ci><ci>net_delay_recovery_iso_sym</ci><cn>0</cn></apply></apply>'},\n",
       "   {'id': '26',\n",
       "    'name': 'recoveries_q_asym',\n",
       "    'upstream_stock': 'quarantined_asymptomatics',\n",
       "    'downstream_stock': 'recovered_asymtomatics',\n",
       "    'rate_expression': '(1 - fr_developing_symptoms)*delay3i(quarantining_rate_asym, net_delay_recovery_q_asym, 0)',\n",
       "    'rate_expression_mathml': '<apply><times/><apply><minus/><cn>1</cn><ci>fr_developing_symptoms</ci></apply><apply><delay3i/><ci>quarantining_rate_asym</ci><ci>net_delay_recovery_q_asym</ci><cn>0</cn></apply></apply>'},\n",
       "   {'id': '27',\n",
       "    'name': 'recoveries_qsym',\n",
       "    'upstream_stock': 'quarantined_symtomatics_mild',\n",
       "    'downstream_stock': 'recovered_mild',\n",
       "    'rate_expression': '(1 - fr_becoming_serious)*delay3i(into_q_sym, net_delay_recovery_q_sym, 0)',\n",
       "    'rate_expression_mathml': '<apply><times/><apply><minus/><cn>1</cn><ci>fr_becoming_serious</ci></apply><apply><delay3i/><ci>into_q_sym</ci><ci>net_delay_recovery_q_sym</ci><cn>0</cn></apply></apply>'},\n",
       "   {'id': '28',\n",
       "    'name': 'recoveries_serioush',\n",
       "    'upstream_stock': 'infected_sym_serious_hospital',\n",
       "    'downstream_stock': 'recovered_from_hospital',\n",
       "    'rate_expression': '(1 - fr_requiring_icu)*delay3i(hospital_admissions, delay_recovery_sym_serious, 0)',\n",
       "    'rate_expression_mathml': '<apply><times/><apply><minus/><cn>1</cn><ci>fr_requiring_icu</ci></apply><apply><delay3i/><ci>hospital_admissions</ci><ci>delay_recovery_sym_serious</ci><cn>0</cn></apply></apply>'},\n",
       "   {'id': '29',\n",
       "    'name': 'recoveries_serioush_overflow',\n",
       "    'upstream_stock': 'infected_sym_hospital_overflow',\n",
       "    'downstream_stock': 'recovered_from_hospital',\n",
       "    'rate_expression': '(1 - net_fr_requiring_icu)*delay3i(hospital_overflow, delay_recovery_sym_serious, 0)',\n",
       "    'rate_expression_mathml': '<apply><times/><apply><minus/><cn>1</cn><ci>net_fr_requiring_icu</ci></apply><apply><delay3i/><ci>hospital_overflow</ci><ci>delay_recovery_sym_serious</ci><cn>0</cn></apply></apply>'},\n",
       "   {'id': '30',\n",
       "    'name': 'symptom_setting',\n",
       "    'upstream_stock': 'infectious_asymptomatics',\n",
       "    'downstream_stock': 'infectious_symptomatics_mild',\n",
       "    'rate_expression': 'fr_developing_symptoms*(-fr_iso + q_asym + 1)*delay3i(infection_rate_sum, delay_asymp_infective_to_symp, 0)',\n",
       "    'rate_expression_mathml': '<apply><times/><ci>fr_developing_symptoms</ci><apply><plus/><apply><minus/><ci>fr_iso</ci></apply><ci>q_asym</ci><cn>1</cn></apply><apply><delay3i/><ci>infection_rate_sum</ci><ci>delay_asymp_infective_to_symp</ci><cn>0</cn></apply></apply>'},\n",
       "   {'id': '31',\n",
       "    'name': 'worsening_rate_overflow',\n",
       "    'upstream_stock': 'infected_sym_hospital_overflow',\n",
       "    'downstream_stock': 'infected_sym_icu_overflow',\n",
       "    'rate_expression': 'net_fr_requiring_icu*delay3i(hospital_overflow, delay_worsening, 0)',\n",
       "    'rate_expression_mathml': '<apply><times/><ci>net_fr_requiring_icu</ci><apply><delay3i/><ci>hospital_overflow</ci><ci>delay_worsening</ci><cn>0</cn></apply></apply>'}],\n",
       "  'stocks': [{'id': 'infected_sym_extreme_icu',\n",
       "    'name': 'infected_sym_extreme_icu',\n",
       "    'grounding': {'identifiers': {'ido': '0000511'},\n",
       "     'modifiers': {'intensive_care_unit': 'ncit:C53511',\n",
       "      'immediately_life_threatening_disorder': 'ncit:C171511'}},\n",
       "    'units': {'expression': 'Persons',\n",
       "     'expression_mathml': '<ci>Persons</ci>'}},\n",
       "   {'id': 'dead',\n",
       "    'name': 'dead',\n",
       "    'grounding': {'identifiers': {'ncit': 'C28554'}, 'modifiers': {}},\n",
       "    'units': {'expression': 'Persons',\n",
       "     'expression_mathml': '<ci>Persons</ci>'}},\n",
       "   {'id': 'infected_sym_icu_overflow',\n",
       "    'name': 'infected_sym_icu_overflow',\n",
       "    'grounding': {'identifiers': {'ido': '0000511'},\n",
       "     'modifiers': {'intensive_care_unit': 'ncit:C53511',\n",
       "      'surge_capacity': 'ncit:C173775'}},\n",
       "    'units': {'expression': 'Persons',\n",
       "     'expression_mathml': '<ci>Persons</ci>'}},\n",
       "   {'id': 'infectious_symptomatics_mild',\n",
       "    'name': 'infectious_symptomatics_mild',\n",
       "    'grounding': {'identifiers': {'ido': '0000511'},\n",
       "     'modifiers': {'disease_severity': 'ncit:C70666'}},\n",
       "    'units': {'expression': 'Persons',\n",
       "     'expression_mathml': '<ci>Persons</ci>'}},\n",
       "   {'id': 'incoming_demand_on_hospital',\n",
       "    'name': 'incoming_demand_on_hospital',\n",
       "    'grounding': {'identifiers': {'ncit': 'C25179'}, 'modifiers': {}},\n",
       "    'units': {'expression': 'Persons',\n",
       "     'expression_mathml': '<ci>Persons</ci>'}},\n",
       "   {'id': 'susceptibles',\n",
       "    'name': 'susceptibles',\n",
       "    'grounding': {'identifiers': {'ido': '0000514'}, 'modifiers': {}},\n",
       "    'units': {'expression': 'Persons',\n",
       "     'expression_mathml': '<ci>Persons</ci>'}},\n",
       "   {'id': 'exposed',\n",
       "    'name': 'exposed',\n",
       "    'grounding': {'identifiers': {'apollosv': '00000154'}, 'modifiers': {}},\n",
       "    'units': {'expression': 'Persons',\n",
       "     'expression_mathml': '<ci>Persons</ci>'}},\n",
       "   {'id': 'infected_sym_serious_hospital',\n",
       "    'name': 'infected_sym_serious_hospital',\n",
       "    'grounding': {'identifiers': {'ido': '0000511'},\n",
       "     'modifiers': {'hospitalization': 'ncit:C25179',\n",
       "      'serious_injury_illness_impairment': 'ncit:C172031'}},\n",
       "    'units': {'expression': 'Persons',\n",
       "     'expression_mathml': '<ci>Persons</ci>'}},\n",
       "   {'id': 'infected_sym_hospital_overflow',\n",
       "    'name': 'infected_sym_hospital_overflow',\n",
       "    'grounding': {'identifiers': {'ido': '0000511'},\n",
       "     'modifiers': {'hospitalization': 'ncit:C25179',\n",
       "      'surge_capacity': 'ncit:C173775'}},\n",
       "    'units': {'expression': 'Persons',\n",
       "     'expression_mathml': '<ci>Persons</ci>'}},\n",
       "   {'id': 'isolated_asymptomatics',\n",
       "    'name': 'isolated_asymptomatics',\n",
       "    'grounding': {'identifiers': {'ido': '0000511'},\n",
       "     'modifiers': {'disease_severity': 'ncit:C3833',\n",
       "      'isolation': 'ncit:C25549'}},\n",
       "    'units': {'expression': 'Persons',\n",
       "     'expression_mathml': '<ci>Persons</ci>'}},\n",
       "   {'id': 'isolated_symtomatics_mild',\n",
       "    'name': 'isolated_symtomatics_mild',\n",
       "    'grounding': {'identifiers': {'ido': '0000511'},\n",
       "     'modifiers': {'isolation': 'ncit:C25549',\n",
       "      'disease_severity': 'ncit:C70666'}},\n",
       "    'units': {'expression': 'Persons',\n",
       "     'expression_mathml': '<ci>Persons</ci>'}},\n",
       "   {'id': 'quarantined_asymptomatics',\n",
       "    'name': 'quarantined_asymptomatics',\n",
       "    'grounding': {'identifiers': {'ido': '0000511'},\n",
       "     'modifiers': {'disease_severity': 'ncit:C3833',\n",
       "      'quarantined': 'ncit:C71902'}},\n",
       "    'units': {'expression': 'Persons',\n",
       "     'expression_mathml': '<ci>Persons</ci>'}},\n",
       "   {'id': 'quarantined_symtomatics_mild',\n",
       "    'name': 'quarantined_symtomatics_mild',\n",
       "    'grounding': {'identifiers': {'ido': '0000511'},\n",
       "     'modifiers': {'quarantined': 'ncit:C71902',\n",
       "      'disease_severity': 'ncit:C70666'}},\n",
       "    'units': {'expression': 'Persons',\n",
       "     'expression_mathml': '<ci>Persons</ci>'}},\n",
       "   {'id': 'infectious_asymptomatics',\n",
       "    'name': 'infectious_asymptomatics',\n",
       "    'grounding': {'identifiers': {'ido': '0000511'},\n",
       "     'modifiers': {'disease_severity': 'ncit:C3833'}},\n",
       "    'units': {'expression': 'Persons',\n",
       "     'expression_mathml': '<ci>Persons</ci>'}},\n",
       "   {'id': 'cumulative_cases_reported',\n",
       "    'name': 'cumulative_cases_reported',\n",
       "    'grounding': {'identifiers': {'ncit': 'C175885'}, 'modifiers': {}},\n",
       "    'units': {'expression': 'Persons',\n",
       "     'expression_mathml': '<ci>Persons</ci>'}},\n",
       "   {'id': 'recovered_asymtomatics',\n",
       "    'name': 'recovered_asymtomatics',\n",
       "    'grounding': {'identifiers': {'ido': '0000592'},\n",
       "     'modifiers': {'disease_severity': 'ncit:C3833'}},\n",
       "    'units': {'expression': 'Persons',\n",
       "     'expression_mathml': '<ci>Persons</ci>'}},\n",
       "   {'id': 'recovered_from_hospital',\n",
       "    'name': 'recovered_from_hospital',\n",
       "    'grounding': {'identifiers': {'ido': '0000592'},\n",
       "     'modifiers': {'hospitalization': 'ncit:C25179',\n",
       "      'patient_discharge': 'ncit:c25166'}},\n",
       "    'units': {'expression': 'Persons',\n",
       "     'expression_mathml': '<ci>Persons</ci>'}},\n",
       "   {'id': 'recovered_mild',\n",
       "    'name': 'recovered_mild',\n",
       "    'grounding': {'identifiers': {'ido': '0000592'},\n",
       "     'modifiers': {'disease_severity': 'ncit:C70666'}},\n",
       "    'units': {'expression': 'Persons',\n",
       "     'expression_mathml': '<ci>Persons</ci>'}},\n",
       "   {'id': 'recovered_isolated_symptomatic_mild',\n",
       "    'name': 'recovered_isolated_symptomatic_mild',\n",
       "    'grounding': {'identifiers': {'ido': '0000592'},\n",
       "     'modifiers': {'isolation': 'ncit:C25549',\n",
       "      'disease_severity': 'ncit:C70666'}}}],\n",
       "  'auxiliaries': [{'id': 'delay_for_death',\n",
       "    'name': 'delay_for_death',\n",
       "    'expression': 'delay_for_death',\n",
       "    'expression_mathml': '<ci>delay_for_death</ci>'},\n",
       "   {'id': 'fr_fatality',\n",
       "    'name': 'fr_fatality',\n",
       "    'expression': 'fr_fatality',\n",
       "    'expression_mathml': '<ci>fr_fatality</ci>'},\n",
       "   {'id': 'fr_becoming_serious',\n",
       "    'name': 'fr_becoming_serious',\n",
       "    'expression': 'fr_becoming_serious',\n",
       "    'expression_mathml': '<ci>fr_becoming_serious</ci>'},\n",
       "   {'id': 'fr_developing_symptoms',\n",
       "    'name': 'fr_developing_symptoms',\n",
       "    'expression': 'fr_developing_symptoms',\n",
       "    'expression_mathml': '<ci>fr_developing_symptoms</ci>'},\n",
       "   {'id': 'delay_asymp_noninfective_to_infective',\n",
       "    'name': 'delay_asymp_noninfective_to_infective',\n",
       "    'expression': 'delay_asymp_noninfective_to_infective',\n",
       "    'expression_mathml': '<ci>delay_asymp_noninfective_to_infective</ci>'},\n",
       "   {'id': 'delay_iso_asym',\n",
       "    'name': 'delay_iso_asym',\n",
       "    'expression': 'delay_iso_asym',\n",
       "    'expression_mathml': '<ci>delay_iso_asym</ci>'},\n",
       "   {'id': 'fraction_iso_asym',\n",
       "    'name': 'fraction_iso_asym',\n",
       "    'expression': 'fraction_iso_asym',\n",
       "    'expression_mathml': '<ci>fraction_iso_asym</ci>'},\n",
       "   {'id': 'delay_iso_sym',\n",
       "    'name': 'delay_iso_sym',\n",
       "    'expression': 'delay_iso_sym',\n",
       "    'expression_mathml': '<ci>delay_iso_sym</ci>'},\n",
       "   {'id': 'delay_q_sym',\n",
       "    'name': 'delay_q_sym',\n",
       "    'expression': 'delay_q_sym',\n",
       "    'expression_mathml': '<ci>delay_q_sym</ci>'},\n",
       "   {'id': 'fraction_q_sym',\n",
       "    'name': 'fraction_q_sym',\n",
       "    'expression': 'fraction_q_sym',\n",
       "    'expression_mathml': '<ci>fraction_q_sym</ci>'},\n",
       "   {'id': 'delay_q_asym',\n",
       "    'name': 'delay_q_asym',\n",
       "    'expression': 'delay_q_asym',\n",
       "    'expression_mathml': '<ci>delay_q_asym</ci>'},\n",
       "   {'id': 'delay_recovery_asym',\n",
       "    'name': 'delay_recovery_asym',\n",
       "    'expression': 'delay_recovery_asym',\n",
       "    'expression_mathml': '<ci>delay_recovery_asym</ci>'},\n",
       "   {'id': 'delay_recovery_sym_extreme',\n",
       "    'name': 'delay_recovery_sym_extreme',\n",
       "    'expression': 'delay_recovery_sym_extreme',\n",
       "    'expression_mathml': '<ci>delay_recovery_sym_extreme</ci>'},\n",
       "   {'id': 'delay_recovery_sym_mild',\n",
       "    'name': 'delay_recovery_sym_mild',\n",
       "    'expression': 'delay_recovery_sym_mild',\n",
       "    'expression_mathml': '<ci>delay_recovery_sym_mild</ci>'},\n",
       "   {'id': 'delay_recovery_sym_serious',\n",
       "    'name': 'delay_recovery_sym_serious',\n",
       "    'expression': 'delay_recovery_sym_serious',\n",
       "    'expression_mathml': '<ci>delay_recovery_sym_serious</ci>'},\n",
       "   {'id': 'fr_requiring_icu',\n",
       "    'name': 'fr_requiring_icu',\n",
       "    'expression': 'fr_requiring_icu',\n",
       "    'expression_mathml': '<ci>fr_requiring_icu</ci>'},\n",
       "   {'id': 'delay_asymp_infective_to_symp',\n",
       "    'name': 'delay_asymp_infective_to_symp',\n",
       "    'expression': 'delay_asymp_infective_to_symp',\n",
       "    'expression_mathml': '<ci>delay_asymp_infective_to_symp</ci>'},\n",
       "   {'id': 'delay_worsening',\n",
       "    'name': 'delay_worsening',\n",
       "    'expression': 'delay_worsening',\n",
       "    'expression_mathml': '<ci>delay_worsening</ci>'}],\n",
       "  'links': [{'id': 'link1', 'source': 'delay_for_death', 'target': 'flow1'},\n",
       "   {'id': 'link2', 'source': 'icu_admissions', 'target': 'flow1'},\n",
       "   {'id': 'link3', 'source': 'fr_fatality', 'target': 'flow1'},\n",
       "   {'id': 'link4', 'source': 'into_inf_sym_icu_overflow', 'target': 'flow2'},\n",
       "   {'id': 'link5', 'source': 'net_fr_fatality', 'target': 'flow2'},\n",
       "   {'id': 'link6', 'source': 'delay_for_death', 'target': 'flow2'},\n",
       "   {'id': 'link7', 'source': 'delay_disease_diagnosis', 'target': 'flow3'},\n",
       "   {'id': 'link8', 'source': 'fr_becoming_serious', 'target': 'flow3'},\n",
       "   {'id': 'link9', 'source': 'symptom_setting', 'target': 'flow3'},\n",
       "   {'id': 'link10', 'source': 'fr_iso', 'target': 'flow3'},\n",
       "   {'id': 'link11', 'source': 'q_sym', 'target': 'flow3'},\n",
       "   {'id': 'link12',\n",
       "    'source': 'contacts_total_per_susceptible',\n",
       "    'target': 'flow4'},\n",
       "   {'id': 'link13', 'source': 'infectivity', 'target': 'flow4'},\n",
       "   {'id': 'link14', 'source': 'susceptibles', 'target': 'flow4'},\n",
       "   {'id': 'link15', 'source': 'managable_hospital_inflow', 'target': 'flow5'},\n",
       "   {'id': 'link16',\n",
       "    'source': 'incoming_demand_on_hospital',\n",
       "    'target': 'flow5'},\n",
       "   {'id': 'link17', 'source': 'time_step', 'target': 'flow5'},\n",
       "   {'id': 'link18', 'source': 'managable_hospital_inflow', 'target': 'flow6'},\n",
       "   {'id': 'link19',\n",
       "    'source': 'incoming_demand_on_hospital',\n",
       "    'target': 'flow6'},\n",
       "   {'id': 'link20', 'source': 'time_step', 'target': 'flow6'},\n",
       "   {'id': 'link21', 'source': 'managable_icu_inflow', 'target': 'flow7'},\n",
       "   {'id': 'link22', 'source': 'typical_worsening_rate', 'target': 'flow7'},\n",
       "   {'id': 'link23', 'source': 'managable_icu_inflow', 'target': 'flow8'},\n",
       "   {'id': 'link24', 'source': 'typical_worsening_rate', 'target': 'flow8'},\n",
       "   {'id': 'link25',\n",
       "    'source': 'net_delay_incubation_iso_asym',\n",
       "    'target': 'flow9'},\n",
       "   {'id': 'link26', 'source': 'isolation_rate_asym', 'target': 'flow9'},\n",
       "   {'id': 'link27', 'source': 'fr_developing_symptoms', 'target': 'flow9'},\n",
       "   {'id': 'link28', 'source': 'quarantining_rate_asym', 'target': 'flow10'},\n",
       "   {'id': 'link29', 'source': 'fr_developing_symptoms', 'target': 'flow10'},\n",
       "   {'id': 'link30',\n",
       "    'source': 'net_delay_incubation_q_asym',\n",
       "    'target': 'flow10'},\n",
       "   {'id': 'link31', 'source': 'time', 'target': 'flow11'},\n",
       "   {'id': 'link32',\n",
       "    'source': 'delay_asymp_noninfective_to_infective',\n",
       "    'target': 'flow12'},\n",
       "   {'id': 'link33', 'source': 'exposure', 'target': 'flow12'},\n",
       "   {'id': 'link34',\n",
       "    'source': 'net_delay_dprogress_iso_sym',\n",
       "    'target': 'flow13'},\n",
       "   {'id': 'link35', 'source': 'into_iso_sym', 'target': 'flow13'},\n",
       "   {'id': 'link36', 'source': 'fr_becoming_serious', 'target': 'flow13'},\n",
       "   {'id': 'link37', 'source': 'fraction_iso_asym', 'target': 'flow14'},\n",
       "   {'id': 'link38', 'source': 'delay_iso_asym', 'target': 'flow14'},\n",
       "   {'id': 'link39', 'source': 'infection_rate_sum', 'target': 'flow14'},\n",
       "   {'id': 'link40', 'source': 'symptom_setting', 'target': 'flow15'},\n",
       "   {'id': 'link41',\n",
       "    'source': 'fr_symptomatic_tested_isolated',\n",
       "    'target': 'flow15'},\n",
       "   {'id': 'link42', 'source': 'delay_iso_sym', 'target': 'flow15'},\n",
       "   {'id': 'link43', 'source': 'isolation_rate_asym', 'target': 'flow16'},\n",
       "   {'id': 'link44', 'source': 'isolation_rate_sym', 'target': 'flow16'},\n",
       "   {'id': 'link45', 'source': 'q_disease_progress_rate', 'target': 'flow16'},\n",
       "   {'id': 'link46', 'source': 'disease_progression', 'target': 'flow16'},\n",
       "   {'id': 'link47', 'source': 'net_delay_dprogress_q_sym', 'target': 'flow17'},\n",
       "   {'id': 'link48', 'source': 'into_q_sym', 'target': 'flow17'},\n",
       "   {'id': 'link49', 'source': 'fr_becoming_serious', 'target': 'flow17'},\n",
       "   {'id': 'link50', 'source': 'fraction_q_sym', 'target': 'flow18'},\n",
       "   {'id': 'link51', 'source': 'symptom_setting', 'target': 'flow18'},\n",
       "   {'id': 'link52', 'source': 'delay_q_sym', 'target': 'flow18'},\n",
       "   {'id': 'link53', 'source': 'delay_q_asym', 'target': 'flow19'},\n",
       "   {'id': 'link54', 'source': 'infection_rate_sum', 'target': 'flow19'},\n",
       "   {'id': 'link55', 'source': 'fraction_q_asym', 'target': 'flow19'},\n",
       "   {'id': 'link56', 'source': 'delay_recovery_asym', 'target': 'flow20'},\n",
       "   {'id': 'link57', 'source': 'q_asym', 'target': 'flow20'},\n",
       "   {'id': 'link58', 'source': 'fr_iso', 'target': 'flow20'},\n",
       "   {'id': 'link59', 'source': 'infection_rate_sum', 'target': 'flow20'},\n",
       "   {'id': 'link60', 'source': 'fr_developing_symptoms', 'target': 'flow20'},\n",
       "   {'id': 'link61', 'source': 'icu_admissions', 'target': 'flow21'},\n",
       "   {'id': 'link62',\n",
       "    'source': 'delay_recovery_sym_extreme',\n",
       "    'target': 'flow21'},\n",
       "   {'id': 'link63', 'source': 'fr_fatality', 'target': 'flow21'},\n",
       "   {'id': 'link64', 'source': 'into_inf_sym_icu_overflow', 'target': 'flow22'},\n",
       "   {'id': 'link65', 'source': 'net_fr_fatality', 'target': 'flow22'},\n",
       "   {'id': 'link66',\n",
       "    'source': 'delay_recovery_sym_extreme',\n",
       "    'target': 'flow22'},\n",
       "   {'id': 'link67', 'source': 'fr_becoming_serious', 'target': 'flow23'},\n",
       "   {'id': 'link68', 'source': 'symptom_setting', 'target': 'flow23'},\n",
       "   {'id': 'link69', 'source': 'fr_iso', 'target': 'flow23'},\n",
       "   {'id': 'link70', 'source': 'q_sym', 'target': 'flow23'},\n",
       "   {'id': 'link71', 'source': 'delay_recovery_sym_mild', 'target': 'flow23'},\n",
       "   {'id': 'link72', 'source': 'isolation_rate_asym', 'target': 'flow24'},\n",
       "   {'id': 'link73', 'source': 'fr_developing_symptoms', 'target': 'flow24'},\n",
       "   {'id': 'link74',\n",
       "    'source': 'net_delay_recovery_iso_asym',\n",
       "    'target': 'flow24'},\n",
       "   {'id': 'link75', 'source': 'into_iso_sym', 'target': 'flow25'},\n",
       "   {'id': 'link76', 'source': 'fr_becoming_serious', 'target': 'flow25'},\n",
       "   {'id': 'link77',\n",
       "    'source': 'net_delay_recovery_iso_sym',\n",
       "    'target': 'flow25'},\n",
       "   {'id': 'link78', 'source': 'quarantining_rate_asym', 'target': 'flow26'},\n",
       "   {'id': 'link79', 'source': 'net_delay_recovery_q_asym', 'target': 'flow26'},\n",
       "   {'id': 'link80', 'source': 'fr_developing_symptoms', 'target': 'flow26'},\n",
       "   {'id': 'link81', 'source': 'into_q_sym', 'target': 'flow27'},\n",
       "   {'id': 'link82', 'source': 'net_delay_recovery_q_sym', 'target': 'flow27'},\n",
       "   {'id': 'link83', 'source': 'fr_becoming_serious', 'target': 'flow27'},\n",
       "   {'id': 'link84', 'source': 'hospital_admissions', 'target': 'flow28'},\n",
       "   {'id': 'link85',\n",
       "    'source': 'delay_recovery_sym_serious',\n",
       "    'target': 'flow28'},\n",
       "   {'id': 'link86', 'source': 'fr_requiring_icu', 'target': 'flow28'},\n",
       "   {'id': 'link87', 'source': 'hospital_overflow', 'target': 'flow29'},\n",
       "   {'id': 'link88', 'source': 'net_fr_requiring_icu', 'target': 'flow29'},\n",
       "   {'id': 'link89',\n",
       "    'source': 'delay_recovery_sym_serious',\n",
       "    'target': 'flow29'},\n",
       "   {'id': 'link90', 'source': 'q_asym', 'target': 'flow30'},\n",
       "   {'id': 'link91', 'source': 'fr_iso', 'target': 'flow30'},\n",
       "   {'id': 'link92', 'source': 'infection_rate_sum', 'target': 'flow30'},\n",
       "   {'id': 'link93',\n",
       "    'source': 'delay_asymp_infective_to_symp',\n",
       "    'target': 'flow30'},\n",
       "   {'id': 'link94', 'source': 'fr_developing_symptoms', 'target': 'flow30'},\n",
       "   {'id': 'link95', 'source': 'net_fr_requiring_icu', 'target': 'flow31'},\n",
       "   {'id': 'link96', 'source': 'hospital_overflow', 'target': 'flow31'},\n",
       "   {'id': 'link97', 'source': 'delay_worsening', 'target': 'flow31'}]},\n",
       " 'semantics': {'ode': {'parameters': [{'id': 'delay_for_death',\n",
       "     'value': 5.0,\n",
       "     'units': {'expression': 'day', 'expression_mathml': '<ci>day</ci>'}},\n",
       "    {'id': 'fr_fatality',\n",
       "     'value': 0.23,\n",
       "     'units': {'expression': 'Dmnl', 'expression_mathml': '<ci>Dmnl</ci>'}},\n",
       "    {'id': 'fr_becoming_serious',\n",
       "     'description': '0.02,0.02,0.02,0.02,0.17,0.17,0.17,0.17,0.17,0.28,0.28,0.27,0.27,0.4,0.4,0. 47',\n",
       "     'value': 0.15,\n",
       "     'units': {'expression': 'Dmnl', 'expression_mathml': '<ci>Dmnl</ci>'}},\n",
       "    {'id': 'fr_developing_symptoms',\n",
       "     'value': 0.7,\n",
       "     'units': {'expression': 'Dmnl', 'expression_mathml': '<ci>Dmnl</ci>'}},\n",
       "    {'id': 'delay_asymp_noninfective_to_infective',\n",
       "     'value': 3.0,\n",
       "     'units': {'expression': 'day', 'expression_mathml': '<ci>day</ci>'}},\n",
       "    {'id': 'delay_iso_asym',\n",
       "     'value': 1.0,\n",
       "     'units': {'expression': 'day', 'expression_mathml': '<ci>day</ci>'}},\n",
       "    {'id': 'fraction_iso_asym',\n",
       "     'value': 0.0,\n",
       "     'units': {'expression': 'Dmnl', 'expression_mathml': '<ci>Dmnl</ci>'}},\n",
       "    {'id': 'delay_iso_sym',\n",
       "     'value': 2.5,\n",
       "     'units': {'expression': 'day', 'expression_mathml': '<ci>day</ci>'}},\n",
       "    {'id': 'delay_q_sym',\n",
       "     'value': 2.5,\n",
       "     'units': {'expression': 'day', 'expression_mathml': '<ci>day</ci>'}},\n",
       "    {'id': 'fraction_q_sym',\n",
       "     'value': 0.0,\n",
       "     'units': {'expression': 'Dmnl', 'expression_mathml': '<ci>Dmnl</ci>'}},\n",
       "    {'id': 'delay_q_asym',\n",
       "     'value': 1.0,\n",
       "     'units': {'expression': 'day', 'expression_mathml': '<ci>day</ci>'}},\n",
       "    {'id': 'delay_recovery_asym',\n",
       "     'value': 11.0,\n",
       "     'units': {'expression': 'day', 'expression_mathml': '<ci>day</ci>'}},\n",
       "    {'id': 'delay_recovery_sym_extreme',\n",
       "     'value': 14.0,\n",
       "     'units': {'expression': 'day', 'expression_mathml': '<ci>day</ci>'}},\n",
       "    {'id': 'delay_recovery_sym_mild',\n",
       "     'value': 14.0,\n",
       "     'units': {'expression': 'day', 'expression_mathml': '<ci>day</ci>'}},\n",
       "    {'id': 'delay_recovery_sym_serious',\n",
       "     'value': 14.0,\n",
       "     'units': {'expression': 'day', 'expression_mathml': '<ci>day</ci>'}},\n",
       "    {'id': 'fr_requiring_icu',\n",
       "     'value': 0.22,\n",
       "     'units': {'expression': 'Dmnl', 'expression_mathml': '<ci>Dmnl</ci>'}},\n",
       "    {'id': 'delay_asymp_infective_to_symp',\n",
       "     'value': 2.0,\n",
       "     'units': {'expression': 'day', 'expression_mathml': '<ci>day</ci>'}},\n",
       "    {'id': 'delay_worsening',\n",
       "     'value': 5.0,\n",
       "     'units': {'expression': 'day', 'expression_mathml': '<ci>day</ci>'}},\n",
       "    {'id': 'open_duration', 'value': 10.0},\n",
       "    {'id': 'end_lockdown_time', 'value': 400.0},\n",
       "    {'id': 'april_14', 'value': 50.0},\n",
       "    {'id': 'policy_high_contact_tracing_and_isolation', 'value': 0.0},\n",
       "    {'id': 'base_contacts_other', 'value': 6.0},\n",
       "    {'id': 'policy_multiplier_home', 'value': 1.0},\n",
       "    {'id': 'base_contact_home', 'value': 8.0},\n",
       "    {'id': 'base_contact_school', 'value': 5.0},\n",
       "    {'id': 'base_contact_work', 'value': 7.0},\n",
       "    {'id': 'policy_multiplier_school', 'value': 1.0},\n",
       "    {'id': 'policy_multiplier_work', 'value': 1.0},\n",
       "    {'id': 'reference_population_density', 'value': 1.0},\n",
       "    {'id': 'policy_multiplier_other', 'value': 1.0},\n",
       "    {'id': 'loaendtime', 'value': 50.0},\n",
       "    {'id': 'loastarttime', 'value': 15.0},\n",
       "    {'id': 'regular_hygiene_level', 'value': 1.0},\n",
       "    {'id': 'high_fr_iso_sym', 'value': 0.8},\n",
       "    {'id': 'high_contact_tracing_policy', 'value': 0.8},\n",
       "    {'id': 'low_contact_tracing_policy', 'value': 0.1},\n",
       "    {'id': 'high_hygiene_level', 'value': 0.8},\n",
       "    {'id': 'low_fr_iso_sym', 'value': 0.25},\n",
       "    {'id': 'loastartlevel', 'value': 1.2},\n",
       "    {'id': 'loaendlevel', 'value': 1.0},\n",
       "    {'id': 'default_infectivity', 'value': 0.015},\n",
       "    {'id': 'default_delay_disease_diagnosis', 'value': 5.0},\n",
       "    {'id': 'testing_impact_on_delay', 'value': 1.0},\n",
       "    {'id': 'contacts_calibration_multiplier', 'value': 1.1},\n",
       "    {'id': 'area_of_states', 'value': 1.0},\n",
       "    {'id': 'ppe_availability', 'value': 0.8},\n",
       "    {'id': 'fr_q_asym_via_awareness', 'value': 0.0},\n",
       "    {'id': 'fr_multiplier_fatality', 'value': 2.0},\n",
       "    {'id': 'fr_multiplier_icu', 'value': 2.0},\n",
       "    {'id': 'healthcare_capacity_multiplier', 'value': 200.0},\n",
       "    {'id': 'infectivity_reduction_for_asym', 'value': 0.5},\n",
       "    {'id': 'isolation_effect_on_asym_contacts', 'value': 0.5},\n",
       "    {'id': 'isolation_effect_on_sym_contacts', 'value': 0.5},\n",
       "    {'id': 'lock_down_duration',\n",
       "     'description': 'Indicates number of days of lockdown. Keep as 0 for no lockdown',\n",
       "     'value': 14.0},\n",
       "    {'id': 'lock_down_start_day', 'value': 30.0},\n",
       "    {'id': 'lockdown_effect_on_contacts', 'value': 0.3},\n",
       "    {'id': 'normal_hospital_beds_per_person', 'value': 0.0009},\n",
       "    {'id': 'patients_per_unit', 'value': 1.0},\n",
       "    {'id': 'quarantine_effect_on_asym_contacts', 'value': 1.0},\n",
       "    {'id': 'quarantine_effect_on_sym_contacts', 'value': 0.75},\n",
       "    {'id': 'default_ro_base_infectivity_estimation', 'value': 4.6},\n",
       "    {'id': 'total_population',\n",
       "     'description': '1.3392e+09',\n",
       "     'value': 1339200000.0},\n",
       "    {'id': 'typical_duration_when_infection_is_spread', 'value': 7.0},\n",
       "    {'id': 'sum_isolation_sym_mild', 'value': 0.0},\n",
       "    {'id': 'sum_quarantine_sym_mild', 'value': 0.0},\n",
       "    {'id': 'sum_recovered_via_hosp', 'value': 0.0},\n",
       "    {'id': 'sum_susceptibles', 'value': 1339200000.0},\n",
       "    {'id': 'sum_symtomatics', 'value': 0.0},\n",
       "    {'id': 'sum_asymtomatics', 'value': 0.0},\n",
       "    {'id': 'sum_cumulative_cases_reported', 'value': 0.0},\n",
       "    {'id': 'sum_deaths', 'value': 0.0},\n",
       "    {'id': 'sum_isolation_asym', 'value': 0.0},\n",
       "    {'id': 'sum_in_hospital', 'value': 0.0},\n",
       "    {'id': 'sum_in_hospital_overflow', 'value': 0.0},\n",
       "    {'id': 'sum_in_icu', 'value': 0.0},\n",
       "    {'id': 'sum_in_icu_overflow', 'value': 0.0},\n",
       "    {'id': 'sum_quarantine_asym', 'value': 0.0},\n",
       "    {'id': 'sum_recovered_asym', 'value': 0.0},\n",
       "    {'id': 'sum_recovered_mild', 'value': 0.0},\n",
       "    {'id': 'sumnoninfectives', 'value': 0.0}],\n",
       "   'initials': [{'target': 'infected_sym_extreme_icu',\n",
       "     'expression': '0.0',\n",
       "     'expression_mathml': '<cn>0.0</cn>'},\n",
       "    {'target': 'dead',\n",
       "     'expression': '0.0',\n",
       "     'expression_mathml': '<cn>0.0</cn>'},\n",
       "    {'target': 'infected_sym_icu_overflow',\n",
       "     'expression': '0.0',\n",
       "     'expression_mathml': '<cn>0.0</cn>'},\n",
       "    {'target': 'infectious_symptomatics_mild',\n",
       "     'expression': '0.0',\n",
       "     'expression_mathml': '<cn>0.0</cn>'},\n",
       "    {'target': 'incoming_demand_on_hospital',\n",
       "     'expression': '0.0',\n",
       "     'expression_mathml': '<cn>0.0</cn>'},\n",
       "    {'target': 'susceptibles',\n",
       "     'expression': '1339200000.0',\n",
       "     'expression_mathml': '<cn>1339200000.0</cn>'},\n",
       "    {'target': 'exposed',\n",
       "     'expression': '0.0',\n",
       "     'expression_mathml': '<cn>0.0</cn>'},\n",
       "    {'target': 'infected_sym_serious_hospital',\n",
       "     'expression': '0.0',\n",
       "     'expression_mathml': '<cn>0.0</cn>'},\n",
       "    {'target': 'infected_sym_hospital_overflow',\n",
       "     'expression': '0.0',\n",
       "     'expression_mathml': '<cn>0.0</cn>'},\n",
       "    {'target': 'isolated_asymptomatics',\n",
       "     'expression': '0.0',\n",
       "     'expression_mathml': '<cn>0.0</cn>'},\n",
       "    {'target': 'isolated_symtomatics_mild',\n",
       "     'expression': '0.0',\n",
       "     'expression_mathml': '<cn>0.0</cn>'},\n",
       "    {'target': 'quarantined_asymptomatics',\n",
       "     'expression': '0.0',\n",
       "     'expression_mathml': '<cn>0.0</cn>'},\n",
       "    {'target': 'quarantined_symtomatics_mild',\n",
       "     'expression': '0.0',\n",
       "     'expression_mathml': '<cn>0.0</cn>'},\n",
       "    {'target': 'infectious_asymptomatics',\n",
       "     'expression': '0.0',\n",
       "     'expression_mathml': '<cn>0.0</cn>'},\n",
       "    {'target': 'cumulative_cases_reported',\n",
       "     'expression': '0.0',\n",
       "     'expression_mathml': '<cn>0.0</cn>'},\n",
       "    {'target': 'recovered_asymtomatics',\n",
       "     'expression': '0.0',\n",
       "     'expression_mathml': '<cn>0.0</cn>'},\n",
       "    {'target': 'recovered_from_hospital',\n",
       "     'expression': '0.0',\n",
       "     'expression_mathml': '<cn>0.0</cn>'},\n",
       "    {'target': 'recovered_mild',\n",
       "     'expression': '0.0',\n",
       "     'expression_mathml': '<cn>0.0</cn>'},\n",
       "    {'target': 'recovered_isolated_symptomatic_mild',\n",
       "     'expression': '0.0',\n",
       "     'expression_mathml': '<cn>0.0</cn>'}],\n",
       "   'observables': [],\n",
       "   'time': {'id': 't'}}},\n",
       " 'metadata': {}}"
      ]
     },
     "execution_count": 23,
     "metadata": {},
     "output_type": "execute_result"
    }
   ],
   "source": [
    "# FIXME need to get header information in there correctly\n",
    "\n",
    "annotations = Annotations(name=\"February 2024 Hackathon - Scenario 5\")\n",
    "tm.annotations = annotations\n",
    "\n",
    "amr = template_model_to_stockflow_json(tm)\n",
    "HERE.joinpath(\"scenario_5_stockflow.json\").write_text(json.dumps(amr, indent=2))\n",
    "amr"
   ]
  }
 ],
 "metadata": {
  "kernelspec": {
   "display_name": "Python 3 (ipykernel)",
   "language": "python",
   "name": "python3"
  },
  "language_info": {
   "codemirror_mode": {
    "name": "ipython",
    "version": 3
   },
   "file_extension": ".py",
   "mimetype": "text/x-python",
   "name": "python",
   "nbconvert_exporter": "python",
   "pygments_lexer": "ipython3",
   "version": "3.11.7"
  }
 },
 "nbformat": 4,
 "nbformat_minor": 5
}
