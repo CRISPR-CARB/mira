{
 "cells": [
  {
   "cell_type": "code",
   "execution_count": null,
   "id": "877b60ae-d920-4e39-82b0-840269143f93",
   "metadata": {},
   "outputs": [],
   "source": [
    "from mira.sources.system_dynamics import *\n",
    "from mira.modeling.amr.stockflow import *\n",
    "from mira.modeling.amr.petrinet import * \n",
    "from mira.metamodel import *\n",
    "from mira.sources.amr.stockflow import (\n",
    "    template_model_from_amr_json as stockflow_amr_to_tm,\n",
    ")\n",
    "from mira.sources.amr.petrinet import * \n",
    "import json\n",
    "import pandas as pd\n",
    "\n",
    "pd.set_option(\"display.max_colwidth\", None)\n",
    "scenario_4_url = \"https://raw.githubusercontent.com/DARPA-ASKEM/program-milestones/main/18-month-milestone/evaluation/Epi%20Use%20Case/Scenario%204%20Supplementary/stock_flow_evaluation.mdl\""
   ]
  },
  {
   "cell_type": "markdown",
   "id": "b5219463-e048-4050-a9e1-40a3d9b09a02",
   "metadata": {},
   "source": [
    "## Convert the Vensim model into a MIRA template model"
   ]
  },
  {
   "cell_type": "code",
   "execution_count": null,
   "id": "26074138-d846-419c-a590-fd8e78704837",
   "metadata": {},
   "outputs": [],
   "source": [
    "old_tm = template_model_from_mdl_url(scenario_4_url)"
   ]
  },
  {
   "cell_type": "markdown",
   "id": "8af007ca-140f-45b2-98d3-65b5af0d6f12",
   "metadata": {},
   "source": [
    "## Visualize the unmodified template model"
   ]
  },
  {
   "cell_type": "code",
   "execution_count": null,
   "id": "e6a996d3-551a-40ec-b850-e00cf2a147e4",
   "metadata": {},
   "outputs": [],
   "source": [
    "old_tm.draw_jupyter()"
   ]
  },
  {
   "cell_type": "markdown",
   "id": "902bc20b-8164-4f7f-ba3e-3740c297b01a",
   "metadata": {},
   "source": [
    "## Inspect the parameters, initial values, and rate laws of the template model"
   ]
  },
  {
   "cell_type": "code",
   "execution_count": null,
   "id": "3689f7db-5be2-426a-be2e-e2ec75bde499",
   "metadata": {},
   "outputs": [],
   "source": [
    "initial_values = [initial.expression for initial in old_tm.initials.values()]\n",
    "df_initials = pd.DataFrame(\n",
    "    {\"Stock\": list(old_tm.initials.keys()), \"Initial Value\": initial_values}\n",
    ")\n",
    "df_initials"
   ]
  },
  {
   "cell_type": "code",
   "execution_count": null,
   "id": "5a884061-66a9-40f0-ace4-6172012ff719",
   "metadata": {},
   "outputs": [],
   "source": [
    "param_values = [param.value for param in old_tm.parameters.values()]\n",
    "df_param = pd.DataFrame(\n",
    "    {\n",
    "        \"Parameter Name\": list(old_tm.parameters.keys()),\n",
    "        \"Parameter Value\": param_values,\n",
    "    }\n",
    ")\n",
    "df_param"
   ]
  },
  {
   "cell_type": "code",
   "execution_count": null,
   "id": "d3307174-ab6e-437a-8489-dd9e45fa14e1",
   "metadata": {},
   "outputs": [],
   "source": [
    "rate_laws = [template.rate_law for template in old_tm.templates]\n",
    "template_names = [template.name for template in old_tm.templates]\n",
    "df_templates = pd.DataFrame(\n",
    "    {\"Template ID\": template_names, \"Rate Law\": rate_laws}\n",
    ")\n",
    "df_templates"
   ]
  },
  {
   "cell_type": "markdown",
   "id": "26c504ed-0ebc-46a1-a6dd-427b984c1203",
   "metadata": {},
   "source": [
    "## Export the template model to stock flow amr and verify if it has been exported correctly"
   ]
  },
  {
   "cell_type": "code",
   "execution_count": null,
   "id": "aa93c4e0-b714-4653-9d70-0fc098bd40a1",
   "metadata": {},
   "outputs": [],
   "source": [
    "amr = template_model_to_stockflow_json(old_tm)"
   ]
  },
  {
   "cell_type": "code",
   "execution_count": null,
   "id": "b33f0d19-f5d5-4775-ac28-c9e683f2f963",
   "metadata": {},
   "outputs": [],
   "source": [
    "amr[\"model\"][\"stocks\"]"
   ]
  },
  {
   "cell_type": "code",
   "execution_count": null,
   "id": "e2b14f0a-c4bd-465f-8788-25434d2f0746",
   "metadata": {},
   "outputs": [],
   "source": [
    "amr[\"semantics\"][\"ode\"][\"initials\"]"
   ]
  },
  {
   "cell_type": "code",
   "execution_count": null,
   "id": "02df3d95-d683-4741-b06f-46275f445349",
   "metadata": {},
   "outputs": [],
   "source": [
    "amr[\"semantics\"][\"ode\"][\"parameters\"]"
   ]
  },
  {
   "cell_type": "code",
   "execution_count": null,
   "id": "7b81e5fa-6d89-4c1b-b976-4a0fc101eeae",
   "metadata": {},
   "outputs": [],
   "source": [
    "amr[\"model\"][\"flows\"]"
   ]
  },
  {
   "cell_type": "code",
   "execution_count": null,
   "id": "b1c4be75-3f50-4d2a-8a07-f6c4d39491f8",
   "metadata": {},
   "outputs": [],
   "source": [
    "amr[\"model\"][\"links\"]"
   ]
  },
  {
   "cell_type": "markdown",
   "id": "87eec5d3-4bf4-4c16-adef-5c21c522114e",
   "metadata": {},
   "source": [
    "## Import the stock flow amr back to a MIRA template model"
   ]
  },
  {
   "cell_type": "code",
   "execution_count": null,
   "id": "69cf08df-a1f9-438f-934a-f449281e5489",
   "metadata": {},
   "outputs": [],
   "source": [
    "new_tm = stockflow_amr_to_tm(amr)"
   ]
  },
  {
   "cell_type": "markdown",
   "id": "4949a84b-950a-4ba7-85b2-c2c9a9068b0f",
   "metadata": {},
   "source": [
    "## Stratify the infected concept and visualize the stratified template model"
   ]
  },
  {
   "cell_type": "code",
   "execution_count": null,
   "id": "97f70cbe-8713-42c7-840c-945c6a6a24ca",
   "metadata": {},
   "outputs": [],
   "source": [
    "stratified_tm = stratify(new_tm, key=\"infection_status\", strata=[\"asymptomatic\",\"symptomatic\"],concepts_to_stratify=[\"infected\"], structure=[])\n",
    "stratified_tm.draw_jupyter()"
   ]
  },
  {
   "cell_type": "markdown",
   "id": "8401e8bf-7cf9-423e-83e8-5d4862dff3a7",
   "metadata": {},
   "source": [
    "## Export the model into different frameworks"
   ]
  },
  {
   "cell_type": "code",
   "execution_count": null,
   "id": "c3171163-8e39-4748-9231-d7e38042ad1f",
   "metadata": {},
   "outputs": [],
   "source": [
    "frameworks = {'stockflow': template_model_to_stockflow_json, 'petrinet': template_model_to_petrinet_json}\n",
    "\n",
    "for fkey, fun in frameworks.items():\n",
    "    with open(f'scenario4_{fkey}.json', 'w') as fh:\n",
    "        json.dump(fun(new_tm), fh, indent=1)"
   ]
  }
 ],
 "metadata": {
  "kernelspec": {
   "display_name": "Python 3 (ipykernel)",
   "language": "python",
   "name": "python3"
  },
  "language_info": {
   "codemirror_mode": {
    "name": "ipython",
    "version": 3
   },
   "file_extension": ".py",
   "mimetype": "text/x-python",
   "name": "python",
   "nbconvert_exporter": "python",
   "pygments_lexer": "ipython3",
   "version": "3.10.12"
  }
 },
 "nbformat": 4,
 "nbformat_minor": 5
}
