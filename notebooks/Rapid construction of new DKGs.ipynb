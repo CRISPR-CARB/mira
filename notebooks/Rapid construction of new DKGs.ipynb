{
 "cells": [
  {
   "cell_type": "markdown",
   "id": "06776284",
   "metadata": {},
   "source": [
    "# Rapid Construction of DKGs in ASKEM\n",
    "\n",
    "This notebook explains what goes into creating a domain knowledge graph (DKG) and how new ones can be rapidly constructed for new use cases.\n",
    "\n",
    "\n",
    "## Configuration\n",
    "\n",
    "MIRA builds on a combination of pre-ASKEM and ASKEM-specific infrastructure for acquiring, parsing, and processing ontologies, knowledge graphs, and databases. In order to determine which parts of this infrastructure are used and how, each DKG is configured with the following pieces of information:\n",
    "\n",
    "1. What ontologies should be pulled in? For example, the epidemiology use case brings in the Infectious Disease Ontology (IDO), the National Cancer Institute Thesaurus (NCIT), and several others from the biomedical domain.\n",
    "2. Is there a custom ASKEM domain ontology? For both epidemiology and space weather, we have constructed custom domain ontologies to help align bits from existing ontologies as well as to curate novel terms that are necessary for grounding the concepts appearing in models in the domain\n",
    "3. Custom knowledge resources (these are quite custom and not easily translatable to a declarative configuration).\n",
    "\n",
    "There are several pre-defined configurations for DKGs built in to MIRA including:\n",
    "\n",
    "- `epi` for epidemiology\n",
    "- `space` for space weather\n",
    "- `eco` for ecology\n",
    "\n",
    "## Running the Constructor\n",
    "\n",
    "After installing MIRA, the pre-defined DKGs can be constructed using the following shell script:\n",
    "\n",
    "```shell\n",
    "python -m mira.dkg.construct --use-case epi\n",
    "```\n",
    "\n",
    "This does the following:\n",
    "\n",
    "1. Creates a nodes and edges file that can be loaded into a Neo4j graph database. These are orchestrated along with the MIRA web application in Docker (more information [here](https://github.com/indralab/mira/tree/main/docker)).\n",
    "2. Creates an RDF dump that can be loaded in any triple store and queried with SPARQL\n",
    "3. Uses graph machine learning to create dense node embeddings based on the topology of the knowledge graph\n",
    "4. Creates a \"metaregistry\" configuration file. Note that we actually combine all of the metaregistry configrations together into a single service running at http://34.230.33.149:8772/.\n",
    "\n",
    "When these have been adequately locally tested, the command can be run with the `--do-upload` flag to automate uplaoding these artifacts to S3. The uploads are versioned by the date on which the build was performed. Inside the DKG, various nodes, edges, and metadata are tagged with the version of the resources (e.g., ontologies) from which they came.\n",
    "\n",
    "## Arbitrary Constrution\n",
    "\n",
    "In addition to the pre-configured DKGs, new DKGs can be rapidly constructed using the Python API to MIRA."
   ]
  },
  {
   "cell_type": "code",
   "execution_count": 1,
   "id": "c004d213",
   "metadata": {},
   "outputs": [],
   "source": [
    "from mira.dkg.construct import construct, DKGConfig"
   ]
  },
  {
   "cell_type": "markdown",
   "id": "daf79498",
   "metadata": {},
   "source": [
    "While the epidemiology use case had a close relationship between the DKG and the modeling framework, the new regnet framework being proposed in the early May 2023 hackathon can appear in several domains including:\n",
    "\n",
    "- gene transcription regulatory networks\n",
    "- ecological networks (i.e., predator-prey networks *a la* Lotka-Volterra)\n",
    "- cell signalling networks\n",
    "\n",
    "In the following example, we construct an *ad hoc* domain knowledge graph by specifying several resources useful for describing genes and phenomena that may appear in these networks including:\n",
    "\n",
    "- HGNC - an ontology of human genes that contains relationships to gene families families, proteins. Useful for annotating components of models.\n",
    "- Gene Ontology (GO) - an ontology of molecular functional and biological processes used in annotating genes. Useful for both model-level annotation and annotating relationships between components of models (e.g., edges).\n",
    "- WikiPathways - a resource categorizing genes in functional pathways. Useful for model-level annotation\n",
    "- ProbOnto - an ontology of probability distributions"
   ]
  },
  {
   "cell_type": "code",
   "execution_count": null,
   "id": "57b5adc1",
   "metadata": {},
   "outputs": [],
   "source": [
    "genereg_config = DKGConfig(\n",
    "    prefixes=[\n",
    "        \"hgnc\",\n",
    "        \"go\",\n",
    "        \"wikipathways\",\n",
    "        \"probonto\",\n",
    "    ],\n",
    ")\n",
    "\n",
    "construct(\n",
    "    use_case=\"genreg\", \n",
    "    config=genereg_config,\n",
    "    # do_upload=True,  # uncomment when you're ready to send to S3!\n",
    ")"
   ]
  }
 ],
 "metadata": {
  "kernelspec": {
   "display_name": "Python 3 (ipykernel)",
   "language": "python",
   "name": "python3"
  },
  "language_info": {
   "codemirror_mode": {
    "name": "ipython",
    "version": 3
   },
   "file_extension": ".py",
   "mimetype": "text/x-python",
   "name": "python",
   "nbconvert_exporter": "python",
   "pygments_lexer": "ipython3",
   "version": "3.10.11"
  }
 },
 "nbformat": 4,
 "nbformat_minor": 5
}
