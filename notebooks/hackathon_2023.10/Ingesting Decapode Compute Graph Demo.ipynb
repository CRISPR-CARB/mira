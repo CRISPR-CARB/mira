{
 "cells": [
  {
   "cell_type": "code",
   "execution_count": 11,
   "id": "719f7849-352a-459e-94e2-96551dd59bcc",
   "metadata": {},
   "outputs": [
    {
     "name": "stdout",
     "output_type": "stream",
     "text": [
      "The autoreload extension is already loaded. To reload it, use:\n",
      "  %reload_ext autoreload\n"
     ]
    }
   ],
   "source": [
    "%load_ext autoreload\n",
    "%autoreload 2\n",
    "\n",
    "import requests\n",
    "import json\n",
    "from mira.sources.acsets.decapodes import process_decapode\n",
    "from mira.metamodel.decapodes import Decapode"
   ]
  },
  {
   "cell_type": "code",
   "execution_count": 10,
   "id": "cb3ed6e3-f071-4dc9-9919-694a773ce3a7",
   "metadata": {},
   "outputs": [
    {
     "name": "stdout",
     "output_type": "stream",
     "text": [
      "{1: []}\n",
      "{2: []}\n",
      "{3: []}\n",
      "{4: [{'_id': 1, 'src': 1, 'tgt': 4, 'op1': '∂ₜ'}, {'_id': 10, 'src': 30, 'tgt': 4, 'op1': '⋆₀⁻¹'}], 1: [], 30: [{'_id': 9, 'src': 29, 'tgt': 30, 'op1': 'dual_d₁'}], 29: [{'_id': 8, 'src': 6, 'tgt': 29, 'op1': '⋆₁'}], 6: []}\n",
      "{5: []}\n",
      "{6: []}\n",
      "{7: [{'_id': 2, 'src': 1, 'tgt': 7, 'op1': 'd₀'}], 1: []}\n",
      "{8: [{'_id': 6, 'src': 9, 'tgt': 8, 'op1': 'avg₀₁'}], 9: []}\n",
      "{9: []}\n",
      "{10: [{'_id': 5, 'src': 11, 'tgt': 10, 'op1': 'mag'}], 11: [{'_id': 4, 'src': 12, 'tgt': 11, 'op1': '♯'}], 12: [{'_id': 3, 'src': 1, 'tgt': 12, 'op1': 'd₀'}], 1: []}\n",
      "{11: [{'_id': 4, 'src': 12, 'tgt': 11, 'op1': '♯'}], 12: [{'_id': 3, 'src': 1, 'tgt': 12, 'op1': 'd₀'}], 1: []}\n",
      "{12: [{'_id': 3, 'src': 1, 'tgt': 12, 'op1': 'd₀'}], 1: []}\n",
      "{13: []}\n",
      "{14: []}\n",
      "{15: [{'_id': 7, 'src': 16, 'tgt': 15, 'op1': 'avg₀₁'}], 16: []}\n",
      "{16: []}\n",
      "{17: []}\n",
      "{18: []}\n",
      "{19: []}\n",
      "{20: []}\n",
      "{21: []}\n",
      "{22: []}\n",
      "{23: []}\n",
      "{24: []}\n",
      "{25: []}\n",
      "{26: []}\n",
      "{27: []}\n",
      "{28: []}\n",
      "{29: [{'_id': 8, 'src': 6, 'tgt': 29, 'op1': '⋆₁'}], 6: []}\n",
      "{30: [{'_id': 9, 'src': 29, 'tgt': 30, 'op1': 'dual_d₁'}], 29: [{'_id': 8, 'src': 6, 'tgt': 29, 'op1': '⋆₁'}], 6: []}\n"
     ]
    }
   ],
   "source": [
    "for var in ice_decapode.variables.values():\n",
    "    print(var.mapping_op1)"
   ]
  },
  {
   "cell_type": "raw",
   "id": "926dfd0a-3cf5-4fa2-a56f-d82369c355c6",
   "metadata": {},
   "source": [
    "oscillator_decapode_json = json.load(open('mira/examples/decapodes/decapodes_vs_decaexpr_composite/d1_oscillator_decapode.json', 'r'))\n",
    "oscillator_decapode = process_decapode(oscillator_decapode_json)\n",
    "\n",
    "friction_decapode_json = json.load(open('mira/examples/decapodes/decapodes_vs_decaexpr_composite/d2_friction_decapode.json', 'r'))\n",
    "friction_decapode = process_decapode(friction_decapode_json)\n",
    "\n",
    "ice_decapode = process_decapode(requests.get('https://raw.githubusercontent.com/ciemss/Decapodes.jl/sa_climate_modeling/examples/climate/ice_dynamics.json').json())"
   ]
  },
  {
   "cell_type": "code",
   "execution_count": 12,
   "id": "2de75ea3-62d9-455c-862f-a40b2a95af7a",
   "metadata": {
    "scrolled": true
   },
   "outputs": [
    {
     "name": "stdout",
     "output_type": "stream",
     "text": [
      "1 | V |V\n",
      "2 | Q |Q\n",
      "3 | κ |κ\n",
      "4 | λ |λ\n",
      "5 | Q₀ |Q₀\n",
      "6 | Q̇ |∂ₜ(Q)\n",
      "7 | •2 |V*κ\n",
      "8 | •3 |λ(Q - Q₀)\n",
      "9 | •4 |Q - Q₀\n"
     ]
    }
   ],
   "source": [
    "for var in friction_decapode.variables.values():\n",
    "    var.build_expression(friction_decapode)\n",
    "  \n",
    "\n",
    "for idx,var in enumerate(friction_decapode.variables.values()):\n",
    "    var.break_down_variables(friction_decapode)\n",
    "    print(f\"{idx+1} | {var.name} |{str(var.expression)}\")\n"
   ]
  },
  {
   "cell_type": "code",
   "execution_count": 13,
   "id": "e74782ff-5a10-4d4c-8fef-aa667323f387",
   "metadata": {},
   "outputs": [
    {
     "name": "stdout",
     "output_type": "stream",
     "text": [
      "1 | X |X\n",
      "2 | V |∂ₜ(X)\n",
      "3 | k |k\n",
      "4 | mult_1 |-1*k\n",
      "5 | V̇ |-1*X*k\n",
      "6 | -1 |-1\n"
     ]
    }
   ],
   "source": [
    "for var in oscillator_decapode .variables.values():\n",
    "    var.build_expression(oscillator_decapode )\n",
    "  \n",
    "\n",
    "for idx,var in enumerate(oscillator_decapode.variables.values()):\n",
    "    var.break_down_variables(oscillator_decapode )\n",
    "    print(f\"{idx+1} | {var.name} |{str(var.expression)}\")"
   ]
  },
  {
   "cell_type": "code",
   "execution_count": 14,
   "id": "e938fee8-c7ce-4594-8216-3d004e236c58",
   "metadata": {},
   "outputs": [
    {
     "name": "stdout",
     "output_type": "stream",
     "text": [
      "1 | h |h\n",
      "2 | Γ |2*stress_A*(stress_g*stress_ρ)**n/stress_sum_1\n",
      "3 | n |n\n",
      "4 | dynamics_ḣ |∂ₜ(h)\n",
      "5 | dynamics_mult_1 |2*stress_A*(stress_g*stress_ρ)**n*avg₀₁(mag(♯(d₀(h)))**(-1 + n))*d₀(h)/stress_sum_1\n",
      "6 | dynamics_mult_2 |2*stress_A*(stress_g*stress_ρ)**n*avg₀₁(h**dynamics_sum_1)*avg₀₁(mag(♯(d₀(h)))**(-1 + n))*d₀(h)/stress_sum_1\n",
      "7 | dynamics_•1 |d₀(h)\n",
      "8 | dynamics_•2 |avg₀₁(mag(♯(d₀(h)))**(-1 + n))\n",
      "9 | dynamics_•3 |mag(♯(d₀(h)))**(-1 + n)\n",
      "10 | dynamics_•4 |mag(♯(d₀(h)))\n",
      "11 | dynamics_•5 |♯(d₀(h))\n",
      "12 | dynamics_•6 |d₀(h)\n",
      "13 | dynamics_•7 |-1 + n\n",
      "14 | 1 |1\n",
      "15 | dynamics_•8 |avg₀₁(h**dynamics_sum_1)\n",
      "16 | dynamics_•9 |h**dynamics_sum_1\n",
      "17 | 2 |2\n",
      "18 | dynamics_sum_1 |dynamics_sum_1\n",
      "19 | dynamics_mult_3 |2*stress_A*(stress_g*stress_ρ)**n*d₀(h)/stress_sum_1\n",
      "20 | stress_A |stress_A\n",
      "21 | stress_ρ |stress_ρ\n",
      "22 | stress_g |stress_g\n",
      "23 | stress_•1 |2/stress_sum_1\n",
      "24 | 2 |2\n",
      "25 | stress_sum_1 |stress_sum_1\n",
      "26 | stress_•2 |(stress_g*stress_ρ)**n\n",
      "27 | stress_•3 |stress_g*stress_ρ\n",
      "28 | stress_mult_1 |2*stress_A/stress_sum_1\n",
      "29 | •_8_1 |⋆₁(2*stress_A*(stress_g*stress_ρ)**n*avg₀₁(h**dynamics_sum_1)*avg₀₁(mag(♯(d₀(h)))**(-1 + n))*d₀(h)/stress_sum_1)\n",
      "30 | •_8_2 |dual_d₁(⋆₁(2*stress_A*(stress_g*stress_ρ)**n*avg₀₁(h**dynamics_sum_1)*avg₀₁(mag(♯(d₀(h)))**(-1 + n))*d₀(h)/stress_sum_1))\n"
     ]
    }
   ],
   "source": [
    "for idx,var in enumerate(ice_decapode.variables.values()):\n",
    "    var.build_expression(ice_decapode )\n",
    "    \n",
    "  \n",
    "\n",
    "for idx,var in enumerate(ice_decapode.variables.values()):\n",
    "    var.break_down_variables(ice_decapode )\n",
    "    print(f\"{idx+1} | {var.name} |{str(var.expression)}\")"
   ]
  }
 ],
 "metadata": {
  "kernelspec": {
   "display_name": "Python 3 (ipykernel)",
   "language": "python",
   "name": "python3"
  },
  "language_info": {
   "codemirror_mode": {
    "name": "ipython",
    "version": 3
   },
   "file_extension": ".py",
   "mimetype": "text/x-python",
   "name": "python",
   "nbconvert_exporter": "python",
   "pygments_lexer": "ipython3",
   "version": "3.10.12"
  }
 },
 "nbformat": 4,
 "nbformat_minor": 5
}
