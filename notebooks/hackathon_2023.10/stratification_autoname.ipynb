{
 "cells": [
  {
   "cell_type": "markdown",
   "id": "6c7a628f",
   "metadata": {},
   "source": [
    "# Naming and grounding features for model stratification\n",
    "\n",
    "Assume you want to stratify a model and make sure the appropriate groundings are put into identifiers/context while having pretty display names for model elements corresponding to stratified states."
   ]
  },
  {
   "cell_type": "code",
   "execution_count": 2,
   "id": "33997878-487f-4c79-86c6-a1cfc03141a4",
   "metadata": {},
   "outputs": [],
   "source": [
    "from mira.metamodel.ops import stratify\n",
    "from mira.examples.sir import sir_parameterized\n",
    "cities = [\n",
    "    \"geonames:5128581\",  # NYC\n",
    "    \"geonames:4930956\",  # boston\n",
    "]"
   ]
  },
  {
   "cell_type": "markdown",
   "id": "fad90ee2",
   "metadata": {},
   "source": [
    "## Default behavior (like before)\n",
    "Name is generated from whatever you define as the strata."
   ]
  },
  {
   "cell_type": "code",
   "execution_count": 3,
   "id": "07837cb8-a6e2-4955-8f0b-2854d8aebbe8",
   "metadata": {},
   "outputs": [
    {
     "name": "stdout",
     "output_type": "stream",
     "text": [
      "infected_population_geonames_4930956\n"
     ]
    }
   ],
   "source": [
    "stratified_model = stratify(\n",
    "    sir_parameterized, \n",
    "    key=\"city\", \n",
    "    strata=cities, \n",
    "    cartesian_control=False, \n",
    "    directed=False\n",
    ")\n",
    "print(stratified_model.templates[0].controller.name)"
   ]
  },
  {
   "cell_type": "markdown",
   "id": "84be328c",
   "metadata": {},
   "source": [
    "## New option 1: Look up names from DKG automatically for renaming"
   ]
  },
  {
   "cell_type": "code",
   "execution_count": 8,
   "id": "403d890d-2453-43a6-a9e4-abc3bb0c746c",
   "metadata": {},
   "outputs": [
    {
     "name": "stdout",
     "output_type": "stream",
     "text": [
      "infected_population_Boston\n"
     ]
    }
   ],
   "source": [
    "stratified_model_2 = stratify(\n",
    "    sir_parameterized,\n",
    "    key=\"city\",\n",
    "    strata=cities,\n",
    "    strata_name_lookup=True,\n",
    "    cartesian_control=False,\n",
    "    directed=False\n",
    ")\n",
    "print(stratified_model_2.templates[0].controller.name)"
   ]
  },
  {
   "cell_type": "markdown",
   "id": "0c7d0a02",
   "metadata": {},
   "source": [
    "## New option 2: Provide custom name mapping"
   ]
  },
  {
   "cell_type": "code",
   "execution_count": 7,
   "id": "453c4489-c38f-4119-a070-686d3ba32ac9",
   "metadata": {},
   "outputs": [
    {
     "ename": "TypeError",
     "evalue": "stratify() got an unexpected keyword argument 'strata_curie_to_name'",
     "output_type": "error",
     "traceback": [
      "\u001b[0;31m---------------------------------------------------------------------------\u001b[0m",
      "\u001b[0;31mTypeError\u001b[0m                                 Traceback (most recent call last)",
      "Cell \u001b[0;32mIn[7], line 2\u001b[0m\n\u001b[1;32m      1\u001b[0m city_curie_map \u001b[38;5;241m=\u001b[39m {\u001b[38;5;124m\"\u001b[39m\u001b[38;5;124mgeonames:5128581\u001b[39m\u001b[38;5;124m\"\u001b[39m: \u001b[38;5;124m\"\u001b[39m\u001b[38;5;124myankees\u001b[39m\u001b[38;5;124m\"\u001b[39m, \u001b[38;5;124m\"\u001b[39m\u001b[38;5;124mgeonames:4930956\u001b[39m\u001b[38;5;124m\"\u001b[39m: \u001b[38;5;124m\"\u001b[39m\u001b[38;5;124mred_sox\u001b[39m\u001b[38;5;124m\"\u001b[39m}\n\u001b[0;32m----> 2\u001b[0m stratified_model_3 \u001b[38;5;241m=\u001b[39m \u001b[43mstratify\u001b[49m\u001b[43m(\u001b[49m\n\u001b[1;32m      3\u001b[0m \u001b[43m    \u001b[49m\u001b[43msir_parameterized\u001b[49m\u001b[43m,\u001b[49m\n\u001b[1;32m      4\u001b[0m \u001b[43m    \u001b[49m\u001b[43mkey\u001b[49m\u001b[38;5;241;43m=\u001b[39;49m\u001b[38;5;124;43m\"\u001b[39;49m\u001b[38;5;124;43mcity\u001b[39;49m\u001b[38;5;124;43m\"\u001b[39;49m\u001b[43m,\u001b[49m\n\u001b[1;32m      5\u001b[0m \u001b[43m    \u001b[49m\u001b[43mstrata\u001b[49m\u001b[38;5;241;43m=\u001b[39;49m\u001b[43mcities\u001b[49m\u001b[43m,\u001b[49m\n\u001b[1;32m      6\u001b[0m \u001b[43m    \u001b[49m\u001b[43mstrata_curie_to_name\u001b[49m\u001b[38;5;241;43m=\u001b[39;49m\u001b[43mcity_curie_map\u001b[49m\u001b[43m,\u001b[49m\n\u001b[1;32m      7\u001b[0m \u001b[43m    \u001b[49m\u001b[43mcartesian_control\u001b[49m\u001b[38;5;241;43m=\u001b[39;49m\u001b[38;5;28;43;01mFalse\u001b[39;49;00m\u001b[43m,\u001b[49m\n\u001b[1;32m      8\u001b[0m \u001b[43m    \u001b[49m\u001b[43mdirected\u001b[49m\u001b[38;5;241;43m=\u001b[39;49m\u001b[38;5;28;43;01mFalse\u001b[39;49;00m\n\u001b[1;32m      9\u001b[0m \u001b[43m)\u001b[49m\n\u001b[1;32m     10\u001b[0m \u001b[38;5;28mprint\u001b[39m(stratified_model_3\u001b[38;5;241m.\u001b[39mtemplates[\u001b[38;5;241m0\u001b[39m]\u001b[38;5;241m.\u001b[39mcontroller\u001b[38;5;241m.\u001b[39mname)\n\u001b[1;32m     11\u001b[0m \u001b[38;5;28mprint\u001b[39m(stratified_model_3\u001b[38;5;241m.\u001b[39mtemplates[\u001b[38;5;241m1\u001b[39m]\u001b[38;5;241m.\u001b[39mcontroller\u001b[38;5;241m.\u001b[39mname)\n",
      "\u001b[0;31mTypeError\u001b[0m: stratify() got an unexpected keyword argument 'strata_curie_to_name'"
     ]
    }
   ],
   "source": [
    "city_curie_map = {\"geonames:5128581\": \"yankees\", \"geonames:4930956\": \"red_sox\"}\n",
    "stratified_model_3 = stratify(\n",
    "    sir_parameterized,\n",
    "    key=\"city\",\n",
    "    strata=cities,\n",
    "    strata_curie_to_name=city_curie_map,\n",
    "    cartesian_control=False,\n",
    "    directed=False\n",
    ")\n",
    "print(stratified_model_3.templates[0].controller.name)\n",
    "print(stratified_model_3.templates[1].controller.name)"
   ]
  },
  {
   "cell_type": "code",
   "execution_count": null,
   "id": "ede389c6",
   "metadata": {},
   "outputs": [],
   "source": []
  }
 ],
 "metadata": {
  "kernelspec": {
   "display_name": "Python 3 (ipykernel)",
   "language": "python",
   "name": "python3"
  },
  "language_info": {
   "codemirror_mode": {
    "name": "ipython",
    "version": 3
   },
   "file_extension": ".py",
   "mimetype": "text/x-python",
   "name": "python",
   "nbconvert_exporter": "python",
   "pygments_lexer": "ipython3",
   "version": "3.10.13"
  }
 },
 "nbformat": 4,
 "nbformat_minor": 5
}
