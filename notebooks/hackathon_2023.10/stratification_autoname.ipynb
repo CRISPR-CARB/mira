{
 "cells": [
  {
   "cell_type": "code",
   "execution_count": 6,
   "id": "33997878-487f-4c79-86c6-a1cfc03141a4",
   "metadata": {},
   "outputs": [],
   "source": [
    "from mira.metamodel.ops import stratify\n",
    "from mira.examples.sir import sir_parameterized\n",
    "cities = [\n",
    "    \"geonames:5128581\",  # NYC\n",
    "    \"geonames:4930956\",  # boston\n",
    "]"
   ]
  },
  {
   "cell_type": "code",
   "execution_count": 7,
   "id": "07837cb8-a6e2-4955-8f0b-2854d8aebbe8",
   "metadata": {},
   "outputs": [
    {
     "name": "stdout",
     "output_type": "stream",
     "text": [
      "infected_population_geonames_4930956\n"
     ]
    }
   ],
   "source": [
    "## Default behavior (like before)\n",
    "stratified_model = stratify(sir_parameterized, key=\"city\", strata=cities, cartesian_control=False, directed=False)\n",
    "print(stratified_model.templates[0].controller.name)"
   ]
  },
  {
   "cell_type": "code",
   "execution_count": 8,
   "id": "403d890d-2453-43a6-a9e4-abc3bb0c746c",
   "metadata": {},
   "outputs": [
    {
     "name": "stdout",
     "output_type": "stream",
     "text": [
      "infected_population_Boston\n"
     ]
    }
   ],
   "source": [
    "## New behavior 1: Look up curies automatically for renaming\n",
    "stratified_model_2 = stratify(sir_parameterized, key=\"city\", strata=cities, strata_name_lookup=True, cartesian_control=False, directed=False)\n",
    "print(stratified_model_2.templates[0].controller.name)"
   ]
  },
  {
   "cell_type": "code",
   "execution_count": 12,
   "id": "453c4489-c38f-4119-a070-686d3ba32ac9",
   "metadata": {},
   "outputs": [
    {
     "name": "stdout",
     "output_type": "stream",
     "text": [
      "infected_population_red_sox\n",
      "infected_population_yankees\n"
     ]
    }
   ],
   "source": [
    "## New behavior 2: provide custom mapping\n",
    "city_curie_map = {\"geonames:5128581\": \"yankees\", \"geonames:4930956\": \"red_sox\"}\n",
    "stratified_model_3 = stratify(sir_parameterized, key=\"city\", strata=cities, strata_curie_to_name=city_curie_map, cartesian_control=False, directed=False)\n",
    "print(stratified_model_3.templates[0].controller.name)\n",
    "print(stratified_model_3.templates[1].controller.name)"
   ]
  }
 ],
 "metadata": {
  "kernelspec": {
   "display_name": "Python 3 (ipykernel)",
   "language": "python",
   "name": "python3"
  },
  "language_info": {
   "codemirror_mode": {
    "name": "ipython",
    "version": 3
   },
   "file_extension": ".py",
   "mimetype": "text/x-python",
   "name": "python",
   "nbconvert_exporter": "python",
   "pygments_lexer": "ipython3",
   "version": "3.11.4"
  }
 },
 "nbformat": 4,
 "nbformat_minor": 5
}
