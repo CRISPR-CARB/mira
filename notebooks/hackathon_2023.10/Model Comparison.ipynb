{
 "cells": [
  {
   "cell_type": "markdown",
   "id": "a519e72a-f8ee-47c7-9b96-3209c2cc1863",
   "metadata": {},
   "source": [
    "## Proccessing a subset of COIVD-19 biomodels.\n",
    "\n",
    "The BioModels database contains 28 published COVID-19 models. Each of these models is available in a structured format: SBML. We first process a subset of the 28 models to compute pairwise similarity scores with and without grounding. \n",
    "\n",
    "The six selected reproducible simulations studies targeting COVID-19 are listed [here](https://www.ebi.ac.uk/biomodels/covid-19)."
   ]
  },
  {
   "cell_type": "code",
   "execution_count": null,
   "id": "f8dbb0dc-44b3-414a-be6d-9b6b3b82381e",
   "metadata": {},
   "outputs": [
    {
     "name": "stdout",
     "output_type": "stream",
     "text": [
      "env: MIRA_REST_URL=http://34.230.33.149:8771\n"
     ]
    }
   ],
   "source": [
    "from mira.sources import biomodels\n",
    "from mira.metamodel.comparison import *\n",
    "from mira.metamodel.template_model import *\n",
    "from mira.metamodel.templates import *\n",
    "from mira.sources import biomodels\n",
    "\n",
    "from itertools import combinations\n",
    "from copy import deepcopy\n",
    "from tabulate import tabulate\n",
    "\n",
    "import pandas as pd\n",
    "import matplotlib.pyplot as plt\n",
    "\n",
    "\n",
    "%env MIRA_REST_URL=http://34.230.33.149:8771\n",
    "rc = get_dkg_refinement_closure()"
   ]
  },
  {
   "cell_type": "code",
   "execution_count": null,
   "id": "bcf47a4b-090c-4c1f-b564-3bd8d9bfd290",
   "metadata": {},
   "outputs": [],
   "source": [
    "SUBSET_MODEL_LIST = [\"BIOMD0000000955\", \"BIOMD0000000956\", \"BIOMD0000000957\",\"BIOMD0000000958\",\"BIOMD0000000960\",\"BIOMD0000000962\"]\n",
    "\n",
    "tm_covid_subset_grounding_list = []\n",
    "for covid_model in SUBSET_MODEL_LIST:\n",
    "    tm_covid_subset_grounding_list.append(biomodels.get_template_model(covid_model))\n",
    "\n",
    "model_id_subset_name_mapping = {id:tm.annotations.name.split(' ')[0] for id,tm in enumerate(tm_covid_subset_grounding_list)}"
   ]
  },
  {
   "cell_type": "markdown",
   "id": "48aab7a4-998d-461b-bc05-cd951557bb7c",
   "metadata": {},
   "source": [
    "## We convert the subset of COVID-19 biomodels into MIRA template models. We then compute pairwise similarity scores between each grounded model.\n",
    "\n",
    "Similarity scores between template models are calculated by comparing the nodes of each template model. If the nodes are equal, then we add 1 to the score, if the first template model's node is a reinfement of the second template model's node, we add 0.5 to the score. The similarity score is achieved by dividing the total score by the number of nodes in the larger template model.   \n"
   ]
  },
  {
   "cell_type": "code",
   "execution_count": null,
   "id": "87b357ac-db72-4c62-9ce8-d9d208bd7d76",
   "metadata": {},
   "outputs": [],
   "source": [
    "tm_covid_subset_comparison = TemplateModelComparison(tm_covid_subset_grounding_list,refinement_func=rc.is_ontological_child)\n",
    "grounded_scores = tm_covid_subset_comparison.model_comparison.get_similarity_scores()\n",
    "\n",
    "grounded_scores_df_list = [{'Model1':model_id_subset_name_mapping[d['models'][0]], 'Model2':model_id_subset_name_mapping[d['models'][1]], 'Similarity Score':d['score']} for d in grounded_scores]\n",
    "df_grounded = pd.DataFrame(grounded_scores_df_list)\n",
    "df_grounded"
   ]
  },
  {
   "cell_type": "markdown",
   "id": "98c57c49-7ffa-4452-8657-4fa7c23248db",
   "metadata": {},
   "source": [
    "## We visualize the difference between the third (BIOMD0000000957) and sixth (BIOMD0000000962) grounded covid models "
   ]
  },
  {
   "cell_type": "code",
   "execution_count": null,
   "id": "96cc1518-9fd6-4f71-b9b2-7c92b565f37c",
   "metadata": {},
   "outputs": [],
   "source": [
    "print(tm_covid_subset_comparison.template_models[2].annotations.name)\n",
    "print(tm_covid_subset_comparison.template_models[5].annotations.name)"
   ]
  },
  {
   "cell_type": "code",
   "execution_count": null,
   "id": "c6c27191-6089-4c4c-aee0-378dff952537",
   "metadata": {},
   "outputs": [],
   "source": [
    "TemplateModelDelta.for_jupyter(tm_covid_subset_comparison.template_models[2],tm_covid_subset_comparison.template_models[5],\n",
    "                                               rc.is_ontological_child, args=\"-Grankdir=TB\")"
   ]
  },
  {
   "cell_type": "markdown",
   "id": "a06764fe-cc15-447b-8ff8-7395a58ee737",
   "metadata": {},
   "source": [
    "## We then remove groundings from each of the template models.\n",
    "\n",
    "With groundings from each template model, we expect the pair-wise template model similarity scores to decrease due to the refinements dissapearing. This is because in the presence of groundings, the confirmed concept node would be classified as equal between the two template models. However, without groundings, the shared concept node between the two models cannot be classified as equal between the two models. "
   ]
  },
  {
   "cell_type": "code",
   "execution_count": null,
   "id": "18a52915-eb78-4762-bc6b-9be649b09ecf",
   "metadata": {},
   "outputs": [],
   "source": [
    "tm_covid_subset_no_grounding_list = [] \n",
    "for tm in tm_covid_subset_grounding_list:\n",
    "    copied_tm = deepcopy(tm)\n",
    "    for template in copied_tm.templates:\n",
    "        for concept in template.get_concepts():\n",
    "            concept.identifiers = {}\n",
    "            concept.context = {}\n",
    "    tm_covid_subset_no_grounding_list.append(copied_tm)"
   ]
  },
  {
   "cell_type": "markdown",
   "id": "5e0019a0-2ac3-4eb5-b8c1-f44457ff5826",
   "metadata": {},
   "source": [
    "## Compute pairwise similarity scores between each ungrounded model\n",
    "\n",
    "We compare grounded and ungrounded model similarity scores."
   ]
  },
  {
   "cell_type": "code",
   "execution_count": null,
   "id": "79475119-ca7c-460c-9477-41477a65597a",
   "metadata": {},
   "outputs": [],
   "source": [
    "tm_covid_subset_comparison_copy = TemplateModelComparison(tm_covid_subset_no_grounding_list,refinement_func=rc.is_ontological_child)\n",
    "ungrounded_scores = tm_covid_subset_comparison_copy.model_comparison.get_similarity_scores()\n",
    "\n",
    "list_of_both_subset = []\n",
    "\n",
    "for grounded_score,ungrounded_score in zip(grounded_scores,ungrounded_scores):\n",
    "    list_of_both_subset.append({'Model1':model_id_subset_name_mapping[grounded_score['models'][0]],\n",
    "                         'Model2':model_id_subset_name_mapping[grounded_score['models'][1]],\n",
    "                         'Similarity Score with Grounding':grounded_score['score'],\n",
    "                        'Similarity Score without Grounding':ungrounded_score['score']})\n",
    "                    \n",
    "\n",
    "no_ground_df = pd.DataFrame(list_of_both_subset)\n",
    "no_ground_df"
   ]
  },
  {
   "cell_type": "markdown",
   "id": "c1bafd46-f1d6-4fa5-a3da-ed7348b53b45",
   "metadata": {},
   "source": [
    "## Visualize the difference between the two selected models with groundings now removed."
   ]
  },
  {
   "cell_type": "code",
   "execution_count": null,
   "id": "6713a2a3-0413-4045-a07c-8f8c847b2bd1",
   "metadata": {
    "scrolled": true
   },
   "outputs": [],
   "source": [
    "TemplateModelDelta.for_jupyter(tm_covid_subset_comparison_copy.template_models[2],tm_covid_subset_comparison_copy.template_models[5],\n",
    "                                               rc.is_ontological_child,args=\"-Grankdir=TB\")"
   ]
  },
  {
   "cell_type": "code",
   "execution_count": null,
   "id": "19ba61d4-b7a9-4709-8d60-ff0fdd9f5091",
   "metadata": {},
   "outputs": [],
   "source": [
    "print(f\"The similarity score between models 2 and 5 when grounded is {grounded_scores[11]['score']}. The similarity score between the models when ungrounded is {list_of_both_subset[11]['Similarity Score without Grounding']}.\")"
   ]
  },
  {
   "cell_type": "code",
   "execution_count": null,
   "id": "16c8f7ca-d135-4974-88a8-5d452e43e83b",
   "metadata": {},
   "outputs": [],
   "source": [
    "lower_count = 0 \n",
    "higher_count = 0\n",
    "same_count = 0\n",
    "for model_comparison in list_of_both_subset:\n",
    "    if model_comparison['Similarity Score without Grounding'] < model_comparison['Similarity Score with Grounding']:\n",
    "        lower_count += 1\n",
    "    elif model_comparison['Similarity Score without Grounding'] > model_comparison['Similarity Score with Grounding']:\n",
    "        higher_count += 1\n",
    "    elif model_comparison['Similarity Score without Grounding'] == model_comparison['Similarity Score with Grounding']:\n",
    "        same_count += 1\n",
    "        \n",
    "print(f\"Out of {len(list_of_both_subset)} pairs of models, {lower_count} pairs of models have reduced similarity scores with \\\n",
    "groundings removed. {higher_count} pairs of models have increased similarity scores without groundings. {same_count} pairs of models \\\n",
    "have the same similarity scores with groundings removed.\")"
   ]
  },
  {
   "cell_type": "markdown",
   "id": "81463d12-b776-439f-9a86-7acc9e073135",
   "metadata": {},
   "source": [
    "## We then compute pairwise similarity scores between 24 of the 26 listed COVID-19 models in the BioModels database. \n",
    "\n",
    "The entire database of models can be found [here](https://www.ebi.ac.uk/biomodels/search?query=submitter_keywords:COVID-19&domain=biomodels). "
   ]
  },
  {
   "cell_type": "code",
   "execution_count": null,
   "id": "f3456e7a-ed18-4c88-8df6-cb218a126e4c",
   "metadata": {},
   "outputs": [],
   "source": [
    "ALL_MODEL_LIST = [\"BIOMD0000000955\", \"BIOMD0000000956\", \"BIOMD0000000957\",\"BIOMD0000000958\",\"BIOMD0000000960\",\"BIOMD0000000962\",\n",
    "                    \"BIOMD0000000963\", \n",
    "                    \"BIOMD0000000964\", \"BIOMD0000000969\", \"BIOMD0000000970\",\"BIOMD0000000971\",\"BIOMD0000000972\",\n",
    "                    \"BIOMD0000000974\",\"BIOMD0000000976\", \n",
    "                    \"BIOMD0000000977\", \"BIOMD0000000978\", \"BIOMD0000000979\", \"BIOMD0000000980\", \"BIOMD0000000981\",\n",
    "                    \"BIOMD0000000982\",\n",
    "                    \"BIOMD0000000983\",\n",
    "                    \"BIOMD0000000984\",\"BIOMD0000000988\",\"BIOMD0000000991\"]\n"
   ]
  },
  {
   "cell_type": "code",
   "execution_count": null,
   "id": "9f8ba516-0fda-45d4-81c8-81c080970a13",
   "metadata": {},
   "outputs": [],
   "source": [
    "tm_covid_all_grounding_list = []\n",
    "for covid_model in ALL_MODEL_LIST:\n",
    "    tm_covid_all_grounding_list.append(biomodels.get_template_model(covid_model))\n",
    "\n",
    "model_id_all_name_mapping = {id:tm.annotations.name.split(' ')[0] for id,tm in enumerate(tm_covid_all_grounding_list)}"
   ]
  },
  {
   "cell_type": "code",
   "execution_count": null,
   "id": "ad1d2fba-ee22-4e2f-b936-6d126491d2ad",
   "metadata": {},
   "outputs": [],
   "source": [
    "tm_covid_all_comparison = TemplateModelComparison(tm_covid_all_grounding_list,refinement_func=rc.is_ontological_child)\n",
    "all_grounded_scores = tm_covid_all_comparison.model_comparison.get_similarity_scores()"
   ]
  },
  {
   "cell_type": "code",
   "execution_count": null,
   "id": "859bcd00-53e9-45ce-a8a4-4593c3afe472",
   "metadata": {},
   "outputs": [],
   "source": [
    "tm_covid_all_no_grounding_list = [] \n",
    "for tm in tm_covid_all_grounding_list:\n",
    "    copied_tm = deepcopy(tm)\n",
    "    for template in copied_tm.templates:\n",
    "        for concept in template.get_concepts():\n",
    "            concept.identifiers = {}\n",
    "            concept.context = {}\n",
    "    tm_covid_all_no_grounding_list.append(copied_tm)"
   ]
  },
  {
   "cell_type": "code",
   "execution_count": null,
   "id": "b92f42e6-2684-475d-9774-f9bffc2544f1",
   "metadata": {},
   "outputs": [],
   "source": [
    "tm_covid_all_comparison_copy = TemplateModelComparison(tm_covid_all_no_grounding_list,refinement_func=rc.is_ontological_child)\n",
    "all_ungrounded_scores = tm_covid_all_comparison_copy.model_comparison.get_similarity_scores()\n",
    "\n",
    "list_of_both_all = []\n",
    "for grounded_score,ungrounded_score in zip(all_grounded_scores,all_ungrounded_scores):\n",
    "    list_of_both_all.append({'Model1':model_id_all_name_mapping[grounded_score['models'][0]],\n",
    "                         'Model2':model_id_all_name_mapping[grounded_score['models'][1]],\n",
    "                         'Similarity Score with Grounding':grounded_score['score'],\n",
    "                        'Similarity Score without Grounding':ungrounded_score['score']})"
   ]
  },
  {
   "cell_type": "code",
   "execution_count": null,
   "id": "a56b6969-25c5-4785-8da2-dd1d11ae7198",
   "metadata": {},
   "outputs": [],
   "source": [
    "after_sim_lower_count = 0\n",
    "after_sim_higher_count = 0\n",
    "after_sim_same = 0 \n",
    "for model_comparison in list_of_both_all:\n",
    "    if model_comparison['Similarity Score without Grounding'] < model_comparison['Similarity Score with Grounding']:\n",
    "        after_sim_lower_count += 1\n",
    "    elif model_comparison['Similarity Score without Grounding'] > model_comparison['Similarity Score with Grounding']:\n",
    "        after_sim_higher_count += 1\n",
    "    elif model_comparison['Similarity Score without Grounding'] == model_comparison['Similarity Score with Grounding']:\n",
    "        after_sim_same += 1"
   ]
  },
  {
   "cell_type": "code",
   "execution_count": null,
   "id": "624d75cf-2baa-4487-a9b1-1959580cd05b",
   "metadata": {},
   "outputs": [],
   "source": [
    "print(f\"Removing groundings led to a decrease in pairwise similarity scores for {after_sim_lower_count} or {round(after_sim_lower_count /len(list_of_both_all),2)}% of the {len(list_of_both_all)} pairwise model comparisons.\")"
   ]
  },
  {
   "cell_type": "code",
   "execution_count": null,
   "id": "12f6bec1-f3c0-4293-9dbb-8fe06b672a6a",
   "metadata": {},
   "outputs": [],
   "source": [
    "print(f\"Removing groundings led to an increase in pairwise similarity scores for {after_sim_higher_count} or {round(after_sim_higher_count/len(list_of_both_all),2)}% of the {len(list_of_both_all)} pairwise model comparisons.\")"
   ]
  },
  {
   "cell_type": "code",
   "execution_count": null,
   "id": "7d4d7098-939a-4200-b1a6-e303ada9ade1",
   "metadata": {},
   "outputs": [],
   "source": [
    "print(f\"Removing groundings led to no change in pairwise similarity scores for {after_sim_same} or {round(after_sim_same/len(list_of_both_all),2)}% of the {len(list_of_both_all)} pairwise model comparisons.\")"
   ]
  },
  {
   "cell_type": "code",
   "execution_count": null,
   "id": "09c95e30-9cb1-4492-a097-72eed6cc5e0f",
   "metadata": {},
   "outputs": [],
   "source": [
    "diffs = []\n",
    "for model_comparison in list_of_both_all:\n",
    "    diffs.append(model_comparison['Similarity Score with Grounding'] - model_comparison['Similarity Score without Grounding'])"
   ]
  },
  {
   "cell_type": "markdown",
   "id": "304ea6ca-32ab-41da-9497-ac0ecae4b8e8",
   "metadata": {},
   "source": [
    "## We then plot the difference of similarity scores before and after grounding has been removed"
   ]
  },
  {
   "cell_type": "code",
   "execution_count": null,
   "id": "7f169538-631a-404c-b532-aee2ebeb6f2f",
   "metadata": {},
   "outputs": [],
   "source": [
    "plt.boxplot(diffs, showmeans=True)\n",
    "plt.ylabel('Model comparison score difference\\n (with DKG - without DKG)')\n",
    "plt.xlabel('COVID-19 epidemiology model pairs')\n",
    "plt.xticks([])\n",
    "plt.plot([-1, 2], [0, 0], 'k--')\n",
    "plt.xlim([0.5, 1.5])"
   ]
  },
  {
   "cell_type": "code",
   "execution_count": null,
   "id": "cf854bd9-1c00-4ce9-a005-88950696410d",
   "metadata": {},
   "outputs": [],
   "source": [
    "plt.boxplot([abs(d) for d in diffs], showmeans=True)\n",
    "plt.ylabel('Model comparison score difference\\n abs(with DKG - without DKG)')\n",
    "plt.xlabel('COVID-19 epidemiology model pairs')\n",
    "plt.xticks([])\n",
    "plt.xlim([0.5, 1.5])"
   ]
  }
 ],
 "metadata": {
  "kernelspec": {
   "display_name": "Python 3 (ipykernel)",
   "language": "python",
   "name": "python3"
  },
  "language_info": {
   "codemirror_mode": {
    "name": "ipython",
    "version": 3
   },
   "file_extension": ".py",
   "mimetype": "text/x-python",
   "name": "python",
   "nbconvert_exporter": "python",
   "pygments_lexer": "ipython3",
   "version": "3.10.12"
  }
 },
 "nbformat": 4,
 "nbformat_minor": 5
}
