{
 "cells": [
  {
   "cell_type": "markdown",
   "id": "9e1a65b1",
   "metadata": {},
   "source": [
    "def SEIRHD_Model(y, t, N, beta, r_I_to_R, r_I_to_H, r_E_to_I, r_H_to_R, r_H_to_D, p_I_to_H, p_I_to_R, p_H_to_D, p_H_to_R):\n",
    "    S, E, I, R, H, D = y\n",
    "\n",
    "    dSdt = -beta * I * S / N\n",
    "    dEdt = beta* I * S / N - r_E_to_I * E\n",
    "    dIdt = r_E_to_I * E - (r_I_to_H * p_I_to_H) * I - (r_I_to_R * p_I_to_R * I)\n",
    "    dRdt = (r_I_to_R * p_I_to_R * I) + (r_H_to_R * p_H_to_R * H)\n",
    "    dHdt = (r_I_to_H * p_I_to_H * I) - (r_H_to_D * p_H_to_D * H)  - (r_H_to_R * p_H_to_R * H)\n",
    "    dDdt = r_H_to_D * p_H_to_D * H\n",
    "    return dSdt, dEdt, dIdt, dRdt, dHdt, dDdt"
   ]
  },
  {
   "cell_type": "code",
   "execution_count": 1,
   "id": "d104e79e",
   "metadata": {},
   "outputs": [],
   "source": [
    "import sympy\n",
    "from copy import deepcopy as _d\n",
    "from mira.metamodel import *\n",
    "from mira.modeling import Model\n",
    "from mira.modeling.askenet.petrinet import AskeNetPetriNetModel\n",
    "from mira.modeling.viz import GraphicalModel"
   ]
  },
  {
   "cell_type": "code",
   "execution_count": 2,
   "id": "453a8b4e",
   "metadata": {},
   "outputs": [],
   "source": [
    "person_units = lambda: Unit(expression=sympy.Symbol('person'))\n",
    "day_units = lambda: Unit(expression=sympy.Symbol('day'))\n",
    "per_day_units = lambda: Unit(expression=1/sympy.Symbol('day'))\n",
    "dimensionless_units = lambda: Unit(expression=sympy.Integer('1'))\n",
    "per_day_per_person_units = lambda: Unit(expression=1/(sympy.Symbol('day')*sympy.Symbol('person')))\n",
    "\n",
    "c = {\n",
    "    'S': Concept(name='S', units=person_units(), identifiers={'ido': '0000514'}),\n",
    "    'E': Concept(name='E', units=person_units(), identifiers={'apollosv': '0000154'}),\n",
    "    'I': Concept(name='I', units=person_units(), identifiers={'ido': '0000511'}),\n",
    "    'R': Concept(name='R', units=person_units(), identifiers={'ido': '0000592'}),\n",
    "    'H': Concept(name='H', units=person_units(), identifiers={'ido': '0000511'},\n",
    "                 context={'property': 'ncit:C25179'}),\n",
    "    'D': Concept(name='D', units=person_units(), identifiers={'ncit': 'C28554'}),\n",
    "}\n",
    "\n",
    "\n",
    "N_val = 19_340_000\n",
    "E_val = 1\n",
    "I_val = 4\n",
    "\n",
    "parameters = {\n",
    "    'beta': Parameter(name='beta', value=0.4, units=per_day_per_person_units()),\n",
    "    'r_E_to_I': Parameter(name='r_E_to_I', value=0.2, units=per_day_units()),\n",
    "    'r_I_to_H': Parameter(name='r_I_to_H', value=0.1, units=per_day_units()),\n",
    "    'p_I_to_H': Parameter(name='p_I_to_H', value=0.2, units=dimensionless_units()),\n",
    "    'r_I_to_R': Parameter(name='r_I_to_R', value=0.07, units=per_day_units()),\n",
    "    'p_I_to_R': Parameter(name='p_I_to_R', value=0.8, units=dimensionless_units()),\n",
    "    'r_H_to_R': Parameter(name='r_H_to_R', value=0.1, units=per_day_units()),\n",
    "    'p_H_to_R': Parameter(name='p_H_to_R', value=0.88, units=dimensionless_units()),\n",
    "    'r_H_to_D': Parameter(name='r_H_to_D', value=0.1, units=per_day_units()),\n",
    "    'p_H_to_D': Parameter(name='p_H_to_D', value=0.12, units=dimensionless_units()),\n",
    "    'N': Parameter(name='N', value=N_val, units=person_units()),\n",
    "}\n",
    "\n",
    "\n",
    "initials = {\n",
    "    'S': Initial(concept=Concept(name='S'), value=N_val-(E_val+I_val)),\n",
    "    'E': Initial(concept=Concept(name='E'), value=E_val),\n",
    "    'I': Initial(concept=Concept(name='I'), value=I_val),\n",
    "    'R': Initial(concept=Concept(name='R'), value=0),\n",
    "    'H': Initial(concept=Concept(name='H'), value=0),\n",
    "    'D': Initial(concept=Concept(name='D'), value=0),\n",
    "}\n",
    "\n",
    "observables = {}"
   ]
  },
  {
   "cell_type": "code",
   "execution_count": 3,
   "id": "2c325c5c",
   "metadata": {},
   "outputs": [],
   "source": [
    "S, E, I, R, D, H, N, beta, r_E_to_I, r_E_to_H, r_I_to_H, p_I_to_H, r_I_to_R, p_I_to_R, r_H_to_R, p_H_to_R, r_H_to_D, p_H_to_D = \\\n",
    "    sympy.symbols('S E I R D H N beta r_E_to_I r_E_to_H r_I_to_H p_I_to_H r_I_to_R p_I_to_R r_H_to_R p_H_to_R r_H_to_D p_H_to_D')"
   ]
  },
  {
   "cell_type": "code",
   "execution_count": 4,
   "id": "2fc8448f",
   "metadata": {},
   "outputs": [],
   "source": [
    "t1 = ControlledConversion(subject=c['S'],\n",
    "                          outcome=c['E'],\n",
    "                          controller=c['I'],\n",
    "                          rate_law=S*I*beta / N)\n",
    "t2 = NaturalConversion(subject=c['E'],\n",
    "                       outcome=c['I'],\n",
    "                       rate_law=r_E_to_I*E)\n",
    "t3 = NaturalConversion(subject=c['I'],\n",
    "                       outcome=c['R'],\n",
    "                       rate_law=r_I_to_R*p_I_to_R*I)\n",
    "t4 = NaturalConversion(subject=c['I'],\n",
    "                       outcome=c['H'],\n",
    "                       rate_law=r_I_to_H*p_I_to_H*I)\n",
    "t5 = NaturalConversion(subject=c['H'],\n",
    "                       outcome=c['R'],\n",
    "                       rate_law=r_H_to_R*p_H_to_R*H)\n",
    "t6 = NaturalConversion(subject=c['H'],\n",
    "                       outcome=c['D'],\n",
    "                       rate_law=r_H_to_D*p_H_to_D*H)\n",
    "templates = [t1, t2, t3, t4, t5, t6]\n",
    "tm = TemplateModel(\n",
    "    templates=templates,\n",
    "    parameters=parameters,\n",
    "    initials=initials,\n",
    "    time=Time(name='t', units=day_units()),\n",
    "    observables=observables,\n",
    "    annotations=Annotations(name='Evaluation Scenario 1 Base model')\n",
    ")\n",
    "AskeNetPetriNetModel(Model(tm)).to_json_file('eval_scenario1_base.json')"
   ]
  },
  {
   "cell_type": "code",
   "execution_count": null,
   "id": "80b83bc2",
   "metadata": {},
   "outputs": [],
   "source": []
  }
 ],
 "metadata": {
  "kernelspec": {
   "display_name": "Python 3 (ipykernel)",
   "language": "python",
   "name": "python3"
  },
  "language_info": {
   "codemirror_mode": {
    "name": "ipython",
    "version": 3
   },
   "file_extension": ".py",
   "mimetype": "text/x-python",
   "name": "python",
   "nbconvert_exporter": "python",
   "pygments_lexer": "ipython3",
   "version": "3.10.12"
  }
 },
 "nbformat": 4,
 "nbformat_minor": 5
}
