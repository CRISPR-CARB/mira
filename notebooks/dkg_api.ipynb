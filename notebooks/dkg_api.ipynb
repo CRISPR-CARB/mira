{
 "cells": [
  {
   "cell_type": "code",
   "execution_count": 1,
   "id": "beefdde6",
   "metadata": {},
   "outputs": [],
   "source": [
    "import requests\n",
    "import humanize"
   ]
  },
  {
   "cell_type": "code",
   "execution_count": 2,
   "id": "561274a2",
   "metadata": {},
   "outputs": [],
   "source": [
    "base = \"http://localhost:8771/api\""
   ]
  },
  {
   "cell_type": "code",
   "execution_count": 3,
   "id": "a31858fb",
   "metadata": {},
   "outputs": [
    {
     "name": "stdout",
     "output_type": "stream",
     "text": [
      "Response weighted 12.7 MB\n",
      "CPU times: user 23.8 ms, sys: 11.9 ms, total: 35.7 ms\n",
      "Wall time: 3.33 s\n"
     ]
    }
   ],
   "source": [
    "%%time\n",
    "res = requests.get(base + \"/lexical\")\n",
    "print(f\"Response weighted {humanize.naturalsize(len(res.content))}\")"
   ]
  },
  {
   "cell_type": "code",
   "execution_count": 4,
   "id": "53c753e5",
   "metadata": {},
   "outputs": [],
   "source": [
    "def query(payload, **_payload):\n",
    "    payload.update(_payload)\n",
    "    res = requests.post(base + \"/relations\", json=payload)\n",
    "    return res.json()"
   ]
  },
  {
   "cell_type": "code",
   "execution_count": 5,
   "id": "50aadb7e",
   "metadata": {},
   "outputs": [
    {
     "data": {
      "text/plain": [
       "[['vo:0000000', 'rdfs:subClassOf', 'vo:0000420'],\n",
       " ['vo:0000000', 'rdfs:subClassOf', 'vo:0000420']]"
      ]
     },
     "execution_count": 5,
     "metadata": {},
     "output_type": "execute_result"
    }
   ],
   "source": [
    "# Query for relations with VO source nodes\n",
    "query({\"source_type\": \"vo\", \"limit\": 2})"
   ]
  },
  {
   "cell_type": "code",
   "execution_count": 6,
   "id": "9849d6c8",
   "metadata": {},
   "outputs": [
    {
     "data": {
      "text/plain": [
       "[['symp:0000375', 'rdfs:subClassOf', 'symp:0000001'],\n",
       " ['doid:96', 'ro:0002452', 'symp:0000001']]"
      ]
     },
     "execution_count": 6,
     "metadata": {},
     "output_type": "execute_result"
    }
   ],
   "source": [
    "# Query for relations with SYMP target nodes\n",
    "query({\"target_type\": \"symp\", \"limit\": 2})"
   ]
  },
  {
   "cell_type": "code",
   "execution_count": 7,
   "id": "f8eafd7f",
   "metadata": {},
   "outputs": [
    {
     "data": {
      "text/plain": [
       "[['doid:96', 'ro:0002452', 'symp:0000001'],\n",
       " ['doid:946', 'ro:0002452', 'symp:0000001']]"
      ]
     },
     "execution_count": 7,
     "metadata": {},
     "output_type": "execute_result"
    }
   ],
   "source": [
    "# Query for relations from DOID to SYMP nodes\n",
    "query({\"source_type\": \"doid\", \"target_type\": \"symp\", \"limit\": 2})"
   ]
  },
  {
   "cell_type": "code",
   "execution_count": 8,
   "id": "86d52811",
   "metadata": {},
   "outputs": [
    {
     "data": {
      "text/plain": [
       "[['doid:946', 'ro:0002452', 'symp:0019177'],\n",
       " ['doid:946', 'ro:0002452', 'symp:0000570']]"
      ]
     },
     "execution_count": 8,
     "metadata": {},
     "output_type": "execute_result"
    }
   ],
   "source": [
    "# Query for relations with a specific source\n",
    "query({\"source_curie\": \"doid:946\", \"limit\": 2})"
   ]
  },
  {
   "cell_type": "code",
   "execution_count": 9,
   "id": "1302ae07",
   "metadata": {},
   "outputs": [
    {
     "data": {
      "text/plain": [
       "[['symp:0020011', 'rdfs:subClassOf', 'symp:0000570'],\n",
       " ['symp:0000738', 'rdfs:subClassOf', 'symp:0000570']]"
      ]
     },
     "execution_count": 9,
     "metadata": {},
     "output_type": "execute_result"
    }
   ],
   "source": [
    "# Query for relations with a specific target\n",
    "query({\"target_curie\": \"symp:0000570\", \"limit\": 2})"
   ]
  },
  {
   "cell_type": "code",
   "execution_count": 10,
   "id": "54e23bf2",
   "metadata": {},
   "outputs": [
    {
     "data": {
      "text/plain": [
       "[['bfo:0000002', 'rdfs:subClassOf', 'bfo:0000001'],\n",
       " ['bfo:0000002', 'rdfs:subClassOf', 'bfo:0000001']]"
      ]
     },
     "execution_count": 10,
     "metadata": {},
     "output_type": "execute_result"
    }
   ],
   "source": [
    "# Query for specific source + relation\n",
    "query({\"source_curie\": \"bfo:0000002\", \"relation\": \"rdfs:subClassOf\", \"limit\": 2})"
   ]
  },
  {
   "cell_type": "code",
   "execution_count": 11,
   "id": "af622294",
   "metadata": {},
   "outputs": [
    {
     "data": {
      "text/plain": [
       "[['bfo:0000002', ['rdfs:subClassOf'], 'bfo:0000001'],\n",
       " ['bfo:0000002', ['rdfs:subClassOf', 'rdfs:subClassOf'], 'owl:Thing']]"
      ]
     },
     "execution_count": 11,
     "metadata": {},
     "output_type": "execute_result"
    }
   ],
   "source": [
    "# Query for specific source + relation over a finite number of hops\n",
    "query({\n",
    "    \"source_curie\": \"bfo:0000002\", \n",
    "    \"relation\": \"rdfs:subClassOf\", \n",
    "    \"relation_max_hops\": 2,\n",
    "    \"limit\": 2,\n",
    "})"
   ]
  },
  {
   "cell_type": "code",
   "execution_count": 12,
   "id": "87dd3cf3",
   "metadata": {},
   "outputs": [
    {
     "data": {
      "text/plain": [
       "[['bfo:0000002', ['rdfs:subClassOf'], 'bfo:0000001'],\n",
       " ['bfo:0000002', ['rdfs:subClassOf', 'rdfs:subClassOf'], 'owl:Thing']]"
      ]
     },
     "execution_count": 12,
     "metadata": {},
     "output_type": "execute_result"
    }
   ],
   "source": [
    "# Query for specific source + relation over a finite number of hops\n",
    "query({\n",
    "    \"source_curie\": \"bfo:0000002\", \n",
    "    \"relation\": \"rdfs:subClassOf\", \n",
    "    \"relation_max_hops\": 0,\n",
    "    \"distinct\": True,\n",
    "})"
   ]
  },
  {
   "cell_type": "code",
   "execution_count": 14,
   "id": "91d4877d",
   "metadata": {},
   "outputs": [
    {
     "data": {
      "text/plain": [
       "[['doid:946', ['rdfs:subClassOf'], 'doid:2789'],\n",
       " ['doid:946', ['rdfs:subClassOf', 'rdfs:subClassOf'], 'doid:1398'],\n",
       " ['doid:946',\n",
       "  ['rdfs:subClassOf', 'rdfs:subClassOf', 'rdfs:subClassOf'],\n",
       "  'doid:0050117'],\n",
       " ['doid:946',\n",
       "  ['rdfs:subClassOf', 'rdfs:subClassOf', 'rdfs:subClassOf', 'rdfs:subClassOf'],\n",
       "  'doid:4'],\n",
       " ['doid:946',\n",
       "  ['rdfs:subClassOf',\n",
       "   'rdfs:subClassOf',\n",
       "   'rdfs:subClassOf',\n",
       "   'rdfs:subClassOf',\n",
       "   'rdfs:subClassOf'],\n",
       "  'bfo:0000016'],\n",
       " ['doid:946',\n",
       "  ['rdfs:subClassOf',\n",
       "   'rdfs:subClassOf',\n",
       "   'rdfs:subClassOf',\n",
       "   'rdfs:subClassOf',\n",
       "   'rdfs:subClassOf',\n",
       "   'rdfs:subClassOf'],\n",
       "  'bfo:0000017'],\n",
       " ['doid:946',\n",
       "  ['rdfs:subClassOf',\n",
       "   'rdfs:subClassOf',\n",
       "   'rdfs:subClassOf',\n",
       "   'rdfs:subClassOf',\n",
       "   'rdfs:subClassOf',\n",
       "   'rdfs:subClassOf',\n",
       "   'rdfs:subClassOf'],\n",
       "  'bfo:0000020'],\n",
       " ['doid:946',\n",
       "  ['rdfs:subClassOf',\n",
       "   'rdfs:subClassOf',\n",
       "   'rdfs:subClassOf',\n",
       "   'rdfs:subClassOf',\n",
       "   'rdfs:subClassOf',\n",
       "   'rdfs:subClassOf',\n",
       "   'rdfs:subClassOf',\n",
       "   'rdfs:subClassOf'],\n",
       "  'bfo:0000002'],\n",
       " ['doid:946',\n",
       "  ['rdfs:subClassOf',\n",
       "   'rdfs:subClassOf',\n",
       "   'rdfs:subClassOf',\n",
       "   'rdfs:subClassOf',\n",
       "   'rdfs:subClassOf',\n",
       "   'rdfs:subClassOf',\n",
       "   'rdfs:subClassOf',\n",
       "   'rdfs:subClassOf',\n",
       "   'rdfs:subClassOf'],\n",
       "  'bfo:0000001'],\n",
       " ['doid:946',\n",
       "  ['rdfs:subClassOf',\n",
       "   'rdfs:subClassOf',\n",
       "   'rdfs:subClassOf',\n",
       "   'rdfs:subClassOf',\n",
       "   'rdfs:subClassOf',\n",
       "   'rdfs:subClassOf',\n",
       "   'rdfs:subClassOf',\n",
       "   'rdfs:subClassOf',\n",
       "   'rdfs:subClassOf',\n",
       "   'rdfs:subClassOf'],\n",
       "  'owl:Thing'],\n",
       " ['doid:946',\n",
       "  ['rdfs:subClassOf',\n",
       "   'rdfs:subClassOf',\n",
       "   'rdfs:subClassOf',\n",
       "   'rdfs:subClassOf',\n",
       "   'rdfs:subClassOf',\n",
       "   'rdfs:subClassOf',\n",
       "   'rdfs:subClassOf',\n",
       "   'rdfs:subClassOf'],\n",
       "  'bfo:0000005'],\n",
       " ['doid:946',\n",
       "  ['rdfs:subClassOf',\n",
       "   'rdfs:subClassOf',\n",
       "   'rdfs:subClassOf',\n",
       "   'rdfs:subClassOf',\n",
       "   'rdfs:subClassOf',\n",
       "   'rdfs:subClassOf',\n",
       "   'rdfs:subClassOf',\n",
       "   'rdfs:subClassOf',\n",
       "   'rdfs:subClassOf'],\n",
       "  'bfo:0000002'],\n",
       " ['doid:946',\n",
       "  ['rdfs:subClassOf',\n",
       "   'rdfs:subClassOf',\n",
       "   'rdfs:subClassOf',\n",
       "   'rdfs:subClassOf',\n",
       "   'rdfs:subClassOf',\n",
       "   'rdfs:subClassOf',\n",
       "   'rdfs:subClassOf',\n",
       "   'rdfs:subClassOf',\n",
       "   'rdfs:subClassOf',\n",
       "   'rdfs:subClassOf'],\n",
       "  'bfo:0000001'],\n",
       " ['doid:946',\n",
       "  ['rdfs:subClassOf',\n",
       "   'rdfs:subClassOf',\n",
       "   'rdfs:subClassOf',\n",
       "   'rdfs:subClassOf',\n",
       "   'rdfs:subClassOf',\n",
       "   'rdfs:subClassOf',\n",
       "   'rdfs:subClassOf',\n",
       "   'rdfs:subClassOf',\n",
       "   'rdfs:subClassOf',\n",
       "   'rdfs:subClassOf',\n",
       "   'rdfs:subClassOf'],\n",
       "  'owl:Thing']]"
      ]
     },
     "execution_count": 14,
     "metadata": {},
     "output_type": "execute_result"
    }
   ],
   "source": [
    "# Get all ancestors of a given node by querying over paths of multiple queries\n",
    "query({\n",
    "    \"source_curie\": \"doid:946\", \n",
    "    \"relation\": [\"rdfs:subClassOf\", \"part_of\"], \n",
    "    \"relation_max_hops\": 0,\n",
    "    \"distinct\": True,\n",
    "})"
   ]
  }
 ],
 "metadata": {
  "kernelspec": {
   "display_name": "Python 3 (ipykernel)",
   "language": "python",
   "name": "python3"
  },
  "language_info": {
   "codemirror_mode": {
    "name": "ipython",
    "version": 3
   },
   "file_extension": ".py",
   "mimetype": "text/x-python",
   "name": "python",
   "nbconvert_exporter": "python",
   "pygments_lexer": "ipython3",
   "version": "3.9.13"
  }
 },
 "nbformat": 4,
 "nbformat_minor": 5
}
