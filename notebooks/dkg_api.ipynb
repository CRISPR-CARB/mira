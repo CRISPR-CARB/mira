{
 "cells": [
  {
   "cell_type": "code",
   "execution_count": 1,
   "id": "beefdde6",
   "metadata": {},
   "outputs": [],
   "source": [
    "import requests\n",
    "import humanize"
   ]
  },
  {
   "cell_type": "code",
   "execution_count": 2,
   "id": "561274a2",
   "metadata": {},
   "outputs": [],
   "source": [
    "base = \"http://localhost:8771/api\""
   ]
  },
  {
   "cell_type": "code",
   "execution_count": 3,
   "id": "a31858fb",
   "metadata": {},
   "outputs": [
    {
     "name": "stdout",
     "output_type": "stream",
     "text": [
      "Response weighted 12.7 MB\n",
      "CPU times: user 23.6 ms, sys: 11.3 ms, total: 35 ms\n",
      "Wall time: 3.39 s\n"
     ]
    }
   ],
   "source": [
    "%%time\n",
    "res = requests.get(base + \"/lexical\")\n",
    "print(f\"Response weighted {humanize.naturalsize(len(res.content))}\")"
   ]
  },
  {
   "cell_type": "code",
   "execution_count": 4,
   "id": "492f0de9",
   "metadata": {},
   "outputs": [],
   "source": [
    "def query(payload, **_payload):\n",
    "    payload.update(_payload)\n",
    "    res = requests.post(base + \"/relations\", json=payload)\n",
    "    return res.json()"
   ]
  },
  {
   "cell_type": "code",
   "execution_count": 5,
   "id": "50aadb7e",
   "metadata": {},
   "outputs": [
    {
     "data": {
      "text/plain": [
       "[['vo:0000000', 'rdfs:subClassOf', 'vo:0000420'],\n",
       " ['vo:0000000', 'rdfs:subClassOf', 'vo:0000420']]"
      ]
     },
     "execution_count": 5,
     "metadata": {},
     "output_type": "execute_result"
    }
   ],
   "source": [
    "# Query for relations with VO source nodes\n",
    "query({\"source_type\": \"vo\", \"limit\": 2})"
   ]
  },
  {
   "cell_type": "code",
   "execution_count": 6,
   "id": "8dc3540f",
   "metadata": {},
   "outputs": [
    {
     "data": {
      "text/plain": [
       "[['symp:0000375', 'rdfs:subClassOf', 'symp:0000001'],\n",
       " ['doid:96', 'ro:0002452', 'symp:0000001']]"
      ]
     },
     "execution_count": 6,
     "metadata": {},
     "output_type": "execute_result"
    }
   ],
   "source": [
    "# Query for relations with SYMP target nodes\n",
    "query({\"target_type\": \"symp\", \"limit\": 2})"
   ]
  },
  {
   "cell_type": "code",
   "execution_count": 7,
   "id": "344831fe",
   "metadata": {},
   "outputs": [
    {
     "data": {
      "text/plain": [
       "[['doid:96', 'ro:0002452', 'symp:0000001'],\n",
       " ['doid:946', 'ro:0002452', 'symp:0000001']]"
      ]
     },
     "execution_count": 7,
     "metadata": {},
     "output_type": "execute_result"
    }
   ],
   "source": [
    "# Query for relations from DOID to SYMP nodes\n",
    "query({\"source_type\": \"doid\", \"target_type\": \"symp\", \"limit\": 2})"
   ]
  },
  {
   "cell_type": "code",
   "execution_count": 8,
   "id": "d1a993e2",
   "metadata": {},
   "outputs": [
    {
     "data": {
      "text/plain": [
       "[['doid:946', 'ro:0002452', 'symp:0019177'],\n",
       " ['doid:946', 'ro:0002452', 'symp:0000570']]"
      ]
     },
     "execution_count": 8,
     "metadata": {},
     "output_type": "execute_result"
    }
   ],
   "source": [
    "# Query for relations with a specific source\n",
    "query({\"source_curie\": \"doid:946\", \"limit\": 2})"
   ]
  },
  {
   "cell_type": "code",
   "execution_count": 9,
   "id": "ce85ed7c",
   "metadata": {},
   "outputs": [
    {
     "data": {
      "text/plain": [
       "[['symp:0020011', 'rdfs:subClassOf', 'symp:0000570'],\n",
       " ['symp:0000738', 'rdfs:subClassOf', 'symp:0000570']]"
      ]
     },
     "execution_count": 9,
     "metadata": {},
     "output_type": "execute_result"
    }
   ],
   "source": [
    "# Query for relations with a specific target\n",
    "query({\"target_curie\": \"symp:0000570\", \"limit\": 2})"
   ]
  },
  {
   "cell_type": "code",
   "execution_count": 10,
   "id": "00ab7c2c",
   "metadata": {},
   "outputs": [
    {
     "data": {
      "text/plain": [
       "[['bfo:0000002', 'rdfs:subClassOf', 'bfo:0000001'],\n",
       " ['bfo:0000002', 'rdfs:subClassOf', 'bfo:0000001']]"
      ]
     },
     "execution_count": 10,
     "metadata": {},
     "output_type": "execute_result"
    }
   ],
   "source": [
    "# Query for specific source + relation\n",
    "query({\"source_curie\": \"bfo:0000002\", \"relation\": \"rdfs:subClassOf\", \"limit\": 2})"
   ]
  },
  {
   "cell_type": "code",
   "execution_count": 11,
   "id": "af622294",
   "metadata": {},
   "outputs": [
    {
     "data": {
      "text/plain": [
       "[['bfo:0000002', ['rdfs:subClassOf'], 'bfo:0000001'],\n",
       " ['bfo:0000002', ['rdfs:subClassOf', 'rdfs:subClassOf'], 'owl:Thing']]"
      ]
     },
     "execution_count": 11,
     "metadata": {},
     "output_type": "execute_result"
    }
   ],
   "source": [
    "# Query for specific source + relation over a finite number of hops\n",
    "query(\n",
    "    {\n",
    "        \"source_curie\": \"bfo:0000002\",\n",
    "        \"relation\": \"rdfs:subClassOf\",\n",
    "        \"relation_max_hops\": 2,\n",
    "        \"limit\": 2,\n",
    "    }\n",
    ")"
   ]
  },
  {
   "cell_type": "code",
   "execution_count": 12,
   "id": "fcb50a0c",
   "metadata": {},
   "outputs": [
    {
     "data": {
      "text/plain": [
       "[['bfo:0000002', ['rdfs:subClassOf'], 'bfo:0000001'],\n",
       " ['bfo:0000002', ['rdfs:subClassOf', 'rdfs:subClassOf'], 'owl:Thing'],\n",
       " ['bfo:0000002', ['rdfs:subClassOf', 'bfo:0000108'], 'bfo:0000008'],\n",
       " ['bfo:0000002',\n",
       "  ['rdfs:subClassOf', 'bfo:0000108', 'rdfs:subClassOf'],\n",
       "  'bfo:0000003'],\n",
       " ['bfo:0000002',\n",
       "  ['rdfs:subClassOf', 'bfo:0000108', 'rdfs:subClassOf', 'rdfs:subClassOf'],\n",
       "  'bfo:0000001'],\n",
       " ['bfo:0000002',\n",
       "  ['rdfs:subClassOf',\n",
       "   'bfo:0000108',\n",
       "   'rdfs:subClassOf',\n",
       "   'rdfs:subClassOf',\n",
       "   'rdfs:subClassOf'],\n",
       "  'owl:Thing']]"
      ]
     },
     "execution_count": 12,
     "metadata": {},
     "output_type": "execute_result"
    }
   ],
   "source": [
    "# Query for specific source + relation over a variable number of hops\n",
    "query(\n",
    "    {\n",
    "        \"source_curie\": \"bfo:0000002\",\n",
    "        \"relation\": \"rdfs:subClassOf\",\n",
    "        \"relation_max_hops\": 0,\n",
    "        \"distinct\": True,\n",
    "    }\n",
    ")"
   ]
  },
  {
   "cell_type": "code",
   "execution_count": 13,
   "id": "556a3fb6",
   "metadata": {},
   "outputs": [
    {
     "data": {
      "text/plain": [
       "[['doid:946', ['rdfs:subClassOf'], 'doid:2789'],\n",
       " ['doid:946', ['rdfs:subClassOf', 'rdfs:subClassOf'], 'doid:1398'],\n",
       " ['doid:946',\n",
       "  ['rdfs:subClassOf', 'rdfs:subClassOf', 'rdfs:subClassOf'],\n",
       "  'doid:0050117'],\n",
       " ['doid:946',\n",
       "  ['rdfs:subClassOf', 'rdfs:subClassOf', 'rdfs:subClassOf', 'rdfs:subClassOf'],\n",
       "  'doid:4'],\n",
       " ['doid:946',\n",
       "  ['rdfs:subClassOf',\n",
       "   'rdfs:subClassOf',\n",
       "   'rdfs:subClassOf',\n",
       "   'rdfs:subClassOf',\n",
       "   'rdfs:subClassOf'],\n",
       "  'bfo:0000016'],\n",
       " ['doid:946',\n",
       "  ['rdfs:subClassOf',\n",
       "   'rdfs:subClassOf',\n",
       "   'rdfs:subClassOf',\n",
       "   'rdfs:subClassOf',\n",
       "   'rdfs:subClassOf',\n",
       "   'rdfs:subClassOf'],\n",
       "  'bfo:0000017'],\n",
       " ['doid:946',\n",
       "  ['rdfs:subClassOf',\n",
       "   'rdfs:subClassOf',\n",
       "   'rdfs:subClassOf',\n",
       "   'rdfs:subClassOf',\n",
       "   'rdfs:subClassOf',\n",
       "   'rdfs:subClassOf',\n",
       "   'rdfs:subClassOf'],\n",
       "  'bfo:0000020'],\n",
       " ['doid:946',\n",
       "  ['rdfs:subClassOf',\n",
       "   'rdfs:subClassOf',\n",
       "   'rdfs:subClassOf',\n",
       "   'rdfs:subClassOf',\n",
       "   'rdfs:subClassOf',\n",
       "   'rdfs:subClassOf',\n",
       "   'rdfs:subClassOf',\n",
       "   'rdfs:subClassOf'],\n",
       "  'bfo:0000002'],\n",
       " ['doid:946',\n",
       "  ['rdfs:subClassOf',\n",
       "   'rdfs:subClassOf',\n",
       "   'rdfs:subClassOf',\n",
       "   'rdfs:subClassOf',\n",
       "   'rdfs:subClassOf',\n",
       "   'rdfs:subClassOf',\n",
       "   'rdfs:subClassOf',\n",
       "   'rdfs:subClassOf',\n",
       "   'rdfs:subClassOf'],\n",
       "  'bfo:0000001'],\n",
       " ['doid:946',\n",
       "  ['rdfs:subClassOf',\n",
       "   'rdfs:subClassOf',\n",
       "   'rdfs:subClassOf',\n",
       "   'rdfs:subClassOf',\n",
       "   'rdfs:subClassOf',\n",
       "   'rdfs:subClassOf',\n",
       "   'rdfs:subClassOf',\n",
       "   'rdfs:subClassOf',\n",
       "   'rdfs:subClassOf',\n",
       "   'rdfs:subClassOf'],\n",
       "  'owl:Thing'],\n",
       " ['doid:946',\n",
       "  ['rdfs:subClassOf',\n",
       "   'rdfs:subClassOf',\n",
       "   'rdfs:subClassOf',\n",
       "   'rdfs:subClassOf',\n",
       "   'rdfs:subClassOf',\n",
       "   'rdfs:subClassOf',\n",
       "   'rdfs:subClassOf',\n",
       "   'rdfs:subClassOf'],\n",
       "  'bfo:0000005'],\n",
       " ['doid:946',\n",
       "  ['rdfs:subClassOf',\n",
       "   'rdfs:subClassOf',\n",
       "   'rdfs:subClassOf',\n",
       "   'rdfs:subClassOf',\n",
       "   'rdfs:subClassOf',\n",
       "   'rdfs:subClassOf',\n",
       "   'rdfs:subClassOf',\n",
       "   'rdfs:subClassOf',\n",
       "   'rdfs:subClassOf'],\n",
       "  'bfo:0000002'],\n",
       " ['doid:946',\n",
       "  ['rdfs:subClassOf',\n",
       "   'rdfs:subClassOf',\n",
       "   'rdfs:subClassOf',\n",
       "   'rdfs:subClassOf',\n",
       "   'rdfs:subClassOf',\n",
       "   'rdfs:subClassOf',\n",
       "   'rdfs:subClassOf',\n",
       "   'rdfs:subClassOf',\n",
       "   'rdfs:subClassOf',\n",
       "   'rdfs:subClassOf'],\n",
       "  'bfo:0000001'],\n",
       " ['doid:946',\n",
       "  ['rdfs:subClassOf',\n",
       "   'rdfs:subClassOf',\n",
       "   'rdfs:subClassOf',\n",
       "   'rdfs:subClassOf',\n",
       "   'rdfs:subClassOf',\n",
       "   'rdfs:subClassOf',\n",
       "   'rdfs:subClassOf',\n",
       "   'rdfs:subClassOf',\n",
       "   'rdfs:subClassOf',\n",
       "   'rdfs:subClassOf',\n",
       "   'rdfs:subClassOf'],\n",
       "  'owl:Thing']]"
      ]
     },
     "execution_count": 13,
     "metadata": {},
     "output_type": "execute_result"
    }
   ],
   "source": [
    "# Get all ancestors of a given node by querying over paths of multiple queries\n",
    "query(\n",
    "    {\n",
    "        \"source_curie\": \"doid:946\",\n",
    "        \"relation\": [\"rdfs:subClassOf\", \"part_of\"],\n",
    "        \"relation_max_hops\": 0,\n",
    "        \"distinct\": True,\n",
    "    }\n",
    ")"
   ]
  },
  {
   "cell_type": "code",
   "execution_count": 14,
   "id": "3205f279",
   "metadata": {},
   "outputs": [
    {
     "data": {
      "text/plain": [
       "[[{'id': 'symp:0020011',\n",
       "   'name': 'bloody diarrhea',\n",
       "   'obsolete': False,\n",
       "   'type': 'class'},\n",
       "  {'graph': 'http://purl.obolibrary.org/obo/doid/imports/symp_import.owl',\n",
       "   'pred': 'rdfs:subClassOf',\n",
       "   'source': 'doid'},\n",
       "  {'description': 'Diarrhea is a feces and droppng symptom involving the abnormally frequent intestinal evacuations with more or less fluid stools.',\n",
       "   'id': 'symp:0000570',\n",
       "   'name': 'diarrhea',\n",
       "   'obsolete': False,\n",
       "   'synonyms': ['the runs',\n",
       "    'diarrhoea',\n",
       "    'loose bowels',\n",
       "    'loose bowel',\n",
       "    'bacterial gastroenteritis',\n",
       "    'fecal incontinence',\n",
       "    'incontinence of feces'],\n",
       "   'type': 'class',\n",
       "   'xrefs': ['icd9cm:787.91', 'umls:C0011991', 'umls.aui:A0048148']}],\n",
       " [{'id': 'symp:0000738',\n",
       "   'name': 'yellowish green diarrhea',\n",
       "   'obsolete': False,\n",
       "   'type': 'class'},\n",
       "  {'graph': 'http://purl.obolibrary.org/obo/doid/imports/symp_import.owl',\n",
       "   'pred': 'rdfs:subClassOf',\n",
       "   'source': 'doid'},\n",
       "  {'description': 'Diarrhea is a feces and droppng symptom involving the abnormally frequent intestinal evacuations with more or less fluid stools.',\n",
       "   'id': 'symp:0000570',\n",
       "   'name': 'diarrhea',\n",
       "   'obsolete': False,\n",
       "   'synonyms': ['the runs',\n",
       "    'diarrhoea',\n",
       "    'loose bowels',\n",
       "    'loose bowel',\n",
       "    'bacterial gastroenteritis',\n",
       "    'fecal incontinence',\n",
       "    'incontinence of feces'],\n",
       "   'type': 'class',\n",
       "   'xrefs': ['icd9cm:787.91', 'umls:C0011991', 'umls.aui:A0048148']}]]"
      ]
     },
     "execution_count": 14,
     "metadata": {},
     "output_type": "execute_result"
    }
   ],
   "source": [
    "# Take any query and add full=True to get all information\n",
    "# about nodes and edges - warning, though, it's getting big fast\n",
    "query({\"target_curie\": \"symp:0000570\", \"limit\": 2, \"full\": True})"
   ]
  }
 ],
 "metadata": {
  "kernelspec": {
   "display_name": "Python 3 (ipykernel)",
   "language": "python",
   "name": "python3"
  },
  "language_info": {
   "codemirror_mode": {
    "name": "ipython",
    "version": 3
   },
   "file_extension": ".py",
   "mimetype": "text/x-python",
   "name": "python",
   "nbconvert_exporter": "python",
   "pygments_lexer": "ipython3",
   "version": "3.9.13"
  }
 },
 "nbformat": 4,
 "nbformat_minor": 5
}
