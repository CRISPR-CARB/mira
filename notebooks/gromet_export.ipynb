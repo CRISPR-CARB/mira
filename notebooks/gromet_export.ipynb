{
 "cells": [
  {
   "cell_type": "markdown",
   "metadata": {
    "pycharm": {
     "name": "#%% md\n"
    }
   },
   "source": [
    "## Exporting a Mira Model to GroMEt\n",
    "\n",
    "First, create a simple SIR model template and make a Mira Model from it:"
   ]
  },
  {
   "cell_type": "code",
   "execution_count": 1,
   "metadata": {
    "pycharm": {
     "name": "#%%\n"
    }
   },
   "outputs": [],
   "source": [
    "from mira.metamodel import ControlledConversion, Concept, NaturalConversion, TemplateModel\n",
    "from mira.modeling import Model\n",
    "\n",
    "infected = Concept(name=\"infected population\", identifiers={\"ido\": \"0000511\"})\n",
    "susceptible = Concept(name=\"susceptible population\", identifiers={\"ido\": \"0000514\"})\n",
    "immune = Concept(name=\"immune population\", identifiers={\"ido\": \"0000592\"})\n",
    "\n",
    "template1 = ControlledConversion(\n",
    "  controller=infected,\n",
    "  subject=susceptible,\n",
    "  outcome=infected,\n",
    ")\n",
    "template2 = NaturalConversion(subject=infected, outcome=immune)\n",
    "sir_model_templ = TemplateModel(templates=[template1, template2])\n",
    "sir_model = Model(sir_model_templ)"
   ]
  },
  {
   "cell_type": "markdown",
   "metadata": {
    "pycharm": {
     "name": "#%% md\n"
    }
   },
   "source": [
    "Next, we import and use the gromet model. The Gromet is initialized when creating the instance and is stored in `Gromet.gromet_model`:"
   ]
  },
  {
   "cell_type": "code",
   "execution_count": 2,
   "metadata": {
    "pycharm": {
     "name": "#%%\n"
    }
   },
   "outputs": [],
   "source": [
    "from mira.modeling.gromet_model import GrometModel, model_to_gromet\n",
    "\n",
    "g = GrometModel(sir_model, name=\"my_sir_model\", model_name=\"PetriNet\")\n",
    "sir_gromet = g.gromet_model\n",
    "\n",
    "# or use the model_to_gromet helper function\n",
    "# sir_gromet = model_to_gromet(sir_model, name=\"my_sir_model\", model_name=\"PetriNet\")"
   ]
  },
  {
   "cell_type": "markdown",
   "metadata": {
    "pycharm": {
     "name": "#%% md\n"
    }
   },
   "source": [
    "The model can be saved to a file as a json exported GroMEt:"
   ]
  },
  {
   "cell_type": "code",
   "execution_count": 3,
   "metadata": {
    "pycharm": {
     "name": "#%%\n"
    }
   },
   "outputs": [],
   "source": [
    "from mira.modeling.gromet_model import model_to_gromet_json_file\n",
    "\n",
    "model_to_gromet_json_file(sir_model, name=\"my_sir_model\", model_name=\"PetriNet\", fname=\"my_sir_model.json\")"
   ]
  },
  {
   "cell_type": "markdown",
   "metadata": {
    "pycharm": {
     "name": "#%% md\n"
    }
   },
   "source": [
    "Since the GroMEt is built up from Python dataclasses, it can be exported as a dict:"
   ]
  },
  {
   "cell_type": "code",
   "execution_count": 4,
   "metadata": {
    "pycharm": {
     "name": "#%%\n"
    }
   },
   "outputs": [],
   "source": [
    "from dataclasses import asdict\n",
    "gromet_dict = asdict(sir_gromet)"
   ]
  }
 ],
 "metadata": {
  "kernelspec": {
   "display_name": "Python 3",
   "language": "python",
   "name": "python3"
  },
  "language_info": {
   "codemirror_mode": {
    "name": "ipython",
    "version": 3
   },
   "file_extension": ".py",
   "mimetype": "text/x-python",
   "name": "python",
   "nbconvert_exporter": "python",
   "pygments_lexer": "ipython3",
   "version": "3.9.9"
  }
 },
 "nbformat": 4,
 "nbformat_minor": 1
}
