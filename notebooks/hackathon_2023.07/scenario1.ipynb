{
 "cells": [
  {
   "cell_type": "markdown",
   "id": "c947d97c",
   "metadata": {},
   "source": [
    "### Step a-b: create the base model\n",
    "Questions: You want to implement a masking intervention in a simple compartmental model and simulate epidemic trajectories under different compliance scenarios. You found an existing model that incorporates masking as a time-dependent modification to the β parameter (https://doi.org/10.3390/ijerph18179027 plus accompanying code), and you want to ensure that the model is working as expected by reproducing plots in the publication. \n",
    "\n",
    "Replicate an analysis from the paper.\n",
    "- (TA1 Model Extraction Workflow, TA2 Model Representation) Extract the SEIRD model (equations 1-5, with time-varying β as defined in equations 8-9) and load into the workbench. In equation 8, let kappa = γR0, R0 = 5. In equation 9, let k = 5.\n",
    "\n",
    "- (TA3 Simulation Workflow, Unit Test): Replicate Figure 3 from the paper, which maps to the first scenario in the paper- implementing a masking intervention at several different timepoints (delays of 0 days, 50 days, 100 days, and control case, from the date of first infection) in the pandemic, with 100% compliance. Recreate the Fig. 3 curves (including peak infection times and levels), up to some reasonable margin of error.  "
   ]
  },
  {
   "cell_type": "code",
   "execution_count": 1,
   "id": "11406f4a",
   "metadata": {},
   "outputs": [],
   "source": [
    "import sympy\n",
    "from mira.metamodel import *\n",
    "from mira.modeling import Model\n",
    "from mira.modeling.askenet.petrinet import AskeNetPetriNetModel"
   ]
  },
  {
   "cell_type": "code",
   "execution_count": 2,
   "id": "b2351930",
   "metadata": {},
   "outputs": [],
   "source": [
    "person_units = lambda: Unit(expression=sympy.Symbol('person'))\n",
    "day_units = lambda: Unit(expression=sympy.Symbol('day'))\n",
    "per_day_units = lambda: Unit(expression=1/sympy.Symbol('day'))\n",
    "dimensionless_units = lambda: Unit(expression=sympy.Integer('1'))\n",
    "per_day_per_person_units = lambda: Unit(expression=1/(sympy.Symbol('day')*sympy.Symbol('person')))\n",
    "\n",
    "c = {\n",
    "    'S': Concept(name='S', units=person_units(), identifiers={'ido': '0000514'}),\n",
    "    'E': Concept(name='E', units=person_units(), identifiers={'apollosv': '0000154'}),\n",
    "    'I': Concept(name='I', units=person_units(), identifiers={'ido': '0000511'}),\n",
    "    'R': Concept(name='R', units=person_units(), identifiers={'ido': '0000592'}),\n",
    "    'D': Concept(name='D', units=person_units(), identifiers={'ncit': 'C28554'}),\n",
    "}\n",
    "\n",
    "\n",
    "parameters = {\n",
    "    'gamma': Parameter(name='gamma', value=1/11, units=per_day_units()),\n",
    "    'delta': Parameter(name='delta', value=1/5, units=per_day_units()),\n",
    "    'alpha': Parameter(name='alpha', value=0.000064, units=dimensionless_units()),\n",
    "    'rho': Parameter(name='rho', value=1/9, units=per_day_units()),\n",
    "    'N': Parameter(name='N', value=5_600_000, units=person_units()),\n",
    "    'beta_s': Parameter(name='beta_s', value=1, units=per_day_units()),\n",
    "    'beta_c': Parameter(name='beta_c', value=0.4, units=per_day_units()),\n",
    "    't_0': Parameter(name='t_0', value=89, unts=day_units, units=day_units()),\n",
    "    # D=11, gamma = 1/D, R_0 = 5 and\n",
    "    # beta = R_0 * gamma * mask(t) so kappa = 5/11\n",
    "    'kappa': Parameter(name='kappa', value=5/11, units=per_day_units()),\n",
    "    'k': Parameter(name='k', value=5.0, units=dimensionless_units()),\n",
    "}\n",
    "\n",
    "initials = {\n",
    "    'S': Initial(concept=Concept(name='S'), value=5_600_000-1),\n",
    "    'E': Initial(concept=Concept(name='E'), value=1),\n",
    "    'I': Initial(concept=Concept(name='I'), value=0),\n",
    "    'R': Initial(concept=Concept(name='R'), value=0),\n",
    "    'D': Initial(concept=Concept(name='D'), value=0),\n",
    "}"
   ]
  },
  {
   "cell_type": "code",
   "execution_count": 3,
   "id": "28178230",
   "metadata": {},
   "outputs": [],
   "source": [
    "S, E, I, R, D, N, kappa, beta_s, beta_c, k, t_0, t, alpha, delta, rho, gamma = \\\n",
    "    sympy.symbols('S E I R D N kappa beta_s beta_c k t_0 t alpha delta rho gamma')"
   ]
  },
  {
   "cell_type": "code",
   "execution_count": 4,
   "id": "f2645cae",
   "metadata": {},
   "outputs": [],
   "source": [
    "m_1 = (beta_s - beta_c) / (1 + sympy.exp(-k*(t_0-t))) + beta_c\n",
    "beta = kappa*m_1\n",
    "\n",
    "t1 = ControlledConversion(subject=c['S'],\n",
    "                          outcome=c['E'],\n",
    "                          controller=c['I'],\n",
    "                          rate_law=S*I*beta / N)\n",
    "t2 = NaturalConversion(subject=c['E'],\n",
    "                       outcome=c['I'],\n",
    "                       rate_law=delta*E)\n",
    "t3 = NaturalConversion(subject=c['I'],\n",
    "                       outcome=c['R'],\n",
    "                       rate_law=(1-alpha)*gamma*I)\n",
    "t4 = NaturalConversion(subject=c['I'],\n",
    "                       outcome=c['D'],\n",
    "                       rate_law=alpha*rho*I)\n",
    "templates = [t1, t2, t3, t4]\n",
    "tm = TemplateModel(\n",
    "    templates=templates,\n",
    "    parameters=parameters,\n",
    "    initials=initials,\n",
    "    time=Time(name='t', units=day_units()),\n",
    "    annotations=Annotations(name='Scenario 1a')\n",
    ")\n",
    "AskeNetPetriNetModel(Model(tm)).to_json_file('scenario1_a.json')"
   ]
  },
  {
   "cell_type": "markdown",
   "id": "48e4ed6a",
   "metadata": {},
   "source": [
    "### Step c: update beta\n",
    "\n",
    "(TA2 Model Modification Workflow, TA3 Simulation Workflow): Update the β(t) function to be defined as equations 8 and 10, with k1 = 5, and k2 = 1. This reflects the paper’s second scenario, gradual noncompliance with the masking policy over time. Rerun the simulation with several different delays in enforcing a mask policy (ranging from 0 to 140 days), and replicate Fig. 5, up to some reasonable margin of error."
   ]
  },
  {
   "cell_type": "code",
   "execution_count": 5,
   "id": "85e41bc9",
   "metadata": {
    "scrolled": true
   },
   "outputs": [],
   "source": [
    "k_1, k_2, t_1, beta_nc = sympy.symbols('k_1 k_2 t_1 beta_nc')\n",
    "parameters['k_1'] = Parameter(name='k_1', value=5.0, units=dimensionless_units())\n",
    "parameters['k_2'] = Parameter(name='k_2', value=1.0, units=dimensionless_units())\n",
    "parameters['t_1'] = Parameter(name='t_1', value=154, units=day_units())\n",
    "parameters['beta_nc'] = Parameter(name='beta_nc', value=0.5, units=per_day_units())\n",
    "tm.parameters = parameters\n",
    "tm.annotations = Annotations(name='Scenario 1c')\n",
    "m_2 = (beta_s - beta_c) / (1 + sympy.exp(-k_1*(t_0-t))) + (beta_c - beta_nc) / (1 + sympy.exp(-k_2*(t_1-t))) + beta_nc"
   ]
  },
  {
   "cell_type": "code",
   "execution_count": 6,
   "id": "5fa367b5",
   "metadata": {},
   "outputs": [],
   "source": [
    "t1.rate_law = SympyExprStr(kappa*m_2)"
   ]
  },
  {
   "cell_type": "code",
   "execution_count": 7,
   "id": "c073ca18",
   "metadata": {},
   "outputs": [
    {
     "data": {
      "text/latex": [
       "$\\displaystyle \\kappa \\left(\\beta_{nc} + \\frac{\\beta_{c} - \\beta_{nc}}{1 + e^{- k_{2} \\left(- t + t_{1}\\right)}} + \\frac{- \\beta_{c} + \\beta_{s}}{1 + e^{- k_{1} \\left(- t + t_{0}\\right)}}\\right)$"
      ],
      "text/plain": [
       "kappa*(beta_nc + (beta_c - beta_nc)/(1 + exp(-k_2*(-t + t_1))) + (-beta_c + beta_s)/(1 + exp(-k_1*(-t + t_0))))"
      ]
     },
     "execution_count": 7,
     "metadata": {},
     "output_type": "execute_result"
    }
   ],
   "source": [
    "t1.rate_law.args[0]"
   ]
  },
  {
   "cell_type": "code",
   "execution_count": 8,
   "id": "b1c1abab",
   "metadata": {},
   "outputs": [],
   "source": [
    "AskeNetPetriNetModel(Model(tm)).to_json_file('scenario1_c.json')"
   ]
  },
  {
   "cell_type": "markdown",
   "id": "6e3374f9",
   "metadata": {},
   "source": [
    "### Step d: update for reinfection\n",
    "(TA2 Model Modification Workflow, TA3 Simulation Workflow): Update the system of equations to include equations 6 and 7. This adds the potential for reinfection. Compare with the outcomes from 1c. What impact does immunity loss and potential for reinfection have?"
   ]
  },
  {
   "cell_type": "code",
   "execution_count": 9,
   "id": "6fab9358",
   "metadata": {},
   "outputs": [],
   "source": [
    "epsilon = sympy.Symbol('epsilon')\n",
    "parameters['epsilon'] = Parameter(name='epsilon', value=1/90, units=per_day_units())\n",
    "tm.parameters = parameters\n",
    "tm.annotations = Annotations(name='Scenario 1d')\n",
    "t5 = NaturalConversion(subject=c['R'],\n",
    "                       outcome=c['S'],\n",
    "                       rate_law=epsilon*R)"
   ]
  },
  {
   "cell_type": "code",
   "execution_count": 10,
   "id": "00c70176",
   "metadata": {},
   "outputs": [],
   "source": [
    "AskeNetPetriNetModel(Model(tm)).to_json_file('scenario1_d.json')"
   ]
  },
  {
   "cell_type": "markdown",
   "id": "331881de",
   "metadata": {},
   "source": [
    "## Demo unit normalization"
   ]
  },
  {
   "cell_type": "code",
   "execution_count": 11,
   "id": "8378dfd6",
   "metadata": {},
   "outputs": [],
   "source": [
    "tm_norm = counts_to_dimensionless(tm, 'person', 5_600_000)"
   ]
  },
  {
   "cell_type": "code",
   "execution_count": 12,
   "id": "c6145e96",
   "metadata": {},
   "outputs": [
    {
     "data": {
      "text/plain": [
       "{'S': Initial(concept=Concept(name='S', display_name=None, description=None, identifiers={}, context={}, units=None), value=0.999999821428571),\n",
       " 'E': Initial(concept=Concept(name='E', display_name=None, description=None, identifiers={}, context={}, units=None), value=1.78571428571429e-7),\n",
       " 'I': Initial(concept=Concept(name='I', display_name=None, description=None, identifiers={}, context={}, units=None), value=0),\n",
       " 'R': Initial(concept=Concept(name='R', display_name=None, description=None, identifiers={}, context={}, units=None), value=0),\n",
       " 'D': Initial(concept=Concept(name='D', display_name=None, description=None, identifiers={}, context={}, units=None), value=0)}"
      ]
     },
     "execution_count": 12,
     "metadata": {},
     "output_type": "execute_result"
    }
   ],
   "source": [
    "tm_norm.initials"
   ]
  },
  {
   "cell_type": "code",
   "execution_count": 13,
   "id": "8e677ddc",
   "metadata": {},
   "outputs": [
    {
     "data": {
      "text/plain": [
       "{'gamma': Parameter(name='gamma', display_name=None, description=None, identifiers={}, context={}, units=Unit(expression=1/day), value=0.09090909090909091, distribution=None),\n",
       " 'delta': Parameter(name='delta', display_name=None, description=None, identifiers={}, context={}, units=Unit(expression=1/day), value=0.2, distribution=None),\n",
       " 'alpha': Parameter(name='alpha', display_name=None, description=None, identifiers={}, context={}, units=Unit(expression=1), value=6.4e-05, distribution=None),\n",
       " 'rho': Parameter(name='rho', display_name=None, description=None, identifiers={}, context={}, units=Unit(expression=1/day), value=0.1111111111111111, distribution=None),\n",
       " 'N': Parameter(name='N', display_name=None, description=None, identifiers={}, context={}, units=Unit(expression=1), value=1.00000000000000, distribution=None),\n",
       " 'beta_s': Parameter(name='beta_s', display_name=None, description=None, identifiers={}, context={}, units=Unit(expression=1/day), value=1.0, distribution=None),\n",
       " 'beta_c': Parameter(name='beta_c', display_name=None, description=None, identifiers={}, context={}, units=Unit(expression=1/day), value=0.4, distribution=None),\n",
       " 't_0': Parameter(name='t_0', display_name=None, description=None, identifiers={}, context={}, units=Unit(expression=day), value=89.0, distribution=None),\n",
       " 'kappa': Parameter(name='kappa', display_name=None, description=None, identifiers={}, context={}, units=Unit(expression=1/day), value=0.45454545454545453, distribution=None),\n",
       " 'k': Parameter(name='k', display_name=None, description=None, identifiers={}, context={}, units=Unit(expression=1), value=5.0, distribution=None),\n",
       " 'k_1': Parameter(name='k_1', display_name=None, description=None, identifiers={}, context={}, units=Unit(expression=1), value=5.0, distribution=None),\n",
       " 'k_2': Parameter(name='k_2', display_name=None, description=None, identifiers={}, context={}, units=Unit(expression=1), value=1.0, distribution=None),\n",
       " 't_1': Parameter(name='t_1', display_name=None, description=None, identifiers={}, context={}, units=Unit(expression=day), value=154.0, distribution=None),\n",
       " 'beta_nc': Parameter(name='beta_nc', display_name=None, description=None, identifiers={}, context={}, units=Unit(expression=1/day), value=0.5, distribution=None),\n",
       " 'epsilon': Parameter(name='epsilon', display_name=None, description=None, identifiers={}, context={}, units=Unit(expression=1/day), value=0.011111111111111112, distribution=None)}"
      ]
     },
     "execution_count": 13,
     "metadata": {},
     "output_type": "execute_result"
    }
   ],
   "source": [
    "tm_norm.parameters"
   ]
  },
  {
   "cell_type": "code",
   "execution_count": 14,
   "id": "76f927b7",
   "metadata": {},
   "outputs": [
    {
     "data": {
      "text/plain": [
       "ControlledConversion(rate_law=kappa*(beta_nc + (beta_c - beta_nc)/(1 + exp(-k_2*(-t + t_1))) + (-beta_c + beta_s)/(1 + exp(-k_1*(-t + t_0)))), type='ControlledConversion', controller=Concept(name='I', display_name=None, description=None, identifiers={'ido': '0000511'}, context={}, units=Unit(expression=1)), subject=Concept(name='S', display_name=None, description=None, identifiers={'ido': '0000514'}, context={}, units=Unit(expression=1)), outcome=Concept(name='E', display_name=None, description=None, identifiers={'apollosv': '0000154'}, context={}, units=Unit(expression=1)), provenance=[])"
      ]
     },
     "execution_count": 14,
     "metadata": {},
     "output_type": "execute_result"
    }
   ],
   "source": [
    "tm_norm.templates[0]"
   ]
  },
  {
   "cell_type": "code",
   "execution_count": 15,
   "id": "831f2be9",
   "metadata": {},
   "outputs": [],
   "source": [
    "AskeNetPetriNetModel(Model(tm_norm)).to_json_file('scenario1_d_normalized.json')"
   ]
  }
 ],
 "metadata": {
  "kernelspec": {
   "display_name": "Python 3 (ipykernel)",
   "language": "python",
   "name": "python3"
  },
  "language_info": {
   "codemirror_mode": {
    "name": "ipython",
    "version": 3
   },
   "file_extension": ".py",
   "mimetype": "text/x-python",
   "name": "python",
   "nbconvert_exporter": "python",
   "pygments_lexer": "ipython3",
   "version": "3.10.12"
  }
 },
 "nbformat": 4,
 "nbformat_minor": 5
}
