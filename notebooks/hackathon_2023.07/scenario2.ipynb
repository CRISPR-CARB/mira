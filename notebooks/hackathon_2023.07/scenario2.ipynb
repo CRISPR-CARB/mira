{
 "cells": [
  {
   "cell_type": "markdown",
   "id": "7798c424",
   "metadata": {},
   "source": [
    "# Hackathon Scenario 2: Multiple Vaccines and Variants\n",
    "Models from early in the Covid-19 pandemic were relatively simple, as we had no vaccines available, only NPIs to mitigate the spread of the disease, and only one strain (the original wild type) to worry about. By mid-2021, the situation was much more complex, as we had access to multiple vaccines, each with multiple doses, and the emergence of multiple variants. You are interested in modeling this situation with SV2(AIR)3 (https://www.nature.com/articles/s41598- 022-06159-x, https://doi.org/10.1038/s41598-022-06159-x), one of the first models to represent multiple Covid-19 variants, and the competition between them."
   ]
  },
  {
   "cell_type": "markdown",
   "id": "d274fc77",
   "metadata": {},
   "source": [
    "1. Extract the simplest version of the model with 1 vaccine and 1 variant (shown in Fig. 1A)\n",
    "\n",
    "  a. (TA1 Model Extraction Workflow) Extract the model from Matlab code\n",
    "‘svair_simple.m’ and ‘get_beta.m’ and with the publication equations and Fig. 1A (with the exception of one small difference between code and figure). Note that in this code, the units of all state variables are in terms of fraction of the total population.\n",
    "  \n",
    "  b. (TA3 Simulation Workflow) Simulate the first 14 months of the pandemic beginning on January 1st, 2020. Consider only the Wild Type variant, and no vaccination during this period. Use parameter values from the supplementary material, for the wild type. Use the population of Ontario in 2019: 14.57 million people, and let the natural death rate 𝜇 = 2.05𝑒-5. For initial conditions, let 𝐼(0) = 1e-6, 𝑆(0) = 1 − 𝑠𝑢𝑚(𝐼(0) + 𝐴(0)), and all other values be 0. When do I(t) and A(t) peak, and what is the value of these variables at their peaks? How do the I(t) and A(t) profiles compare with Fig. 3d,f (which considered 3 variants and 2 types of vaccines)? Given that this question assumes only the presence of the Wild Type variant, do the results seem reasonable?\n",
    "  \n",
    "  c. (TA2 Domain Knowledge Grounding; ASKEM Workbench Only) Demonstrate that the domain knowledge groundings accurately reflect new concepts with the extensions such as “variants”."
   ]
  },
  {
   "cell_type": "code",
   "execution_count": 1,
   "id": "0991209a",
   "metadata": {},
   "outputs": [],
   "source": [
    "import sympy\n",
    "from copy import deepcopy as _d\n",
    "from mira.metamodel import *\n",
    "from mira.modeling import Model\n",
    "from mira.modeling.askenet.petrinet import AskeNetPetriNetModel"
   ]
  },
  {
   "cell_type": "markdown",
   "id": "fedc0ecb",
   "metadata": {},
   "source": [
    "## Represent original beta_scale timeline from the model"
   ]
  },
  {
   "cell_type": "code",
   "execution_count": 2,
   "id": "dc86827c",
   "metadata": {
    "scrolled": true
   },
   "outputs": [],
   "source": [
    "times = [0, 82, 198, 282, 327, 370, 429, 468, 527, 548, 562, 609, 670, 731, 1096]\n",
    "beta_scales = [1, 0.4, 0.55, 0.6, 0.55, 0.3, 0.4, 0.15, 0.2, 0.3, 0.35, 0.4, 0.5, 0.4]\n",
    "\n",
    "t = sympy.Symbol('t')\n",
    "\n",
    "beta_scale_var = sympy.Piecewise(\n",
    "    *[(b, (tl <= t) & (t < tu))\n",
    "      for (tl, tu), b in zip(zip(times[:-1], times[1:]), beta_scales)],\n",
    "    (1, True)\n",
    ")"
   ]
  },
  {
   "cell_type": "code",
   "execution_count": 3,
   "id": "53829d8f",
   "metadata": {
    "scrolled": true
   },
   "outputs": [
    {
     "data": {
      "text/latex": [
       "$\\displaystyle \\begin{cases} 1 & \\text{for}\\: t \\geq 0 \\wedge t < 82 \\\\0.4 & \\text{for}\\: t \\geq 82 \\wedge t < 198 \\\\0.55 & \\text{for}\\: t \\geq 198 \\wedge t < 282 \\\\0.6 & \\text{for}\\: t \\geq 282 \\wedge t < 327 \\\\0.55 & \\text{for}\\: t \\geq 327 \\wedge t < 370 \\\\0.3 & \\text{for}\\: t \\geq 370 \\wedge t < 429 \\\\0.4 & \\text{for}\\: t \\geq 429 \\wedge t < 468 \\\\0.15 & \\text{for}\\: t \\geq 468 \\wedge t < 527 \\\\0.2 & \\text{for}\\: t \\geq 527 \\wedge t < 548 \\\\0.3 & \\text{for}\\: t \\geq 548 \\wedge t < 562 \\\\0.35 & \\text{for}\\: t \\geq 562 \\wedge t < 609 \\\\0.4 & \\text{for}\\: t \\geq 609 \\wedge t < 670 \\\\0.5 & \\text{for}\\: t \\geq 670 \\wedge t < 731 \\\\0.4 & \\text{for}\\: t \\geq 731 \\wedge t < 1096 \\\\1 & \\text{otherwise} \\end{cases}$"
      ],
      "text/plain": [
       "Piecewise((1, (t >= 0) & (t < 82)), (0.4, (t >= 82) & (t < 198)), (0.55, (t >= 198) & (t < 282)), (0.6, (t >= 282) & (t < 327)), (0.55, (t >= 327) & (t < 370)), (0.3, (t >= 370) & (t < 429)), (0.4, (t >= 429) & (t < 468)), (0.15, (t >= 468) & (t < 527)), (0.2, (t >= 527) & (t < 548)), (0.3, (t >= 548) & (t < 562)), (0.35, (t >= 562) & (t < 609)), (0.4, (t >= 609) & (t < 670)), (0.5, (t >= 670) & (t < 731)), (0.4, (t >= 731) & (t < 1096)), (1, True))"
      ]
     },
     "execution_count": 3,
     "metadata": {},
     "output_type": "execute_result"
    }
   ],
   "source": [
    "beta_scale_var"
   ]
  },
  {
   "cell_type": "markdown",
   "id": "47ff78b7",
   "metadata": {},
   "source": [
    "## Alternative: model a static beta_scale and handle timeline during simulation"
   ]
  },
  {
   "cell_type": "code",
   "execution_count": 4,
   "id": "a6812e4c",
   "metadata": {},
   "outputs": [],
   "source": [
    "beta_scale_static = 1.0"
   ]
  },
  {
   "cell_type": "markdown",
   "id": "12e3cc5e",
   "metadata": {},
   "source": [
    "#### Select between two beta_scales"
   ]
  },
  {
   "cell_type": "code",
   "execution_count": 5,
   "id": "71ee7a74",
   "metadata": {},
   "outputs": [],
   "source": [
    "beta_scale_type = 'static'  # var\n",
    "if beta_scale_type == 'static':\n",
    "    beta_scale = beta_scale_static\n",
    "else:\n",
    "    beta_scale = beta_scale_var"
   ]
  },
  {
   "cell_type": "code",
   "execution_count": 6,
   "id": "716217a7",
   "metadata": {},
   "outputs": [],
   "source": [
    "person_units = Unit(expression=sympy.Symbol('person'))\n",
    "day_units = Unit(expression=sympy.Symbol('day'))\n",
    "per_day_units = Unit(expression=1/sympy.Symbol('day'))\n",
    "dimensionless_units = Unit(expression=sympy.Integer('1'))\n",
    "\n",
    "populations = {\n",
    "    # Susceptible\n",
    "    'S': [{'ido': '0000514'}, {'vaccination_status': 'vo:0001377'}],\n",
    "    # Susceptible lost immunity\n",
    "    'SVR': [{'ido': '0000514'}, {'disease_history': 'ido:0000592'}],\n",
    "    # Vaccinated once\n",
    "    'V1': [{'ido': '0000514'}, {'vaccination_status': 'askemo:0000018'}],\n",
    "    # Vaccinated twice\n",
    "    'V2': [{'ido': '0000514'}, {'vaccination_status': 'askemo:0000019'}],\n",
    "    # Infected\n",
    "    'I': [{'ido': '0000511'}, {}],\n",
    "    # Infected vaccinated\n",
    "    'IV': [{'ido': '0000511'}, {'vaccination_status': 'vo:0001376'}],\n",
    "    # Infected after recovery\n",
    "    'IR': [{'ido': '0000511'}, {'disease_history': 'ido:0000592'}],\n",
    "    # Asymptomatic\n",
    "    'A': [{'ido': '0000511'}, {'disease_severity': 'ncit:C3833'}],\n",
    "    # Asymptomatic after recovery\n",
    "    'AR': [{'ido': '0000511'}, {'disease_severity': 'ncit:C3833'}],\n",
    "    # Recovered\n",
    "    'R': [{'ido': '0000514'}, {'disease_severity': 'ido:0000592'}],\n",
    "    # Recovered after second infection\n",
    "    'R2': [{'ido': '0000592'}, {}],\n",
    "}\n",
    "\n",
    "c = {\n",
    "    pop: Concept(name=pop, units=dimensionless_units,\n",
    "                 identifiers=indentifiers, context=context)\n",
    "    for pop, (indentifiers, context) in populations.items()\n",
    "}\n",
    "\n",
    "\n",
    "parameters = [\n",
    "    Parameter(name='beta', value=3.3e-9, units=per_day_units),\n",
    "    Parameter(name='beta_v1', value=0.2*3.3e-9, units=per_day_units),\n",
    "    Parameter(name='beta_v2', value=0.05*3.3e-9, units=per_day_units),\n",
    "    Parameter(name='beta_R', value=0.05*3.3e-9, units=per_day_units),\n",
    "    Parameter(name='gamma', value=1/28, units=per_day_units),\n",
    "    Parameter(name='mu', value=109019/(14570000*365), units=per_day_units),\n",
    "    Parameter(name='mu_I', value=0.001, units=per_day_units),\n",
    "    Parameter(name='mu_IV', value=0.15*0.001, units=per_day_units),\n",
    "    Parameter(name='nu_R', value=1/(4*365), units=per_day_units),\n",
    "    Parameter(name='nu_v1', value=1/365, units=per_day_units),\n",
    "    Parameter(name='nu_v2', value=1/(4*365), units=per_day_units),\n",
    "    Parameter(name='ai', value=0.5, units=dimensionless_units), # paper uses sigma instead of ai\n",
    "    Parameter(name='ai_V', value=0.85, units=dimensionless_units),\n",
    "    Parameter(name='ai_R', value=0.85, units=dimensionless_units),\n",
    "    Parameter(name='ai_beta_ratio', value=3.0, units=dimensionless_units),\n",
    "]\n",
    "\n",
    "if beta_scale_type == 'static':\n",
    "    parameters.append(Parameter(name='beta_scale', value=1.0, units=dimensionless_units))\n",
    "    beta_scale = sympy.Symbol('beta_scale')\n",
    "\n",
    "initials = {\n",
    "    'S': Initial(concept=c['S'], value=1-1e-6),\n",
    "    'SVR': Initial(concept=c['SVR'], value=0),\n",
    "    'V1': Initial(concept=c['V1'], value=0),\n",
    "    'V2': Initial(concept=c['V2'], value=0),\n",
    "    'I': Initial(concept=c['I'], value=1e-6),\n",
    "    'IV': Initial(concept=c['IV'], value=0),\n",
    "    'IR': Initial(concept=c['IR'], value=0),\n",
    "    'A': Initial(concept=c['A'], value=0),\n",
    "    'AR': Initial(concept=c['AR'], value=0),\n",
    "    'R': Initial(concept=c['R'], value=0),\n",
    "    'R2': Initial(concept=c['R2'], value=0),\n",
    "}"
   ]
  },
  {
   "cell_type": "code",
   "execution_count": 7,
   "id": "f91e5e06",
   "metadata": {},
   "outputs": [],
   "source": [
    "S, SVR, V1, V2, I, IV, IR, A, AR, R, R2 = sympy.symbols('S SVR V1 V2 I IV IR A AR R R2')"
   ]
  },
  {
   "cell_type": "code",
   "execution_count": 8,
   "id": "45045c21",
   "metadata": {},
   "outputs": [],
   "source": [
    "beta, beta_v1, beta_v2, beta_R, gamma, mu, mu_I, mu_IV, nu_R, nu_v1, nu_v2, ai, ai_V, ai_R, ai_beta_ratio = \\\n",
    "    sympy.symbols('beta beta_v1 beta_v2 beta_R gamma mu mu_I mu_IV nu_R nu_v1 nu_v2 ai ai_V ai_R ai_beta_ratio')"
   ]
  },
  {
   "cell_type": "code",
   "execution_count": 9,
   "id": "563bef26",
   "metadata": {},
   "outputs": [],
   "source": [
    "all_infectious = [c['I'], c['IV'], c['IR'], c['A'], c['AR']]\n",
    "inf_terms = [I, IV, IR, ai_beta_ratio*A, ai_beta_ratio*AR]\n",
    "\n",
    "templates = []\n",
    "for inf, inf_term in zip(all_infectious, inf_terms):\n",
    "    # Infection asym\n",
    "    t = ControlledConversion(subject=c['S'], outcome=c['A'],\n",
    "                             controller=_d(inf),\n",
    "                             rate_law=ai*beta*beta_scale*S*inf_term)\n",
    "    templates.append(t)\n",
    "    t = ControlledConversion(subject=c['V1'], outcome=c['A'],\n",
    "                             controller=_d(inf),\n",
    "                             rate_law=ai*beta*beta_scale*S*inf_term)\n",
    "    templates.append(t)\n",
    "    t = ControlledConversion(subject=c['V2'], outcome=c['A'],\n",
    "                             controller=_d(inf),\n",
    "                             rate_law=ai*beta*beta_scale*S*inf_term)\n",
    "    templates.append(t)\n",
    "\n",
    "    # Infection sym\n",
    "    t = ControlledConversion(subject=c['S'], outcome=c['I'],\n",
    "                             controller=_d(inf),\n",
    "                             rate_law=(1-ai)*beta*beta_scale*S*inf_term)\n",
    "    templates.append(t)\n",
    "    t = ControlledConversion(subject=c['V1'], outcome=c['IV'],\n",
    "                             controller=_d(inf),\n",
    "                             rate_law=ai*beta_v1*beta_scale*V1*inf_term)\n",
    "    templates.append(t)\n",
    "    t = ControlledConversion(subject=c['V2'], outcome=c['IV'],\n",
    "                             controller=_d(inf),\n",
    "                             rate_law=ai*beta_v2*beta_scale*V2*inf_term)\n",
    "    templates.append(t)\n",
    "    \n",
    "    \n",
    "    # Reinfection asym\n",
    "    t = ControlledConversion(subject=c['R'], outcome=c['AR'],\n",
    "                             controller=_d(inf),\n",
    "                             rate_law=ai_R*beta_R*beta_scale*R*inf_term)\n",
    "    templates.append(t)\n",
    "    # Reinfection sym\n",
    "    t = ControlledConversion(subject=c['R'], outcome=c['IR'],\n",
    "                             controller=_d(inf),\n",
    "                             rate_law=(1-ai_R)*beta_R*beta_scale*R*inf_term)\n",
    "    templates.append(t)\n",
    "\n",
    "templates += [\n",
    "    # Vaccination\n",
    "    # Note: structurally we want to have these in the model but we make the rates 0\n",
    "    NaturalConversion(subject=c['S'], outcome=c['V1'], rate_law=0*S),\n",
    "    NaturalConversion(subject=c['A'], outcome=c['V1'], rate_law=0*A),\n",
    "    NaturalConversion(subject=c['V1'], outcome=c['V2'], rate_law=0*V1),\n",
    "    # Recovery\n",
    "    NaturalConversion(subject=c['I'], outcome=c['R'], rate_law=gamma*I),\n",
    "    NaturalConversion(subject=c['IV'], outcome=c['R'], rate_law=gamma*IV),\n",
    "    NaturalConversion(subject=c['IR'], outcome=c['R'], rate_law=gamma*IR),\n",
    "    NaturalConversion(subject=c['A'], outcome=c['R'], rate_law=gamma*A),\n",
    "    NaturalConversion(subject=c['AR'], outcome=c['R'], rate_law=gamma*AR),\n",
    "\n",
    "    # Second recovery\n",
    "    NaturalConversion(subject=c['IR'], outcome=c['R2'], rate_law=gamma*IR),\n",
    "    NaturalConversion(subject=c['AR'], outcome=c['R2'], rate_law=gamma*AR),\n",
    "\n",
    "    # Death\n",
    "    NaturalDegradation(subject=c['S'], rate_law=mu*S),\n",
    "    NaturalDegradation(subject=c['SVR'], rate_law=mu*SVR),\n",
    "    NaturalDegradation(subject=c['V1'], rate_law=mu*V1),\n",
    "    NaturalDegradation(subject=c['V2'], rate_law=mu*V2),\n",
    "    NaturalDegradation(subject=c['I'], rate_law=mu_I*I),\n",
    "    NaturalDegradation(subject=c['IV'], rate_law=mu_IV*IV),\n",
    "    NaturalDegradation(subject=c['IR'], rate_law=mu*IR),\n",
    "    NaturalDegradation(subject=c['A'], rate_law=mu*A),\n",
    "    NaturalDegradation(subject=c['AR'], rate_law=mu*AR),\n",
    "    NaturalDegradation(subject=c['R'], rate_law=mu*R),\n",
    "    NaturalDegradation(subject=c['R2'], rate_law=mu*R2),\n",
    "\n",
    "    # Loss of immunity\n",
    "    NaturalConversion(subject=c['V1'], outcome=c['SVR'], rate_law=nu_v1*V1),\n",
    "    NaturalConversion(subject=c['V2'], outcome=c['SVR'], rate_law=nu_v2*V2),\n",
    "    NaturalConversion(subject=c['R'], outcome=c['SVR'], rate_law=nu_R*R),\n",
    "    NaturalConversion(subject=c['R2'], outcome=c['SVR'], rate_law=nu_R*R2),\n",
    "]"
   ]
  },
  {
   "cell_type": "code",
   "execution_count": 10,
   "id": "25dfad3d",
   "metadata": {},
   "outputs": [],
   "source": [
    "tm = TemplateModel(templates=templates,\n",
    "                   parameters={p.name: p for p in parameters},\n",
    "                   initials=initials)\n",
    "tm.annotations = Annotations(name=\"Scenario 2a\")\n",
    "AskeNetPetriNetModel(Model(tm)).to_json_file('scenario2_a_beta_scale_%s.json' % beta_scale_type)"
   ]
  }
 ],
 "metadata": {
  "kernelspec": {
   "display_name": "Python 3 (ipykernel)",
   "language": "python",
   "name": "python3"
  },
  "language_info": {
   "codemirror_mode": {
    "name": "ipython",
    "version": 3
   },
   "file_extension": ".py",
   "mimetype": "text/x-python",
   "name": "python",
   "nbconvert_exporter": "python",
   "pygments_lexer": "ipython3",
   "version": "3.10.12"
  }
 },
 "nbformat": 4,
 "nbformat_minor": 5
}
