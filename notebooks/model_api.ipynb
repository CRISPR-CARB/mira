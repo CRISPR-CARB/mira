{
 "cells": [
  {
   "cell_type": "markdown",
   "source": [
    "# Model REST API\n",
    "\n",
    "The Model REST API provides an interface for transforming models in various ways. Here are some examples. The model REST API documentation is available at [http://34.230.33.149:8771/docs#/](http://34.230.33.149:8771/docs#/)\n",
    "\n",
    "## Setup\n",
    "\n",
    "We will need `requests` to send requests to the model api."
   ],
   "metadata": {
    "collapsed": false,
    "pycharm": {
     "name": "#%% md\n"
    }
   },
   "outputs": []
  },
  {
   "cell_type": "code",
   "execution_count": 20,
   "outputs": [
    {
     "name": "stdout",
     "output_type": "stream",
     "text": [
      "{\"templates\": [{\"type\": \"ControlledConversion\", \"controller\": {\"name\": \"infected population\", \"identifiers\": {\"ido\": \"0000511\"}, \"context\": {}}, \"subject\": {\"name\": \"susceptible population\", \"identifiers\": {\"ido\": \"0000514\"}, \"context\": {}}, \"outcome\": {\"name\": \"infected population\", \"identifiers\": {\"ido\": \"0000511\"}, \"context\": {}}, \"provenance\": []}, {\"type\": \"NaturalConversion\", \"subject\": {\"name\": \"infected population\", \"identifiers\": {\"ido\": \"0000511\"}, \"context\": {}}, \"outcome\": {\"name\": \"immune population\", \"identifiers\": {\"ido\": \"0000592\"}, \"context\": {}}, \"provenance\": []}]}\n"
     ]
    }
   ],
   "source": [
    "import requests\n",
    "from mira.metamodel import Concept, ControlledConversion, NaturalConversion\n",
    "from mira.modeling import TemplateModel\n",
    "\n",
    "# rest_url = \"http://127.0.0.1:8000\"  # Local service\n",
    "rest_url = \"http://34.230.33.149:8771\"\n",
    "\n",
    "# Example TemplateModel\n",
    "infected = Concept(name=\"infected population\", identifiers={\"ido\": \"0000511\"})\n",
    "susceptible = Concept(name=\"susceptible population\", identifiers={\"ido\": \"0000514\"})\n",
    "immune = Concept(name=\"immune population\", identifiers={\"ido\": \"0000592\"})\n",
    "controlled_conversion = ControlledConversion(\n",
    "    controller=infected,\n",
    "    subject=susceptible,\n",
    "    outcome=infected,\n",
    ")\n",
    "natural_conversion = NaturalConversion(subject=infected, outcome=immune)\n",
    "sir_template_model = TemplateModel(templates=[controlled_conversion, natural_conversion])\n",
    "sir_template_model_dict = sir_template_model.dict()\n",
    "print(sir_template_model.json())"
   ],
   "metadata": {
    "collapsed": false,
    "pycharm": {
     "name": "#%%\n"
    }
   }
  },
  {
   "cell_type": "markdown",
   "source": [
    "## PetriNet\n",
    "\n",
    "The `/api/to_petrinet` endpoint returns a PetriNet model based on the `TemplateModel` provided:"
   ],
   "metadata": {
    "collapsed": false,
    "pycharm": {
     "name": "#%% md\n"
    }
   }
  },
  {
   "cell_type": "code",
   "execution_count": 16,
   "metadata": {
    "collapsed": true,
    "pycharm": {
     "name": "#%%\n"
    }
   },
   "outputs": [
    {
     "name": "stdout",
     "output_type": "stream",
     "text": [
      "{'S': [{'sname': 'susceptible population'}, {'sname': 'infected population'}, {'sname': 'immune population'}], 'T': [{'tname': \"('susceptible population', 'infected population', 'infected population', 'ControlledConversion')\"}, {'tname': \"('infected population', 'immune population', 'NaturalConversion')\"}], 'I': [{'is': 2, 'it': 1}, {'is': 1, 'it': 1}, {'is': 2, 'it': 2}], 'O': [{'os': 2, 'ot': 1}, {'os': 2, 'ot': 1}, {'os': 3, 'ot': 2}]}\n"
     ]
    }
   ],
   "source": [
    "res = requests.post(rest_url + \"/api/to_petrinet\", json=sir_template_model_dict)\n",
    "print(res.json())"
   ]
  },
  {
   "cell_type": "markdown",
   "source": [
    "## Model Stratification\n",
    "\n",
    "The `/api/stratify` endpoint can stratify a model. In this example, the stratification is along two cities, effectively creating a two-city SIR model from the original SIR model:"
   ],
   "metadata": {
    "collapsed": false,
    "pycharm": {
     "name": "#%% md\n"
    }
   }
  },
  {
   "cell_type": "code",
   "execution_count": 17,
   "outputs": [
    {
     "name": "stdout",
     "output_type": "stream",
     "text": [
      "{'templates': [{'type': 'ControlledConversion', 'controller': {'name': 'infected population', 'identifiers': {'ido': '0000511'}, 'context': {'city': 'New York City'}}, 'subject': {'name': 'susceptible population', 'identifiers': {'ido': '0000514'}, 'context': {'city': 'New York City'}}, 'outcome': {'name': 'infected population', 'identifiers': {'ido': '0000511'}, 'context': {'city': 'New York City'}}, 'provenance': []}, {'type': 'NaturalConversion', 'subject': {'name': 'infected population', 'identifiers': {'ido': '0000511'}, 'context': {'city': 'New York City'}}, 'outcome': {'name': 'immune population', 'identifiers': {'ido': '0000592'}, 'context': {'city': 'New York City'}}, 'provenance': []}, {'type': 'ControlledConversion', 'controller': {'name': 'infected population', 'identifiers': {'ido': '0000511'}, 'context': {'city': 'Boston'}}, 'subject': {'name': 'susceptible population', 'identifiers': {'ido': '0000514'}, 'context': {'city': 'Boston'}}, 'outcome': {'name': 'infected population', 'identifiers': {'ido': '0000511'}, 'context': {'city': 'Boston'}}, 'provenance': []}, {'type': 'NaturalConversion', 'subject': {'name': 'infected population', 'identifiers': {'ido': '0000511'}, 'context': {'city': 'Boston'}}, 'outcome': {'name': 'immune population', 'identifiers': {'ido': '0000592'}, 'context': {'city': 'Boston'}}, 'provenance': []}, {'type': 'NaturalConversion', 'subject': {'name': 'susceptible population', 'identifiers': {'ido': '0000514'}, 'context': {'city': 'New York City'}}, 'outcome': {'name': 'susceptible population', 'identifiers': {'ido': '0000514'}, 'context': {'city': 'Boston'}}, 'provenance': []}, {'type': 'NaturalConversion', 'subject': {'name': 'susceptible population', 'identifiers': {'ido': '0000514'}, 'context': {'city': 'Boston'}}, 'outcome': {'name': 'susceptible population', 'identifiers': {'ido': '0000514'}, 'context': {'city': 'New York City'}}, 'provenance': []}, {'type': 'NaturalConversion', 'subject': {'name': 'infected population', 'identifiers': {'ido': '0000511'}, 'context': {'city': 'New York City'}}, 'outcome': {'name': 'infected population', 'identifiers': {'ido': '0000511'}, 'context': {'city': 'Boston'}}, 'provenance': []}, {'type': 'NaturalConversion', 'subject': {'name': 'infected population', 'identifiers': {'ido': '0000511'}, 'context': {'city': 'Boston'}}, 'outcome': {'name': 'infected population', 'identifiers': {'ido': '0000511'}, 'context': {'city': 'New York City'}}, 'provenance': []}, {'type': 'NaturalConversion', 'subject': {'name': 'immune population', 'identifiers': {'ido': '0000592'}, 'context': {'city': 'New York City'}}, 'outcome': {'name': 'immune population', 'identifiers': {'ido': '0000592'}, 'context': {'city': 'Boston'}}, 'provenance': []}, {'type': 'NaturalConversion', 'subject': {'name': 'immune population', 'identifiers': {'ido': '0000592'}, 'context': {'city': 'Boston'}}, 'outcome': {'name': 'immune population', 'identifiers': {'ido': '0000592'}, 'context': {'city': 'New York City'}}, 'provenance': []}]}\n"
     ]
    }
   ],
   "source": [
    "res = requests.post(rest_url + \"/api/stratify\", json={\"template_model\": sir_template_model_dict, \"key\": \"city\", \"strata\": [\"Boston\", \"New York City\"]})\n",
    "print(res.json())"
   ],
   "metadata": {
    "collapsed": false,
    "pycharm": {
     "name": "#%%\n"
    }
   }
  },
  {
   "cell_type": "markdown",
   "source": [
    "## Graphviz dot File\n",
    "\n",
    "The `/api/viz/to_dot_file` endpoint takes a `TemplateModel` and returns a graphviz dotfile of the provided model:"
   ],
   "metadata": {
    "collapsed": false,
    "pycharm": {
     "name": "#%% md\n"
    }
   }
  },
  {
   "cell_type": "code",
   "execution_count": 18,
   "outputs": [
    {
     "name": "stdout",
     "output_type": "stream",
     "text": [
      "strict digraph \"\" {\n",
      "\tgraph [bb=\"0,0,231.38,280\"];\n",
      "\tnode [label=\"\\N\"];\n",
      "\t\"susceptible population\"\t[height=0.5,\n",
      "\t\tlabel=\"susceptible population\",\n",
      "\t\tpos=\"115.69,262\",\n",
      "\t\tshape=oval,\n",
      "\t\twidth=3.2136];\n",
      "\tT1\t[color=blue,\n",
      "\t\tfillcolor=blue,\n",
      "\t\tfixedsize=true,\n",
      "\t\theight=0.19444,\n",
      "\t\tlabel=\"\",\n",
      "\t\tpos=\"115.69,201\",\n",
      "\t\tshape=square,\n",
      "\t\tstyle=filled,\n",
      "\t\twidth=0.19444];\n",
      "\t\"susceptible population\" -> T1\t[pos=\"e,115.69,208.22 115.69,243.93 115.69,235.89 115.69,226.33 115.69,218.37\"];\n",
      "\t\"infected population\"\t[height=0.5,\n",
      "\t\tlabel=\"infected population\",\n",
      "\t\tpos=\"115.69,140\",\n",
      "\t\tshape=oval,\n",
      "\t\twidth=2.7984];\n",
      "\tT1 -> \"infected population\"\t[pos=\"e,109.51,158.02 111.32,193.69 109.58,187.49 108.8,177.59 108.96,168.05\"];\n",
      "\t\"infected population\" -> T1\t[color=blue,\n",
      "\t\tpos=\"e,120.06,193.69 121.87,158.02 122.66,166.13 122.63,175.79 121.79,183.8\"];\n",
      "\tT0\t[color=blue,\n",
      "\t\tfillcolor=blue,\n",
      "\t\tfixedsize=true,\n",
      "\t\theight=0.19444,\n",
      "\t\tlabel=\"\",\n",
      "\t\tpos=\"115.69,79\",\n",
      "\t\tshape=square,\n",
      "\t\tstyle=filled,\n",
      "\t\twidth=0.19444];\n",
      "\t\"infected population\" -> T0\t[pos=\"e,115.69,86.216 115.69,121.93 115.69,113.89 115.69,104.33 115.69,96.367\"];\n",
      "\t\"immune population\"\t[height=0.5,\n",
      "\t\tlabel=\"immune population\",\n",
      "\t\tpos=\"115.69,18\",\n",
      "\t\tshape=oval,\n",
      "\t\twidth=2.7984];\n",
      "\tT0 -> \"immune population\"\t[pos=\"e,115.69,36.016 115.69,71.686 115.69,65.486 115.69,55.595 115.69,46.048\"];\n",
      "}\n",
      "\n"
     ]
    }
   ],
   "source": [
    "res = requests.post(rest_url + \"/api/viz/to_dot_file\", json=sir_template_model_dict)\n",
    "print(res.text)"
   ],
   "metadata": {
    "collapsed": false,
    "pycharm": {
     "name": "#%%\n"
    }
   }
  },
  {
   "cell_type": "markdown",
   "source": [
    "## Graph image\n",
    "\n",
    "The `/api/viz/to_image` endpoint returns an image of the model as a graph structure."
   ],
   "metadata": {
    "collapsed": false,
    "pycharm": {
     "name": "#%% md\n"
    }
   }
  },
  {
   "cell_type": "code",
   "execution_count": 19,
   "outputs": [
    {
     "data": {
      "image/png": "[encoded data removed]",
      "text/plain": "<IPython.core.display.Image object>"
     },
     "execution_count": 19,
     "metadata": {},
     "output_type": "execute_result"
    }
   ],
   "source": [
    "res = requests.post(rest_url + \"/api/viz/to_image\", json=sir_template_model_dict)\n",
    "with open(\"./graph.png\", \"wb\") as fio:\n",
    "    fio.write(res.content)\n",
    "\n",
    "from IPython.display import Image\n",
    "Image(filename=\"./graph.png\")"
   ],
   "metadata": {
    "collapsed": false,
    "pycharm": {
     "name": "#%%\n"
    }
   }
  },
  {
   "cell_type": "markdown",
   "source": [],
   "metadata": {
    "collapsed": false,
    "pycharm": {
     "name": "#%% md\n"
    }
   }
  }
 ],
 "metadata": {
  "kernelspec": {
   "display_name": "Python 3",
   "language": "python",
   "name": "python3"
  },
  "language_info": {
   "codemirror_mode": {
    "name": "ipython",
    "version": 2
   },
   "file_extension": ".py",
   "mimetype": "text/x-python",
   "name": "python",
   "nbconvert_exporter": "python",
   "pygments_lexer": "ipython2",
   "version": "2.7.6"
  }
 },
 "nbformat": 4,
 "nbformat_minor": 0
}