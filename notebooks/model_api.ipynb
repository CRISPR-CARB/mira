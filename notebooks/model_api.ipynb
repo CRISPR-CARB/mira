{
 "cells": [
  {
   "cell_type": "markdown",
   "metadata": {},
   "source": [
    "# Model REST API\n",
    "\n",
    "The Model REST API provides an interface for transforming models in various ways. Here are some examples. The model REST API documentation is available at [http://34.230.33.149:8771/docs#/](http://34.230.33.149:8771/docs#/)\n",
    "\n",
    "## Setup\n",
    "\n",
    "We will need `requests` to send requests to the model api."
   ]
  },
  {
   "cell_type": "code",
   "execution_count": 1,
   "metadata": {},
   "outputs": [
    {
     "name": "stdout",
     "output_type": "stream",
     "text": [
      "{\"templates\": [{\"rate_law\": null, \"type\": \"ControlledConversion\", \"controller\": {\"name\": \"infected population\", \"identifiers\": {\"ido\": \"0000511\"}, \"context\": {}}, \"subject\": {\"name\": \"susceptible population\", \"identifiers\": {\"ido\": \"0000514\"}, \"context\": {}}, \"outcome\": {\"name\": \"infected population\", \"identifiers\": {\"ido\": \"0000511\"}, \"context\": {}}, \"provenance\": []}, {\"rate_law\": null, \"type\": \"NaturalConversion\", \"subject\": {\"name\": \"infected population\", \"identifiers\": {\"ido\": \"0000511\"}, \"context\": {}}, \"outcome\": {\"name\": \"immune population\", \"identifiers\": {\"ido\": \"0000592\"}, \"context\": {}}, \"provenance\": []}], \"parameters\": {}, \"initials\": {}}\n"
     ]
    }
   ],
   "source": [
    "import requests\n",
    "from mira.metamodel import Concept, ControlledConversion, NaturalConversion, TemplateModel\n",
    "\n",
    "# rest_url = \"http://127.0.0.1:8000\"  # Local service\n",
    "rest_url = \"http://34.230.33.149:8771\"\n",
    "\n",
    "# Example TemplateModel\n",
    "infected = Concept(name=\"infected population\", identifiers={\"ido\": \"0000511\"})\n",
    "susceptible = Concept(name=\"susceptible population\", identifiers={\"ido\": \"0000514\"})\n",
    "immune = Concept(name=\"immune population\", identifiers={\"ido\": \"0000592\"})\n",
    "controlled_conversion = ControlledConversion(\n",
    "    controller=infected,\n",
    "    subject=susceptible,\n",
    "    outcome=infected,\n",
    ")\n",
    "natural_conversion = NaturalConversion(subject=infected, outcome=immune)\n",
    "sir_template_model = TemplateModel(templates=[controlled_conversion, natural_conversion])\n",
    "sir_template_model_dict = sir_template_model.dict()\n",
    "print(sir_template_model.json())"
   ]
  },
  {
   "cell_type": "markdown",
   "metadata": {},
   "source": [
    "## PetriNet\n",
    "\n",
    "The `/api/to_petrinet` endpoint returns a PetriNet model based on the `TemplateModel` provided:"
   ]
  },
  {
   "cell_type": "code",
   "execution_count": 2,
   "metadata": {
    "collapsed": true
   },
   "outputs": [
    {
     "name": "stdout",
     "output_type": "stream",
     "text": [
      "{'S': [{'sname': 'susceptible population', 'mira_ids': \"[('identity', 'ido:0000514')]\", 'mira_context': '[]'}, {'sname': 'infected population', 'mira_ids': \"[('identity', 'ido:0000511')]\", 'mira_context': '[]'}, {'sname': 'immune population', 'mira_ids': \"[('identity', 'ido:0000592')]\", 'mira_context': '[]'}], 'T': [{'tname': 't1', 'template_type': 'ControlledConversion', 'parameter_name': \"(('susceptible population', ('identity', 'ido:0000514')), ('infected population', ('identity', 'ido:0000511')), ('infected population', ('identity', 'ido:0000511')), 'ControlledConversion', 'rate')\", 'parameter_value': None}, {'tname': 't2', 'template_type': 'NaturalConversion', 'parameter_name': \"(('infected population', ('identity', 'ido:0000511')), ('immune population', ('identity', 'ido:0000592')), 'NaturalConversion', 'rate')\", 'parameter_value': None}], 'I': [{'is': 2, 'it': 1}, {'is': 1, 'it': 1}, {'is': 2, 'it': 2}], 'O': [{'os': 2, 'ot': 1}, {'os': 2, 'ot': 1}, {'os': 3, 'ot': 2}]}\n"
     ]
    }
   ],
   "source": [
    "res = requests.post(rest_url + \"/api/to_petrinet\", json=sir_template_model_dict)\n",
    "print(res.json())"
   ]
  },
  {
   "cell_type": "markdown",
   "metadata": {},
   "source": [
    "## Model Stratification\n",
    "\n",
    "The `/api/stratify` endpoint can stratify a model. In this example, the stratification is along two cities, effectively creating a two-city SIR model from the original SIR model:"
   ]
  },
  {
   "cell_type": "code",
   "execution_count": 3,
   "metadata": {},
   "outputs": [
    {
     "name": "stdout",
     "output_type": "stream",
     "text": [
      "{'templates': [{'rate_law': None, 'type': 'ControlledConversion', 'controller': {'name': 'infected population', 'identifiers': {'ido': '0000511'}, 'context': {'city': 'Boston'}}, 'subject': {'name': 'susceptible population', 'identifiers': {'ido': '0000514'}, 'context': {'city': 'Boston'}}, 'outcome': {'name': 'infected population', 'identifiers': {'ido': '0000511'}, 'context': {'city': 'Boston'}}, 'provenance': []}, {'rate_law': None, 'type': 'NaturalConversion', 'subject': {'name': 'infected population', 'identifiers': {'ido': '0000511'}, 'context': {'city': 'Boston'}}, 'outcome': {'name': 'immune population', 'identifiers': {'ido': '0000592'}, 'context': {'city': 'Boston'}}, 'provenance': []}, {'rate_law': None, 'type': 'ControlledConversion', 'controller': {'name': 'infected population', 'identifiers': {'ido': '0000511'}, 'context': {'city': 'New York City'}}, 'subject': {'name': 'susceptible population', 'identifiers': {'ido': '0000514'}, 'context': {'city': 'New York City'}}, 'outcome': {'name': 'infected population', 'identifiers': {'ido': '0000511'}, 'context': {'city': 'New York City'}}, 'provenance': []}, {'rate_law': None, 'type': 'NaturalConversion', 'subject': {'name': 'infected population', 'identifiers': {'ido': '0000511'}, 'context': {'city': 'New York City'}}, 'outcome': {'name': 'immune population', 'identifiers': {'ido': '0000592'}, 'context': {'city': 'New York City'}}, 'provenance': []}, {'rate_law': None, 'type': 'NaturalConversion', 'subject': {'name': 'susceptible population', 'identifiers': {'ido': '0000514'}, 'context': {'city': 'Boston'}}, 'outcome': {'name': 'susceptible population', 'identifiers': {'ido': '0000514'}, 'context': {'city': 'New York City'}}, 'provenance': []}, {'rate_law': None, 'type': 'NaturalConversion', 'subject': {'name': 'susceptible population', 'identifiers': {'ido': '0000514'}, 'context': {'city': 'New York City'}}, 'outcome': {'name': 'susceptible population', 'identifiers': {'ido': '0000514'}, 'context': {'city': 'Boston'}}, 'provenance': []}, {'rate_law': None, 'type': 'NaturalConversion', 'subject': {'name': 'infected population', 'identifiers': {'ido': '0000511'}, 'context': {'city': 'Boston'}}, 'outcome': {'name': 'infected population', 'identifiers': {'ido': '0000511'}, 'context': {'city': 'New York City'}}, 'provenance': []}, {'rate_law': None, 'type': 'NaturalConversion', 'subject': {'name': 'infected population', 'identifiers': {'ido': '0000511'}, 'context': {'city': 'New York City'}}, 'outcome': {'name': 'infected population', 'identifiers': {'ido': '0000511'}, 'context': {'city': 'Boston'}}, 'provenance': []}, {'rate_law': None, 'type': 'NaturalConversion', 'subject': {'name': 'immune population', 'identifiers': {'ido': '0000592'}, 'context': {'city': 'Boston'}}, 'outcome': {'name': 'immune population', 'identifiers': {'ido': '0000592'}, 'context': {'city': 'New York City'}}, 'provenance': []}, {'rate_law': None, 'type': 'NaturalConversion', 'subject': {'name': 'immune population', 'identifiers': {'ido': '0000592'}, 'context': {'city': 'New York City'}}, 'outcome': {'name': 'immune population', 'identifiers': {'ido': '0000592'}, 'context': {'city': 'Boston'}}, 'provenance': []}], 'parameters': {}, 'initials': {}}\n"
     ]
    }
   ],
   "source": [
    "res = requests.post(rest_url + \"/api/stratify\", json={\"template_model\": sir_template_model_dict, \"key\": \"city\", \"strata\": [\"Boston\", \"New York City\"]})\n",
    "print(res.json())"
   ]
  },
  {
   "cell_type": "markdown",
   "metadata": {},
   "source": [
    "## Graphviz dot File\n",
    "\n",
    "The `/api/viz/to_dot_file` endpoint takes a `TemplateModel` and returns a graphviz dotfile of the provided model:"
   ]
  },
  {
   "cell_type": "code",
   "execution_count": 4,
   "metadata": {},
   "outputs": [
    {
     "name": "stdout",
     "output_type": "stream",
     "text": [
      "strict digraph \"\" {\n",
      "\tgraph [bb=\"0,0,178,313\"];\n",
      "\tnode [label=\"\\N\"];\n",
      "\t\"('susceptible population', ('identity', 'ido:0000514'))\"\t[height=0.65278,\n",
      "\t\tlabel=\"{susceptible population | {identity | ido:0000514}}\",\n",
      "\t\tpos=\"89,289.5\",\n",
      "\t\trects=\"-1.4211e-14,289.5,178,312.5 -1.4211e-14,266.5,72,289.5 72,266.5,178,289.5\",\n",
      "\t\tshape=record,\n",
      "\t\twidth=2.4722];\n",
      "\tT0\t[color=blue,\n",
      "\t\tfillcolor=blue,\n",
      "\t\tfixedsize=true,\n",
      "\t\theight=0.19444,\n",
      "\t\tlabel=\"\",\n",
      "\t\tpos=\"89,223\",\n",
      "\t\tshape=square,\n",
      "\t\tstyle=filled,\n",
      "\t\twidth=0.19444];\n",
      "\t\"('susceptible population', ('identity', 'ido:0000514'))\" -> T0\t[pos=\"e,89,230.05 89,266.3 89,257.68 89,248 89,240.08\"];\n",
      "\t\"('infected population', ('identity', 'ido:0000511'))\"\t[height=0.65278,\n",
      "\t\tlabel=\"{infected population | {identity | ido:0000511}}\",\n",
      "\t\tpos=\"89,156.5\",\n",
      "\t\trects=\"-1.4211e-14,156.5,178,179.5 -1.4211e-14,133.5,72,156.5 72,133.5,178,156.5\",\n",
      "\t\tshape=record,\n",
      "\t\twidth=2.4722];\n",
      "\tT0 -> \"('infected population', ('identity', 'ido:0000511'))\"\t[pos=\"e,82.56,179.55 84.757,215.58 83.08,209.38 82.245,199.52 82.25,189.66\"];\n",
      "\t\"('infected population', ('identity', 'ido:0000511'))\" -> T0\t[color=blue,\n",
      "\t\tpos=\"e,93.243,215.58 95.44,179.55 95.974,188.06 95.818,197.63 94.974,205.53\"];\n",
      "\tT1\t[color=blue,\n",
      "\t\tfillcolor=blue,\n",
      "\t\tfixedsize=true,\n",
      "\t\theight=0.19444,\n",
      "\t\tlabel=\"\",\n",
      "\t\tpos=\"89,90\",\n",
      "\t\tshape=square,\n",
      "\t\tstyle=filled,\n",
      "\t\twidth=0.19444];\n",
      "\t\"('infected population', ('identity', 'ido:0000511'))\" -> T1\t[pos=\"e,89,97.054 89,133.3 89,124.68 89,115 89,107.08\"];\n",
      "\t\"('immune population', ('identity', 'ido:0000592'))\"\t[height=0.65278,\n",
      "\t\tlabel=\"{immune population | {identity | ido:0000592}}\",\n",
      "\t\tpos=\"89,23.5\",\n",
      "\t\trects=\"-1.4211e-14,23.5,178,46.5 -1.4211e-14,0.5,72,23.5 72,0.5,178,23.5\",\n",
      "\t\tshape=record,\n",
      "\t\twidth=2.4722];\n",
      "\tT1 -> \"('immune population', ('identity', 'ido:0000592'))\"\t[pos=\"e,89,46.548 89,82.58 89,76.384 89,66.516 89,56.66\"];\n",
      "}\n",
      "\n"
     ]
    }
   ],
   "source": [
    "res = requests.post(rest_url + \"/api/viz/to_dot_file\", json=sir_template_model_dict)\n",
    "print(res.text)"
   ]
  },
  {
   "cell_type": "markdown",
   "metadata": {},
   "source": [
    "## Graph image\n",
    "\n",
    "The `/api/viz/to_image` endpoint returns an image of the model as a graph structure."
   ]
  },
  {
   "cell_type": "code",
   "execution_count": 5,
   "metadata": {},
   "outputs": [
    {
     "data": {
      "image/png": "[encoded data removed]",
      "text/plain": "<IPython.core.display.Image object>"
     },
     "execution_count": 5,
     "metadata": {},
     "output_type": "execute_result"
    }
   ],
   "source": [
    "res = requests.post(rest_url + \"/api/viz/to_image\", json=sir_template_model_dict)\n",
    "with open(\"./graph.png\", \"wb\") as fio:\n",
    "    fio.write(res.content)\n",
    "\n",
    "from IPython.display import Image\n",
    "Image(filename=\"./graph.png\")"
   ]
  },
  {
   "cell_type": "markdown",
   "metadata": {},
   "source": []
  }
 ],
 "metadata": {
  "kernelspec": {
   "display_name": "Python 3",
   "language": "python",
   "name": "python3"
  },
  "language_info": {
   "codemirror_mode": {
    "name": "ipython",
    "version": 3
   },
   "file_extension": ".py",
   "mimetype": "text/x-python",
   "name": "python",
   "nbconvert_exporter": "python",
   "pygments_lexer": "ipython3",
   "version": "3.9.9"
  }
 },
 "nbformat": 4,
 "nbformat_minor": 1
}
