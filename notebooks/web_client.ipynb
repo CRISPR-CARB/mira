{
 "cells": [
  {
   "cell_type": "markdown",
   "source": [
    "This notebook shows how to use the web client in the `web_client` module. The web client assumes the URL to the REST API is set either in the environment with `MIRA_REST_URL` or in the mira configuration file under `rest_url`. The REST API url can also be provided directly to the functions in the module using the optional `api_url` parameter that will override any other setting of the REST API url."
   ],
   "metadata": {
    "collapsed": false,
    "pycharm": {
     "name": "#%% md\n"
    }
   }
  },
  {
   "cell_type": "code",
   "execution_count": 11,
   "outputs": [],
   "source": [
    "from mira.dkg.web_client import get_entity_web, ground_web, get_relations_web\n",
    "from mira.dkg.api import RelationQuery\n",
    "from mira.dkg.grounding import GroundRequest"
   ],
   "metadata": {
    "collapsed": false,
    "pycharm": {
     "name": "#%%\n"
    }
   }
  },
  {
   "cell_type": "markdown",
   "source": [
    "To ground an entity, create a `GroundRequest` model and use the `ground_web` function:"
   ],
   "metadata": {
    "collapsed": false,
    "pycharm": {
     "name": "#%% md\n"
    }
   }
  },
  {
   "cell_type": "code",
   "execution_count": 12,
   "outputs": [
    {
     "name": "stdout",
     "output_type": "stream",
     "text": [
      "<class 'mira.dkg.grounding.GroundResults'>\n"
     ]
    }
   ],
   "source": [
    "ground_req_model = GroundRequest(text=\"Infected Population\")\n",
    "ground_res = ground_web(grounding_model=ground_req_model)\n",
    "# ground_web returns a GroundResults model from mira.dkg.grounding\n",
    "print(ground_res.__class__)"
   ],
   "metadata": {
    "collapsed": false,
    "pycharm": {
     "name": "#%%\n"
    }
   }
  },
  {
   "cell_type": "code",
   "execution_count": 13,
   "outputs": [
    {
     "data": {
      "text/plain": "GroundResults(request=GroundRequest(text='Infected Population', namespaces=None), results=[GroundResult(url='https://bioregistry.io/ido:0000511', score=0.76, prefix='ido', identifier='0000511', curie='ido:0000511', name='infected population', status='name')])"
     },
     "execution_count": 13,
     "metadata": {},
     "output_type": "execute_result"
    }
   ],
   "source": [
    "ground_res"
   ],
   "metadata": {
    "collapsed": false,
    "pycharm": {
     "name": "#%%\n"
    }
   }
  },
  {
   "cell_type": "markdown",
   "source": [
    "To get more information about an entity, provide it's curie to the `get_entity_web` function:"
   ],
   "metadata": {
    "collapsed": false,
    "pycharm": {
     "name": "#%% md\n"
    }
   }
  },
  {
   "cell_type": "code",
   "execution_count": 14,
   "outputs": [
    {
     "data": {
      "text/plain": "Entity(id='ido:0000511', name='infected population', type='class', obsolete=False, description='An organism population whose members have an infection.', synonyms=[], alts=[], xrefs=[], labels=['ido'])"
     },
     "execution_count": 14,
     "metadata": {},
     "output_type": "execute_result"
    }
   ],
   "source": [
    "entity = get_entity_web(curie=\"ido:0000511\")\n",
    "entity"
   ],
   "metadata": {
    "collapsed": false,
    "pycharm": {
     "name": "#%%\n"
    }
   }
  },
  {
   "cell_type": "markdown",
   "source": [
    "To query for relations, use the `get_relations_web` function:"
   ],
   "metadata": {
    "collapsed": false,
    "pycharm": {
     "name": "#%% md\n"
    }
   }
  },
  {
   "cell_type": "code",
   "execution_count": 15,
   "outputs": [
    {
     "data": {
      "text/plain": "[RelationResponse(subject='vo:0000018', predicate='vo:0001243', object='ncbitaxon:10090'),\n RelationResponse(subject='vo:0000021', predicate='vo:0001243', object='ncbitaxon:10090'),\n RelationResponse(subject='vo:0000022', predicate='vo:0001243', object='ncbitaxon:10090'),\n RelationResponse(subject='vo:0000110', predicate='vo:0001243', object='ncbitaxon:10090'),\n RelationResponse(subject='vo:0000263', predicate='vo:0001243', object='ncbitaxon:10090')]"
     },
     "execution_count": 15,
     "metadata": {},
     "output_type": "execute_result"
    }
   ],
   "source": [
    "relation_query = RelationQuery(target_curie=\"ncbitaxon:10090\", relations=\"vo:0001243\")\n",
    "relations = get_relations_web(relations_model=relation_query)\n",
    "relations[:5]"
   ],
   "metadata": {
    "collapsed": false,
    "pycharm": {
     "name": "#%%\n"
    }
   }
  }
 ],
 "metadata": {
  "kernelspec": {
   "display_name": "Python 3",
   "language": "python",
   "name": "python3"
  },
  "language_info": {
   "codemirror_mode": {
    "name": "ipython",
    "version": 2
   },
   "file_extension": ".py",
   "mimetype": "text/x-python",
   "name": "python",
   "nbconvert_exporter": "python",
   "pygments_lexer": "ipython2",
   "version": "2.7.6"
  }
 },
 "nbformat": 4,
 "nbformat_minor": 0
}